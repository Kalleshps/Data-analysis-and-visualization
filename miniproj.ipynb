{
 "cells": [
  {
   "cell_type": "code",
   "execution_count": 14,
   "id": "436687f0-b565-4421-9f28-b3ac1dcbb403",
   "metadata": {},
   "outputs": [],
   "source": [
    "import numpy as np # linear algebra\n",
    "import pandas as pd # data processing, CSV file I/O (e.g. pd.read_csv)\n",
    "\n"
   ]
  },
  {
   "cell_type": "code",
   "execution_count": 15,
   "id": "2ae56001-c714-4935-ae94-b28025971a45",
   "metadata": {},
   "outputs": [],
   "source": [
    "import matplotlib.pyplot as plt\n",
    "import seaborn as sns\n",
    "import plotly.express as px\n",
    "import warnings \n",
    "warnings.filterwarnings('ignore')"
   ]
  },
  {
   "cell_type": "code",
   "execution_count": 17,
   "id": "586cd551-f810-4542-891c-ad5cfc2b9850",
   "metadata": {},
   "outputs": [],
   "source": [
    "df = pd.read_csv('Ipl-clean-data2008-2023.csv')"
   ]
  },
  {
   "cell_type": "code",
   "execution_count": 18,
   "id": "e13000d9-463f-4f64-ba78-5705b9014037",
   "metadata": {},
   "outputs": [
    {
     "data": {
      "text/html": [
       "<div>\n",
       "<style scoped>\n",
       "    .dataframe tbody tr th:only-of-type {\n",
       "        vertical-align: middle;\n",
       "    }\n",
       "\n",
       "    .dataframe tbody tr th {\n",
       "        vertical-align: top;\n",
       "    }\n",
       "\n",
       "    .dataframe thead th {\n",
       "        text-align: right;\n",
       "    }\n",
       "</style>\n",
       "<table border=\"1\" class=\"dataframe\">\n",
       "  <thead>\n",
       "    <tr style=\"text-align: right;\">\n",
       "      <th></th>\n",
       "      <th>Unnamed: 0</th>\n",
       "      <th>season</th>\n",
       "      <th>id</th>\n",
       "      <th>name</th>\n",
       "      <th>short_name</th>\n",
       "      <th>description</th>\n",
       "      <th>home_team</th>\n",
       "      <th>away_team</th>\n",
       "      <th>toss_won</th>\n",
       "      <th>decision</th>\n",
       "      <th>...</th>\n",
       "      <th>home_playx1</th>\n",
       "      <th>away_playx1</th>\n",
       "      <th>away_key_batsman</th>\n",
       "      <th>away_key_bowler</th>\n",
       "      <th>match_days</th>\n",
       "      <th>umpire1</th>\n",
       "      <th>umpire2</th>\n",
       "      <th>tv_umpire</th>\n",
       "      <th>referee</th>\n",
       "      <th>reserve_umpire</th>\n",
       "    </tr>\n",
       "  </thead>\n",
       "  <tbody>\n",
       "    <tr>\n",
       "      <th>0</th>\n",
       "      <td>4</td>\n",
       "      <td>2023.0</td>\n",
       "      <td>1359544</td>\n",
       "      <td>Royal Challengers Bangalore v Gujarat Titans</td>\n",
       "      <td>RCB v GT</td>\n",
       "      <td>70th Match (N), Indian Premier League at Benga...</td>\n",
       "      <td>RCB</td>\n",
       "      <td>GT</td>\n",
       "      <td>GT</td>\n",
       "      <td>BOWL FIRST</td>\n",
       "      <td>...</td>\n",
       "      <td>Virat Kohli (UKN),Faf du Plessis (UKN),Glenn M...</td>\n",
       "      <td>Wriddhiman Saha (WK),Shubman Gill (UKN),Vijay ...</td>\n",
       "      <td>Shubman Gill,Vijay Shankar</td>\n",
       "      <td>Noor Ahmad,Rashid Khan</td>\n",
       "      <td>21 May 2023 - night match (20-over match)</td>\n",
       "      <td>Nitin Menon</td>\n",
       "      <td>Virender Sharma</td>\n",
       "      <td>Tapan Sharma</td>\n",
       "      <td>Javagal Srinath</td>\n",
       "      <td>VM  Dhokre</td>\n",
       "    </tr>\n",
       "    <tr>\n",
       "      <th>1</th>\n",
       "      <td>5</td>\n",
       "      <td>2023.0</td>\n",
       "      <td>1359543</td>\n",
       "      <td>Mumbai Indians v Sunrisers Hyderabad</td>\n",
       "      <td>MI v SRH</td>\n",
       "      <td>69th Match (D/N), Indian Premier League at Mum...</td>\n",
       "      <td>MI</td>\n",
       "      <td>SRH</td>\n",
       "      <td>MI</td>\n",
       "      <td>BOWL FIRST</td>\n",
       "      <td>...</td>\n",
       "      <td>Ishan Kishan (WK),Rohit Sharma (UKN),Cameron G...</td>\n",
       "      <td>Vivrant Sharma (AR),Mayank Agarwal (UKN),Heinr...</td>\n",
       "      <td>Mayank Agarwal,Vivrant Sharma</td>\n",
       "      <td>Bhuvneshwar Kumar,Mayank Dagar</td>\n",
       "      <td>21 May 2023 - day/night match (20-over match)</td>\n",
       "      <td>KN Ananthapadmanabhan</td>\n",
       "      <td>Rod Tucker</td>\n",
       "      <td>Rohan Pandit</td>\n",
       "      <td>Pankaj Dharmani</td>\n",
       "      <td>Parashar Joshi</td>\n",
       "    </tr>\n",
       "    <tr>\n",
       "      <th>2</th>\n",
       "      <td>6</td>\n",
       "      <td>2023.0</td>\n",
       "      <td>1359542</td>\n",
       "      <td>Kolkata Knight Riders v Lucknow Super Giants</td>\n",
       "      <td>KKR v LSG</td>\n",
       "      <td>68th Match (N), Indian Premier League at Kolka...</td>\n",
       "      <td>KKR</td>\n",
       "      <td>LSG</td>\n",
       "      <td>KKR</td>\n",
       "      <td>BOWL FIRST</td>\n",
       "      <td>...</td>\n",
       "      <td>Jason Roy (UKN),Venkatesh Iyer (AR),Nitish Ran...</td>\n",
       "      <td>Karan Sharma (AR),Quinton de Kock (WK),Prerak ...</td>\n",
       "      <td>Nicholas Pooran,Quinton de Kock</td>\n",
       "      <td>Ravi Bishnoi,Yash Thakur</td>\n",
       "      <td>20 May 2023 - night match (20-over match)</td>\n",
       "      <td>Ulhas Gandhe</td>\n",
       "      <td>Jayaraman Madanagopal</td>\n",
       "      <td>Yeshwant Barde</td>\n",
       "      <td>Manu Nayyar</td>\n",
       "      <td>Mohamed Rafi</td>\n",
       "    </tr>\n",
       "    <tr>\n",
       "      <th>3</th>\n",
       "      <td>7</td>\n",
       "      <td>2023.0</td>\n",
       "      <td>1359541</td>\n",
       "      <td>Delhi Capitals v Chennai Super Kings</td>\n",
       "      <td>DC v CSK</td>\n",
       "      <td>67th Match (D/N), Indian Premier League at Del...</td>\n",
       "      <td>DC</td>\n",
       "      <td>CSK</td>\n",
       "      <td>CSK</td>\n",
       "      <td>BAT FIRST</td>\n",
       "      <td>...</td>\n",
       "      <td>Prithvi Shaw (UKN),David Warner (UKN),Phil Sal...</td>\n",
       "      <td>Ruturaj Gaikwad (UKN),Devon Conway (UKN),Shiva...</td>\n",
       "      <td>Devon Conway,Ruturaj Gaikwad</td>\n",
       "      <td>Deepak Chahar,Matheesha Pathirana</td>\n",
       "      <td>20 May 2023 - day/night match (20-over match)</td>\n",
       "      <td>Chris Gaffaney</td>\n",
       "      <td>Nikhil Patwardhan</td>\n",
       "      <td>Anil Chaudhary</td>\n",
       "      <td>Sanjay Verma</td>\n",
       "      <td>Mohit Krishnadas</td>\n",
       "    </tr>\n",
       "    <tr>\n",
       "      <th>4</th>\n",
       "      <td>8</td>\n",
       "      <td>2023.0</td>\n",
       "      <td>1359540</td>\n",
       "      <td>Punjab Kings v Rajasthan Royals</td>\n",
       "      <td>PBKS v RR</td>\n",
       "      <td>66th Match (N), Indian Premier League at Dhara...</td>\n",
       "      <td>PBKS</td>\n",
       "      <td>RR</td>\n",
       "      <td>RR</td>\n",
       "      <td>BOWL FIRST</td>\n",
       "      <td>...</td>\n",
       "      <td>Prabhsimran Singh (UKN),Shikhar Dhawan (UKN),A...</td>\n",
       "      <td>Yashasvi Jaiswal (UKN),Jos Buttler (UKN),Devdu...</td>\n",
       "      <td>Devdutt Padikkal,Yashasvi Jaiswal</td>\n",
       "      <td>Navdeep Saini,Adam Zampa</td>\n",
       "      <td>19 May 2023 - night match (20-over match)</td>\n",
       "      <td>Nand Kishore</td>\n",
       "      <td>Rod Tucker</td>\n",
       "      <td>Navdeep Singh</td>\n",
       "      <td>Pankaj Dharmani</td>\n",
       "      <td>Parashar Joshi</td>\n",
       "    </tr>\n",
       "  </tbody>\n",
       "</table>\n",
       "<p>5 rows × 44 columns</p>\n",
       "</div>"
      ],
      "text/plain": [
       "   Unnamed: 0  season       id                                          name  \\\n",
       "0           4  2023.0  1359544  Royal Challengers Bangalore v Gujarat Titans   \n",
       "1           5  2023.0  1359543          Mumbai Indians v Sunrisers Hyderabad   \n",
       "2           6  2023.0  1359542  Kolkata Knight Riders v Lucknow Super Giants   \n",
       "3           7  2023.0  1359541          Delhi Capitals v Chennai Super Kings   \n",
       "4           8  2023.0  1359540               Punjab Kings v Rajasthan Royals   \n",
       "\n",
       "  short_name                                        description home_team  \\\n",
       "0   RCB v GT  70th Match (N), Indian Premier League at Benga...       RCB   \n",
       "1   MI v SRH  69th Match (D/N), Indian Premier League at Mum...        MI   \n",
       "2  KKR v LSG  68th Match (N), Indian Premier League at Kolka...       KKR   \n",
       "3   DC v CSK  67th Match (D/N), Indian Premier League at Del...        DC   \n",
       "4  PBKS v RR  66th Match (N), Indian Premier League at Dhara...      PBKS   \n",
       "\n",
       "  away_team toss_won    decision  ...  \\\n",
       "0        GT       GT  BOWL FIRST  ...   \n",
       "1       SRH       MI  BOWL FIRST  ...   \n",
       "2       LSG      KKR  BOWL FIRST  ...   \n",
       "3       CSK      CSK   BAT FIRST  ...   \n",
       "4        RR       RR  BOWL FIRST  ...   \n",
       "\n",
       "                                         home_playx1  \\\n",
       "0  Virat Kohli (UKN),Faf du Plessis (UKN),Glenn M...   \n",
       "1  Ishan Kishan (WK),Rohit Sharma (UKN),Cameron G...   \n",
       "2  Jason Roy (UKN),Venkatesh Iyer (AR),Nitish Ran...   \n",
       "3  Prithvi Shaw (UKN),David Warner (UKN),Phil Sal...   \n",
       "4  Prabhsimran Singh (UKN),Shikhar Dhawan (UKN),A...   \n",
       "\n",
       "                                         away_playx1  \\\n",
       "0  Wriddhiman Saha (WK),Shubman Gill (UKN),Vijay ...   \n",
       "1  Vivrant Sharma (AR),Mayank Agarwal (UKN),Heinr...   \n",
       "2  Karan Sharma (AR),Quinton de Kock (WK),Prerak ...   \n",
       "3  Ruturaj Gaikwad (UKN),Devon Conway (UKN),Shiva...   \n",
       "4  Yashasvi Jaiswal (UKN),Jos Buttler (UKN),Devdu...   \n",
       "\n",
       "                    away_key_batsman                    away_key_bowler  \\\n",
       "0         Shubman Gill,Vijay Shankar             Noor Ahmad,Rashid Khan   \n",
       "1      Mayank Agarwal,Vivrant Sharma     Bhuvneshwar Kumar,Mayank Dagar   \n",
       "2    Nicholas Pooran,Quinton de Kock           Ravi Bishnoi,Yash Thakur   \n",
       "3       Devon Conway,Ruturaj Gaikwad  Deepak Chahar,Matheesha Pathirana   \n",
       "4  Devdutt Padikkal,Yashasvi Jaiswal           Navdeep Saini,Adam Zampa   \n",
       "\n",
       "                                      match_days                umpire1  \\\n",
       "0      21 May 2023 - night match (20-over match)            Nitin Menon   \n",
       "1  21 May 2023 - day/night match (20-over match)  KN Ananthapadmanabhan   \n",
       "2      20 May 2023 - night match (20-over match)           Ulhas Gandhe   \n",
       "3  20 May 2023 - day/night match (20-over match)         Chris Gaffaney   \n",
       "4      19 May 2023 - night match (20-over match)           Nand Kishore   \n",
       "\n",
       "                 umpire2       tv_umpire          referee    reserve_umpire  \n",
       "0        Virender Sharma    Tapan Sharma  Javagal Srinath        VM  Dhokre  \n",
       "1             Rod Tucker    Rohan Pandit  Pankaj Dharmani    Parashar Joshi  \n",
       "2  Jayaraman Madanagopal  Yeshwant Barde      Manu Nayyar      Mohamed Rafi  \n",
       "3      Nikhil Patwardhan  Anil Chaudhary     Sanjay Verma  Mohit Krishnadas  \n",
       "4             Rod Tucker   Navdeep Singh  Pankaj Dharmani    Parashar Joshi  \n",
       "\n",
       "[5 rows x 44 columns]"
      ]
     },
     "execution_count": 18,
     "metadata": {},
     "output_type": "execute_result"
    }
   ],
   "source": [
    "df.head() "
   ]
  },
  {
   "cell_type": "code",
   "execution_count": 19,
   "id": "a8d7d95e-cb57-42a3-b04a-bd6958b16a59",
   "metadata": {},
   "outputs": [
    {
     "data": {
      "text/plain": [
       "(899, 44)"
      ]
     },
     "execution_count": 19,
     "metadata": {},
     "output_type": "execute_result"
    }
   ],
   "source": [
    "df.shape"
   ]
  },
  {
   "cell_type": "code",
   "execution_count": 20,
   "id": "6167502e-7ff3-4f59-ba46-1fd602b5014a",
   "metadata": {},
   "outputs": [
    {
     "data": {
      "text/plain": [
       "Index(['Unnamed: 0', 'season', 'id', 'name', 'short_name', 'description',\n",
       "       'home_team', 'away_team', 'toss_won', 'decision', '1st_inning_score',\n",
       "       '2nd_inning_score', 'winner', 'result', 'start_date', 'end_date',\n",
       "       'venue_id', 'venue_name', 'home_captain', 'away_captain', 'pom',\n",
       "       'points', 'super_over', 'home_overs', 'home_runs', 'home_wickets',\n",
       "       'home_boundaries', 'away_overs', 'away_runs', 'away_wickets',\n",
       "       'away_boundaries', 'highlights', 'home_key_batsman', 'home_key_bowler',\n",
       "       'home_playx1', 'away_playx1', 'away_key_batsman', 'away_key_bowler',\n",
       "       'match_days', 'umpire1', 'umpire2', 'tv_umpire', 'referee',\n",
       "       'reserve_umpire'],\n",
       "      dtype='object')"
      ]
     },
     "execution_count": 20,
     "metadata": {},
     "output_type": "execute_result"
    }
   ],
   "source": [
    "df.columns"
   ]
  },
  {
   "cell_type": "code",
   "execution_count": 30,
   "id": "c877f640-cfa4-41e9-bf5b-72ea6d5eb7cf",
   "metadata": {},
   "outputs": [
    {
     "data": {
      "application/vnd.plotly.v1+json": {
       "config": {
        "plotlyServerURL": "https://plot.ly"
       },
       "data": [
        {
         "domain": {
          "x": [
           0,
           1
          ],
          "y": [
           0,
           1
          ]
         },
         "hovertemplate": "label=%{label}<br>value=%{value}<extra></extra>",
         "labels": [
          "MI",
          "DC",
          "KKR",
          "RCB",
          "SRH",
          "RR",
          "CSK",
          "KXIP",
          "PWI",
          "GT",
          "GL",
          "RPS",
          "LSG",
          "Kochi",
          "PBKS"
         ],
         "legendgroup": "",
         "name": "",
         "showlegend": true,
         "type": "pie",
         "values": [
          116,
          110,
          105,
          101,
          100,
          98,
          97,
          89,
          20,
          17,
          15,
          10,
          8,
          8,
          5
         ]
        }
       ],
       "layout": {
        "autosize": true,
        "legend": {
         "tracegroupgap": 0
        },
        "template": {
         "data": {
          "bar": [
           {
            "error_x": {
             "color": "#2a3f5f"
            },
            "error_y": {
             "color": "#2a3f5f"
            },
            "marker": {
             "line": {
              "color": "#E5ECF6",
              "width": 0.5
             },
             "pattern": {
              "fillmode": "overlay",
              "size": 10,
              "solidity": 0.2
             }
            },
            "type": "bar"
           }
          ],
          "barpolar": [
           {
            "marker": {
             "line": {
              "color": "#E5ECF6",
              "width": 0.5
             },
             "pattern": {
              "fillmode": "overlay",
              "size": 10,
              "solidity": 0.2
             }
            },
            "type": "barpolar"
           }
          ],
          "carpet": [
           {
            "aaxis": {
             "endlinecolor": "#2a3f5f",
             "gridcolor": "white",
             "linecolor": "white",
             "minorgridcolor": "white",
             "startlinecolor": "#2a3f5f"
            },
            "baxis": {
             "endlinecolor": "#2a3f5f",
             "gridcolor": "white",
             "linecolor": "white",
             "minorgridcolor": "white",
             "startlinecolor": "#2a3f5f"
            },
            "type": "carpet"
           }
          ],
          "choropleth": [
           {
            "colorbar": {
             "outlinewidth": 0,
             "ticks": ""
            },
            "type": "choropleth"
           }
          ],
          "contour": [
           {
            "colorbar": {
             "outlinewidth": 0,
             "ticks": ""
            },
            "colorscale": [
             [
              0,
              "#0d0887"
             ],
             [
              0.1111111111111111,
              "#46039f"
             ],
             [
              0.2222222222222222,
              "#7201a8"
             ],
             [
              0.3333333333333333,
              "#9c179e"
             ],
             [
              0.4444444444444444,
              "#bd3786"
             ],
             [
              0.5555555555555556,
              "#d8576b"
             ],
             [
              0.6666666666666666,
              "#ed7953"
             ],
             [
              0.7777777777777778,
              "#fb9f3a"
             ],
             [
              0.8888888888888888,
              "#fdca26"
             ],
             [
              1,
              "#f0f921"
             ]
            ],
            "type": "contour"
           }
          ],
          "contourcarpet": [
           {
            "colorbar": {
             "outlinewidth": 0,
             "ticks": ""
            },
            "type": "contourcarpet"
           }
          ],
          "heatmap": [
           {
            "colorbar": {
             "outlinewidth": 0,
             "ticks": ""
            },
            "colorscale": [
             [
              0,
              "#0d0887"
             ],
             [
              0.1111111111111111,
              "#46039f"
             ],
             [
              0.2222222222222222,
              "#7201a8"
             ],
             [
              0.3333333333333333,
              "#9c179e"
             ],
             [
              0.4444444444444444,
              "#bd3786"
             ],
             [
              0.5555555555555556,
              "#d8576b"
             ],
             [
              0.6666666666666666,
              "#ed7953"
             ],
             [
              0.7777777777777778,
              "#fb9f3a"
             ],
             [
              0.8888888888888888,
              "#fdca26"
             ],
             [
              1,
              "#f0f921"
             ]
            ],
            "type": "heatmap"
           }
          ],
          "heatmapgl": [
           {
            "colorbar": {
             "outlinewidth": 0,
             "ticks": ""
            },
            "colorscale": [
             [
              0,
              "#0d0887"
             ],
             [
              0.1111111111111111,
              "#46039f"
             ],
             [
              0.2222222222222222,
              "#7201a8"
             ],
             [
              0.3333333333333333,
              "#9c179e"
             ],
             [
              0.4444444444444444,
              "#bd3786"
             ],
             [
              0.5555555555555556,
              "#d8576b"
             ],
             [
              0.6666666666666666,
              "#ed7953"
             ],
             [
              0.7777777777777778,
              "#fb9f3a"
             ],
             [
              0.8888888888888888,
              "#fdca26"
             ],
             [
              1,
              "#f0f921"
             ]
            ],
            "type": "heatmapgl"
           }
          ],
          "histogram": [
           {
            "marker": {
             "pattern": {
              "fillmode": "overlay",
              "size": 10,
              "solidity": 0.2
             }
            },
            "type": "histogram"
           }
          ],
          "histogram2d": [
           {
            "colorbar": {
             "outlinewidth": 0,
             "ticks": ""
            },
            "colorscale": [
             [
              0,
              "#0d0887"
             ],
             [
              0.1111111111111111,
              "#46039f"
             ],
             [
              0.2222222222222222,
              "#7201a8"
             ],
             [
              0.3333333333333333,
              "#9c179e"
             ],
             [
              0.4444444444444444,
              "#bd3786"
             ],
             [
              0.5555555555555556,
              "#d8576b"
             ],
             [
              0.6666666666666666,
              "#ed7953"
             ],
             [
              0.7777777777777778,
              "#fb9f3a"
             ],
             [
              0.8888888888888888,
              "#fdca26"
             ],
             [
              1,
              "#f0f921"
             ]
            ],
            "type": "histogram2d"
           }
          ],
          "histogram2dcontour": [
           {
            "colorbar": {
             "outlinewidth": 0,
             "ticks": ""
            },
            "colorscale": [
             [
              0,
              "#0d0887"
             ],
             [
              0.1111111111111111,
              "#46039f"
             ],
             [
              0.2222222222222222,
              "#7201a8"
             ],
             [
              0.3333333333333333,
              "#9c179e"
             ],
             [
              0.4444444444444444,
              "#bd3786"
             ],
             [
              0.5555555555555556,
              "#d8576b"
             ],
             [
              0.6666666666666666,
              "#ed7953"
             ],
             [
              0.7777777777777778,
              "#fb9f3a"
             ],
             [
              0.8888888888888888,
              "#fdca26"
             ],
             [
              1,
              "#f0f921"
             ]
            ],
            "type": "histogram2dcontour"
           }
          ],
          "mesh3d": [
           {
            "colorbar": {
             "outlinewidth": 0,
             "ticks": ""
            },
            "type": "mesh3d"
           }
          ],
          "parcoords": [
           {
            "line": {
             "colorbar": {
              "outlinewidth": 0,
              "ticks": ""
             }
            },
            "type": "parcoords"
           }
          ],
          "pie": [
           {
            "automargin": true,
            "type": "pie"
           }
          ],
          "scatter": [
           {
            "fillpattern": {
             "fillmode": "overlay",
             "size": 10,
             "solidity": 0.2
            },
            "type": "scatter"
           }
          ],
          "scatter3d": [
           {
            "line": {
             "colorbar": {
              "outlinewidth": 0,
              "ticks": ""
             }
            },
            "marker": {
             "colorbar": {
              "outlinewidth": 0,
              "ticks": ""
             }
            },
            "type": "scatter3d"
           }
          ],
          "scattercarpet": [
           {
            "marker": {
             "colorbar": {
              "outlinewidth": 0,
              "ticks": ""
             }
            },
            "type": "scattercarpet"
           }
          ],
          "scattergeo": [
           {
            "marker": {
             "colorbar": {
              "outlinewidth": 0,
              "ticks": ""
             }
            },
            "type": "scattergeo"
           }
          ],
          "scattergl": [
           {
            "marker": {
             "colorbar": {
              "outlinewidth": 0,
              "ticks": ""
             }
            },
            "type": "scattergl"
           }
          ],
          "scattermapbox": [
           {
            "marker": {
             "colorbar": {
              "outlinewidth": 0,
              "ticks": ""
             }
            },
            "type": "scattermapbox"
           }
          ],
          "scatterpolar": [
           {
            "marker": {
             "colorbar": {
              "outlinewidth": 0,
              "ticks": ""
             }
            },
            "type": "scatterpolar"
           }
          ],
          "scatterpolargl": [
           {
            "marker": {
             "colorbar": {
              "outlinewidth": 0,
              "ticks": ""
             }
            },
            "type": "scatterpolargl"
           }
          ],
          "scatterternary": [
           {
            "marker": {
             "colorbar": {
              "outlinewidth": 0,
              "ticks": ""
             }
            },
            "type": "scatterternary"
           }
          ],
          "surface": [
           {
            "colorbar": {
             "outlinewidth": 0,
             "ticks": ""
            },
            "colorscale": [
             [
              0,
              "#0d0887"
             ],
             [
              0.1111111111111111,
              "#46039f"
             ],
             [
              0.2222222222222222,
              "#7201a8"
             ],
             [
              0.3333333333333333,
              "#9c179e"
             ],
             [
              0.4444444444444444,
              "#bd3786"
             ],
             [
              0.5555555555555556,
              "#d8576b"
             ],
             [
              0.6666666666666666,
              "#ed7953"
             ],
             [
              0.7777777777777778,
              "#fb9f3a"
             ],
             [
              0.8888888888888888,
              "#fdca26"
             ],
             [
              1,
              "#f0f921"
             ]
            ],
            "type": "surface"
           }
          ],
          "table": [
           {
            "cells": {
             "fill": {
              "color": "#EBF0F8"
             },
             "line": {
              "color": "white"
             }
            },
            "header": {
             "fill": {
              "color": "#C8D4E3"
             },
             "line": {
              "color": "white"
             }
            },
            "type": "table"
           }
          ]
         },
         "layout": {
          "annotationdefaults": {
           "arrowcolor": "#2a3f5f",
           "arrowhead": 0,
           "arrowwidth": 1
          },
          "autotypenumbers": "strict",
          "coloraxis": {
           "colorbar": {
            "outlinewidth": 0,
            "ticks": ""
           }
          },
          "colorscale": {
           "diverging": [
            [
             0,
             "#8e0152"
            ],
            [
             0.1,
             "#c51b7d"
            ],
            [
             0.2,
             "#de77ae"
            ],
            [
             0.3,
             "#f1b6da"
            ],
            [
             0.4,
             "#fde0ef"
            ],
            [
             0.5,
             "#f7f7f7"
            ],
            [
             0.6,
             "#e6f5d0"
            ],
            [
             0.7,
             "#b8e186"
            ],
            [
             0.8,
             "#7fbc41"
            ],
            [
             0.9,
             "#4d9221"
            ],
            [
             1,
             "#276419"
            ]
           ],
           "sequential": [
            [
             0,
             "#0d0887"
            ],
            [
             0.1111111111111111,
             "#46039f"
            ],
            [
             0.2222222222222222,
             "#7201a8"
            ],
            [
             0.3333333333333333,
             "#9c179e"
            ],
            [
             0.4444444444444444,
             "#bd3786"
            ],
            [
             0.5555555555555556,
             "#d8576b"
            ],
            [
             0.6666666666666666,
             "#ed7953"
            ],
            [
             0.7777777777777778,
             "#fb9f3a"
            ],
            [
             0.8888888888888888,
             "#fdca26"
            ],
            [
             1,
             "#f0f921"
            ]
           ],
           "sequentialminus": [
            [
             0,
             "#0d0887"
            ],
            [
             0.1111111111111111,
             "#46039f"
            ],
            [
             0.2222222222222222,
             "#7201a8"
            ],
            [
             0.3333333333333333,
             "#9c179e"
            ],
            [
             0.4444444444444444,
             "#bd3786"
            ],
            [
             0.5555555555555556,
             "#d8576b"
            ],
            [
             0.6666666666666666,
             "#ed7953"
            ],
            [
             0.7777777777777778,
             "#fb9f3a"
            ],
            [
             0.8888888888888888,
             "#fdca26"
            ],
            [
             1,
             "#f0f921"
            ]
           ]
          },
          "colorway": [
           "#636efa",
           "#EF553B",
           "#00cc96",
           "#ab63fa",
           "#FFA15A",
           "#19d3f3",
           "#FF6692",
           "#B6E880",
           "#FF97FF",
           "#FECB52"
          ],
          "font": {
           "color": "#2a3f5f"
          },
          "geo": {
           "bgcolor": "white",
           "lakecolor": "white",
           "landcolor": "#E5ECF6",
           "showlakes": true,
           "showland": true,
           "subunitcolor": "white"
          },
          "hoverlabel": {
           "align": "left"
          },
          "hovermode": "closest",
          "mapbox": {
           "style": "light"
          },
          "paper_bgcolor": "white",
          "plot_bgcolor": "#E5ECF6",
          "polar": {
           "angularaxis": {
            "gridcolor": "white",
            "linecolor": "white",
            "ticks": ""
           },
           "bgcolor": "#E5ECF6",
           "radialaxis": {
            "gridcolor": "white",
            "linecolor": "white",
            "ticks": ""
           }
          },
          "scene": {
           "xaxis": {
            "backgroundcolor": "#E5ECF6",
            "gridcolor": "white",
            "gridwidth": 2,
            "linecolor": "white",
            "showbackground": true,
            "ticks": "",
            "zerolinecolor": "white"
           },
           "yaxis": {
            "backgroundcolor": "#E5ECF6",
            "gridcolor": "white",
            "gridwidth": 2,
            "linecolor": "white",
            "showbackground": true,
            "ticks": "",
            "zerolinecolor": "white"
           },
           "zaxis": {
            "backgroundcolor": "#E5ECF6",
            "gridcolor": "white",
            "gridwidth": 2,
            "linecolor": "white",
            "showbackground": true,
            "ticks": "",
            "zerolinecolor": "white"
           }
          },
          "shapedefaults": {
           "line": {
            "color": "#2a3f5f"
           }
          },
          "ternary": {
           "aaxis": {
            "gridcolor": "white",
            "linecolor": "white",
            "ticks": ""
           },
           "baxis": {
            "gridcolor": "white",
            "linecolor": "white",
            "ticks": ""
           },
           "bgcolor": "#E5ECF6",
           "caxis": {
            "gridcolor": "white",
            "linecolor": "white",
            "ticks": ""
           }
          },
          "title": {
           "x": 0.05
          },
          "xaxis": {
           "automargin": true,
           "gridcolor": "white",
           "linecolor": "white",
           "ticks": "",
           "title": {
            "standoff": 15
           },
           "zerolinecolor": "white",
           "zerolinewidth": 2
          },
          "yaxis": {
           "automargin": true,
           "gridcolor": "white",
           "linecolor": "white",
           "ticks": "",
           "title": {
            "standoff": 15
           },
           "zerolinecolor": "white",
           "zerolinewidth": 2
          }
         }
        },
        "title": {
         "text": "Pie Chart of how many times a team won a toss? "
        }
       }
      },
      "image/png": "[encoded data removed]",
      "text/html": [
       "<div>                            <div id=\"dd8e0b1f-a2c1-401d-9aaa-f60864c4700b\" class=\"plotly-graph-div\" style=\"height:525px; width:100%;\"></div>            <script type=\"text/javascript\">                require([\"plotly\"], function(Plotly) {                    window.PLOTLYENV=window.PLOTLYENV || {};                                    if (document.getElementById(\"dd8e0b1f-a2c1-401d-9aaa-f60864c4700b\")) {                    Plotly.newPlot(                        \"dd8e0b1f-a2c1-401d-9aaa-f60864c4700b\",                        [{\"domain\":{\"x\":[0.0,1.0],\"y\":[0.0,1.0]},\"hovertemplate\":\"label=%{label}\\u003cbr\\u003evalue=%{value}\\u003cextra\\u003e\\u003c\\u002fextra\\u003e\",\"labels\":[\"MI\",\"DC\",\"KKR\",\"RCB\",\"SRH\",\"RR\",\"CSK\",\"KXIP\",\"PWI\",\"GT\",\"GL\",\"RPS\",\"LSG\",\"Kochi\",\"PBKS\"],\"legendgroup\":\"\",\"name\":\"\",\"showlegend\":true,\"values\":[116,110,105,101,100,98,97,89,20,17,15,10,8,8,5],\"type\":\"pie\"}],                        {\"template\":{\"data\":{\"histogram2dcontour\":[{\"type\":\"histogram2dcontour\",\"colorbar\":{\"outlinewidth\":0,\"ticks\":\"\"},\"colorscale\":[[0.0,\"#0d0887\"],[0.1111111111111111,\"#46039f\"],[0.2222222222222222,\"#7201a8\"],[0.3333333333333333,\"#9c179e\"],[0.4444444444444444,\"#bd3786\"],[0.5555555555555556,\"#d8576b\"],[0.6666666666666666,\"#ed7953\"],[0.7777777777777778,\"#fb9f3a\"],[0.8888888888888888,\"#fdca26\"],[1.0,\"#f0f921\"]]}],\"choropleth\":[{\"type\":\"choropleth\",\"colorbar\":{\"outlinewidth\":0,\"ticks\":\"\"}}],\"histogram2d\":[{\"type\":\"histogram2d\",\"colorbar\":{\"outlinewidth\":0,\"ticks\":\"\"},\"colorscale\":[[0.0,\"#0d0887\"],[0.1111111111111111,\"#46039f\"],[0.2222222222222222,\"#7201a8\"],[0.3333333333333333,\"#9c179e\"],[0.4444444444444444,\"#bd3786\"],[0.5555555555555556,\"#d8576b\"],[0.6666666666666666,\"#ed7953\"],[0.7777777777777778,\"#fb9f3a\"],[0.8888888888888888,\"#fdca26\"],[1.0,\"#f0f921\"]]}],\"heatmap\":[{\"type\":\"heatmap\",\"colorbar\":{\"outlinewidth\":0,\"ticks\":\"\"},\"colorscale\":[[0.0,\"#0d0887\"],[0.1111111111111111,\"#46039f\"],[0.2222222222222222,\"#7201a8\"],[0.3333333333333333,\"#9c179e\"],[0.4444444444444444,\"#bd3786\"],[0.5555555555555556,\"#d8576b\"],[0.6666666666666666,\"#ed7953\"],[0.7777777777777778,\"#fb9f3a\"],[0.8888888888888888,\"#fdca26\"],[1.0,\"#f0f921\"]]}],\"heatmapgl\":[{\"type\":\"heatmapgl\",\"colorbar\":{\"outlinewidth\":0,\"ticks\":\"\"},\"colorscale\":[[0.0,\"#0d0887\"],[0.1111111111111111,\"#46039f\"],[0.2222222222222222,\"#7201a8\"],[0.3333333333333333,\"#9c179e\"],[0.4444444444444444,\"#bd3786\"],[0.5555555555555556,\"#d8576b\"],[0.6666666666666666,\"#ed7953\"],[0.7777777777777778,\"#fb9f3a\"],[0.8888888888888888,\"#fdca26\"],[1.0,\"#f0f921\"]]}],\"contourcarpet\":[{\"type\":\"contourcarpet\",\"colorbar\":{\"outlinewidth\":0,\"ticks\":\"\"}}],\"contour\":[{\"type\":\"contour\",\"colorbar\":{\"outlinewidth\":0,\"ticks\":\"\"},\"colorscale\":[[0.0,\"#0d0887\"],[0.1111111111111111,\"#46039f\"],[0.2222222222222222,\"#7201a8\"],[0.3333333333333333,\"#9c179e\"],[0.4444444444444444,\"#bd3786\"],[0.5555555555555556,\"#d8576b\"],[0.6666666666666666,\"#ed7953\"],[0.7777777777777778,\"#fb9f3a\"],[0.8888888888888888,\"#fdca26\"],[1.0,\"#f0f921\"]]}],\"surface\":[{\"type\":\"surface\",\"colorbar\":{\"outlinewidth\":0,\"ticks\":\"\"},\"colorscale\":[[0.0,\"#0d0887\"],[0.1111111111111111,\"#46039f\"],[0.2222222222222222,\"#7201a8\"],[0.3333333333333333,\"#9c179e\"],[0.4444444444444444,\"#bd3786\"],[0.5555555555555556,\"#d8576b\"],[0.6666666666666666,\"#ed7953\"],[0.7777777777777778,\"#fb9f3a\"],[0.8888888888888888,\"#fdca26\"],[1.0,\"#f0f921\"]]}],\"mesh3d\":[{\"type\":\"mesh3d\",\"colorbar\":{\"outlinewidth\":0,\"ticks\":\"\"}}],\"scatter\":[{\"fillpattern\":{\"fillmode\":\"overlay\",\"size\":10,\"solidity\":0.2},\"type\":\"scatter\"}],\"parcoords\":[{\"type\":\"parcoords\",\"line\":{\"colorbar\":{\"outlinewidth\":0,\"ticks\":\"\"}}}],\"scatterpolargl\":[{\"type\":\"scatterpolargl\",\"marker\":{\"colorbar\":{\"outlinewidth\":0,\"ticks\":\"\"}}}],\"bar\":[{\"error_x\":{\"color\":\"#2a3f5f\"},\"error_y\":{\"color\":\"#2a3f5f\"},\"marker\":{\"line\":{\"color\":\"#E5ECF6\",\"width\":0.5},\"pattern\":{\"fillmode\":\"overlay\",\"size\":10,\"solidity\":0.2}},\"type\":\"bar\"}],\"scattergeo\":[{\"type\":\"scattergeo\",\"marker\":{\"colorbar\":{\"outlinewidth\":0,\"ticks\":\"\"}}}],\"scatterpolar\":[{\"type\":\"scatterpolar\",\"marker\":{\"colorbar\":{\"outlinewidth\":0,\"ticks\":\"\"}}}],\"histogram\":[{\"marker\":{\"pattern\":{\"fillmode\":\"overlay\",\"size\":10,\"solidity\":0.2}},\"type\":\"histogram\"}],\"scattergl\":[{\"type\":\"scattergl\",\"marker\":{\"colorbar\":{\"outlinewidth\":0,\"ticks\":\"\"}}}],\"scatter3d\":[{\"type\":\"scatter3d\",\"line\":{\"colorbar\":{\"outlinewidth\":0,\"ticks\":\"\"}},\"marker\":{\"colorbar\":{\"outlinewidth\":0,\"ticks\":\"\"}}}],\"scattermapbox\":[{\"type\":\"scattermapbox\",\"marker\":{\"colorbar\":{\"outlinewidth\":0,\"ticks\":\"\"}}}],\"scatterternary\":[{\"type\":\"scatterternary\",\"marker\":{\"colorbar\":{\"outlinewidth\":0,\"ticks\":\"\"}}}],\"scattercarpet\":[{\"type\":\"scattercarpet\",\"marker\":{\"colorbar\":{\"outlinewidth\":0,\"ticks\":\"\"}}}],\"carpet\":[{\"aaxis\":{\"endlinecolor\":\"#2a3f5f\",\"gridcolor\":\"white\",\"linecolor\":\"white\",\"minorgridcolor\":\"white\",\"startlinecolor\":\"#2a3f5f\"},\"baxis\":{\"endlinecolor\":\"#2a3f5f\",\"gridcolor\":\"white\",\"linecolor\":\"white\",\"minorgridcolor\":\"white\",\"startlinecolor\":\"#2a3f5f\"},\"type\":\"carpet\"}],\"table\":[{\"cells\":{\"fill\":{\"color\":\"#EBF0F8\"},\"line\":{\"color\":\"white\"}},\"header\":{\"fill\":{\"color\":\"#C8D4E3\"},\"line\":{\"color\":\"white\"}},\"type\":\"table\"}],\"barpolar\":[{\"marker\":{\"line\":{\"color\":\"#E5ECF6\",\"width\":0.5},\"pattern\":{\"fillmode\":\"overlay\",\"size\":10,\"solidity\":0.2}},\"type\":\"barpolar\"}],\"pie\":[{\"automargin\":true,\"type\":\"pie\"}]},\"layout\":{\"autotypenumbers\":\"strict\",\"colorway\":[\"#636efa\",\"#EF553B\",\"#00cc96\",\"#ab63fa\",\"#FFA15A\",\"#19d3f3\",\"#FF6692\",\"#B6E880\",\"#FF97FF\",\"#FECB52\"],\"font\":{\"color\":\"#2a3f5f\"},\"hovermode\":\"closest\",\"hoverlabel\":{\"align\":\"left\"},\"paper_bgcolor\":\"white\",\"plot_bgcolor\":\"#E5ECF6\",\"polar\":{\"bgcolor\":\"#E5ECF6\",\"angularaxis\":{\"gridcolor\":\"white\",\"linecolor\":\"white\",\"ticks\":\"\"},\"radialaxis\":{\"gridcolor\":\"white\",\"linecolor\":\"white\",\"ticks\":\"\"}},\"ternary\":{\"bgcolor\":\"#E5ECF6\",\"aaxis\":{\"gridcolor\":\"white\",\"linecolor\":\"white\",\"ticks\":\"\"},\"baxis\":{\"gridcolor\":\"white\",\"linecolor\":\"white\",\"ticks\":\"\"},\"caxis\":{\"gridcolor\":\"white\",\"linecolor\":\"white\",\"ticks\":\"\"}},\"coloraxis\":{\"colorbar\":{\"outlinewidth\":0,\"ticks\":\"\"}},\"colorscale\":{\"sequential\":[[0.0,\"#0d0887\"],[0.1111111111111111,\"#46039f\"],[0.2222222222222222,\"#7201a8\"],[0.3333333333333333,\"#9c179e\"],[0.4444444444444444,\"#bd3786\"],[0.5555555555555556,\"#d8576b\"],[0.6666666666666666,\"#ed7953\"],[0.7777777777777778,\"#fb9f3a\"],[0.8888888888888888,\"#fdca26\"],[1.0,\"#f0f921\"]],\"sequentialminus\":[[0.0,\"#0d0887\"],[0.1111111111111111,\"#46039f\"],[0.2222222222222222,\"#7201a8\"],[0.3333333333333333,\"#9c179e\"],[0.4444444444444444,\"#bd3786\"],[0.5555555555555556,\"#d8576b\"],[0.6666666666666666,\"#ed7953\"],[0.7777777777777778,\"#fb9f3a\"],[0.8888888888888888,\"#fdca26\"],[1.0,\"#f0f921\"]],\"diverging\":[[0,\"#8e0152\"],[0.1,\"#c51b7d\"],[0.2,\"#de77ae\"],[0.3,\"#f1b6da\"],[0.4,\"#fde0ef\"],[0.5,\"#f7f7f7\"],[0.6,\"#e6f5d0\"],[0.7,\"#b8e186\"],[0.8,\"#7fbc41\"],[0.9,\"#4d9221\"],[1,\"#276419\"]]},\"xaxis\":{\"gridcolor\":\"white\",\"linecolor\":\"white\",\"ticks\":\"\",\"title\":{\"standoff\":15},\"zerolinecolor\":\"white\",\"automargin\":true,\"zerolinewidth\":2},\"yaxis\":{\"gridcolor\":\"white\",\"linecolor\":\"white\",\"ticks\":\"\",\"title\":{\"standoff\":15},\"zerolinecolor\":\"white\",\"automargin\":true,\"zerolinewidth\":2},\"scene\":{\"xaxis\":{\"backgroundcolor\":\"#E5ECF6\",\"gridcolor\":\"white\",\"linecolor\":\"white\",\"showbackground\":true,\"ticks\":\"\",\"zerolinecolor\":\"white\",\"gridwidth\":2},\"yaxis\":{\"backgroundcolor\":\"#E5ECF6\",\"gridcolor\":\"white\",\"linecolor\":\"white\",\"showbackground\":true,\"ticks\":\"\",\"zerolinecolor\":\"white\",\"gridwidth\":2},\"zaxis\":{\"backgroundcolor\":\"#E5ECF6\",\"gridcolor\":\"white\",\"linecolor\":\"white\",\"showbackground\":true,\"ticks\":\"\",\"zerolinecolor\":\"white\",\"gridwidth\":2}},\"shapedefaults\":{\"line\":{\"color\":\"#2a3f5f\"}},\"annotationdefaults\":{\"arrowcolor\":\"#2a3f5f\",\"arrowhead\":0,\"arrowwidth\":1},\"geo\":{\"bgcolor\":\"white\",\"landcolor\":\"#E5ECF6\",\"subunitcolor\":\"white\",\"showland\":true,\"showlakes\":true,\"lakecolor\":\"white\"},\"title\":{\"x\":0.05},\"mapbox\":{\"style\":\"light\"}}},\"legend\":{\"tracegroupgap\":0},\"title\":{\"text\":\"Pie Chart of how many times a team won a toss? \"}},                        {\"responsive\": true}                    ).then(function(){\n",
       "                            \n",
       "var gd = document.getElementById('dd8e0b1f-a2c1-401d-9aaa-f60864c4700b');\n",
       "var x = new MutationObserver(function (mutations, observer) {{\n",
       "        var display = window.getComputedStyle(gd).display;\n",
       "        if (!display || display === 'none') {{\n",
       "            console.log([gd, 'removed!']);\n",
       "            Plotly.purge(gd);\n",
       "            observer.disconnect();\n",
       "        }}\n",
       "}});\n",
       "\n",
       "// Listen for the removal of the full notebook cells\n",
       "var notebookContainer = gd.closest('#notebook-container');\n",
       "if (notebookContainer) {{\n",
       "    x.observe(notebookContainer, {childList: true});\n",
       "}}\n",
       "\n",
       "// Listen for the clearing of the current output cell\n",
       "var outputEl = gd.closest('.output');\n",
       "if (outputEl) {{\n",
       "    x.observe(outputEl, {childList: true});\n",
       "}}\n",
       "\n",
       "                        })                };                });            </script>        </div>"
      ]
     },
     "metadata": {},
     "output_type": "display_data"
    },
    {
     "data": {
      "application/vnd.plotly.v1+json": {
       "config": {
        "plotlyServerURL": "https://plot.ly"
       },
       "data": [
        {
         "domain": {
          "x": [
           0,
           1
          ],
          "y": [
           0,
           1
          ]
         },
         "hovertemplate": "label=%{label}<br>value=%{value}<extra></extra>",
         "labels": [
          "BOWL FIRST",
          "BAT FIRST"
         ],
         "legendgroup": "",
         "name": "",
         "showlegend": true,
         "type": "pie",
         "values": [
          576,
          323
         ]
        }
       ],
       "layout": {
        "autosize": true,
        "legend": {
         "tracegroupgap": 0
        },
        "template": {
         "data": {
          "bar": [
           {
            "error_x": {
             "color": "#2a3f5f"
            },
            "error_y": {
             "color": "#2a3f5f"
            },
            "marker": {
             "line": {
              "color": "#E5ECF6",
              "width": 0.5
             },
             "pattern": {
              "fillmode": "overlay",
              "size": 10,
              "solidity": 0.2
             }
            },
            "type": "bar"
           }
          ],
          "barpolar": [
           {
            "marker": {
             "line": {
              "color": "#E5ECF6",
              "width": 0.5
             },
             "pattern": {
              "fillmode": "overlay",
              "size": 10,
              "solidity": 0.2
             }
            },
            "type": "barpolar"
           }
          ],
          "carpet": [
           {
            "aaxis": {
             "endlinecolor": "#2a3f5f",
             "gridcolor": "white",
             "linecolor": "white",
             "minorgridcolor": "white",
             "startlinecolor": "#2a3f5f"
            },
            "baxis": {
             "endlinecolor": "#2a3f5f",
             "gridcolor": "white",
             "linecolor": "white",
             "minorgridcolor": "white",
             "startlinecolor": "#2a3f5f"
            },
            "type": "carpet"
           }
          ],
          "choropleth": [
           {
            "colorbar": {
             "outlinewidth": 0,
             "ticks": ""
            },
            "type": "choropleth"
           }
          ],
          "contour": [
           {
            "colorbar": {
             "outlinewidth": 0,
             "ticks": ""
            },
            "colorscale": [
             [
              0,
              "#0d0887"
             ],
             [
              0.1111111111111111,
              "#46039f"
             ],
             [
              0.2222222222222222,
              "#7201a8"
             ],
             [
              0.3333333333333333,
              "#9c179e"
             ],
             [
              0.4444444444444444,
              "#bd3786"
             ],
             [
              0.5555555555555556,
              "#d8576b"
             ],
             [
              0.6666666666666666,
              "#ed7953"
             ],
             [
              0.7777777777777778,
              "#fb9f3a"
             ],
             [
              0.8888888888888888,
              "#fdca26"
             ],
             [
              1,
              "#f0f921"
             ]
            ],
            "type": "contour"
           }
          ],
          "contourcarpet": [
           {
            "colorbar": {
             "outlinewidth": 0,
             "ticks": ""
            },
            "type": "contourcarpet"
           }
          ],
          "heatmap": [
           {
            "colorbar": {
             "outlinewidth": 0,
             "ticks": ""
            },
            "colorscale": [
             [
              0,
              "#0d0887"
             ],
             [
              0.1111111111111111,
              "#46039f"
             ],
             [
              0.2222222222222222,
              "#7201a8"
             ],
             [
              0.3333333333333333,
              "#9c179e"
             ],
             [
              0.4444444444444444,
              "#bd3786"
             ],
             [
              0.5555555555555556,
              "#d8576b"
             ],
             [
              0.6666666666666666,
              "#ed7953"
             ],
             [
              0.7777777777777778,
              "#fb9f3a"
             ],
             [
              0.8888888888888888,
              "#fdca26"
             ],
             [
              1,
              "#f0f921"
             ]
            ],
            "type": "heatmap"
           }
          ],
          "heatmapgl": [
           {
            "colorbar": {
             "outlinewidth": 0,
             "ticks": ""
            },
            "colorscale": [
             [
              0,
              "#0d0887"
             ],
             [
              0.1111111111111111,
              "#46039f"
             ],
             [
              0.2222222222222222,
              "#7201a8"
             ],
             [
              0.3333333333333333,
              "#9c179e"
             ],
             [
              0.4444444444444444,
              "#bd3786"
             ],
             [
              0.5555555555555556,
              "#d8576b"
             ],
             [
              0.6666666666666666,
              "#ed7953"
             ],
             [
              0.7777777777777778,
              "#fb9f3a"
             ],
             [
              0.8888888888888888,
              "#fdca26"
             ],
             [
              1,
              "#f0f921"
             ]
            ],
            "type": "heatmapgl"
           }
          ],
          "histogram": [
           {
            "marker": {
             "pattern": {
              "fillmode": "overlay",
              "size": 10,
              "solidity": 0.2
             }
            },
            "type": "histogram"
           }
          ],
          "histogram2d": [
           {
            "colorbar": {
             "outlinewidth": 0,
             "ticks": ""
            },
            "colorscale": [
             [
              0,
              "#0d0887"
             ],
             [
              0.1111111111111111,
              "#46039f"
             ],
             [
              0.2222222222222222,
              "#7201a8"
             ],
             [
              0.3333333333333333,
              "#9c179e"
             ],
             [
              0.4444444444444444,
              "#bd3786"
             ],
             [
              0.5555555555555556,
              "#d8576b"
             ],
             [
              0.6666666666666666,
              "#ed7953"
             ],
             [
              0.7777777777777778,
              "#fb9f3a"
             ],
             [
              0.8888888888888888,
              "#fdca26"
             ],
             [
              1,
              "#f0f921"
             ]
            ],
            "type": "histogram2d"
           }
          ],
          "histogram2dcontour": [
           {
            "colorbar": {
             "outlinewidth": 0,
             "ticks": ""
            },
            "colorscale": [
             [
              0,
              "#0d0887"
             ],
             [
              0.1111111111111111,
              "#46039f"
             ],
             [
              0.2222222222222222,
              "#7201a8"
             ],
             [
              0.3333333333333333,
              "#9c179e"
             ],
             [
              0.4444444444444444,
              "#bd3786"
             ],
             [
              0.5555555555555556,
              "#d8576b"
             ],
             [
              0.6666666666666666,
              "#ed7953"
             ],
             [
              0.7777777777777778,
              "#fb9f3a"
             ],
             [
              0.8888888888888888,
              "#fdca26"
             ],
             [
              1,
              "#f0f921"
             ]
            ],
            "type": "histogram2dcontour"
           }
          ],
          "mesh3d": [
           {
            "colorbar": {
             "outlinewidth": 0,
             "ticks": ""
            },
            "type": "mesh3d"
           }
          ],
          "parcoords": [
           {
            "line": {
             "colorbar": {
              "outlinewidth": 0,
              "ticks": ""
             }
            },
            "type": "parcoords"
           }
          ],
          "pie": [
           {
            "automargin": true,
            "type": "pie"
           }
          ],
          "scatter": [
           {
            "fillpattern": {
             "fillmode": "overlay",
             "size": 10,
             "solidity": 0.2
            },
            "type": "scatter"
           }
          ],
          "scatter3d": [
           {
            "line": {
             "colorbar": {
              "outlinewidth": 0,
              "ticks": ""
             }
            },
            "marker": {
             "colorbar": {
              "outlinewidth": 0,
              "ticks": ""
             }
            },
            "type": "scatter3d"
           }
          ],
          "scattercarpet": [
           {
            "marker": {
             "colorbar": {
              "outlinewidth": 0,
              "ticks": ""
             }
            },
            "type": "scattercarpet"
           }
          ],
          "scattergeo": [
           {
            "marker": {
             "colorbar": {
              "outlinewidth": 0,
              "ticks": ""
             }
            },
            "type": "scattergeo"
           }
          ],
          "scattergl": [
           {
            "marker": {
             "colorbar": {
              "outlinewidth": 0,
              "ticks": ""
             }
            },
            "type": "scattergl"
           }
          ],
          "scattermapbox": [
           {
            "marker": {
             "colorbar": {
              "outlinewidth": 0,
              "ticks": ""
             }
            },
            "type": "scattermapbox"
           }
          ],
          "scatterpolar": [
           {
            "marker": {
             "colorbar": {
              "outlinewidth": 0,
              "ticks": ""
             }
            },
            "type": "scatterpolar"
           }
          ],
          "scatterpolargl": [
           {
            "marker": {
             "colorbar": {
              "outlinewidth": 0,
              "ticks": ""
             }
            },
            "type": "scatterpolargl"
           }
          ],
          "scatterternary": [
           {
            "marker": {
             "colorbar": {
              "outlinewidth": 0,
              "ticks": ""
             }
            },
            "type": "scatterternary"
           }
          ],
          "surface": [
           {
            "colorbar": {
             "outlinewidth": 0,
             "ticks": ""
            },
            "colorscale": [
             [
              0,
              "#0d0887"
             ],
             [
              0.1111111111111111,
              "#46039f"
             ],
             [
              0.2222222222222222,
              "#7201a8"
             ],
             [
              0.3333333333333333,
              "#9c179e"
             ],
             [
              0.4444444444444444,
              "#bd3786"
             ],
             [
              0.5555555555555556,
              "#d8576b"
             ],
             [
              0.6666666666666666,
              "#ed7953"
             ],
             [
              0.7777777777777778,
              "#fb9f3a"
             ],
             [
              0.8888888888888888,
              "#fdca26"
             ],
             [
              1,
              "#f0f921"
             ]
            ],
            "type": "surface"
           }
          ],
          "table": [
           {
            "cells": {
             "fill": {
              "color": "#EBF0F8"
             },
             "line": {
              "color": "white"
             }
            },
            "header": {
             "fill": {
              "color": "#C8D4E3"
             },
             "line": {
              "color": "white"
             }
            },
            "type": "table"
           }
          ]
         },
         "layout": {
          "annotationdefaults": {
           "arrowcolor": "#2a3f5f",
           "arrowhead": 0,
           "arrowwidth": 1
          },
          "autotypenumbers": "strict",
          "coloraxis": {
           "colorbar": {
            "outlinewidth": 0,
            "ticks": ""
           }
          },
          "colorscale": {
           "diverging": [
            [
             0,
             "#8e0152"
            ],
            [
             0.1,
             "#c51b7d"
            ],
            [
             0.2,
             "#de77ae"
            ],
            [
             0.3,
             "#f1b6da"
            ],
            [
             0.4,
             "#fde0ef"
            ],
            [
             0.5,
             "#f7f7f7"
            ],
            [
             0.6,
             "#e6f5d0"
            ],
            [
             0.7,
             "#b8e186"
            ],
            [
             0.8,
             "#7fbc41"
            ],
            [
             0.9,
             "#4d9221"
            ],
            [
             1,
             "#276419"
            ]
           ],
           "sequential": [
            [
             0,
             "#0d0887"
            ],
            [
             0.1111111111111111,
             "#46039f"
            ],
            [
             0.2222222222222222,
             "#7201a8"
            ],
            [
             0.3333333333333333,
             "#9c179e"
            ],
            [
             0.4444444444444444,
             "#bd3786"
            ],
            [
             0.5555555555555556,
             "#d8576b"
            ],
            [
             0.6666666666666666,
             "#ed7953"
            ],
            [
             0.7777777777777778,
             "#fb9f3a"
            ],
            [
             0.8888888888888888,
             "#fdca26"
            ],
            [
             1,
             "#f0f921"
            ]
           ],
           "sequentialminus": [
            [
             0,
             "#0d0887"
            ],
            [
             0.1111111111111111,
             "#46039f"
            ],
            [
             0.2222222222222222,
             "#7201a8"
            ],
            [
             0.3333333333333333,
             "#9c179e"
            ],
            [
             0.4444444444444444,
             "#bd3786"
            ],
            [
             0.5555555555555556,
             "#d8576b"
            ],
            [
             0.6666666666666666,
             "#ed7953"
            ],
            [
             0.7777777777777778,
             "#fb9f3a"
            ],
            [
             0.8888888888888888,
             "#fdca26"
            ],
            [
             1,
             "#f0f921"
            ]
           ]
          },
          "colorway": [
           "#636efa",
           "#EF553B",
           "#00cc96",
           "#ab63fa",
           "#FFA15A",
           "#19d3f3",
           "#FF6692",
           "#B6E880",
           "#FF97FF",
           "#FECB52"
          ],
          "font": {
           "color": "#2a3f5f"
          },
          "geo": {
           "bgcolor": "white",
           "lakecolor": "white",
           "landcolor": "#E5ECF6",
           "showlakes": true,
           "showland": true,
           "subunitcolor": "white"
          },
          "hoverlabel": {
           "align": "left"
          },
          "hovermode": "closest",
          "mapbox": {
           "style": "light"
          },
          "paper_bgcolor": "white",
          "plot_bgcolor": "#E5ECF6",
          "polar": {
           "angularaxis": {
            "gridcolor": "white",
            "linecolor": "white",
            "ticks": ""
           },
           "bgcolor": "#E5ECF6",
           "radialaxis": {
            "gridcolor": "white",
            "linecolor": "white",
            "ticks": ""
           }
          },
          "scene": {
           "xaxis": {
            "backgroundcolor": "#E5ECF6",
            "gridcolor": "white",
            "gridwidth": 2,
            "linecolor": "white",
            "showbackground": true,
            "ticks": "",
            "zerolinecolor": "white"
           },
           "yaxis": {
            "backgroundcolor": "#E5ECF6",
            "gridcolor": "white",
            "gridwidth": 2,
            "linecolor": "white",
            "showbackground": true,
            "ticks": "",
            "zerolinecolor": "white"
           },
           "zaxis": {
            "backgroundcolor": "#E5ECF6",
            "gridcolor": "white",
            "gridwidth": 2,
            "linecolor": "white",
            "showbackground": true,
            "ticks": "",
            "zerolinecolor": "white"
           }
          },
          "shapedefaults": {
           "line": {
            "color": "#2a3f5f"
           }
          },
          "ternary": {
           "aaxis": {
            "gridcolor": "white",
            "linecolor": "white",
            "ticks": ""
           },
           "baxis": {
            "gridcolor": "white",
            "linecolor": "white",
            "ticks": ""
           },
           "bgcolor": "#E5ECF6",
           "caxis": {
            "gridcolor": "white",
            "linecolor": "white",
            "ticks": ""
           }
          },
          "title": {
           "x": 0.05
          },
          "xaxis": {
           "automargin": true,
           "gridcolor": "white",
           "linecolor": "white",
           "ticks": "",
           "title": {
            "standoff": 15
           },
           "zerolinecolor": "white",
           "zerolinewidth": 2
          },
          "yaxis": {
           "automargin": true,
           "gridcolor": "white",
           "linecolor": "white",
           "ticks": "",
           "title": {
            "standoff": 15
           },
           "zerolinecolor": "white",
           "zerolinewidth": 2
          }
         }
        },
        "title": {
         "text": "Pie Chart of Decisions Taken after win a toss"
        }
       }
      },
      "image/png": "[encoded data removed]",
      "text/html": [
       "<div>                            <div id=\"535d70ad-af1c-4f19-8bad-b5b147254b6e\" class=\"plotly-graph-div\" style=\"height:525px; width:100%;\"></div>            <script type=\"text/javascript\">                require([\"plotly\"], function(Plotly) {                    window.PLOTLYENV=window.PLOTLYENV || {};                                    if (document.getElementById(\"535d70ad-af1c-4f19-8bad-b5b147254b6e\")) {                    Plotly.newPlot(                        \"535d70ad-af1c-4f19-8bad-b5b147254b6e\",                        [{\"domain\":{\"x\":[0.0,1.0],\"y\":[0.0,1.0]},\"hovertemplate\":\"label=%{label}\\u003cbr\\u003evalue=%{value}\\u003cextra\\u003e\\u003c\\u002fextra\\u003e\",\"labels\":[\"BOWL FIRST\",\"BAT FIRST\"],\"legendgroup\":\"\",\"name\":\"\",\"showlegend\":true,\"values\":[576,323],\"type\":\"pie\"}],                        {\"template\":{\"data\":{\"histogram2dcontour\":[{\"type\":\"histogram2dcontour\",\"colorbar\":{\"outlinewidth\":0,\"ticks\":\"\"},\"colorscale\":[[0.0,\"#0d0887\"],[0.1111111111111111,\"#46039f\"],[0.2222222222222222,\"#7201a8\"],[0.3333333333333333,\"#9c179e\"],[0.4444444444444444,\"#bd3786\"],[0.5555555555555556,\"#d8576b\"],[0.6666666666666666,\"#ed7953\"],[0.7777777777777778,\"#fb9f3a\"],[0.8888888888888888,\"#fdca26\"],[1.0,\"#f0f921\"]]}],\"choropleth\":[{\"type\":\"choropleth\",\"colorbar\":{\"outlinewidth\":0,\"ticks\":\"\"}}],\"histogram2d\":[{\"type\":\"histogram2d\",\"colorbar\":{\"outlinewidth\":0,\"ticks\":\"\"},\"colorscale\":[[0.0,\"#0d0887\"],[0.1111111111111111,\"#46039f\"],[0.2222222222222222,\"#7201a8\"],[0.3333333333333333,\"#9c179e\"],[0.4444444444444444,\"#bd3786\"],[0.5555555555555556,\"#d8576b\"],[0.6666666666666666,\"#ed7953\"],[0.7777777777777778,\"#fb9f3a\"],[0.8888888888888888,\"#fdca26\"],[1.0,\"#f0f921\"]]}],\"heatmap\":[{\"type\":\"heatmap\",\"colorbar\":{\"outlinewidth\":0,\"ticks\":\"\"},\"colorscale\":[[0.0,\"#0d0887\"],[0.1111111111111111,\"#46039f\"],[0.2222222222222222,\"#7201a8\"],[0.3333333333333333,\"#9c179e\"],[0.4444444444444444,\"#bd3786\"],[0.5555555555555556,\"#d8576b\"],[0.6666666666666666,\"#ed7953\"],[0.7777777777777778,\"#fb9f3a\"],[0.8888888888888888,\"#fdca26\"],[1.0,\"#f0f921\"]]}],\"heatmapgl\":[{\"type\":\"heatmapgl\",\"colorbar\":{\"outlinewidth\":0,\"ticks\":\"\"},\"colorscale\":[[0.0,\"#0d0887\"],[0.1111111111111111,\"#46039f\"],[0.2222222222222222,\"#7201a8\"],[0.3333333333333333,\"#9c179e\"],[0.4444444444444444,\"#bd3786\"],[0.5555555555555556,\"#d8576b\"],[0.6666666666666666,\"#ed7953\"],[0.7777777777777778,\"#fb9f3a\"],[0.8888888888888888,\"#fdca26\"],[1.0,\"#f0f921\"]]}],\"contourcarpet\":[{\"type\":\"contourcarpet\",\"colorbar\":{\"outlinewidth\":0,\"ticks\":\"\"}}],\"contour\":[{\"type\":\"contour\",\"colorbar\":{\"outlinewidth\":0,\"ticks\":\"\"},\"colorscale\":[[0.0,\"#0d0887\"],[0.1111111111111111,\"#46039f\"],[0.2222222222222222,\"#7201a8\"],[0.3333333333333333,\"#9c179e\"],[0.4444444444444444,\"#bd3786\"],[0.5555555555555556,\"#d8576b\"],[0.6666666666666666,\"#ed7953\"],[0.7777777777777778,\"#fb9f3a\"],[0.8888888888888888,\"#fdca26\"],[1.0,\"#f0f921\"]]}],\"surface\":[{\"type\":\"surface\",\"colorbar\":{\"outlinewidth\":0,\"ticks\":\"\"},\"colorscale\":[[0.0,\"#0d0887\"],[0.1111111111111111,\"#46039f\"],[0.2222222222222222,\"#7201a8\"],[0.3333333333333333,\"#9c179e\"],[0.4444444444444444,\"#bd3786\"],[0.5555555555555556,\"#d8576b\"],[0.6666666666666666,\"#ed7953\"],[0.7777777777777778,\"#fb9f3a\"],[0.8888888888888888,\"#fdca26\"],[1.0,\"#f0f921\"]]}],\"mesh3d\":[{\"type\":\"mesh3d\",\"colorbar\":{\"outlinewidth\":0,\"ticks\":\"\"}}],\"scatter\":[{\"fillpattern\":{\"fillmode\":\"overlay\",\"size\":10,\"solidity\":0.2},\"type\":\"scatter\"}],\"parcoords\":[{\"type\":\"parcoords\",\"line\":{\"colorbar\":{\"outlinewidth\":0,\"ticks\":\"\"}}}],\"scatterpolargl\":[{\"type\":\"scatterpolargl\",\"marker\":{\"colorbar\":{\"outlinewidth\":0,\"ticks\":\"\"}}}],\"bar\":[{\"error_x\":{\"color\":\"#2a3f5f\"},\"error_y\":{\"color\":\"#2a3f5f\"},\"marker\":{\"line\":{\"color\":\"#E5ECF6\",\"width\":0.5},\"pattern\":{\"fillmode\":\"overlay\",\"size\":10,\"solidity\":0.2}},\"type\":\"bar\"}],\"scattergeo\":[{\"type\":\"scattergeo\",\"marker\":{\"colorbar\":{\"outlinewidth\":0,\"ticks\":\"\"}}}],\"scatterpolar\":[{\"type\":\"scatterpolar\",\"marker\":{\"colorbar\":{\"outlinewidth\":0,\"ticks\":\"\"}}}],\"histogram\":[{\"marker\":{\"pattern\":{\"fillmode\":\"overlay\",\"size\":10,\"solidity\":0.2}},\"type\":\"histogram\"}],\"scattergl\":[{\"type\":\"scattergl\",\"marker\":{\"colorbar\":{\"outlinewidth\":0,\"ticks\":\"\"}}}],\"scatter3d\":[{\"type\":\"scatter3d\",\"line\":{\"colorbar\":{\"outlinewidth\":0,\"ticks\":\"\"}},\"marker\":{\"colorbar\":{\"outlinewidth\":0,\"ticks\":\"\"}}}],\"scattermapbox\":[{\"type\":\"scattermapbox\",\"marker\":{\"colorbar\":{\"outlinewidth\":0,\"ticks\":\"\"}}}],\"scatterternary\":[{\"type\":\"scatterternary\",\"marker\":{\"colorbar\":{\"outlinewidth\":0,\"ticks\":\"\"}}}],\"scattercarpet\":[{\"type\":\"scattercarpet\",\"marker\":{\"colorbar\":{\"outlinewidth\":0,\"ticks\":\"\"}}}],\"carpet\":[{\"aaxis\":{\"endlinecolor\":\"#2a3f5f\",\"gridcolor\":\"white\",\"linecolor\":\"white\",\"minorgridcolor\":\"white\",\"startlinecolor\":\"#2a3f5f\"},\"baxis\":{\"endlinecolor\":\"#2a3f5f\",\"gridcolor\":\"white\",\"linecolor\":\"white\",\"minorgridcolor\":\"white\",\"startlinecolor\":\"#2a3f5f\"},\"type\":\"carpet\"}],\"table\":[{\"cells\":{\"fill\":{\"color\":\"#EBF0F8\"},\"line\":{\"color\":\"white\"}},\"header\":{\"fill\":{\"color\":\"#C8D4E3\"},\"line\":{\"color\":\"white\"}},\"type\":\"table\"}],\"barpolar\":[{\"marker\":{\"line\":{\"color\":\"#E5ECF6\",\"width\":0.5},\"pattern\":{\"fillmode\":\"overlay\",\"size\":10,\"solidity\":0.2}},\"type\":\"barpolar\"}],\"pie\":[{\"automargin\":true,\"type\":\"pie\"}]},\"layout\":{\"autotypenumbers\":\"strict\",\"colorway\":[\"#636efa\",\"#EF553B\",\"#00cc96\",\"#ab63fa\",\"#FFA15A\",\"#19d3f3\",\"#FF6692\",\"#B6E880\",\"#FF97FF\",\"#FECB52\"],\"font\":{\"color\":\"#2a3f5f\"},\"hovermode\":\"closest\",\"hoverlabel\":{\"align\":\"left\"},\"paper_bgcolor\":\"white\",\"plot_bgcolor\":\"#E5ECF6\",\"polar\":{\"bgcolor\":\"#E5ECF6\",\"angularaxis\":{\"gridcolor\":\"white\",\"linecolor\":\"white\",\"ticks\":\"\"},\"radialaxis\":{\"gridcolor\":\"white\",\"linecolor\":\"white\",\"ticks\":\"\"}},\"ternary\":{\"bgcolor\":\"#E5ECF6\",\"aaxis\":{\"gridcolor\":\"white\",\"linecolor\":\"white\",\"ticks\":\"\"},\"baxis\":{\"gridcolor\":\"white\",\"linecolor\":\"white\",\"ticks\":\"\"},\"caxis\":{\"gridcolor\":\"white\",\"linecolor\":\"white\",\"ticks\":\"\"}},\"coloraxis\":{\"colorbar\":{\"outlinewidth\":0,\"ticks\":\"\"}},\"colorscale\":{\"sequential\":[[0.0,\"#0d0887\"],[0.1111111111111111,\"#46039f\"],[0.2222222222222222,\"#7201a8\"],[0.3333333333333333,\"#9c179e\"],[0.4444444444444444,\"#bd3786\"],[0.5555555555555556,\"#d8576b\"],[0.6666666666666666,\"#ed7953\"],[0.7777777777777778,\"#fb9f3a\"],[0.8888888888888888,\"#fdca26\"],[1.0,\"#f0f921\"]],\"sequentialminus\":[[0.0,\"#0d0887\"],[0.1111111111111111,\"#46039f\"],[0.2222222222222222,\"#7201a8\"],[0.3333333333333333,\"#9c179e\"],[0.4444444444444444,\"#bd3786\"],[0.5555555555555556,\"#d8576b\"],[0.6666666666666666,\"#ed7953\"],[0.7777777777777778,\"#fb9f3a\"],[0.8888888888888888,\"#fdca26\"],[1.0,\"#f0f921\"]],\"diverging\":[[0,\"#8e0152\"],[0.1,\"#c51b7d\"],[0.2,\"#de77ae\"],[0.3,\"#f1b6da\"],[0.4,\"#fde0ef\"],[0.5,\"#f7f7f7\"],[0.6,\"#e6f5d0\"],[0.7,\"#b8e186\"],[0.8,\"#7fbc41\"],[0.9,\"#4d9221\"],[1,\"#276419\"]]},\"xaxis\":{\"gridcolor\":\"white\",\"linecolor\":\"white\",\"ticks\":\"\",\"title\":{\"standoff\":15},\"zerolinecolor\":\"white\",\"automargin\":true,\"zerolinewidth\":2},\"yaxis\":{\"gridcolor\":\"white\",\"linecolor\":\"white\",\"ticks\":\"\",\"title\":{\"standoff\":15},\"zerolinecolor\":\"white\",\"automargin\":true,\"zerolinewidth\":2},\"scene\":{\"xaxis\":{\"backgroundcolor\":\"#E5ECF6\",\"gridcolor\":\"white\",\"linecolor\":\"white\",\"showbackground\":true,\"ticks\":\"\",\"zerolinecolor\":\"white\",\"gridwidth\":2},\"yaxis\":{\"backgroundcolor\":\"#E5ECF6\",\"gridcolor\":\"white\",\"linecolor\":\"white\",\"showbackground\":true,\"ticks\":\"\",\"zerolinecolor\":\"white\",\"gridwidth\":2},\"zaxis\":{\"backgroundcolor\":\"#E5ECF6\",\"gridcolor\":\"white\",\"linecolor\":\"white\",\"showbackground\":true,\"ticks\":\"\",\"zerolinecolor\":\"white\",\"gridwidth\":2}},\"shapedefaults\":{\"line\":{\"color\":\"#2a3f5f\"}},\"annotationdefaults\":{\"arrowcolor\":\"#2a3f5f\",\"arrowhead\":0,\"arrowwidth\":1},\"geo\":{\"bgcolor\":\"white\",\"landcolor\":\"#E5ECF6\",\"subunitcolor\":\"white\",\"showland\":true,\"showlakes\":true,\"lakecolor\":\"white\"},\"title\":{\"x\":0.05},\"mapbox\":{\"style\":\"light\"}}},\"legend\":{\"tracegroupgap\":0},\"title\":{\"text\":\"Pie Chart of Decisions Taken after win a toss\"}},                        {\"responsive\": true}                    ).then(function(){\n",
       "                            \n",
       "var gd = document.getElementById('535d70ad-af1c-4f19-8bad-b5b147254b6e');\n",
       "var x = new MutationObserver(function (mutations, observer) {{\n",
       "        var display = window.getComputedStyle(gd).display;\n",
       "        if (!display || display === 'none') {{\n",
       "            console.log([gd, 'removed!']);\n",
       "            Plotly.purge(gd);\n",
       "            observer.disconnect();\n",
       "        }}\n",
       "}});\n",
       "\n",
       "// Listen for the removal of the full notebook cells\n",
       "var notebookContainer = gd.closest('#notebook-container');\n",
       "if (notebookContainer) {{\n",
       "    x.observe(notebookContainer, {childList: true});\n",
       "}}\n",
       "\n",
       "// Listen for the clearing of the current output cell\n",
       "var outputEl = gd.closest('.output');\n",
       "if (outputEl) {{\n",
       "    x.observe(outputEl, {childList: true});\n",
       "}}\n",
       "\n",
       "                        })                };                });            </script>        </div>"
      ]
     },
     "metadata": {},
     "output_type": "display_data"
    },
    {
     "data": {
      "application/vnd.plotly.v1+json": {
       "config": {
        "plotlyServerURL": "https://plot.ly"
       },
       "data": [
        {
         "domain": {
          "x": [
           0,
           1
          ],
          "y": [
           0,
           1
          ]
         },
         "hovertemplate": "label=%{label}<br>value=%{value}<extra></extra>",
         "labels": [
          "MI",
          "CSK",
          "KKR",
          "RCB",
          "SRH",
          "RR",
          "DC",
          "KXIP",
          "GT",
          "PBKS",
          "LSG",
          "RPS",
          "PWI",
          "GL",
          "Kochi"
         ],
         "legendgroup": "",
         "name": "",
         "showlegend": true,
         "type": "pie",
         "values": [
          125,
          110,
          105,
          102,
          93,
          92,
          92,
          82,
          20,
          19,
          16,
          14,
          12,
          11,
          6
         ]
        }
       ],
       "layout": {
        "autosize": true,
        "legend": {
         "tracegroupgap": 0
        },
        "template": {
         "data": {
          "bar": [
           {
            "error_x": {
             "color": "#2a3f5f"
            },
            "error_y": {
             "color": "#2a3f5f"
            },
            "marker": {
             "line": {
              "color": "#E5ECF6",
              "width": 0.5
             },
             "pattern": {
              "fillmode": "overlay",
              "size": 10,
              "solidity": 0.2
             }
            },
            "type": "bar"
           }
          ],
          "barpolar": [
           {
            "marker": {
             "line": {
              "color": "#E5ECF6",
              "width": 0.5
             },
             "pattern": {
              "fillmode": "overlay",
              "size": 10,
              "solidity": 0.2
             }
            },
            "type": "barpolar"
           }
          ],
          "carpet": [
           {
            "aaxis": {
             "endlinecolor": "#2a3f5f",
             "gridcolor": "white",
             "linecolor": "white",
             "minorgridcolor": "white",
             "startlinecolor": "#2a3f5f"
            },
            "baxis": {
             "endlinecolor": "#2a3f5f",
             "gridcolor": "white",
             "linecolor": "white",
             "minorgridcolor": "white",
             "startlinecolor": "#2a3f5f"
            },
            "type": "carpet"
           }
          ],
          "choropleth": [
           {
            "colorbar": {
             "outlinewidth": 0,
             "ticks": ""
            },
            "type": "choropleth"
           }
          ],
          "contour": [
           {
            "colorbar": {
             "outlinewidth": 0,
             "ticks": ""
            },
            "colorscale": [
             [
              0,
              "#0d0887"
             ],
             [
              0.1111111111111111,
              "#46039f"
             ],
             [
              0.2222222222222222,
              "#7201a8"
             ],
             [
              0.3333333333333333,
              "#9c179e"
             ],
             [
              0.4444444444444444,
              "#bd3786"
             ],
             [
              0.5555555555555556,
              "#d8576b"
             ],
             [
              0.6666666666666666,
              "#ed7953"
             ],
             [
              0.7777777777777778,
              "#fb9f3a"
             ],
             [
              0.8888888888888888,
              "#fdca26"
             ],
             [
              1,
              "#f0f921"
             ]
            ],
            "type": "contour"
           }
          ],
          "contourcarpet": [
           {
            "colorbar": {
             "outlinewidth": 0,
             "ticks": ""
            },
            "type": "contourcarpet"
           }
          ],
          "heatmap": [
           {
            "colorbar": {
             "outlinewidth": 0,
             "ticks": ""
            },
            "colorscale": [
             [
              0,
              "#0d0887"
             ],
             [
              0.1111111111111111,
              "#46039f"
             ],
             [
              0.2222222222222222,
              "#7201a8"
             ],
             [
              0.3333333333333333,
              "#9c179e"
             ],
             [
              0.4444444444444444,
              "#bd3786"
             ],
             [
              0.5555555555555556,
              "#d8576b"
             ],
             [
              0.6666666666666666,
              "#ed7953"
             ],
             [
              0.7777777777777778,
              "#fb9f3a"
             ],
             [
              0.8888888888888888,
              "#fdca26"
             ],
             [
              1,
              "#f0f921"
             ]
            ],
            "type": "heatmap"
           }
          ],
          "heatmapgl": [
           {
            "colorbar": {
             "outlinewidth": 0,
             "ticks": ""
            },
            "colorscale": [
             [
              0,
              "#0d0887"
             ],
             [
              0.1111111111111111,
              "#46039f"
             ],
             [
              0.2222222222222222,
              "#7201a8"
             ],
             [
              0.3333333333333333,
              "#9c179e"
             ],
             [
              0.4444444444444444,
              "#bd3786"
             ],
             [
              0.5555555555555556,
              "#d8576b"
             ],
             [
              0.6666666666666666,
              "#ed7953"
             ],
             [
              0.7777777777777778,
              "#fb9f3a"
             ],
             [
              0.8888888888888888,
              "#fdca26"
             ],
             [
              1,
              "#f0f921"
             ]
            ],
            "type": "heatmapgl"
           }
          ],
          "histogram": [
           {
            "marker": {
             "pattern": {
              "fillmode": "overlay",
              "size": 10,
              "solidity": 0.2
             }
            },
            "type": "histogram"
           }
          ],
          "histogram2d": [
           {
            "colorbar": {
             "outlinewidth": 0,
             "ticks": ""
            },
            "colorscale": [
             [
              0,
              "#0d0887"
             ],
             [
              0.1111111111111111,
              "#46039f"
             ],
             [
              0.2222222222222222,
              "#7201a8"
             ],
             [
              0.3333333333333333,
              "#9c179e"
             ],
             [
              0.4444444444444444,
              "#bd3786"
             ],
             [
              0.5555555555555556,
              "#d8576b"
             ],
             [
              0.6666666666666666,
              "#ed7953"
             ],
             [
              0.7777777777777778,
              "#fb9f3a"
             ],
             [
              0.8888888888888888,
              "#fdca26"
             ],
             [
              1,
              "#f0f921"
             ]
            ],
            "type": "histogram2d"
           }
          ],
          "histogram2dcontour": [
           {
            "colorbar": {
             "outlinewidth": 0,
             "ticks": ""
            },
            "colorscale": [
             [
              0,
              "#0d0887"
             ],
             [
              0.1111111111111111,
              "#46039f"
             ],
             [
              0.2222222222222222,
              "#7201a8"
             ],
             [
              0.3333333333333333,
              "#9c179e"
             ],
             [
              0.4444444444444444,
              "#bd3786"
             ],
             [
              0.5555555555555556,
              "#d8576b"
             ],
             [
              0.6666666666666666,
              "#ed7953"
             ],
             [
              0.7777777777777778,
              "#fb9f3a"
             ],
             [
              0.8888888888888888,
              "#fdca26"
             ],
             [
              1,
              "#f0f921"
             ]
            ],
            "type": "histogram2dcontour"
           }
          ],
          "mesh3d": [
           {
            "colorbar": {
             "outlinewidth": 0,
             "ticks": ""
            },
            "type": "mesh3d"
           }
          ],
          "parcoords": [
           {
            "line": {
             "colorbar": {
              "outlinewidth": 0,
              "ticks": ""
             }
            },
            "type": "parcoords"
           }
          ],
          "pie": [
           {
            "automargin": true,
            "type": "pie"
           }
          ],
          "scatter": [
           {
            "fillpattern": {
             "fillmode": "overlay",
             "size": 10,
             "solidity": 0.2
            },
            "type": "scatter"
           }
          ],
          "scatter3d": [
           {
            "line": {
             "colorbar": {
              "outlinewidth": 0,
              "ticks": ""
             }
            },
            "marker": {
             "colorbar": {
              "outlinewidth": 0,
              "ticks": ""
             }
            },
            "type": "scatter3d"
           }
          ],
          "scattercarpet": [
           {
            "marker": {
             "colorbar": {
              "outlinewidth": 0,
              "ticks": ""
             }
            },
            "type": "scattercarpet"
           }
          ],
          "scattergeo": [
           {
            "marker": {
             "colorbar": {
              "outlinewidth": 0,
              "ticks": ""
             }
            },
            "type": "scattergeo"
           }
          ],
          "scattergl": [
           {
            "marker": {
             "colorbar": {
              "outlinewidth": 0,
              "ticks": ""
             }
            },
            "type": "scattergl"
           }
          ],
          "scattermapbox": [
           {
            "marker": {
             "colorbar": {
              "outlinewidth": 0,
              "ticks": ""
             }
            },
            "type": "scattermapbox"
           }
          ],
          "scatterpolar": [
           {
            "marker": {
             "colorbar": {
              "outlinewidth": 0,
              "ticks": ""
             }
            },
            "type": "scatterpolar"
           }
          ],
          "scatterpolargl": [
           {
            "marker": {
             "colorbar": {
              "outlinewidth": 0,
              "ticks": ""
             }
            },
            "type": "scatterpolargl"
           }
          ],
          "scatterternary": [
           {
            "marker": {
             "colorbar": {
              "outlinewidth": 0,
              "ticks": ""
             }
            },
            "type": "scatterternary"
           }
          ],
          "surface": [
           {
            "colorbar": {
             "outlinewidth": 0,
             "ticks": ""
            },
            "colorscale": [
             [
              0,
              "#0d0887"
             ],
             [
              0.1111111111111111,
              "#46039f"
             ],
             [
              0.2222222222222222,
              "#7201a8"
             ],
             [
              0.3333333333333333,
              "#9c179e"
             ],
             [
              0.4444444444444444,
              "#bd3786"
             ],
             [
              0.5555555555555556,
              "#d8576b"
             ],
             [
              0.6666666666666666,
              "#ed7953"
             ],
             [
              0.7777777777777778,
              "#fb9f3a"
             ],
             [
              0.8888888888888888,
              "#fdca26"
             ],
             [
              1,
              "#f0f921"
             ]
            ],
            "type": "surface"
           }
          ],
          "table": [
           {
            "cells": {
             "fill": {
              "color": "#EBF0F8"
             },
             "line": {
              "color": "white"
             }
            },
            "header": {
             "fill": {
              "color": "#C8D4E3"
             },
             "line": {
              "color": "white"
             }
            },
            "type": "table"
           }
          ]
         },
         "layout": {
          "annotationdefaults": {
           "arrowcolor": "#2a3f5f",
           "arrowhead": 0,
           "arrowwidth": 1
          },
          "autotypenumbers": "strict",
          "coloraxis": {
           "colorbar": {
            "outlinewidth": 0,
            "ticks": ""
           }
          },
          "colorscale": {
           "diverging": [
            [
             0,
             "#8e0152"
            ],
            [
             0.1,
             "#c51b7d"
            ],
            [
             0.2,
             "#de77ae"
            ],
            [
             0.3,
             "#f1b6da"
            ],
            [
             0.4,
             "#fde0ef"
            ],
            [
             0.5,
             "#f7f7f7"
            ],
            [
             0.6,
             "#e6f5d0"
            ],
            [
             0.7,
             "#b8e186"
            ],
            [
             0.8,
             "#7fbc41"
            ],
            [
             0.9,
             "#4d9221"
            ],
            [
             1,
             "#276419"
            ]
           ],
           "sequential": [
            [
             0,
             "#0d0887"
            ],
            [
             0.1111111111111111,
             "#46039f"
            ],
            [
             0.2222222222222222,
             "#7201a8"
            ],
            [
             0.3333333333333333,
             "#9c179e"
            ],
            [
             0.4444444444444444,
             "#bd3786"
            ],
            [
             0.5555555555555556,
             "#d8576b"
            ],
            [
             0.6666666666666666,
             "#ed7953"
            ],
            [
             0.7777777777777778,
             "#fb9f3a"
            ],
            [
             0.8888888888888888,
             "#fdca26"
            ],
            [
             1,
             "#f0f921"
            ]
           ],
           "sequentialminus": [
            [
             0,
             "#0d0887"
            ],
            [
             0.1111111111111111,
             "#46039f"
            ],
            [
             0.2222222222222222,
             "#7201a8"
            ],
            [
             0.3333333333333333,
             "#9c179e"
            ],
            [
             0.4444444444444444,
             "#bd3786"
            ],
            [
             0.5555555555555556,
             "#d8576b"
            ],
            [
             0.6666666666666666,
             "#ed7953"
            ],
            [
             0.7777777777777778,
             "#fb9f3a"
            ],
            [
             0.8888888888888888,
             "#fdca26"
            ],
            [
             1,
             "#f0f921"
            ]
           ]
          },
          "colorway": [
           "#636efa",
           "#EF553B",
           "#00cc96",
           "#ab63fa",
           "#FFA15A",
           "#19d3f3",
           "#FF6692",
           "#B6E880",
           "#FF97FF",
           "#FECB52"
          ],
          "font": {
           "color": "#2a3f5f"
          },
          "geo": {
           "bgcolor": "white",
           "lakecolor": "white",
           "landcolor": "#E5ECF6",
           "showlakes": true,
           "showland": true,
           "subunitcolor": "white"
          },
          "hoverlabel": {
           "align": "left"
          },
          "hovermode": "closest",
          "mapbox": {
           "style": "light"
          },
          "paper_bgcolor": "white",
          "plot_bgcolor": "#E5ECF6",
          "polar": {
           "angularaxis": {
            "gridcolor": "white",
            "linecolor": "white",
            "ticks": ""
           },
           "bgcolor": "#E5ECF6",
           "radialaxis": {
            "gridcolor": "white",
            "linecolor": "white",
            "ticks": ""
           }
          },
          "scene": {
           "xaxis": {
            "backgroundcolor": "#E5ECF6",
            "gridcolor": "white",
            "gridwidth": 2,
            "linecolor": "white",
            "showbackground": true,
            "ticks": "",
            "zerolinecolor": "white"
           },
           "yaxis": {
            "backgroundcolor": "#E5ECF6",
            "gridcolor": "white",
            "gridwidth": 2,
            "linecolor": "white",
            "showbackground": true,
            "ticks": "",
            "zerolinecolor": "white"
           },
           "zaxis": {
            "backgroundcolor": "#E5ECF6",
            "gridcolor": "white",
            "gridwidth": 2,
            "linecolor": "white",
            "showbackground": true,
            "ticks": "",
            "zerolinecolor": "white"
           }
          },
          "shapedefaults": {
           "line": {
            "color": "#2a3f5f"
           }
          },
          "ternary": {
           "aaxis": {
            "gridcolor": "white",
            "linecolor": "white",
            "ticks": ""
           },
           "baxis": {
            "gridcolor": "white",
            "linecolor": "white",
            "ticks": ""
           },
           "bgcolor": "#E5ECF6",
           "caxis": {
            "gridcolor": "white",
            "linecolor": "white",
            "ticks": ""
           }
          },
          "title": {
           "x": 0.05
          },
          "xaxis": {
           "automargin": true,
           "gridcolor": "white",
           "linecolor": "white",
           "ticks": "",
           "title": {
            "standoff": 15
           },
           "zerolinecolor": "white",
           "zerolinewidth": 2
          },
          "yaxis": {
           "automargin": true,
           "gridcolor": "white",
           "linecolor": "white",
           "ticks": "",
           "title": {
            "standoff": 15
           },
           "zerolinecolor": "white",
           "zerolinewidth": 2
          }
         }
        },
        "title": {
         "text": "Pie Chart of How many times a team won matches?"
        }
       }
      },
      "image/png": "[encoded data removed]",
      "text/html": [
       "<div>                            <div id=\"5bef154a-540b-47b4-b98b-19a91176e3ee\" class=\"plotly-graph-div\" style=\"height:525px; width:100%;\"></div>            <script type=\"text/javascript\">                require([\"plotly\"], function(Plotly) {                    window.PLOTLYENV=window.PLOTLYENV || {};                                    if (document.getElementById(\"5bef154a-540b-47b4-b98b-19a91176e3ee\")) {                    Plotly.newPlot(                        \"5bef154a-540b-47b4-b98b-19a91176e3ee\",                        [{\"domain\":{\"x\":[0.0,1.0],\"y\":[0.0,1.0]},\"hovertemplate\":\"label=%{label}\\u003cbr\\u003evalue=%{value}\\u003cextra\\u003e\\u003c\\u002fextra\\u003e\",\"labels\":[\"MI\",\"CSK\",\"KKR\",\"RCB\",\"SRH\",\"RR\",\"DC\",\"KXIP\",\"GT\",\"PBKS\",\"LSG\",\"RPS\",\"PWI\",\"GL\",\"Kochi\"],\"legendgroup\":\"\",\"name\":\"\",\"showlegend\":true,\"values\":[125,110,105,102,93,92,92,82,20,19,16,14,12,11,6],\"type\":\"pie\"}],                        {\"template\":{\"data\":{\"histogram2dcontour\":[{\"type\":\"histogram2dcontour\",\"colorbar\":{\"outlinewidth\":0,\"ticks\":\"\"},\"colorscale\":[[0.0,\"#0d0887\"],[0.1111111111111111,\"#46039f\"],[0.2222222222222222,\"#7201a8\"],[0.3333333333333333,\"#9c179e\"],[0.4444444444444444,\"#bd3786\"],[0.5555555555555556,\"#d8576b\"],[0.6666666666666666,\"#ed7953\"],[0.7777777777777778,\"#fb9f3a\"],[0.8888888888888888,\"#fdca26\"],[1.0,\"#f0f921\"]]}],\"choropleth\":[{\"type\":\"choropleth\",\"colorbar\":{\"outlinewidth\":0,\"ticks\":\"\"}}],\"histogram2d\":[{\"type\":\"histogram2d\",\"colorbar\":{\"outlinewidth\":0,\"ticks\":\"\"},\"colorscale\":[[0.0,\"#0d0887\"],[0.1111111111111111,\"#46039f\"],[0.2222222222222222,\"#7201a8\"],[0.3333333333333333,\"#9c179e\"],[0.4444444444444444,\"#bd3786\"],[0.5555555555555556,\"#d8576b\"],[0.6666666666666666,\"#ed7953\"],[0.7777777777777778,\"#fb9f3a\"],[0.8888888888888888,\"#fdca26\"],[1.0,\"#f0f921\"]]}],\"heatmap\":[{\"type\":\"heatmap\",\"colorbar\":{\"outlinewidth\":0,\"ticks\":\"\"},\"colorscale\":[[0.0,\"#0d0887\"],[0.1111111111111111,\"#46039f\"],[0.2222222222222222,\"#7201a8\"],[0.3333333333333333,\"#9c179e\"],[0.4444444444444444,\"#bd3786\"],[0.5555555555555556,\"#d8576b\"],[0.6666666666666666,\"#ed7953\"],[0.7777777777777778,\"#fb9f3a\"],[0.8888888888888888,\"#fdca26\"],[1.0,\"#f0f921\"]]}],\"heatmapgl\":[{\"type\":\"heatmapgl\",\"colorbar\":{\"outlinewidth\":0,\"ticks\":\"\"},\"colorscale\":[[0.0,\"#0d0887\"],[0.1111111111111111,\"#46039f\"],[0.2222222222222222,\"#7201a8\"],[0.3333333333333333,\"#9c179e\"],[0.4444444444444444,\"#bd3786\"],[0.5555555555555556,\"#d8576b\"],[0.6666666666666666,\"#ed7953\"],[0.7777777777777778,\"#fb9f3a\"],[0.8888888888888888,\"#fdca26\"],[1.0,\"#f0f921\"]]}],\"contourcarpet\":[{\"type\":\"contourcarpet\",\"colorbar\":{\"outlinewidth\":0,\"ticks\":\"\"}}],\"contour\":[{\"type\":\"contour\",\"colorbar\":{\"outlinewidth\":0,\"ticks\":\"\"},\"colorscale\":[[0.0,\"#0d0887\"],[0.1111111111111111,\"#46039f\"],[0.2222222222222222,\"#7201a8\"],[0.3333333333333333,\"#9c179e\"],[0.4444444444444444,\"#bd3786\"],[0.5555555555555556,\"#d8576b\"],[0.6666666666666666,\"#ed7953\"],[0.7777777777777778,\"#fb9f3a\"],[0.8888888888888888,\"#fdca26\"],[1.0,\"#f0f921\"]]}],\"surface\":[{\"type\":\"surface\",\"colorbar\":{\"outlinewidth\":0,\"ticks\":\"\"},\"colorscale\":[[0.0,\"#0d0887\"],[0.1111111111111111,\"#46039f\"],[0.2222222222222222,\"#7201a8\"],[0.3333333333333333,\"#9c179e\"],[0.4444444444444444,\"#bd3786\"],[0.5555555555555556,\"#d8576b\"],[0.6666666666666666,\"#ed7953\"],[0.7777777777777778,\"#fb9f3a\"],[0.8888888888888888,\"#fdca26\"],[1.0,\"#f0f921\"]]}],\"mesh3d\":[{\"type\":\"mesh3d\",\"colorbar\":{\"outlinewidth\":0,\"ticks\":\"\"}}],\"scatter\":[{\"fillpattern\":{\"fillmode\":\"overlay\",\"size\":10,\"solidity\":0.2},\"type\":\"scatter\"}],\"parcoords\":[{\"type\":\"parcoords\",\"line\":{\"colorbar\":{\"outlinewidth\":0,\"ticks\":\"\"}}}],\"scatterpolargl\":[{\"type\":\"scatterpolargl\",\"marker\":{\"colorbar\":{\"outlinewidth\":0,\"ticks\":\"\"}}}],\"bar\":[{\"error_x\":{\"color\":\"#2a3f5f\"},\"error_y\":{\"color\":\"#2a3f5f\"},\"marker\":{\"line\":{\"color\":\"#E5ECF6\",\"width\":0.5},\"pattern\":{\"fillmode\":\"overlay\",\"size\":10,\"solidity\":0.2}},\"type\":\"bar\"}],\"scattergeo\":[{\"type\":\"scattergeo\",\"marker\":{\"colorbar\":{\"outlinewidth\":0,\"ticks\":\"\"}}}],\"scatterpolar\":[{\"type\":\"scatterpolar\",\"marker\":{\"colorbar\":{\"outlinewidth\":0,\"ticks\":\"\"}}}],\"histogram\":[{\"marker\":{\"pattern\":{\"fillmode\":\"overlay\",\"size\":10,\"solidity\":0.2}},\"type\":\"histogram\"}],\"scattergl\":[{\"type\":\"scattergl\",\"marker\":{\"colorbar\":{\"outlinewidth\":0,\"ticks\":\"\"}}}],\"scatter3d\":[{\"type\":\"scatter3d\",\"line\":{\"colorbar\":{\"outlinewidth\":0,\"ticks\":\"\"}},\"marker\":{\"colorbar\":{\"outlinewidth\":0,\"ticks\":\"\"}}}],\"scattermapbox\":[{\"type\":\"scattermapbox\",\"marker\":{\"colorbar\":{\"outlinewidth\":0,\"ticks\":\"\"}}}],\"scatterternary\":[{\"type\":\"scatterternary\",\"marker\":{\"colorbar\":{\"outlinewidth\":0,\"ticks\":\"\"}}}],\"scattercarpet\":[{\"type\":\"scattercarpet\",\"marker\":{\"colorbar\":{\"outlinewidth\":0,\"ticks\":\"\"}}}],\"carpet\":[{\"aaxis\":{\"endlinecolor\":\"#2a3f5f\",\"gridcolor\":\"white\",\"linecolor\":\"white\",\"minorgridcolor\":\"white\",\"startlinecolor\":\"#2a3f5f\"},\"baxis\":{\"endlinecolor\":\"#2a3f5f\",\"gridcolor\":\"white\",\"linecolor\":\"white\",\"minorgridcolor\":\"white\",\"startlinecolor\":\"#2a3f5f\"},\"type\":\"carpet\"}],\"table\":[{\"cells\":{\"fill\":{\"color\":\"#EBF0F8\"},\"line\":{\"color\":\"white\"}},\"header\":{\"fill\":{\"color\":\"#C8D4E3\"},\"line\":{\"color\":\"white\"}},\"type\":\"table\"}],\"barpolar\":[{\"marker\":{\"line\":{\"color\":\"#E5ECF6\",\"width\":0.5},\"pattern\":{\"fillmode\":\"overlay\",\"size\":10,\"solidity\":0.2}},\"type\":\"barpolar\"}],\"pie\":[{\"automargin\":true,\"type\":\"pie\"}]},\"layout\":{\"autotypenumbers\":\"strict\",\"colorway\":[\"#636efa\",\"#EF553B\",\"#00cc96\",\"#ab63fa\",\"#FFA15A\",\"#19d3f3\",\"#FF6692\",\"#B6E880\",\"#FF97FF\",\"#FECB52\"],\"font\":{\"color\":\"#2a3f5f\"},\"hovermode\":\"closest\",\"hoverlabel\":{\"align\":\"left\"},\"paper_bgcolor\":\"white\",\"plot_bgcolor\":\"#E5ECF6\",\"polar\":{\"bgcolor\":\"#E5ECF6\",\"angularaxis\":{\"gridcolor\":\"white\",\"linecolor\":\"white\",\"ticks\":\"\"},\"radialaxis\":{\"gridcolor\":\"white\",\"linecolor\":\"white\",\"ticks\":\"\"}},\"ternary\":{\"bgcolor\":\"#E5ECF6\",\"aaxis\":{\"gridcolor\":\"white\",\"linecolor\":\"white\",\"ticks\":\"\"},\"baxis\":{\"gridcolor\":\"white\",\"linecolor\":\"white\",\"ticks\":\"\"},\"caxis\":{\"gridcolor\":\"white\",\"linecolor\":\"white\",\"ticks\":\"\"}},\"coloraxis\":{\"colorbar\":{\"outlinewidth\":0,\"ticks\":\"\"}},\"colorscale\":{\"sequential\":[[0.0,\"#0d0887\"],[0.1111111111111111,\"#46039f\"],[0.2222222222222222,\"#7201a8\"],[0.3333333333333333,\"#9c179e\"],[0.4444444444444444,\"#bd3786\"],[0.5555555555555556,\"#d8576b\"],[0.6666666666666666,\"#ed7953\"],[0.7777777777777778,\"#fb9f3a\"],[0.8888888888888888,\"#fdca26\"],[1.0,\"#f0f921\"]],\"sequentialminus\":[[0.0,\"#0d0887\"],[0.1111111111111111,\"#46039f\"],[0.2222222222222222,\"#7201a8\"],[0.3333333333333333,\"#9c179e\"],[0.4444444444444444,\"#bd3786\"],[0.5555555555555556,\"#d8576b\"],[0.6666666666666666,\"#ed7953\"],[0.7777777777777778,\"#fb9f3a\"],[0.8888888888888888,\"#fdca26\"],[1.0,\"#f0f921\"]],\"diverging\":[[0,\"#8e0152\"],[0.1,\"#c51b7d\"],[0.2,\"#de77ae\"],[0.3,\"#f1b6da\"],[0.4,\"#fde0ef\"],[0.5,\"#f7f7f7\"],[0.6,\"#e6f5d0\"],[0.7,\"#b8e186\"],[0.8,\"#7fbc41\"],[0.9,\"#4d9221\"],[1,\"#276419\"]]},\"xaxis\":{\"gridcolor\":\"white\",\"linecolor\":\"white\",\"ticks\":\"\",\"title\":{\"standoff\":15},\"zerolinecolor\":\"white\",\"automargin\":true,\"zerolinewidth\":2},\"yaxis\":{\"gridcolor\":\"white\",\"linecolor\":\"white\",\"ticks\":\"\",\"title\":{\"standoff\":15},\"zerolinecolor\":\"white\",\"automargin\":true,\"zerolinewidth\":2},\"scene\":{\"xaxis\":{\"backgroundcolor\":\"#E5ECF6\",\"gridcolor\":\"white\",\"linecolor\":\"white\",\"showbackground\":true,\"ticks\":\"\",\"zerolinecolor\":\"white\",\"gridwidth\":2},\"yaxis\":{\"backgroundcolor\":\"#E5ECF6\",\"gridcolor\":\"white\",\"linecolor\":\"white\",\"showbackground\":true,\"ticks\":\"\",\"zerolinecolor\":\"white\",\"gridwidth\":2},\"zaxis\":{\"backgroundcolor\":\"#E5ECF6\",\"gridcolor\":\"white\",\"linecolor\":\"white\",\"showbackground\":true,\"ticks\":\"\",\"zerolinecolor\":\"white\",\"gridwidth\":2}},\"shapedefaults\":{\"line\":{\"color\":\"#2a3f5f\"}},\"annotationdefaults\":{\"arrowcolor\":\"#2a3f5f\",\"arrowhead\":0,\"arrowwidth\":1},\"geo\":{\"bgcolor\":\"white\",\"landcolor\":\"#E5ECF6\",\"subunitcolor\":\"white\",\"showland\":true,\"showlakes\":true,\"lakecolor\":\"white\"},\"title\":{\"x\":0.05},\"mapbox\":{\"style\":\"light\"}}},\"legend\":{\"tracegroupgap\":0},\"title\":{\"text\":\"Pie Chart of How many times a team won matches?\"}},                        {\"responsive\": true}                    ).then(function(){\n",
       "                            \n",
       "var gd = document.getElementById('5bef154a-540b-47b4-b98b-19a91176e3ee');\n",
       "var x = new MutationObserver(function (mutations, observer) {{\n",
       "        var display = window.getComputedStyle(gd).display;\n",
       "        if (!display || display === 'none') {{\n",
       "            console.log([gd, 'removed!']);\n",
       "            Plotly.purge(gd);\n",
       "            observer.disconnect();\n",
       "        }}\n",
       "}});\n",
       "\n",
       "// Listen for the removal of the full notebook cells\n",
       "var notebookContainer = gd.closest('#notebook-container');\n",
       "if (notebookContainer) {{\n",
       "    x.observe(notebookContainer, {childList: true});\n",
       "}}\n",
       "\n",
       "// Listen for the clearing of the current output cell\n",
       "var outputEl = gd.closest('.output');\n",
       "if (outputEl) {{\n",
       "    x.observe(outputEl, {childList: true});\n",
       "}}\n",
       "\n",
       "                        })                };                });            </script>        </div>"
      ]
     },
     "metadata": {},
     "output_type": "display_data"
    },
    {
     "data": {
      "application/vnd.plotly.v1+json": {
       "config": {
        "plotlyServerURL": "https://plot.ly"
       },
       "data": [
        {
         "domain": {
          "x": [
           0,
           1
          ],
          "y": [
           0,
           1
          ]
         },
         "hovertemplate": "label=%{label}<br>value=%{value}<extra></extra>",
         "labels": [
          false,
          true
         ],
         "legendgroup": "",
         "name": "",
         "showlegend": true,
         "type": "pie",
         "values": [
          887,
          12
         ]
        }
       ],
       "layout": {
        "autosize": true,
        "legend": {
         "tracegroupgap": 0
        },
        "template": {
         "data": {
          "bar": [
           {
            "error_x": {
             "color": "#2a3f5f"
            },
            "error_y": {
             "color": "#2a3f5f"
            },
            "marker": {
             "line": {
              "color": "#E5ECF6",
              "width": 0.5
             },
             "pattern": {
              "fillmode": "overlay",
              "size": 10,
              "solidity": 0.2
             }
            },
            "type": "bar"
           }
          ],
          "barpolar": [
           {
            "marker": {
             "line": {
              "color": "#E5ECF6",
              "width": 0.5
             },
             "pattern": {
              "fillmode": "overlay",
              "size": 10,
              "solidity": 0.2
             }
            },
            "type": "barpolar"
           }
          ],
          "carpet": [
           {
            "aaxis": {
             "endlinecolor": "#2a3f5f",
             "gridcolor": "white",
             "linecolor": "white",
             "minorgridcolor": "white",
             "startlinecolor": "#2a3f5f"
            },
            "baxis": {
             "endlinecolor": "#2a3f5f",
             "gridcolor": "white",
             "linecolor": "white",
             "minorgridcolor": "white",
             "startlinecolor": "#2a3f5f"
            },
            "type": "carpet"
           }
          ],
          "choropleth": [
           {
            "colorbar": {
             "outlinewidth": 0,
             "ticks": ""
            },
            "type": "choropleth"
           }
          ],
          "contour": [
           {
            "colorbar": {
             "outlinewidth": 0,
             "ticks": ""
            },
            "colorscale": [
             [
              0,
              "#0d0887"
             ],
             [
              0.1111111111111111,
              "#46039f"
             ],
             [
              0.2222222222222222,
              "#7201a8"
             ],
             [
              0.3333333333333333,
              "#9c179e"
             ],
             [
              0.4444444444444444,
              "#bd3786"
             ],
             [
              0.5555555555555556,
              "#d8576b"
             ],
             [
              0.6666666666666666,
              "#ed7953"
             ],
             [
              0.7777777777777778,
              "#fb9f3a"
             ],
             [
              0.8888888888888888,
              "#fdca26"
             ],
             [
              1,
              "#f0f921"
             ]
            ],
            "type": "contour"
           }
          ],
          "contourcarpet": [
           {
            "colorbar": {
             "outlinewidth": 0,
             "ticks": ""
            },
            "type": "contourcarpet"
           }
          ],
          "heatmap": [
           {
            "colorbar": {
             "outlinewidth": 0,
             "ticks": ""
            },
            "colorscale": [
             [
              0,
              "#0d0887"
             ],
             [
              0.1111111111111111,
              "#46039f"
             ],
             [
              0.2222222222222222,
              "#7201a8"
             ],
             [
              0.3333333333333333,
              "#9c179e"
             ],
             [
              0.4444444444444444,
              "#bd3786"
             ],
             [
              0.5555555555555556,
              "#d8576b"
             ],
             [
              0.6666666666666666,
              "#ed7953"
             ],
             [
              0.7777777777777778,
              "#fb9f3a"
             ],
             [
              0.8888888888888888,
              "#fdca26"
             ],
             [
              1,
              "#f0f921"
             ]
            ],
            "type": "heatmap"
           }
          ],
          "heatmapgl": [
           {
            "colorbar": {
             "outlinewidth": 0,
             "ticks": ""
            },
            "colorscale": [
             [
              0,
              "#0d0887"
             ],
             [
              0.1111111111111111,
              "#46039f"
             ],
             [
              0.2222222222222222,
              "#7201a8"
             ],
             [
              0.3333333333333333,
              "#9c179e"
             ],
             [
              0.4444444444444444,
              "#bd3786"
             ],
             [
              0.5555555555555556,
              "#d8576b"
             ],
             [
              0.6666666666666666,
              "#ed7953"
             ],
             [
              0.7777777777777778,
              "#fb9f3a"
             ],
             [
              0.8888888888888888,
              "#fdca26"
             ],
             [
              1,
              "#f0f921"
             ]
            ],
            "type": "heatmapgl"
           }
          ],
          "histogram": [
           {
            "marker": {
             "pattern": {
              "fillmode": "overlay",
              "size": 10,
              "solidity": 0.2
             }
            },
            "type": "histogram"
           }
          ],
          "histogram2d": [
           {
            "colorbar": {
             "outlinewidth": 0,
             "ticks": ""
            },
            "colorscale": [
             [
              0,
              "#0d0887"
             ],
             [
              0.1111111111111111,
              "#46039f"
             ],
             [
              0.2222222222222222,
              "#7201a8"
             ],
             [
              0.3333333333333333,
              "#9c179e"
             ],
             [
              0.4444444444444444,
              "#bd3786"
             ],
             [
              0.5555555555555556,
              "#d8576b"
             ],
             [
              0.6666666666666666,
              "#ed7953"
             ],
             [
              0.7777777777777778,
              "#fb9f3a"
             ],
             [
              0.8888888888888888,
              "#fdca26"
             ],
             [
              1,
              "#f0f921"
             ]
            ],
            "type": "histogram2d"
           }
          ],
          "histogram2dcontour": [
           {
            "colorbar": {
             "outlinewidth": 0,
             "ticks": ""
            },
            "colorscale": [
             [
              0,
              "#0d0887"
             ],
             [
              0.1111111111111111,
              "#46039f"
             ],
             [
              0.2222222222222222,
              "#7201a8"
             ],
             [
              0.3333333333333333,
              "#9c179e"
             ],
             [
              0.4444444444444444,
              "#bd3786"
             ],
             [
              0.5555555555555556,
              "#d8576b"
             ],
             [
              0.6666666666666666,
              "#ed7953"
             ],
             [
              0.7777777777777778,
              "#fb9f3a"
             ],
             [
              0.8888888888888888,
              "#fdca26"
             ],
             [
              1,
              "#f0f921"
             ]
            ],
            "type": "histogram2dcontour"
           }
          ],
          "mesh3d": [
           {
            "colorbar": {
             "outlinewidth": 0,
             "ticks": ""
            },
            "type": "mesh3d"
           }
          ],
          "parcoords": [
           {
            "line": {
             "colorbar": {
              "outlinewidth": 0,
              "ticks": ""
             }
            },
            "type": "parcoords"
           }
          ],
          "pie": [
           {
            "automargin": true,
            "type": "pie"
           }
          ],
          "scatter": [
           {
            "fillpattern": {
             "fillmode": "overlay",
             "size": 10,
             "solidity": 0.2
            },
            "type": "scatter"
           }
          ],
          "scatter3d": [
           {
            "line": {
             "colorbar": {
              "outlinewidth": 0,
              "ticks": ""
             }
            },
            "marker": {
             "colorbar": {
              "outlinewidth": 0,
              "ticks": ""
             }
            },
            "type": "scatter3d"
           }
          ],
          "scattercarpet": [
           {
            "marker": {
             "colorbar": {
              "outlinewidth": 0,
              "ticks": ""
             }
            },
            "type": "scattercarpet"
           }
          ],
          "scattergeo": [
           {
            "marker": {
             "colorbar": {
              "outlinewidth": 0,
              "ticks": ""
             }
            },
            "type": "scattergeo"
           }
          ],
          "scattergl": [
           {
            "marker": {
             "colorbar": {
              "outlinewidth": 0,
              "ticks": ""
             }
            },
            "type": "scattergl"
           }
          ],
          "scattermapbox": [
           {
            "marker": {
             "colorbar": {
              "outlinewidth": 0,
              "ticks": ""
             }
            },
            "type": "scattermapbox"
           }
          ],
          "scatterpolar": [
           {
            "marker": {
             "colorbar": {
              "outlinewidth": 0,
              "ticks": ""
             }
            },
            "type": "scatterpolar"
           }
          ],
          "scatterpolargl": [
           {
            "marker": {
             "colorbar": {
              "outlinewidth": 0,
              "ticks": ""
             }
            },
            "type": "scatterpolargl"
           }
          ],
          "scatterternary": [
           {
            "marker": {
             "colorbar": {
              "outlinewidth": 0,
              "ticks": ""
             }
            },
            "type": "scatterternary"
           }
          ],
          "surface": [
           {
            "colorbar": {
             "outlinewidth": 0,
             "ticks": ""
            },
            "colorscale": [
             [
              0,
              "#0d0887"
             ],
             [
              0.1111111111111111,
              "#46039f"
             ],
             [
              0.2222222222222222,
              "#7201a8"
             ],
             [
              0.3333333333333333,
              "#9c179e"
             ],
             [
              0.4444444444444444,
              "#bd3786"
             ],
             [
              0.5555555555555556,
              "#d8576b"
             ],
             [
              0.6666666666666666,
              "#ed7953"
             ],
             [
              0.7777777777777778,
              "#fb9f3a"
             ],
             [
              0.8888888888888888,
              "#fdca26"
             ],
             [
              1,
              "#f0f921"
             ]
            ],
            "type": "surface"
           }
          ],
          "table": [
           {
            "cells": {
             "fill": {
              "color": "#EBF0F8"
             },
             "line": {
              "color": "white"
             }
            },
            "header": {
             "fill": {
              "color": "#C8D4E3"
             },
             "line": {
              "color": "white"
             }
            },
            "type": "table"
           }
          ]
         },
         "layout": {
          "annotationdefaults": {
           "arrowcolor": "#2a3f5f",
           "arrowhead": 0,
           "arrowwidth": 1
          },
          "autotypenumbers": "strict",
          "coloraxis": {
           "colorbar": {
            "outlinewidth": 0,
            "ticks": ""
           }
          },
          "colorscale": {
           "diverging": [
            [
             0,
             "#8e0152"
            ],
            [
             0.1,
             "#c51b7d"
            ],
            [
             0.2,
             "#de77ae"
            ],
            [
             0.3,
             "#f1b6da"
            ],
            [
             0.4,
             "#fde0ef"
            ],
            [
             0.5,
             "#f7f7f7"
            ],
            [
             0.6,
             "#e6f5d0"
            ],
            [
             0.7,
             "#b8e186"
            ],
            [
             0.8,
             "#7fbc41"
            ],
            [
             0.9,
             "#4d9221"
            ],
            [
             1,
             "#276419"
            ]
           ],
           "sequential": [
            [
             0,
             "#0d0887"
            ],
            [
             0.1111111111111111,
             "#46039f"
            ],
            [
             0.2222222222222222,
             "#7201a8"
            ],
            [
             0.3333333333333333,
             "#9c179e"
            ],
            [
             0.4444444444444444,
             "#bd3786"
            ],
            [
             0.5555555555555556,
             "#d8576b"
            ],
            [
             0.6666666666666666,
             "#ed7953"
            ],
            [
             0.7777777777777778,
             "#fb9f3a"
            ],
            [
             0.8888888888888888,
             "#fdca26"
            ],
            [
             1,
             "#f0f921"
            ]
           ],
           "sequentialminus": [
            [
             0,
             "#0d0887"
            ],
            [
             0.1111111111111111,
             "#46039f"
            ],
            [
             0.2222222222222222,
             "#7201a8"
            ],
            [
             0.3333333333333333,
             "#9c179e"
            ],
            [
             0.4444444444444444,
             "#bd3786"
            ],
            [
             0.5555555555555556,
             "#d8576b"
            ],
            [
             0.6666666666666666,
             "#ed7953"
            ],
            [
             0.7777777777777778,
             "#fb9f3a"
            ],
            [
             0.8888888888888888,
             "#fdca26"
            ],
            [
             1,
             "#f0f921"
            ]
           ]
          },
          "colorway": [
           "#636efa",
           "#EF553B",
           "#00cc96",
           "#ab63fa",
           "#FFA15A",
           "#19d3f3",
           "#FF6692",
           "#B6E880",
           "#FF97FF",
           "#FECB52"
          ],
          "font": {
           "color": "#2a3f5f"
          },
          "geo": {
           "bgcolor": "white",
           "lakecolor": "white",
           "landcolor": "#E5ECF6",
           "showlakes": true,
           "showland": true,
           "subunitcolor": "white"
          },
          "hoverlabel": {
           "align": "left"
          },
          "hovermode": "closest",
          "mapbox": {
           "style": "light"
          },
          "paper_bgcolor": "white",
          "plot_bgcolor": "#E5ECF6",
          "polar": {
           "angularaxis": {
            "gridcolor": "white",
            "linecolor": "white",
            "ticks": ""
           },
           "bgcolor": "#E5ECF6",
           "radialaxis": {
            "gridcolor": "white",
            "linecolor": "white",
            "ticks": ""
           }
          },
          "scene": {
           "xaxis": {
            "backgroundcolor": "#E5ECF6",
            "gridcolor": "white",
            "gridwidth": 2,
            "linecolor": "white",
            "showbackground": true,
            "ticks": "",
            "zerolinecolor": "white"
           },
           "yaxis": {
            "backgroundcolor": "#E5ECF6",
            "gridcolor": "white",
            "gridwidth": 2,
            "linecolor": "white",
            "showbackground": true,
            "ticks": "",
            "zerolinecolor": "white"
           },
           "zaxis": {
            "backgroundcolor": "#E5ECF6",
            "gridcolor": "white",
            "gridwidth": 2,
            "linecolor": "white",
            "showbackground": true,
            "ticks": "",
            "zerolinecolor": "white"
           }
          },
          "shapedefaults": {
           "line": {
            "color": "#2a3f5f"
           }
          },
          "ternary": {
           "aaxis": {
            "gridcolor": "white",
            "linecolor": "white",
            "ticks": ""
           },
           "baxis": {
            "gridcolor": "white",
            "linecolor": "white",
            "ticks": ""
           },
           "bgcolor": "#E5ECF6",
           "caxis": {
            "gridcolor": "white",
            "linecolor": "white",
            "ticks": ""
           }
          },
          "title": {
           "x": 0.05
          },
          "xaxis": {
           "automargin": true,
           "gridcolor": "white",
           "linecolor": "white",
           "ticks": "",
           "title": {
            "standoff": 15
           },
           "zerolinecolor": "white",
           "zerolinewidth": 2
          },
          "yaxis": {
           "automargin": true,
           "gridcolor": "white",
           "linecolor": "white",
           "ticks": "",
           "title": {
            "standoff": 15
           },
           "zerolinecolor": "white",
           "zerolinewidth": 2
          }
         }
        },
        "title": {
         "text": "Pie Chart of Super Overs in IPL history"
        }
       }
      },
      "image/png": "[encoded data removed]",
      "text/html": [
       "<div>                            <div id=\"dfef9041-7ef4-410c-bf04-e957bcb8565e\" class=\"plotly-graph-div\" style=\"height:525px; width:100%;\"></div>            <script type=\"text/javascript\">                require([\"plotly\"], function(Plotly) {                    window.PLOTLYENV=window.PLOTLYENV || {};                                    if (document.getElementById(\"dfef9041-7ef4-410c-bf04-e957bcb8565e\")) {                    Plotly.newPlot(                        \"dfef9041-7ef4-410c-bf04-e957bcb8565e\",                        [{\"domain\":{\"x\":[0.0,1.0],\"y\":[0.0,1.0]},\"hovertemplate\":\"label=%{label}\\u003cbr\\u003evalue=%{value}\\u003cextra\\u003e\\u003c\\u002fextra\\u003e\",\"labels\":[false,true],\"legendgroup\":\"\",\"name\":\"\",\"showlegend\":true,\"values\":[887,12],\"type\":\"pie\"}],                        {\"template\":{\"data\":{\"histogram2dcontour\":[{\"type\":\"histogram2dcontour\",\"colorbar\":{\"outlinewidth\":0,\"ticks\":\"\"},\"colorscale\":[[0.0,\"#0d0887\"],[0.1111111111111111,\"#46039f\"],[0.2222222222222222,\"#7201a8\"],[0.3333333333333333,\"#9c179e\"],[0.4444444444444444,\"#bd3786\"],[0.5555555555555556,\"#d8576b\"],[0.6666666666666666,\"#ed7953\"],[0.7777777777777778,\"#fb9f3a\"],[0.8888888888888888,\"#fdca26\"],[1.0,\"#f0f921\"]]}],\"choropleth\":[{\"type\":\"choropleth\",\"colorbar\":{\"outlinewidth\":0,\"ticks\":\"\"}}],\"histogram2d\":[{\"type\":\"histogram2d\",\"colorbar\":{\"outlinewidth\":0,\"ticks\":\"\"},\"colorscale\":[[0.0,\"#0d0887\"],[0.1111111111111111,\"#46039f\"],[0.2222222222222222,\"#7201a8\"],[0.3333333333333333,\"#9c179e\"],[0.4444444444444444,\"#bd3786\"],[0.5555555555555556,\"#d8576b\"],[0.6666666666666666,\"#ed7953\"],[0.7777777777777778,\"#fb9f3a\"],[0.8888888888888888,\"#fdca26\"],[1.0,\"#f0f921\"]]}],\"heatmap\":[{\"type\":\"heatmap\",\"colorbar\":{\"outlinewidth\":0,\"ticks\":\"\"},\"colorscale\":[[0.0,\"#0d0887\"],[0.1111111111111111,\"#46039f\"],[0.2222222222222222,\"#7201a8\"],[0.3333333333333333,\"#9c179e\"],[0.4444444444444444,\"#bd3786\"],[0.5555555555555556,\"#d8576b\"],[0.6666666666666666,\"#ed7953\"],[0.7777777777777778,\"#fb9f3a\"],[0.8888888888888888,\"#fdca26\"],[1.0,\"#f0f921\"]]}],\"heatmapgl\":[{\"type\":\"heatmapgl\",\"colorbar\":{\"outlinewidth\":0,\"ticks\":\"\"},\"colorscale\":[[0.0,\"#0d0887\"],[0.1111111111111111,\"#46039f\"],[0.2222222222222222,\"#7201a8\"],[0.3333333333333333,\"#9c179e\"],[0.4444444444444444,\"#bd3786\"],[0.5555555555555556,\"#d8576b\"],[0.6666666666666666,\"#ed7953\"],[0.7777777777777778,\"#fb9f3a\"],[0.8888888888888888,\"#fdca26\"],[1.0,\"#f0f921\"]]}],\"contourcarpet\":[{\"type\":\"contourcarpet\",\"colorbar\":{\"outlinewidth\":0,\"ticks\":\"\"}}],\"contour\":[{\"type\":\"contour\",\"colorbar\":{\"outlinewidth\":0,\"ticks\":\"\"},\"colorscale\":[[0.0,\"#0d0887\"],[0.1111111111111111,\"#46039f\"],[0.2222222222222222,\"#7201a8\"],[0.3333333333333333,\"#9c179e\"],[0.4444444444444444,\"#bd3786\"],[0.5555555555555556,\"#d8576b\"],[0.6666666666666666,\"#ed7953\"],[0.7777777777777778,\"#fb9f3a\"],[0.8888888888888888,\"#fdca26\"],[1.0,\"#f0f921\"]]}],\"surface\":[{\"type\":\"surface\",\"colorbar\":{\"outlinewidth\":0,\"ticks\":\"\"},\"colorscale\":[[0.0,\"#0d0887\"],[0.1111111111111111,\"#46039f\"],[0.2222222222222222,\"#7201a8\"],[0.3333333333333333,\"#9c179e\"],[0.4444444444444444,\"#bd3786\"],[0.5555555555555556,\"#d8576b\"],[0.6666666666666666,\"#ed7953\"],[0.7777777777777778,\"#fb9f3a\"],[0.8888888888888888,\"#fdca26\"],[1.0,\"#f0f921\"]]}],\"mesh3d\":[{\"type\":\"mesh3d\",\"colorbar\":{\"outlinewidth\":0,\"ticks\":\"\"}}],\"scatter\":[{\"fillpattern\":{\"fillmode\":\"overlay\",\"size\":10,\"solidity\":0.2},\"type\":\"scatter\"}],\"parcoords\":[{\"type\":\"parcoords\",\"line\":{\"colorbar\":{\"outlinewidth\":0,\"ticks\":\"\"}}}],\"scatterpolargl\":[{\"type\":\"scatterpolargl\",\"marker\":{\"colorbar\":{\"outlinewidth\":0,\"ticks\":\"\"}}}],\"bar\":[{\"error_x\":{\"color\":\"#2a3f5f\"},\"error_y\":{\"color\":\"#2a3f5f\"},\"marker\":{\"line\":{\"color\":\"#E5ECF6\",\"width\":0.5},\"pattern\":{\"fillmode\":\"overlay\",\"size\":10,\"solidity\":0.2}},\"type\":\"bar\"}],\"scattergeo\":[{\"type\":\"scattergeo\",\"marker\":{\"colorbar\":{\"outlinewidth\":0,\"ticks\":\"\"}}}],\"scatterpolar\":[{\"type\":\"scatterpolar\",\"marker\":{\"colorbar\":{\"outlinewidth\":0,\"ticks\":\"\"}}}],\"histogram\":[{\"marker\":{\"pattern\":{\"fillmode\":\"overlay\",\"size\":10,\"solidity\":0.2}},\"type\":\"histogram\"}],\"scattergl\":[{\"type\":\"scattergl\",\"marker\":{\"colorbar\":{\"outlinewidth\":0,\"ticks\":\"\"}}}],\"scatter3d\":[{\"type\":\"scatter3d\",\"line\":{\"colorbar\":{\"outlinewidth\":0,\"ticks\":\"\"}},\"marker\":{\"colorbar\":{\"outlinewidth\":0,\"ticks\":\"\"}}}],\"scattermapbox\":[{\"type\":\"scattermapbox\",\"marker\":{\"colorbar\":{\"outlinewidth\":0,\"ticks\":\"\"}}}],\"scatterternary\":[{\"type\":\"scatterternary\",\"marker\":{\"colorbar\":{\"outlinewidth\":0,\"ticks\":\"\"}}}],\"scattercarpet\":[{\"type\":\"scattercarpet\",\"marker\":{\"colorbar\":{\"outlinewidth\":0,\"ticks\":\"\"}}}],\"carpet\":[{\"aaxis\":{\"endlinecolor\":\"#2a3f5f\",\"gridcolor\":\"white\",\"linecolor\":\"white\",\"minorgridcolor\":\"white\",\"startlinecolor\":\"#2a3f5f\"},\"baxis\":{\"endlinecolor\":\"#2a3f5f\",\"gridcolor\":\"white\",\"linecolor\":\"white\",\"minorgridcolor\":\"white\",\"startlinecolor\":\"#2a3f5f\"},\"type\":\"carpet\"}],\"table\":[{\"cells\":{\"fill\":{\"color\":\"#EBF0F8\"},\"line\":{\"color\":\"white\"}},\"header\":{\"fill\":{\"color\":\"#C8D4E3\"},\"line\":{\"color\":\"white\"}},\"type\":\"table\"}],\"barpolar\":[{\"marker\":{\"line\":{\"color\":\"#E5ECF6\",\"width\":0.5},\"pattern\":{\"fillmode\":\"overlay\",\"size\":10,\"solidity\":0.2}},\"type\":\"barpolar\"}],\"pie\":[{\"automargin\":true,\"type\":\"pie\"}]},\"layout\":{\"autotypenumbers\":\"strict\",\"colorway\":[\"#636efa\",\"#EF553B\",\"#00cc96\",\"#ab63fa\",\"#FFA15A\",\"#19d3f3\",\"#FF6692\",\"#B6E880\",\"#FF97FF\",\"#FECB52\"],\"font\":{\"color\":\"#2a3f5f\"},\"hovermode\":\"closest\",\"hoverlabel\":{\"align\":\"left\"},\"paper_bgcolor\":\"white\",\"plot_bgcolor\":\"#E5ECF6\",\"polar\":{\"bgcolor\":\"#E5ECF6\",\"angularaxis\":{\"gridcolor\":\"white\",\"linecolor\":\"white\",\"ticks\":\"\"},\"radialaxis\":{\"gridcolor\":\"white\",\"linecolor\":\"white\",\"ticks\":\"\"}},\"ternary\":{\"bgcolor\":\"#E5ECF6\",\"aaxis\":{\"gridcolor\":\"white\",\"linecolor\":\"white\",\"ticks\":\"\"},\"baxis\":{\"gridcolor\":\"white\",\"linecolor\":\"white\",\"ticks\":\"\"},\"caxis\":{\"gridcolor\":\"white\",\"linecolor\":\"white\",\"ticks\":\"\"}},\"coloraxis\":{\"colorbar\":{\"outlinewidth\":0,\"ticks\":\"\"}},\"colorscale\":{\"sequential\":[[0.0,\"#0d0887\"],[0.1111111111111111,\"#46039f\"],[0.2222222222222222,\"#7201a8\"],[0.3333333333333333,\"#9c179e\"],[0.4444444444444444,\"#bd3786\"],[0.5555555555555556,\"#d8576b\"],[0.6666666666666666,\"#ed7953\"],[0.7777777777777778,\"#fb9f3a\"],[0.8888888888888888,\"#fdca26\"],[1.0,\"#f0f921\"]],\"sequentialminus\":[[0.0,\"#0d0887\"],[0.1111111111111111,\"#46039f\"],[0.2222222222222222,\"#7201a8\"],[0.3333333333333333,\"#9c179e\"],[0.4444444444444444,\"#bd3786\"],[0.5555555555555556,\"#d8576b\"],[0.6666666666666666,\"#ed7953\"],[0.7777777777777778,\"#fb9f3a\"],[0.8888888888888888,\"#fdca26\"],[1.0,\"#f0f921\"]],\"diverging\":[[0,\"#8e0152\"],[0.1,\"#c51b7d\"],[0.2,\"#de77ae\"],[0.3,\"#f1b6da\"],[0.4,\"#fde0ef\"],[0.5,\"#f7f7f7\"],[0.6,\"#e6f5d0\"],[0.7,\"#b8e186\"],[0.8,\"#7fbc41\"],[0.9,\"#4d9221\"],[1,\"#276419\"]]},\"xaxis\":{\"gridcolor\":\"white\",\"linecolor\":\"white\",\"ticks\":\"\",\"title\":{\"standoff\":15},\"zerolinecolor\":\"white\",\"automargin\":true,\"zerolinewidth\":2},\"yaxis\":{\"gridcolor\":\"white\",\"linecolor\":\"white\",\"ticks\":\"\",\"title\":{\"standoff\":15},\"zerolinecolor\":\"white\",\"automargin\":true,\"zerolinewidth\":2},\"scene\":{\"xaxis\":{\"backgroundcolor\":\"#E5ECF6\",\"gridcolor\":\"white\",\"linecolor\":\"white\",\"showbackground\":true,\"ticks\":\"\",\"zerolinecolor\":\"white\",\"gridwidth\":2},\"yaxis\":{\"backgroundcolor\":\"#E5ECF6\",\"gridcolor\":\"white\",\"linecolor\":\"white\",\"showbackground\":true,\"ticks\":\"\",\"zerolinecolor\":\"white\",\"gridwidth\":2},\"zaxis\":{\"backgroundcolor\":\"#E5ECF6\",\"gridcolor\":\"white\",\"linecolor\":\"white\",\"showbackground\":true,\"ticks\":\"\",\"zerolinecolor\":\"white\",\"gridwidth\":2}},\"shapedefaults\":{\"line\":{\"color\":\"#2a3f5f\"}},\"annotationdefaults\":{\"arrowcolor\":\"#2a3f5f\",\"arrowhead\":0,\"arrowwidth\":1},\"geo\":{\"bgcolor\":\"white\",\"landcolor\":\"#E5ECF6\",\"subunitcolor\":\"white\",\"showland\":true,\"showlakes\":true,\"lakecolor\":\"white\"},\"title\":{\"x\":0.05},\"mapbox\":{\"style\":\"light\"}}},\"legend\":{\"tracegroupgap\":0},\"title\":{\"text\":\"Pie Chart of Super Overs in IPL history\"}},                        {\"responsive\": true}                    ).then(function(){\n",
       "                            \n",
       "var gd = document.getElementById('dfef9041-7ef4-410c-bf04-e957bcb8565e');\n",
       "var x = new MutationObserver(function (mutations, observer) {{\n",
       "        var display = window.getComputedStyle(gd).display;\n",
       "        if (!display || display === 'none') {{\n",
       "            console.log([gd, 'removed!']);\n",
       "            Plotly.purge(gd);\n",
       "            observer.disconnect();\n",
       "        }}\n",
       "}});\n",
       "\n",
       "// Listen for the removal of the full notebook cells\n",
       "var notebookContainer = gd.closest('#notebook-container');\n",
       "if (notebookContainer) {{\n",
       "    x.observe(notebookContainer, {childList: true});\n",
       "}}\n",
       "\n",
       "// Listen for the clearing of the current output cell\n",
       "var outputEl = gd.closest('.output');\n",
       "if (outputEl) {{\n",
       "    x.observe(outputEl, {childList: true});\n",
       "}}\n",
       "\n",
       "                        })                };                });            </script>        </div>"
      ]
     },
     "metadata": {},
     "output_type": "display_data"
    }
   ],
   "source": [
    "columns_to_plot = ['toss_won', 'decision', 'winner','super_over']\n",
    "for column in columns_to_plot:\n",
    "    counts = df[column].value_counts()\n",
    "    if column == 'toss_won':\n",
    "        title = 'how many times a team won a toss? '\n",
    "    elif column == 'decision':\n",
    "        title = 'Decisions Taken after win a toss'\n",
    "    elif column == 'winner':\n",
    "        title = 'How many times a team won matches?'\n",
    "    elif column=='super_over':\n",
    "        title= 'Super Overs in IPL history'\n",
    "    \n",
    "\n",
    "    fig = px.pie(names=counts.index,\n",
    "                 values=counts.values,\n",
    "                 title=f'Pie Chart of {title}',\n",
    "                 labels={'label': 'Count'})  \n",
    "    fig.show()"
   ]
  },
  {
   "cell_type": "code",
   "execution_count": 31,
   "id": "1e2790ac-6968-4b79-8e7e-7333d85e6108",
   "metadata": {},
   "outputs": [
    {
     "data": {
      "image/png": "[encoded data removed]",
      "text/plain": [
       "<Figure size 1000x600 with 1 Axes>"
      ]
     },
     "metadata": {},
     "output_type": "display_data"
    }
   ],
   "source": [
    "top_umpires1= df['umpire1'].value_counts().head(5)\n",
    "top_umpires1.plot(kind='bar', figsize=(10, 6))\n",
    "plt.title('Top 1st umpires in IPL History')\n",
    "plt.ylabel('Match counts')\n",
    "plt.xlabel('Player Name')\n",
    "plt.xticks(rotation=45)\n",
    "plt.show()"
   ]
  },
  {
   "cell_type": "code",
   "execution_count": 33,
   "id": "8b59f69d-79e5-4b17-9164-30839d69f8fe",
   "metadata": {},
   "outputs": [
    {
     "data": {
      "image/png": "[encoded data removed]",
      "text/plain": [
       "<Figure size 1000x600 with 1 Axes>"
      ]
     },
     "metadata": {},
     "output_type": "display_data"
    }
   ],
   "source": [
    "Player_of_the_match= df['pom'].value_counts().head(10)\n",
    "Player_of_the_match.plot(kind='bar', figsize=(10, 6))\n",
    "plt.title('Top 10 Player of the match in IPL History')\n",
    "plt.ylabel('Match counts')\n",
    "plt.xlabel('Player Name')\n",
    "plt.xticks(rotation=45)\n",
    "plt.show()\n"
   ]
  },
  {
   "cell_type": "code",
   "execution_count": 34,
   "id": "de0e350a-23d7-4258-ba8c-44d1a34fd3ca",
   "metadata": {},
   "outputs": [
    {
     "data": {
      "image/png": "[encoded data removed]",
      "text/plain": [
       "<Figure size 1000x600 with 1 Axes>"
      ]
     },
     "metadata": {},
     "output_type": "display_data"
    }
   ],
   "source": [
    "Top_Home_captain= df['home_captain'].value_counts().head(5)\n",
    "Top_Home_captain.plot(kind='bar', figsize=(10, 6))\n",
    "plt.title('Top home captains')\n",
    "plt.ylabel('Match counts')\n",
    "plt.xlabel('Player Name')\n",
    "plt.xticks(rotation=45)\n",
    "plt.show()"
   ]
  },
  {
   "cell_type": "code",
   "execution_count": 35,
   "id": "b8f6a29d-2ceb-4ff0-abf6-2a332033fa8c",
   "metadata": {},
   "outputs": [
    {
     "data": {
      "image/png": "[encoded data removed]",
      "text/plain": [
       "<Figure size 1000x600 with 1 Axes>"
      ]
     },
     "metadata": {},
     "output_type": "display_data"
    }
   ],
   "source": [
    "Top_away_captain= df['away_captain'].value_counts().head(5)\n",
    "Top_away_captain.plot(kind='bar', figsize=(10, 6))\n",
    "plt.title('Top away captains')\n",
    "plt.ylabel('Match counts')\n",
    "plt.xlabel('Player Name')\n",
    "plt.xticks(rotation=45)\n",
    "plt.show()"
   ]
  },
  {
   "cell_type": "code",
   "execution_count": 36,
   "id": "4c20f250-543c-4be4-a426-2dc37a7d9335",
   "metadata": {},
   "outputs": [
    {
     "data": {
      "application/vnd.plotly.v1+json": {
       "config": {
        "plotlyServerURL": "https://plot.ly"
       },
       "data": [
        {
         "alignmentgroup": "True",
         "bingroup": "x",
         "hovertemplate": "home_team=RCB<br>short_name=%{x}<br>count=%{y}<extra></extra>",
         "legendgroup": "RCB",
         "marker": {
          "color": "#636efa",
          "pattern": {
           "shape": ""
          }
         },
         "name": "RCB",
         "offsetgroup": "RCB",
         "orientation": "v",
         "showlegend": true,
         "type": "histogram",
         "x": [
          "RCB v GT",
          "RCB v KKR",
          "RCB v RR",
          "RCB v CSK",
          "RCB v DC",
          "RCB v LSG",
          "RCB v MI",
          "RCB v KKR",
          "RCB v MI",
          "RCB v SRH",
          "RCB v RR",
          "RCB v CSK",
          "RCB v PBKS",
          "RCB v GT",
          "RCB v DC",
          "RCB v SRH",
          "RCB v PBKS",
          "RCB v MI",
          "RCB v CSK",
          "RCB v RR",
          "RCB v KKR",
          "RCB v MI",
          "RCB v RR",
          "RCB v DC",
          "RCB v KKR",
          "RCB v KXIP",
          "RCB v CSK",
          "RCB v MI",
          "RCB v KKR",
          "RCB v DC",
          "RCB v CSK",
          "RCB v KXIP",
          "RCB v KXIP",
          "RCB v RR",
          "RCB v DC",
          "RCB v CSK",
          "RCB v KKR",
          "RCB v MI",
          "RCB v SRH",
          "RCB v DC",
          "RCB v MI",
          "RCB v RPS",
          "RCB v GL",
          "RCB v KXIP",
          "RCB v KKR",
          "RCB v SRH",
          "RCB v DC",
          "RCB v KKR",
          "RCB v MI",
          "RCB v GL",
          "RCB v KXIP",
          "RCB v SRH",
          "RCB v MI",
          "RCB v CSK",
          "RCB v KKR",
          "RCB v KXIP",
          "RCB v MI",
          "RCB v KKR",
          "RCB v SRH",
          "RCB v KXIP",
          "RCB v RR",
          "RCB v DC",
          "RCB v CSK",
          "RCB v MI",
          "RCB v SRH",
          "RCB v KKR",
          "RCB v DC",
          "RCB v RR",
          "RCB v PWI",
          "RCB v KXIP",
          "RCB v CSK",
          "RCB v DC",
          "RCB v KKR",
          "RCB v RR",
          "RCB v PWI",
          "RCB v KXIP",
          "RCB v DC",
          "RCB v MI",
          "RCB v MI",
          "RCB v PWI",
          "RCB v KXIP",
          "RCB v Kochi",
          "RCB v KKR",
          "RCB v CSK",
          "RCB v KXIP",
          "RCB v RR",
          "RCB v CSK",
          "RCB v DC",
          "RCB v DC",
          "RCB v KKR",
          "RCB v MI",
          "RCB v KXIP",
          "RCB v DC",
          "RCB v KKR",
          "RCB v KXIP",
          "RCB v MI",
          "RCB v RR",
          "RCB v MI",
          "RCB v KKR",
          "RCB v DC",
          "RCB v DC",
          "RCB v KKR",
          "RCB v RR",
          "RCB v DC",
          "RCB v KXIP",
          "RCB v DC"
         ],
         "xaxis": "x",
         "yaxis": "y"
        },
        {
         "alignmentgroup": "True",
         "bingroup": "x",
         "hovertemplate": "home_team=MI<br>short_name=%{x}<br>count=%{y}<extra></extra>",
         "legendgroup": "MI",
         "marker": {
          "color": "#EF553B",
          "pattern": {
           "shape": ""
          }
         },
         "name": "MI",
         "offsetgroup": "MI",
         "orientation": "v",
         "showlegend": true,
         "type": "histogram",
         "x": [
          "MI v SRH",
          "MI v GT",
          "MI v RCB",
          "MI v RR",
          "MI v PBKS",
          "MI v KKR",
          "MI v CSK",
          "MI v RR",
          "MI v PBKS",
          "MI v LSG",
          "MI v CSK",
          "MI v KKR",
          "MI v SRH",
          "MI v DC",
          "MI v DC",
          "MI v PBKS",
          "MI v KKR",
          "MI v CSK",
          "MI v RR",
          "MI v SRH",
          "MI v CSK",
          "MI v SRH",
          "MI v RR",
          "MI v DC",
          "MI v KKR",
          "MI v KXIP",
          "MI v RCB",
          "MI v DC",
          "MI v CSK",
          "MI v KXIP",
          "MI v RR",
          "MI v RCB",
          "MI v SRH",
          "MI v KKR",
          "MI v CSK",
          "MI v DC",
          "MI v RCB",
          "MI v SRH",
          "MI v KKR",
          "MI v RR",
          "MI v KXIP",
          "MI v KKR",
          "MI v SRH",
          "MI v GL",
          "MI v DC",
          "MI v RPS",
          "MI v RCB",
          "MI v KXIP",
          "MI v RPS",
          "MI v GL",
          "MI v RCB",
          "MI v KKR",
          "MI v SRH",
          "MI v KXIP",
          "MI v DC",
          "MI v KXIP",
          "MI v CSK",
          "MI v SRH",
          "MI v RR",
          "MI v DC",
          "MI v RCB",
          "MI v KKR",
          "MI v KKR",
          "MI v SRH",
          "MI v KXIP",
          "MI v RCB",
          "MI v CSK",
          "MI v DC",
          "MI v RR",
          "MI v DC",
          "MI v PWI",
          "MI v RCB",
          "MI v KXIP",
          "MI v CSK",
          "MI v KKR",
          "MI v SRH",
          "MI v RR",
          "MI v PWI",
          "MI v RR",
          "MI v DC",
          "MI v KXIP",
          "MI v DC",
          "MI v CSK",
          "MI v RCB",
          "MI v KKR",
          "MI v Kochi",
          "MI v PWI",
          "MI v CSK",
          "MI v KXIP",
          "MI v DC",
          "MI v DC",
          "MI v RR",
          "MI v RR",
          "MI v RCB",
          "MI v KKR",
          "MI v CSK",
          "MI v KXIP",
          "MI v DC",
          "MI v DC",
          "MI v RR",
          "MI v RCB",
          "MI v DC",
          "MI v DC",
          "MI v RR",
          "MI v CSK",
          "MI v KKR"
         ],
         "xaxis": "x",
         "yaxis": "y"
        },
        {
         "alignmentgroup": "True",
         "bingroup": "x",
         "hovertemplate": "home_team=KKR<br>short_name=%{x}<br>count=%{y}<extra></extra>",
         "legendgroup": "KKR",
         "marker": {
          "color": "#00cc96",
          "pattern": {
           "shape": ""
          }
         },
         "name": "KKR",
         "offsetgroup": "KKR",
         "orientation": "v",
         "showlegend": true,
         "type": "histogram",
         "x": [
          "KKR v LSG",
          "KKR v RR",
          "KKR v PBKS",
          "KKR v GT",
          "KKR v CSK",
          "KKR v SRH",
          "KKR v RCB",
          "KKR v PBKS",
          "KKR v MI",
          "KKR v GT",
          "KKR v RR",
          "KKR v SRH",
          "KKR v LSG",
          "KKR v RR",
          "KKR v SRH",
          "KKR v PBKS",
          "KKR v DC",
          "KKR v RCB",
          "KKR v CSK",
          "KKR v MI",
          "KKR v MI",
          "KKR v SRH",
          "KKR v CSK",
          "KKR v RCB",
          "KKR v DC",
          "KKR v KXIP",
          "KKR v RR",
          "KKR v SRH",
          "KKR v KXIP",
          "KKR v DC",
          "KKR v CSK",
          "KKR v RCB",
          "KKR v RR",
          "KKR v MI",
          "KKR v RCB",
          "KKR v SRH",
          "KKR v DC",
          "KKR v KXIP",
          "KKR v CSK",
          "KKR v MI",
          "KKR v RR",
          "KKR v KXIP",
          "KKR v SRH",
          "KKR v GL",
          "KKR v RCB",
          "KKR v DC",
          "KKR v RPS",
          "KKR v MI",
          "KKR v MI",
          "KKR v GL",
          "KKR v RPS",
          "KKR v RCB",
          "KKR v SRH",
          "KKR v MI",
          "KKR v RCB",
          "KKR v CSK",
          "KKR v SRH",
          "KKR v DC",
          "KKR v KXIP",
          "KKR v DC",
          "KKR v KXIP",
          "KKR v RR",
          "KKR v MI",
          "KKR v CSK",
          "KKR v RCB",
          "KKR v SRH",
          "KKR v DC",
          "KKR v SRH",
          "KKR v CSK",
          "KKR v MI",
          "KKR v KXIP",
          "KKR v RR",
          "KKR v RCB",
          "KKR v PWI",
          "KKR v DC",
          "KKR v RR",
          "KKR v KXIP",
          "KKR v RCB",
          "KKR v PWI",
          "KKR v MI",
          "KKR v CSK",
          "KKR v DC",
          "KKR v RR",
          "KKR v Kochi",
          "KKR v RCB",
          "KKR v KXIP",
          "KKR v CSK",
          "KKR v MI",
          "KKR v RCB",
          "KKR v CSK",
          "KKR v DC",
          "KKR v KXIP",
          "KKR v DC",
          "KKR v RR",
          "KKR v MI",
          "KKR v RR",
          "KKR v MI",
          "KKR v MI",
          "KKR v RR",
          "KKR v DC",
          "KKR v MI",
          "KKR v CSK",
          "KKR v RR"
         ],
         "xaxis": "x",
         "yaxis": "y"
        },
        {
         "alignmentgroup": "True",
         "bingroup": "x",
         "hovertemplate": "home_team=DC<br>short_name=%{x}<br>count=%{y}<extra></extra>",
         "legendgroup": "DC",
         "marker": {
          "color": "#ab63fa",
          "pattern": {
           "shape": ""
          }
         },
         "name": "DC",
         "offsetgroup": "DC",
         "orientation": "v",
         "showlegend": true,
         "type": "histogram",
         "x": [
          "DC v CSK",
          "DC v PBKS",
          "DC v RCB",
          "DC v SRH",
          "DC v KKR",
          "DC v MI",
          "DC v GT",
          "DC v MI",
          "DC v RCB",
          "DC v PBKS",
          "DC v RR",
          "DC v KKR",
          "DC v LSG",
          "DC v SRH",
          "DC v CSK",
          "DC v RR",
          "DC v SRH",
          "DC v KKR",
          "DC v RCB",
          "DC v MI",
          "DC v PBKS",
          "DC v KXIP",
          "DC v SRH",
          "DC v KKR",
          "DC v RR",
          "DC v CSK",
          "DC v MI",
          "DC v RCB",
          "DC v CSK",
          "DC v KKR",
          "DC v SRH",
          "DC v MI",
          "DC v KXIP",
          "DC v RCB",
          "DC v RR",
          "DC v KXIP",
          "DC v KKR",
          "DC v RR",
          "DC v SRH",
          "DC v RCB",
          "DC v CSK",
          "DC v MI",
          "DC v KXIP",
          "DC v KKR",
          "DC v SRH",
          "DC v GL",
          "DC v MI",
          "DC v RPS",
          "DC v RCB",
          "DC v KXIP",
          "DC v GL",
          "DC v KKR",
          "DC v RPS",
          "DC v SRH",
          "DC v RCB",
          "DC v RR",
          "DC v KKR",
          "DC v MI",
          "DC v RCB",
          "DC v KXIP",
          "DC v SRH",
          "DC v CSK",
          "DC v RCB",
          "DC v MI",
          "DC v RR",
          "DC v CSK",
          "DC v KKR",
          "DC v SRH",
          "DC v KXIP",
          "DC v RR",
          "DC v SRH",
          "DC v CSK",
          "DC v MI",
          "DC v KXIP",
          "DC v PWI",
          "DC v KKR",
          "DC v RCB",
          "DC v CSK",
          "DC v PWI",
          "DC v MI",
          "DC v RR",
          "DC v KKR",
          "DC v KXIP",
          "DC v RCB",
          "DC v MI",
          "DC v KXIP",
          "DC v RCB",
          "DC v KKR",
          "DC v Kochi",
          "DC v MI",
          "DC v CSK",
          "DC v KKR",
          "DC v RR",
          "DC v RCB",
          "DC v KXIP",
          "DC v KXIP",
          "DC v RR",
          "DC v KKR",
          "DC v MI",
          "DC v KKR",
          "DC v KXIP",
          "DC v RR",
          "DC v MI",
          "DC v RCB",
          "DC v KXIP"
         ],
         "xaxis": "x",
         "yaxis": "y"
        },
        {
         "alignmentgroup": "True",
         "bingroup": "x",
         "hovertemplate": "home_team=PBKS<br>short_name=%{x}<br>count=%{y}<extra></extra>",
         "legendgroup": "PBKS",
         "marker": {
          "color": "#FFA15A",
          "pattern": {
           "shape": ""
          }
         },
         "name": "PBKS",
         "offsetgroup": "PBKS",
         "orientation": "v",
         "showlegend": true,
         "type": "histogram",
         "x": [
          "PBKS v RR",
          "PBKS v DC",
          "PBKS v MI",
          "PBKS v LSG",
          "PBKS v RCB",
          "PBKS v GT",
          "PBKS v KKR",
          "PBKS v RCB",
          "PBKS v GT",
          "PBKS v SRH",
          "PBKS v CSK",
          "PBKS v LSG",
          "PBKS v RR",
          "PBKS v DC",
          "PBKS v RR",
          "PBKS v DC",
          "PBKS v RCB",
          "PBKS v KKR",
          "PBKS v MI",
          "PBKS v SRH",
          "PBKS v CSK"
         ],
         "xaxis": "x",
         "yaxis": "y"
        },
        {
         "alignmentgroup": "True",
         "bingroup": "x",
         "hovertemplate": "home_team=SRH<br>short_name=%{x}<br>count=%{y}<extra></extra>",
         "legendgroup": "SRH",
         "marker": {
          "color": "#19d3f3",
          "pattern": {
           "shape": ""
          }
         },
         "name": "SRH",
         "offsetgroup": "SRH",
         "orientation": "v",
         "showlegend": true,
         "type": "histogram",
         "x": [
          "SRH v RCB",
          "SRH v LSG",
          "SRH v KKR",
          "SRH v DC",
          "SRH v MI",
          "SRH v PBKS",
          "SRH v RR",
          "SRH v RR",
          "SRH v KKR",
          "SRH v CSK",
          "SRH v RCB",
          "SRH v PBKS",
          "SRH v CSK",
          "SRH v RR",
          "SRH v PBKS",
          "SRH v DC",
          "SRH v RCB",
          "SRH v KKR",
          "SRH v RCB",
          "SRH v KXIP",
          "SRH v RR",
          "SRH v CSK",
          "SRH v KKR",
          "SRH v DC",
          "SRH v MI",
          "SRH v RR",
          "SRH v RCB",
          "SRH v MI",
          "SRH v DC",
          "SRH v CSK",
          "SRH v KKR",
          "SRH v KXIP",
          "SRH v RR",
          "SRH v MI",
          "SRH v CSK",
          "SRH v KXIP",
          "SRH v DC",
          "SRH v RCB",
          "SRH v KKR",
          "SRH v GL",
          "SRH v KXIP",
          "SRH v DC",
          "SRH v KKR",
          "SRH v RPS",
          "SRH v MI",
          "SRH v MI",
          "SRH v KXIP",
          "SRH v RPS",
          "SRH v RCB",
          "SRH v DC",
          "SRH v RR",
          "SRH v DC",
          "SRH v KKR",
          "SRH v CSK",
          "SRH v KXIP",
          "SRH v RCB",
          "SRH v MI",
          "SRH v RR",
          "SRH v DC",
          "SRH v CSK",
          "SRH v MI",
          "SRH v KXIP",
          "SRH v KKR",
          "SRH v RCB",
          "SRH v PWI",
          "SRH v RCB",
          "SRH v MI",
          "SRH v DC",
          "SRH v CSK",
          "SRH v RR",
          "SRH v KKR",
          "DC v CSK",
          "DC v MI",
          "DC v KKR",
          "DC v PWI",
          "DC v KXIP",
          "DC v RR",
          "DC v RCB",
          "DC v RR",
          "DC v RCB",
          "DC v KXIP",
          "DC v MI",
          "DC v KKR",
          "DC v PWI",
          "DC v KKR",
          "DC v KXIP",
          "DC v MI",
          "DC v RR",
          "DC v CSK",
          "DC v RCB",
          "DC v KKR",
          "DC v MI",
          "DC v RR",
          "DC v MI",
          "DC v KXIP",
          "DC v RR",
          "DC v KKR",
          "DC v KXIP",
          "DC v RR",
          "DC v KXIP",
          "DC v MI"
         ],
         "xaxis": "x",
         "yaxis": "y"
        },
        {
         "alignmentgroup": "True",
         "bingroup": "x",
         "hovertemplate": "home_team=LSG<br>short_name=%{x}<br>count=%{y}<extra></extra>",
         "legendgroup": "LSG",
         "marker": {
          "color": "#FF6692",
          "pattern": {
           "shape": ""
          }
         },
         "name": "LSG",
         "offsetgroup": "LSG",
         "orientation": "v",
         "showlegend": true,
         "type": "histogram",
         "x": [
          "LSG v MI",
          "LSG v RCB",
          "LSG v GT",
          "LSG v PBKS",
          "LSG v SRH",
          "LSG v DC",
          "LSG v CSK",
          "LSG v DC",
          "LSG v RCB",
          "LSG v MI",
          "LSG v KKR",
          "LSG v GT",
          "LSG v RR"
         ],
         "xaxis": "x",
         "yaxis": "y"
        },
        {
         "alignmentgroup": "True",
         "bingroup": "x",
         "hovertemplate": "home_team=GT<br>short_name=%{x}<br>count=%{y}<extra></extra>",
         "legendgroup": "GT",
         "marker": {
          "color": "#B6E880",
          "pattern": {
           "shape": ""
          }
         },
         "name": "GT",
         "offsetgroup": "GT",
         "orientation": "v",
         "showlegend": true,
         "type": "histogram",
         "x": [
          "GT v SRH",
          "GT v LSG",
          "GT v DC",
          "GT v MI",
          "GT v RR",
          "GT v KKR",
          "GT v CSK",
          "GT v LSG",
          "GT v DC",
          "GT v CSK",
          "GT v SRH",
          "GT v RCB",
          "GT v PBKS",
          "GT v MI"
         ],
         "xaxis": "x",
         "yaxis": "y"
        },
        {
         "alignmentgroup": "True",
         "bingroup": "x",
         "hovertemplate": "home_team=CSK<br>short_name=%{x}<br>count=%{y}<extra></extra>",
         "legendgroup": "CSK",
         "marker": {
          "color": "#FF97FF",
          "pattern": {
           "shape": ""
          }
         },
         "name": "CSK",
         "offsetgroup": "CSK",
         "orientation": "v",
         "showlegend": true,
         "type": "histogram",
         "x": [
          "CSK v KKR",
          "CSK v DC",
          "CSK v MI",
          "CSK v PBKS",
          "CSK v SRH",
          "CSK v RR",
          "CSK v LSG",
          "CSK v KKR",
          "CSK v PBKS",
          "CSK v SRH",
          "CSK v RCB",
          "CSK v DC",
          "CSK v MI",
          "CSK v GT",
          "CSK v PBKS",
          "CSK v KKR",
          "CSK v MI",
          "CSK v SRH",
          "CSK v RCB",
          "CSK v RR",
          "CSK v DC",
          "CSK v SRH",
          "CSK v RCB",
          "CSK v RR",
          "CSK v MI",
          "CSK v KKR",
          "CSK v KXIP",
          "CSK v RCB",
          "CSK v RR",
          "CSK v KXIP",
          "CSK v KKR",
          "CSK v SRH",
          "CSK v MI",
          "CSK v DC",
          "CSK v KKR",
          "CSK v RR",
          "CSK v MI",
          "CSK v DC",
          "CSK v RCB",
          "CSK v SRH",
          "CSK v KXIP",
          "CSK v DC",
          "CSK v SRH",
          "CSK v KXIP",
          "CSK v KKR",
          "CSK v RCB",
          "CSK v MI",
          "CSK v RR",
          "CSK v KXIP",
          "CSK v DC",
          "CSK v MI",
          "CSK v KKR",
          "CSK v RR",
          "CSK v RCB",
          "CSK v SRH",
          "CSK v MI",
          "CSK v RCB",
          "CSK v PWI",
          "CSK v RR",
          "CSK v SRH",
          "CSK v KKR",
          "CSK v KXIP",
          "CSK v DC",
          "CSK v MI",
          "CSK v RCB",
          "CSK v PWI",
          "CSK v RR",
          "CSK v KXIP",
          "CSK v KKR",
          "CSK v DC",
          "CSK v DC",
          "CSK v KKR",
          "CSK v RCB",
          "CSK v PWI",
          "CSK v DC",
          "CSK v RR",
          "CSK v DC",
          "CSK v Kochi",
          "CSK v DC",
          "CSK v RCB",
          "CSK v RR",
          "CSK v MI",
          "CSK v KKR",
          "CSK v DC",
          "CSK v MI",
          "CSK v DC",
          "CSK v DC",
          "CSK v RR",
          "CSK v DC",
          "CSK v DC",
          "CSK v KXIP",
          "CSK v RR",
          "CSK v MI",
          "CSK v KKR",
          "CSK v KXIP",
          "CSK v MI",
          "CSK v KKR",
          "CSK v DC",
          "CSK v DC",
          "CSK v KXIP",
          "CSK v RCB"
         ],
         "xaxis": "x",
         "yaxis": "y"
        },
        {
         "alignmentgroup": "True",
         "bingroup": "x",
         "hovertemplate": "home_team=RR<br>short_name=%{x}<br>count=%{y}<extra></extra>",
         "legendgroup": "RR",
         "marker": {
          "color": "#FECB52",
          "pattern": {
           "shape": ""
          }
         },
         "name": "RR",
         "offsetgroup": "RR",
         "orientation": "v",
         "showlegend": true,
         "type": "histogram",
         "x": [
          "RR v RCB",
          "RR v SRH",
          "RR v GT",
          "RR v CSK",
          "RR v LSG",
          "RR v DC",
          "RR v PBKS",
          "RR v RCB",
          "RR v GT",
          "RR v KKR",
          "RR v MI",
          "RR v DC",
          "RR v CSK",
          "RR v MI",
          "RR v CSK",
          "RR v RCB",
          "RR v SRH",
          "RR v KKR",
          "RR v DC",
          "RR v PBKS",
          "RR v CSK",
          "RR v KXIP",
          "RR v KKR",
          "RR v DC",
          "RR v RCB",
          "RR v MI",
          "RR v KXIP",
          "RR v RCB",
          "RR v KKR",
          "RR v CSK",
          "RR v MI",
          "RR v DC",
          "RR v SRH",
          "RR v DC",
          "RR v KKR",
          "RR v MI",
          "RR v SRH",
          "RR v KXIP",
          "RR v CSK",
          "RR v RCB",
          "RR v MI",
          "RR v CSK",
          "RR v KXIP",
          "RR v RCB",
          "RR v SRH",
          "RR v KKR",
          "RR v KXIP",
          "RR v CSK",
          "RR v RCB",
          "RR v KKR",
          "RR v SRH",
          "RR v DC",
          "RR v MI",
          "RR v KKR",
          "RR v KXIP",
          "RR v MI",
          "RR v SRH",
          "RR v RCB",
          "RR v PWI",
          "RR v DC",
          "RR v CSK",
          "RR v KXIP",
          "RR v KKR",
          "RR v DC",
          "RR v RCB",
          "RR v DC",
          "RR v CSK",
          "RR v PWI",
          "RR v MI",
          "RR v DC",
          "RR v KKR",
          "RR v Kochi",
          "RR v MI",
          "RR v PWI",
          "RR v CSK",
          "RR v RCB",
          "RR v DC",
          "RR v KKR",
          "RR v DC",
          "RR v CSK",
          "RR v KXIP",
          "RR v MI",
          "RR v RCB",
          "RR v KXIP",
          "RR v KKR",
          "RR v CSK",
          "RR v RCB",
          "RR v MI"
         ],
         "xaxis": "x",
         "yaxis": "y"
        },
        {
         "alignmentgroup": "True",
         "bingroup": "x",
         "hovertemplate": "home_team=KXIP<br>short_name=%{x}<br>count=%{y}<extra></extra>",
         "legendgroup": "KXIP",
         "marker": {
          "color": "#636efa",
          "pattern": {
           "shape": ""
          }
         },
         "name": "KXIP",
         "offsetgroup": "KXIP",
         "orientation": "v",
         "showlegend": true,
         "type": "histogram",
         "x": [
          "KXIP v RCB",
          "KXIP v MI",
          "KXIP v CSK",
          "KXIP v KKR",
          "KXIP v DC",
          "KXIP v SRH",
          "KXIP v RR",
          "KXIP v MI",
          "KXIP v DC",
          "KXIP v SRH",
          "KXIP v RCB",
          "KXIP v RR",
          "KXIP v KKR",
          "KXIP v CSK",
          "KXIP v DC",
          "KXIP v CSK",
          "KXIP v SRH",
          "KXIP v MI",
          "KXIP v RR",
          "KXIP v KKR",
          "KXIP v RCB",
          "KXIP v RPS",
          "KXIP v RCB",
          "KXIP v MI",
          "KXIP v SRH",
          "KXIP v DC",
          "KXIP v GL",
          "KXIP v KKR",
          "KXIP v GL",
          "KXIP v KKR",
          "KXIP v MI",
          "KXIP v RCB",
          "KXIP v SRH",
          "KXIP v RR",
          "KXIP v DC",
          "KXIP v KKR",
          "KXIP v SRH",
          "KXIP v MI",
          "KXIP v RCB",
          "KXIP v CSK",
          "KXIP v SRH",
          "KXIP v RCB",
          "KXIP v CSK",
          "KXIP v KKR",
          "KXIP v MI",
          "KXIP v RR",
          "KXIP v DC",
          "KXIP v CSK",
          "KXIP v PWI",
          "KXIP v RCB",
          "KXIP v RR",
          "KXIP v SRH",
          "KXIP v DC",
          "KXIP v PWI",
          "KXIP v KKR",
          "KXIP v RCB",
          "KXIP v MI",
          "KXIP v RR",
          "KXIP v DC",
          "KXIP v CSK",
          "KXIP v DC",
          "KXIP v CSK",
          "KXIP v RR",
          "KXIP v PWI",
          "KXIP v MI",
          "KXIP v DC",
          "KXIP v RCB",
          "KXIP v DC",
          "KXIP v DC",
          "KXIP v RR",
          "KXIP v KKR",
          "KXIP v RCB",
          "KXIP v MI",
          "KXIP v DC",
          "KXIP v CSK",
          "KXIP v KKR",
          "KXIP v RR",
          "KXIP v MI",
          "KXIP v KKR",
          "KXIP v RR",
          "KXIP v MI",
          "KXIP v CSK",
          "KXIP v MI",
          "KXIP v DC",
          "KXIP v KKR",
          "KXIP v RCB",
          "KXIP v DC",
          "KXIP v RR"
         ],
         "xaxis": "x",
         "yaxis": "y"
        },
        {
         "alignmentgroup": "True",
         "bingroup": "x",
         "hovertemplate": "home_team=RPS<br>short_name=%{x}<br>count=%{y}<extra></extra>",
         "legendgroup": "RPS",
         "marker": {
          "color": "#EF553B",
          "pattern": {
           "shape": ""
          }
         },
         "name": "RPS",
         "offsetgroup": "RPS",
         "orientation": "v",
         "showlegend": true,
         "type": "histogram",
         "x": [
          "RPS v MI",
          "RPS v DC",
          "RPS v SRH",
          "RPS v KKR",
          "RPS v RCB",
          "RPS v GL",
          "RPS v KXIP",
          "RPS v GL",
          "RPS v MI",
          "RPS v SRH",
          "RPS v DC",
          "RPS v KXIP"
         ],
         "xaxis": "x",
         "yaxis": "y"
        },
        {
         "alignmentgroup": "True",
         "bingroup": "x",
         "hovertemplate": "home_team=GL<br>short_name=%{x}<br>count=%{y}<extra></extra>",
         "legendgroup": "GL",
         "marker": {
          "color": "#00cc96",
          "pattern": {
           "shape": ""
          }
         },
         "name": "GL",
         "offsetgroup": "GL",
         "orientation": "v",
         "showlegend": true,
         "type": "histogram",
         "x": [
          "GL v KKR",
          "GL v RPS",
          "GL v RCB",
          "GL v KXIP",
          "GL v MI",
          "GL v DC",
          "GL v SRH",
          "GL v KXIP",
          "GL v DC",
          "GL v KKR",
          "GL v MI"
         ],
         "xaxis": "x",
         "yaxis": "y"
        },
        {
         "alignmentgroup": "True",
         "bingroup": "x",
         "hovertemplate": "home_team=PWI<br>short_name=%{x}<br>count=%{y}<extra></extra>",
         "legendgroup": "PWI",
         "marker": {
          "color": "#ab63fa",
          "pattern": {
           "shape": ""
          }
         },
         "name": "PWI",
         "offsetgroup": "PWI",
         "orientation": "v",
         "showlegend": true,
         "type": "histogram",
         "x": [
          "PWI v KXIP",
          "PWI v RR",
          "PWI v SRH",
          "PWI v CSK",
          "PWI v RCB",
          "PWI v KKR",
          "PWI v MI",
          "PWI v DC",
          "PWI v KXIP",
          "PWI v CSK",
          "PWI v DC",
          "PWI v DC",
          "PWI v MI",
          "PWI v RR",
          "PWI v RCB",
          "PWI v KKR",
          "PWI v KXIP",
          "PWI v Kochi",
          "PWI v DC",
          "PWI v CSK",
          "PWI v MI",
          "PWI v DC",
          "PWI v KKR"
         ],
         "xaxis": "x",
         "yaxis": "y"
        },
        {
         "alignmentgroup": "True",
         "bingroup": "x",
         "hovertemplate": "home_team=Kochi<br>short_name=%{x}<br>count=%{y}<extra></extra>",
         "legendgroup": "Kochi",
         "marker": {
          "color": "#FFA15A",
          "pattern": {
           "shape": ""
          }
         },
         "name": "Kochi",
         "offsetgroup": "Kochi",
         "orientation": "v",
         "showlegend": true,
         "type": "histogram",
         "x": [
          "Kochi v RCB",
          "Kochi v CSK",
          "Kochi v DC",
          "Kochi v DC",
          "Kochi v KKR",
          "Kochi v KXIP",
          "Kochi v RR"
         ],
         "xaxis": "x",
         "yaxis": "y"
        }
       ],
       "layout": {
        "autosize": true,
        "barmode": "relative",
        "legend": {
         "title": {
          "text": "home_team"
         },
         "tracegroupgap": 0
        },
        "margin": {
         "t": 60
        },
        "template": {
         "data": {
          "bar": [
           {
            "error_x": {
             "color": "#2a3f5f"
            },
            "error_y": {
             "color": "#2a3f5f"
            },
            "marker": {
             "line": {
              "color": "#E5ECF6",
              "width": 0.5
             },
             "pattern": {
              "fillmode": "overlay",
              "size": 10,
              "solidity": 0.2
             }
            },
            "type": "bar"
           }
          ],
          "barpolar": [
           {
            "marker": {
             "line": {
              "color": "#E5ECF6",
              "width": 0.5
             },
             "pattern": {
              "fillmode": "overlay",
              "size": 10,
              "solidity": 0.2
             }
            },
            "type": "barpolar"
           }
          ],
          "carpet": [
           {
            "aaxis": {
             "endlinecolor": "#2a3f5f",
             "gridcolor": "white",
             "linecolor": "white",
             "minorgridcolor": "white",
             "startlinecolor": "#2a3f5f"
            },
            "baxis": {
             "endlinecolor": "#2a3f5f",
             "gridcolor": "white",
             "linecolor": "white",
             "minorgridcolor": "white",
             "startlinecolor": "#2a3f5f"
            },
            "type": "carpet"
           }
          ],
          "choropleth": [
           {
            "colorbar": {
             "outlinewidth": 0,
             "ticks": ""
            },
            "type": "choropleth"
           }
          ],
          "contour": [
           {
            "colorbar": {
             "outlinewidth": 0,
             "ticks": ""
            },
            "colorscale": [
             [
              0,
              "#0d0887"
             ],
             [
              0.1111111111111111,
              "#46039f"
             ],
             [
              0.2222222222222222,
              "#7201a8"
             ],
             [
              0.3333333333333333,
              "#9c179e"
             ],
             [
              0.4444444444444444,
              "#bd3786"
             ],
             [
              0.5555555555555556,
              "#d8576b"
             ],
             [
              0.6666666666666666,
              "#ed7953"
             ],
             [
              0.7777777777777778,
              "#fb9f3a"
             ],
             [
              0.8888888888888888,
              "#fdca26"
             ],
             [
              1,
              "#f0f921"
             ]
            ],
            "type": "contour"
           }
          ],
          "contourcarpet": [
           {
            "colorbar": {
             "outlinewidth": 0,
             "ticks": ""
            },
            "type": "contourcarpet"
           }
          ],
          "heatmap": [
           {
            "colorbar": {
             "outlinewidth": 0,
             "ticks": ""
            },
            "colorscale": [
             [
              0,
              "#0d0887"
             ],
             [
              0.1111111111111111,
              "#46039f"
             ],
             [
              0.2222222222222222,
              "#7201a8"
             ],
             [
              0.3333333333333333,
              "#9c179e"
             ],
             [
              0.4444444444444444,
              "#bd3786"
             ],
             [
              0.5555555555555556,
              "#d8576b"
             ],
             [
              0.6666666666666666,
              "#ed7953"
             ],
             [
              0.7777777777777778,
              "#fb9f3a"
             ],
             [
              0.8888888888888888,
              "#fdca26"
             ],
             [
              1,
              "#f0f921"
             ]
            ],
            "type": "heatmap"
           }
          ],
          "heatmapgl": [
           {
            "colorbar": {
             "outlinewidth": 0,
             "ticks": ""
            },
            "colorscale": [
             [
              0,
              "#0d0887"
             ],
             [
              0.1111111111111111,
              "#46039f"
             ],
             [
              0.2222222222222222,
              "#7201a8"
             ],
             [
              0.3333333333333333,
              "#9c179e"
             ],
             [
              0.4444444444444444,
              "#bd3786"
             ],
             [
              0.5555555555555556,
              "#d8576b"
             ],
             [
              0.6666666666666666,
              "#ed7953"
             ],
             [
              0.7777777777777778,
              "#fb9f3a"
             ],
             [
              0.8888888888888888,
              "#fdca26"
             ],
             [
              1,
              "#f0f921"
             ]
            ],
            "type": "heatmapgl"
           }
          ],
          "histogram": [
           {
            "marker": {
             "pattern": {
              "fillmode": "overlay",
              "size": 10,
              "solidity": 0.2
             }
            },
            "type": "histogram"
           }
          ],
          "histogram2d": [
           {
            "colorbar": {
             "outlinewidth": 0,
             "ticks": ""
            },
            "colorscale": [
             [
              0,
              "#0d0887"
             ],
             [
              0.1111111111111111,
              "#46039f"
             ],
             [
              0.2222222222222222,
              "#7201a8"
             ],
             [
              0.3333333333333333,
              "#9c179e"
             ],
             [
              0.4444444444444444,
              "#bd3786"
             ],
             [
              0.5555555555555556,
              "#d8576b"
             ],
             [
              0.6666666666666666,
              "#ed7953"
             ],
             [
              0.7777777777777778,
              "#fb9f3a"
             ],
             [
              0.8888888888888888,
              "#fdca26"
             ],
             [
              1,
              "#f0f921"
             ]
            ],
            "type": "histogram2d"
           }
          ],
          "histogram2dcontour": [
           {
            "colorbar": {
             "outlinewidth": 0,
             "ticks": ""
            },
            "colorscale": [
             [
              0,
              "#0d0887"
             ],
             [
              0.1111111111111111,
              "#46039f"
             ],
             [
              0.2222222222222222,
              "#7201a8"
             ],
             [
              0.3333333333333333,
              "#9c179e"
             ],
             [
              0.4444444444444444,
              "#bd3786"
             ],
             [
              0.5555555555555556,
              "#d8576b"
             ],
             [
              0.6666666666666666,
              "#ed7953"
             ],
             [
              0.7777777777777778,
              "#fb9f3a"
             ],
             [
              0.8888888888888888,
              "#fdca26"
             ],
             [
              1,
              "#f0f921"
             ]
            ],
            "type": "histogram2dcontour"
           }
          ],
          "mesh3d": [
           {
            "colorbar": {
             "outlinewidth": 0,
             "ticks": ""
            },
            "type": "mesh3d"
           }
          ],
          "parcoords": [
           {
            "line": {
             "colorbar": {
              "outlinewidth": 0,
              "ticks": ""
             }
            },
            "type": "parcoords"
           }
          ],
          "pie": [
           {
            "automargin": true,
            "type": "pie"
           }
          ],
          "scatter": [
           {
            "fillpattern": {
             "fillmode": "overlay",
             "size": 10,
             "solidity": 0.2
            },
            "type": "scatter"
           }
          ],
          "scatter3d": [
           {
            "line": {
             "colorbar": {
              "outlinewidth": 0,
              "ticks": ""
             }
            },
            "marker": {
             "colorbar": {
              "outlinewidth": 0,
              "ticks": ""
             }
            },
            "type": "scatter3d"
           }
          ],
          "scattercarpet": [
           {
            "marker": {
             "colorbar": {
              "outlinewidth": 0,
              "ticks": ""
             }
            },
            "type": "scattercarpet"
           }
          ],
          "scattergeo": [
           {
            "marker": {
             "colorbar": {
              "outlinewidth": 0,
              "ticks": ""
             }
            },
            "type": "scattergeo"
           }
          ],
          "scattergl": [
           {
            "marker": {
             "colorbar": {
              "outlinewidth": 0,
              "ticks": ""
             }
            },
            "type": "scattergl"
           }
          ],
          "scattermapbox": [
           {
            "marker": {
             "colorbar": {
              "outlinewidth": 0,
              "ticks": ""
             }
            },
            "type": "scattermapbox"
           }
          ],
          "scatterpolar": [
           {
            "marker": {
             "colorbar": {
              "outlinewidth": 0,
              "ticks": ""
             }
            },
            "type": "scatterpolar"
           }
          ],
          "scatterpolargl": [
           {
            "marker": {
             "colorbar": {
              "outlinewidth": 0,
              "ticks": ""
             }
            },
            "type": "scatterpolargl"
           }
          ],
          "scatterternary": [
           {
            "marker": {
             "colorbar": {
              "outlinewidth": 0,
              "ticks": ""
             }
            },
            "type": "scatterternary"
           }
          ],
          "surface": [
           {
            "colorbar": {
             "outlinewidth": 0,
             "ticks": ""
            },
            "colorscale": [
             [
              0,
              "#0d0887"
             ],
             [
              0.1111111111111111,
              "#46039f"
             ],
             [
              0.2222222222222222,
              "#7201a8"
             ],
             [
              0.3333333333333333,
              "#9c179e"
             ],
             [
              0.4444444444444444,
              "#bd3786"
             ],
             [
              0.5555555555555556,
              "#d8576b"
             ],
             [
              0.6666666666666666,
              "#ed7953"
             ],
             [
              0.7777777777777778,
              "#fb9f3a"
             ],
             [
              0.8888888888888888,
              "#fdca26"
             ],
             [
              1,
              "#f0f921"
             ]
            ],
            "type": "surface"
           }
          ],
          "table": [
           {
            "cells": {
             "fill": {
              "color": "#EBF0F8"
             },
             "line": {
              "color": "white"
             }
            },
            "header": {
             "fill": {
              "color": "#C8D4E3"
             },
             "line": {
              "color": "white"
             }
            },
            "type": "table"
           }
          ]
         },
         "layout": {
          "annotationdefaults": {
           "arrowcolor": "#2a3f5f",
           "arrowhead": 0,
           "arrowwidth": 1
          },
          "autotypenumbers": "strict",
          "coloraxis": {
           "colorbar": {
            "outlinewidth": 0,
            "ticks": ""
           }
          },
          "colorscale": {
           "diverging": [
            [
             0,
             "#8e0152"
            ],
            [
             0.1,
             "#c51b7d"
            ],
            [
             0.2,
             "#de77ae"
            ],
            [
             0.3,
             "#f1b6da"
            ],
            [
             0.4,
             "#fde0ef"
            ],
            [
             0.5,
             "#f7f7f7"
            ],
            [
             0.6,
             "#e6f5d0"
            ],
            [
             0.7,
             "#b8e186"
            ],
            [
             0.8,
             "#7fbc41"
            ],
            [
             0.9,
             "#4d9221"
            ],
            [
             1,
             "#276419"
            ]
           ],
           "sequential": [
            [
             0,
             "#0d0887"
            ],
            [
             0.1111111111111111,
             "#46039f"
            ],
            [
             0.2222222222222222,
             "#7201a8"
            ],
            [
             0.3333333333333333,
             "#9c179e"
            ],
            [
             0.4444444444444444,
             "#bd3786"
            ],
            [
             0.5555555555555556,
             "#d8576b"
            ],
            [
             0.6666666666666666,
             "#ed7953"
            ],
            [
             0.7777777777777778,
             "#fb9f3a"
            ],
            [
             0.8888888888888888,
             "#fdca26"
            ],
            [
             1,
             "#f0f921"
            ]
           ],
           "sequentialminus": [
            [
             0,
             "#0d0887"
            ],
            [
             0.1111111111111111,
             "#46039f"
            ],
            [
             0.2222222222222222,
             "#7201a8"
            ],
            [
             0.3333333333333333,
             "#9c179e"
            ],
            [
             0.4444444444444444,
             "#bd3786"
            ],
            [
             0.5555555555555556,
             "#d8576b"
            ],
            [
             0.6666666666666666,
             "#ed7953"
            ],
            [
             0.7777777777777778,
             "#fb9f3a"
            ],
            [
             0.8888888888888888,
             "#fdca26"
            ],
            [
             1,
             "#f0f921"
            ]
           ]
          },
          "colorway": [
           "#636efa",
           "#EF553B",
           "#00cc96",
           "#ab63fa",
           "#FFA15A",
           "#19d3f3",
           "#FF6692",
           "#B6E880",
           "#FF97FF",
           "#FECB52"
          ],
          "font": {
           "color": "#2a3f5f"
          },
          "geo": {
           "bgcolor": "white",
           "lakecolor": "white",
           "landcolor": "#E5ECF6",
           "showlakes": true,
           "showland": true,
           "subunitcolor": "white"
          },
          "hoverlabel": {
           "align": "left"
          },
          "hovermode": "closest",
          "mapbox": {
           "style": "light"
          },
          "paper_bgcolor": "white",
          "plot_bgcolor": "#E5ECF6",
          "polar": {
           "angularaxis": {
            "gridcolor": "white",
            "linecolor": "white",
            "ticks": ""
           },
           "bgcolor": "#E5ECF6",
           "radialaxis": {
            "gridcolor": "white",
            "linecolor": "white",
            "ticks": ""
           }
          },
          "scene": {
           "xaxis": {
            "backgroundcolor": "#E5ECF6",
            "gridcolor": "white",
            "gridwidth": 2,
            "linecolor": "white",
            "showbackground": true,
            "ticks": "",
            "zerolinecolor": "white"
           },
           "yaxis": {
            "backgroundcolor": "#E5ECF6",
            "gridcolor": "white",
            "gridwidth": 2,
            "linecolor": "white",
            "showbackground": true,
            "ticks": "",
            "zerolinecolor": "white"
           },
           "zaxis": {
            "backgroundcolor": "#E5ECF6",
            "gridcolor": "white",
            "gridwidth": 2,
            "linecolor": "white",
            "showbackground": true,
            "ticks": "",
            "zerolinecolor": "white"
           }
          },
          "shapedefaults": {
           "line": {
            "color": "#2a3f5f"
           }
          },
          "ternary": {
           "aaxis": {
            "gridcolor": "white",
            "linecolor": "white",
            "ticks": ""
           },
           "baxis": {
            "gridcolor": "white",
            "linecolor": "white",
            "ticks": ""
           },
           "bgcolor": "#E5ECF6",
           "caxis": {
            "gridcolor": "white",
            "linecolor": "white",
            "ticks": ""
           }
          },
          "title": {
           "x": 0.05
          },
          "xaxis": {
           "automargin": true,
           "gridcolor": "white",
           "linecolor": "white",
           "ticks": "",
           "title": {
            "standoff": 15
           },
           "zerolinecolor": "white",
           "zerolinewidth": 2
          },
          "yaxis": {
           "automargin": true,
           "gridcolor": "white",
           "linecolor": "white",
           "ticks": "",
           "title": {
            "standoff": 15
           },
           "zerolinecolor": "white",
           "zerolinewidth": 2
          }
         }
        },
        "title": {
         "text": "Distribution of matches and Home team"
        },
        "xaxis": {
         "anchor": "y",
         "autorange": true,
         "domain": [
          0,
          1
         ],
         "range": [
          -0.5,
          157.5
         ],
         "title": {
          "text": "Matches"
         },
         "type": "category"
        },
        "yaxis": {
         "anchor": "x",
         "autorange": true,
         "domain": [
          0,
          1
         ],
         "range": [
          0,
          22.105263157894736
         ],
         "title": {
          "text": "Count"
         }
        }
       }
      },
      "image/png": "[encoded data removed]",
      "text/html": [
       "<div>                            <div id=\"a4ca3d3b-9c92-4026-a170-28378c709d23\" class=\"plotly-graph-div\" style=\"height:525px; width:100%;\"></div>            <script type=\"text/javascript\">                require([\"plotly\"], function(Plotly) {                    window.PLOTLYENV=window.PLOTLYENV || {};                                    if (document.getElementById(\"a4ca3d3b-9c92-4026-a170-28378c709d23\")) {                    Plotly.newPlot(                        \"a4ca3d3b-9c92-4026-a170-28378c709d23\",                        [{\"alignmentgroup\":\"True\",\"bingroup\":\"x\",\"hovertemplate\":\"home_team=RCB\\u003cbr\\u003eshort_name=%{x}\\u003cbr\\u003ecount=%{y}\\u003cextra\\u003e\\u003c\\u002fextra\\u003e\",\"legendgroup\":\"RCB\",\"marker\":{\"color\":\"#636efa\",\"pattern\":{\"shape\":\"\"}},\"name\":\"RCB\",\"offsetgroup\":\"RCB\",\"orientation\":\"v\",\"showlegend\":true,\"x\":[\"RCB v GT\",\"RCB v KKR\",\"RCB v RR\",\"RCB v CSK\",\"RCB v DC\",\"RCB v LSG\",\"RCB v MI\",\"RCB v KKR\",\"RCB v MI\",\"RCB v SRH\",\"RCB v RR\",\"RCB v CSK\",\"RCB v PBKS\",\"RCB v GT\",\"RCB v DC\",\"RCB v SRH\",\"RCB v PBKS\",\"RCB v MI\",\"RCB v CSK\",\"RCB v RR\",\"RCB v KKR\",\"RCB v MI\",\"RCB v RR\",\"RCB v DC\",\"RCB v KKR\",\"RCB v KXIP\",\"RCB v CSK\",\"RCB v MI\",\"RCB v KKR\",\"RCB v DC\",\"RCB v CSK\",\"RCB v KXIP\",\"RCB v KXIP\",\"RCB v RR\",\"RCB v DC\",\"RCB v CSK\",\"RCB v KKR\",\"RCB v MI\",\"RCB v SRH\",\"RCB v DC\",\"RCB v MI\",\"RCB v RPS\",\"RCB v GL\",\"RCB v KXIP\",\"RCB v KKR\",\"RCB v SRH\",\"RCB v DC\",\"RCB v KKR\",\"RCB v MI\",\"RCB v GL\",\"RCB v KXIP\",\"RCB v SRH\",\"RCB v MI\",\"RCB v CSK\",\"RCB v KKR\",\"RCB v KXIP\",\"RCB v MI\",\"RCB v KKR\",\"RCB v SRH\",\"RCB v KXIP\",\"RCB v RR\",\"RCB v DC\",\"RCB v CSK\",\"RCB v MI\",\"RCB v SRH\",\"RCB v KKR\",\"RCB v DC\",\"RCB v RR\",\"RCB v PWI\",\"RCB v KXIP\",\"RCB v CSK\",\"RCB v DC\",\"RCB v KKR\",\"RCB v RR\",\"RCB v PWI\",\"RCB v KXIP\",\"RCB v DC\",\"RCB v MI\",\"RCB v MI\",\"RCB v PWI\",\"RCB v KXIP\",\"RCB v Kochi\",\"RCB v KKR\",\"RCB v CSK\",\"RCB v KXIP\",\"RCB v RR\",\"RCB v CSK\",\"RCB v DC\",\"RCB v DC\",\"RCB v KKR\",\"RCB v MI\",\"RCB v KXIP\",\"RCB v DC\",\"RCB v KKR\",\"RCB v KXIP\",\"RCB v MI\",\"RCB v RR\",\"RCB v MI\",\"RCB v KKR\",\"RCB v DC\",\"RCB v DC\",\"RCB v KKR\",\"RCB v RR\",\"RCB v DC\",\"RCB v KXIP\",\"RCB v DC\"],\"xaxis\":\"x\",\"yaxis\":\"y\",\"type\":\"histogram\"},{\"alignmentgroup\":\"True\",\"bingroup\":\"x\",\"hovertemplate\":\"home_team=MI\\u003cbr\\u003eshort_name=%{x}\\u003cbr\\u003ecount=%{y}\\u003cextra\\u003e\\u003c\\u002fextra\\u003e\",\"legendgroup\":\"MI\",\"marker\":{\"color\":\"#EF553B\",\"pattern\":{\"shape\":\"\"}},\"name\":\"MI\",\"offsetgroup\":\"MI\",\"orientation\":\"v\",\"showlegend\":true,\"x\":[\"MI v SRH\",\"MI v GT\",\"MI v RCB\",\"MI v RR\",\"MI v PBKS\",\"MI v KKR\",\"MI v CSK\",\"MI v RR\",\"MI v PBKS\",\"MI v LSG\",\"MI v CSK\",\"MI v KKR\",\"MI v SRH\",\"MI v DC\",\"MI v DC\",\"MI v PBKS\",\"MI v KKR\",\"MI v CSK\",\"MI v RR\",\"MI v SRH\",\"MI v CSK\",\"MI v SRH\",\"MI v RR\",\"MI v DC\",\"MI v KKR\",\"MI v KXIP\",\"MI v RCB\",\"MI v DC\",\"MI v CSK\",\"MI v KXIP\",\"MI v RR\",\"MI v RCB\",\"MI v SRH\",\"MI v KKR\",\"MI v CSK\",\"MI v DC\",\"MI v RCB\",\"MI v SRH\",\"MI v KKR\",\"MI v RR\",\"MI v KXIP\",\"MI v KKR\",\"MI v SRH\",\"MI v GL\",\"MI v DC\",\"MI v RPS\",\"MI v RCB\",\"MI v KXIP\",\"MI v RPS\",\"MI v GL\",\"MI v RCB\",\"MI v KKR\",\"MI v SRH\",\"MI v KXIP\",\"MI v DC\",\"MI v KXIP\",\"MI v CSK\",\"MI v SRH\",\"MI v RR\",\"MI v DC\",\"MI v RCB\",\"MI v KKR\",\"MI v KKR\",\"MI v SRH\",\"MI v KXIP\",\"MI v RCB\",\"MI v CSK\",\"MI v DC\",\"MI v RR\",\"MI v DC\",\"MI v PWI\",\"MI v RCB\",\"MI v KXIP\",\"MI v CSK\",\"MI v KKR\",\"MI v SRH\",\"MI v RR\",\"MI v PWI\",\"MI v RR\",\"MI v DC\",\"MI v KXIP\",\"MI v DC\",\"MI v CSK\",\"MI v RCB\",\"MI v KKR\",\"MI v Kochi\",\"MI v PWI\",\"MI v CSK\",\"MI v KXIP\",\"MI v DC\",\"MI v DC\",\"MI v RR\",\"MI v RR\",\"MI v RCB\",\"MI v KKR\",\"MI v CSK\",\"MI v KXIP\",\"MI v DC\",\"MI v DC\",\"MI v RR\",\"MI v RCB\",\"MI v DC\",\"MI v DC\",\"MI v RR\",\"MI v CSK\",\"MI v KKR\"],\"xaxis\":\"x\",\"yaxis\":\"y\",\"type\":\"histogram\"},{\"alignmentgroup\":\"True\",\"bingroup\":\"x\",\"hovertemplate\":\"home_team=KKR\\u003cbr\\u003eshort_name=%{x}\\u003cbr\\u003ecount=%{y}\\u003cextra\\u003e\\u003c\\u002fextra\\u003e\",\"legendgroup\":\"KKR\",\"marker\":{\"color\":\"#00cc96\",\"pattern\":{\"shape\":\"\"}},\"name\":\"KKR\",\"offsetgroup\":\"KKR\",\"orientation\":\"v\",\"showlegend\":true,\"x\":[\"KKR v LSG\",\"KKR v RR\",\"KKR v PBKS\",\"KKR v GT\",\"KKR v CSK\",\"KKR v SRH\",\"KKR v RCB\",\"KKR v PBKS\",\"KKR v MI\",\"KKR v GT\",\"KKR v RR\",\"KKR v SRH\",\"KKR v LSG\",\"KKR v RR\",\"KKR v SRH\",\"KKR v PBKS\",\"KKR v DC\",\"KKR v RCB\",\"KKR v CSK\",\"KKR v MI\",\"KKR v MI\",\"KKR v SRH\",\"KKR v CSK\",\"KKR v RCB\",\"KKR v DC\",\"KKR v KXIP\",\"KKR v RR\",\"KKR v SRH\",\"KKR v KXIP\",\"KKR v DC\",\"KKR v CSK\",\"KKR v RCB\",\"KKR v RR\",\"KKR v MI\",\"KKR v RCB\",\"KKR v SRH\",\"KKR v DC\",\"KKR v KXIP\",\"KKR v CSK\",\"KKR v MI\",\"KKR v RR\",\"KKR v KXIP\",\"KKR v SRH\",\"KKR v GL\",\"KKR v RCB\",\"KKR v DC\",\"KKR v RPS\",\"KKR v MI\",\"KKR v MI\",\"KKR v GL\",\"KKR v RPS\",\"KKR v RCB\",\"KKR v SRH\",\"KKR v MI\",\"KKR v RCB\",\"KKR v CSK\",\"KKR v SRH\",\"KKR v DC\",\"KKR v KXIP\",\"KKR v DC\",\"KKR v KXIP\",\"KKR v RR\",\"KKR v MI\",\"KKR v CSK\",\"KKR v RCB\",\"KKR v SRH\",\"KKR v DC\",\"KKR v SRH\",\"KKR v CSK\",\"KKR v MI\",\"KKR v KXIP\",\"KKR v RR\",\"KKR v RCB\",\"KKR v PWI\",\"KKR v DC\",\"KKR v RR\",\"KKR v KXIP\",\"KKR v RCB\",\"KKR v PWI\",\"KKR v MI\",\"KKR v CSK\",\"KKR v DC\",\"KKR v RR\",\"KKR v Kochi\",\"KKR v RCB\",\"KKR v KXIP\",\"KKR v CSK\",\"KKR v MI\",\"KKR v RCB\",\"KKR v CSK\",\"KKR v DC\",\"KKR v KXIP\",\"KKR v DC\",\"KKR v RR\",\"KKR v MI\",\"KKR v RR\",\"KKR v MI\",\"KKR v MI\",\"KKR v RR\",\"KKR v DC\",\"KKR v MI\",\"KKR v CSK\",\"KKR v RR\"],\"xaxis\":\"x\",\"yaxis\":\"y\",\"type\":\"histogram\"},{\"alignmentgroup\":\"True\",\"bingroup\":\"x\",\"hovertemplate\":\"home_team=DC\\u003cbr\\u003eshort_name=%{x}\\u003cbr\\u003ecount=%{y}\\u003cextra\\u003e\\u003c\\u002fextra\\u003e\",\"legendgroup\":\"DC\",\"marker\":{\"color\":\"#ab63fa\",\"pattern\":{\"shape\":\"\"}},\"name\":\"DC\",\"offsetgroup\":\"DC\",\"orientation\":\"v\",\"showlegend\":true,\"x\":[\"DC v CSK\",\"DC v PBKS\",\"DC v RCB\",\"DC v SRH\",\"DC v KKR\",\"DC v MI\",\"DC v GT\",\"DC v MI\",\"DC v RCB\",\"DC v PBKS\",\"DC v RR\",\"DC v KKR\",\"DC v LSG\",\"DC v SRH\",\"DC v CSK\",\"DC v RR\",\"DC v SRH\",\"DC v KKR\",\"DC v RCB\",\"DC v MI\",\"DC v PBKS\",\"DC v KXIP\",\"DC v SRH\",\"DC v KKR\",\"DC v RR\",\"DC v CSK\",\"DC v MI\",\"DC v RCB\",\"DC v CSK\",\"DC v KKR\",\"DC v SRH\",\"DC v MI\",\"DC v KXIP\",\"DC v RCB\",\"DC v RR\",\"DC v KXIP\",\"DC v KKR\",\"DC v RR\",\"DC v SRH\",\"DC v RCB\",\"DC v CSK\",\"DC v MI\",\"DC v KXIP\",\"DC v KKR\",\"DC v SRH\",\"DC v GL\",\"DC v MI\",\"DC v RPS\",\"DC v RCB\",\"DC v KXIP\",\"DC v GL\",\"DC v KKR\",\"DC v RPS\",\"DC v SRH\",\"DC v RCB\",\"DC v RR\",\"DC v KKR\",\"DC v MI\",\"DC v RCB\",\"DC v KXIP\",\"DC v SRH\",\"DC v CSK\",\"DC v RCB\",\"DC v MI\",\"DC v RR\",\"DC v CSK\",\"DC v KKR\",\"DC v SRH\",\"DC v KXIP\",\"DC v RR\",\"DC v SRH\",\"DC v CSK\",\"DC v MI\",\"DC v KXIP\",\"DC v PWI\",\"DC v KKR\",\"DC v RCB\",\"DC v CSK\",\"DC v PWI\",\"DC v MI\",\"DC v RR\",\"DC v KKR\",\"DC v KXIP\",\"DC v RCB\",\"DC v MI\",\"DC v KXIP\",\"DC v RCB\",\"DC v KKR\",\"DC v Kochi\",\"DC v MI\",\"DC v CSK\",\"DC v KKR\",\"DC v RR\",\"DC v RCB\",\"DC v KXIP\",\"DC v KXIP\",\"DC v RR\",\"DC v KKR\",\"DC v MI\",\"DC v KKR\",\"DC v KXIP\",\"DC v RR\",\"DC v MI\",\"DC v RCB\",\"DC v KXIP\"],\"xaxis\":\"x\",\"yaxis\":\"y\",\"type\":\"histogram\"},{\"alignmentgroup\":\"True\",\"bingroup\":\"x\",\"hovertemplate\":\"home_team=PBKS\\u003cbr\\u003eshort_name=%{x}\\u003cbr\\u003ecount=%{y}\\u003cextra\\u003e\\u003c\\u002fextra\\u003e\",\"legendgroup\":\"PBKS\",\"marker\":{\"color\":\"#FFA15A\",\"pattern\":{\"shape\":\"\"}},\"name\":\"PBKS\",\"offsetgroup\":\"PBKS\",\"orientation\":\"v\",\"showlegend\":true,\"x\":[\"PBKS v RR\",\"PBKS v DC\",\"PBKS v MI\",\"PBKS v LSG\",\"PBKS v RCB\",\"PBKS v GT\",\"PBKS v KKR\",\"PBKS v RCB\",\"PBKS v GT\",\"PBKS v SRH\",\"PBKS v CSK\",\"PBKS v LSG\",\"PBKS v RR\",\"PBKS v DC\",\"PBKS v RR\",\"PBKS v DC\",\"PBKS v RCB\",\"PBKS v KKR\",\"PBKS v MI\",\"PBKS v SRH\",\"PBKS v CSK\"],\"xaxis\":\"x\",\"yaxis\":\"y\",\"type\":\"histogram\"},{\"alignmentgroup\":\"True\",\"bingroup\":\"x\",\"hovertemplate\":\"home_team=SRH\\u003cbr\\u003eshort_name=%{x}\\u003cbr\\u003ecount=%{y}\\u003cextra\\u003e\\u003c\\u002fextra\\u003e\",\"legendgroup\":\"SRH\",\"marker\":{\"color\":\"#19d3f3\",\"pattern\":{\"shape\":\"\"}},\"name\":\"SRH\",\"offsetgroup\":\"SRH\",\"orientation\":\"v\",\"showlegend\":true,\"x\":[\"SRH v RCB\",\"SRH v LSG\",\"SRH v KKR\",\"SRH v DC\",\"SRH v MI\",\"SRH v PBKS\",\"SRH v RR\",\"SRH v RR\",\"SRH v KKR\",\"SRH v CSK\",\"SRH v RCB\",\"SRH v PBKS\",\"SRH v CSK\",\"SRH v RR\",\"SRH v PBKS\",\"SRH v DC\",\"SRH v RCB\",\"SRH v KKR\",\"SRH v RCB\",\"SRH v KXIP\",\"SRH v RR\",\"SRH v CSK\",\"SRH v KKR\",\"SRH v DC\",\"SRH v MI\",\"SRH v RR\",\"SRH v RCB\",\"SRH v MI\",\"SRH v DC\",\"SRH v CSK\",\"SRH v KKR\",\"SRH v KXIP\",\"SRH v RR\",\"SRH v MI\",\"SRH v CSK\",\"SRH v KXIP\",\"SRH v DC\",\"SRH v RCB\",\"SRH v KKR\",\"SRH v GL\",\"SRH v KXIP\",\"SRH v DC\",\"SRH v KKR\",\"SRH v RPS\",\"SRH v MI\",\"SRH v MI\",\"SRH v KXIP\",\"SRH v RPS\",\"SRH v RCB\",\"SRH v DC\",\"SRH v RR\",\"SRH v DC\",\"SRH v KKR\",\"SRH v CSK\",\"SRH v KXIP\",\"SRH v RCB\",\"SRH v MI\",\"SRH v RR\",\"SRH v DC\",\"SRH v CSK\",\"SRH v MI\",\"SRH v KXIP\",\"SRH v KKR\",\"SRH v RCB\",\"SRH v PWI\",\"SRH v RCB\",\"SRH v MI\",\"SRH v DC\",\"SRH v CSK\",\"SRH v RR\",\"SRH v KKR\",\"DC v CSK\",\"DC v MI\",\"DC v KKR\",\"DC v PWI\",\"DC v KXIP\",\"DC v RR\",\"DC v RCB\",\"DC v RR\",\"DC v RCB\",\"DC v KXIP\",\"DC v MI\",\"DC v KKR\",\"DC v PWI\",\"DC v KKR\",\"DC v KXIP\",\"DC v MI\",\"DC v RR\",\"DC v CSK\",\"DC v RCB\",\"DC v KKR\",\"DC v MI\",\"DC v RR\",\"DC v MI\",\"DC v KXIP\",\"DC v RR\",\"DC v KKR\",\"DC v KXIP\",\"DC v RR\",\"DC v KXIP\",\"DC v MI\"],\"xaxis\":\"x\",\"yaxis\":\"y\",\"type\":\"histogram\"},{\"alignmentgroup\":\"True\",\"bingroup\":\"x\",\"hovertemplate\":\"home_team=LSG\\u003cbr\\u003eshort_name=%{x}\\u003cbr\\u003ecount=%{y}\\u003cextra\\u003e\\u003c\\u002fextra\\u003e\",\"legendgroup\":\"LSG\",\"marker\":{\"color\":\"#FF6692\",\"pattern\":{\"shape\":\"\"}},\"name\":\"LSG\",\"offsetgroup\":\"LSG\",\"orientation\":\"v\",\"showlegend\":true,\"x\":[\"LSG v MI\",\"LSG v RCB\",\"LSG v GT\",\"LSG v PBKS\",\"LSG v SRH\",\"LSG v DC\",\"LSG v CSK\",\"LSG v DC\",\"LSG v RCB\",\"LSG v MI\",\"LSG v KKR\",\"LSG v GT\",\"LSG v RR\"],\"xaxis\":\"x\",\"yaxis\":\"y\",\"type\":\"histogram\"},{\"alignmentgroup\":\"True\",\"bingroup\":\"x\",\"hovertemplate\":\"home_team=GT\\u003cbr\\u003eshort_name=%{x}\\u003cbr\\u003ecount=%{y}\\u003cextra\\u003e\\u003c\\u002fextra\\u003e\",\"legendgroup\":\"GT\",\"marker\":{\"color\":\"#B6E880\",\"pattern\":{\"shape\":\"\"}},\"name\":\"GT\",\"offsetgroup\":\"GT\",\"orientation\":\"v\",\"showlegend\":true,\"x\":[\"GT v SRH\",\"GT v LSG\",\"GT v DC\",\"GT v MI\",\"GT v RR\",\"GT v KKR\",\"GT v CSK\",\"GT v LSG\",\"GT v DC\",\"GT v CSK\",\"GT v SRH\",\"GT v RCB\",\"GT v PBKS\",\"GT v MI\"],\"xaxis\":\"x\",\"yaxis\":\"y\",\"type\":\"histogram\"},{\"alignmentgroup\":\"True\",\"bingroup\":\"x\",\"hovertemplate\":\"home_team=CSK\\u003cbr\\u003eshort_name=%{x}\\u003cbr\\u003ecount=%{y}\\u003cextra\\u003e\\u003c\\u002fextra\\u003e\",\"legendgroup\":\"CSK\",\"marker\":{\"color\":\"#FF97FF\",\"pattern\":{\"shape\":\"\"}},\"name\":\"CSK\",\"offsetgroup\":\"CSK\",\"orientation\":\"v\",\"showlegend\":true,\"x\":[\"CSK v KKR\",\"CSK v DC\",\"CSK v MI\",\"CSK v PBKS\",\"CSK v SRH\",\"CSK v RR\",\"CSK v LSG\",\"CSK v KKR\",\"CSK v PBKS\",\"CSK v SRH\",\"CSK v RCB\",\"CSK v DC\",\"CSK v MI\",\"CSK v GT\",\"CSK v PBKS\",\"CSK v KKR\",\"CSK v MI\",\"CSK v SRH\",\"CSK v RCB\",\"CSK v RR\",\"CSK v DC\",\"CSK v SRH\",\"CSK v RCB\",\"CSK v RR\",\"CSK v MI\",\"CSK v KKR\",\"CSK v KXIP\",\"CSK v RCB\",\"CSK v RR\",\"CSK v KXIP\",\"CSK v KKR\",\"CSK v SRH\",\"CSK v MI\",\"CSK v DC\",\"CSK v KKR\",\"CSK v RR\",\"CSK v MI\",\"CSK v DC\",\"CSK v RCB\",\"CSK v SRH\",\"CSK v KXIP\",\"CSK v DC\",\"CSK v SRH\",\"CSK v KXIP\",\"CSK v KKR\",\"CSK v RCB\",\"CSK v MI\",\"CSK v RR\",\"CSK v KXIP\",\"CSK v DC\",\"CSK v MI\",\"CSK v KKR\",\"CSK v RR\",\"CSK v RCB\",\"CSK v SRH\",\"CSK v MI\",\"CSK v RCB\",\"CSK v PWI\",\"CSK v RR\",\"CSK v SRH\",\"CSK v KKR\",\"CSK v KXIP\",\"CSK v DC\",\"CSK v MI\",\"CSK v RCB\",\"CSK v PWI\",\"CSK v RR\",\"CSK v KXIP\",\"CSK v KKR\",\"CSK v DC\",\"CSK v DC\",\"CSK v KKR\",\"CSK v RCB\",\"CSK v PWI\",\"CSK v DC\",\"CSK v RR\",\"CSK v DC\",\"CSK v Kochi\",\"CSK v DC\",\"CSK v RCB\",\"CSK v RR\",\"CSK v MI\",\"CSK v KKR\",\"CSK v DC\",\"CSK v MI\",\"CSK v DC\",\"CSK v DC\",\"CSK v RR\",\"CSK v DC\",\"CSK v DC\",\"CSK v KXIP\",\"CSK v RR\",\"CSK v MI\",\"CSK v KKR\",\"CSK v KXIP\",\"CSK v MI\",\"CSK v KKR\",\"CSK v DC\",\"CSK v DC\",\"CSK v KXIP\",\"CSK v RCB\"],\"xaxis\":\"x\",\"yaxis\":\"y\",\"type\":\"histogram\"},{\"alignmentgroup\":\"True\",\"bingroup\":\"x\",\"hovertemplate\":\"home_team=RR\\u003cbr\\u003eshort_name=%{x}\\u003cbr\\u003ecount=%{y}\\u003cextra\\u003e\\u003c\\u002fextra\\u003e\",\"legendgroup\":\"RR\",\"marker\":{\"color\":\"#FECB52\",\"pattern\":{\"shape\":\"\"}},\"name\":\"RR\",\"offsetgroup\":\"RR\",\"orientation\":\"v\",\"showlegend\":true,\"x\":[\"RR v RCB\",\"RR v SRH\",\"RR v GT\",\"RR v CSK\",\"RR v LSG\",\"RR v DC\",\"RR v PBKS\",\"RR v RCB\",\"RR v GT\",\"RR v KKR\",\"RR v MI\",\"RR v DC\",\"RR v CSK\",\"RR v MI\",\"RR v CSK\",\"RR v RCB\",\"RR v SRH\",\"RR v KKR\",\"RR v DC\",\"RR v PBKS\",\"RR v CSK\",\"RR v KXIP\",\"RR v KKR\",\"RR v DC\",\"RR v RCB\",\"RR v MI\",\"RR v KXIP\",\"RR v RCB\",\"RR v KKR\",\"RR v CSK\",\"RR v MI\",\"RR v DC\",\"RR v SRH\",\"RR v DC\",\"RR v KKR\",\"RR v MI\",\"RR v SRH\",\"RR v KXIP\",\"RR v CSK\",\"RR v RCB\",\"RR v MI\",\"RR v CSK\",\"RR v KXIP\",\"RR v RCB\",\"RR v SRH\",\"RR v KKR\",\"RR v KXIP\",\"RR v CSK\",\"RR v RCB\",\"RR v KKR\",\"RR v SRH\",\"RR v DC\",\"RR v MI\",\"RR v KKR\",\"RR v KXIP\",\"RR v MI\",\"RR v SRH\",\"RR v RCB\",\"RR v PWI\",\"RR v DC\",\"RR v CSK\",\"RR v KXIP\",\"RR v KKR\",\"RR v DC\",\"RR v RCB\",\"RR v DC\",\"RR v CSK\",\"RR v PWI\",\"RR v MI\",\"RR v DC\",\"RR v KKR\",\"RR v Kochi\",\"RR v MI\",\"RR v PWI\",\"RR v CSK\",\"RR v RCB\",\"RR v DC\",\"RR v KKR\",\"RR v DC\",\"RR v CSK\",\"RR v KXIP\",\"RR v MI\",\"RR v RCB\",\"RR v KXIP\",\"RR v KKR\",\"RR v CSK\",\"RR v RCB\",\"RR v MI\"],\"xaxis\":\"x\",\"yaxis\":\"y\",\"type\":\"histogram\"},{\"alignmentgroup\":\"True\",\"bingroup\":\"x\",\"hovertemplate\":\"home_team=KXIP\\u003cbr\\u003eshort_name=%{x}\\u003cbr\\u003ecount=%{y}\\u003cextra\\u003e\\u003c\\u002fextra\\u003e\",\"legendgroup\":\"KXIP\",\"marker\":{\"color\":\"#636efa\",\"pattern\":{\"shape\":\"\"}},\"name\":\"KXIP\",\"offsetgroup\":\"KXIP\",\"orientation\":\"v\",\"showlegend\":true,\"x\":[\"KXIP v RCB\",\"KXIP v MI\",\"KXIP v CSK\",\"KXIP v KKR\",\"KXIP v DC\",\"KXIP v SRH\",\"KXIP v RR\",\"KXIP v MI\",\"KXIP v DC\",\"KXIP v SRH\",\"KXIP v RCB\",\"KXIP v RR\",\"KXIP v KKR\",\"KXIP v CSK\",\"KXIP v DC\",\"KXIP v CSK\",\"KXIP v SRH\",\"KXIP v MI\",\"KXIP v RR\",\"KXIP v KKR\",\"KXIP v RCB\",\"KXIP v RPS\",\"KXIP v RCB\",\"KXIP v MI\",\"KXIP v SRH\",\"KXIP v DC\",\"KXIP v GL\",\"KXIP v KKR\",\"KXIP v GL\",\"KXIP v KKR\",\"KXIP v MI\",\"KXIP v RCB\",\"KXIP v SRH\",\"KXIP v RR\",\"KXIP v DC\",\"KXIP v KKR\",\"KXIP v SRH\",\"KXIP v MI\",\"KXIP v RCB\",\"KXIP v CSK\",\"KXIP v SRH\",\"KXIP v RCB\",\"KXIP v CSK\",\"KXIP v KKR\",\"KXIP v MI\",\"KXIP v RR\",\"KXIP v DC\",\"KXIP v CSK\",\"KXIP v PWI\",\"KXIP v RCB\",\"KXIP v RR\",\"KXIP v SRH\",\"KXIP v DC\",\"KXIP v PWI\",\"KXIP v KKR\",\"KXIP v RCB\",\"KXIP v MI\",\"KXIP v RR\",\"KXIP v DC\",\"KXIP v CSK\",\"KXIP v DC\",\"KXIP v CSK\",\"KXIP v RR\",\"KXIP v PWI\",\"KXIP v MI\",\"KXIP v DC\",\"KXIP v RCB\",\"KXIP v DC\",\"KXIP v DC\",\"KXIP v RR\",\"KXIP v KKR\",\"KXIP v RCB\",\"KXIP v MI\",\"KXIP v DC\",\"KXIP v CSK\",\"KXIP v KKR\",\"KXIP v RR\",\"KXIP v MI\",\"KXIP v KKR\",\"KXIP v RR\",\"KXIP v MI\",\"KXIP v CSK\",\"KXIP v MI\",\"KXIP v DC\",\"KXIP v KKR\",\"KXIP v RCB\",\"KXIP v DC\",\"KXIP v RR\"],\"xaxis\":\"x\",\"yaxis\":\"y\",\"type\":\"histogram\"},{\"alignmentgroup\":\"True\",\"bingroup\":\"x\",\"hovertemplate\":\"home_team=RPS\\u003cbr\\u003eshort_name=%{x}\\u003cbr\\u003ecount=%{y}\\u003cextra\\u003e\\u003c\\u002fextra\\u003e\",\"legendgroup\":\"RPS\",\"marker\":{\"color\":\"#EF553B\",\"pattern\":{\"shape\":\"\"}},\"name\":\"RPS\",\"offsetgroup\":\"RPS\",\"orientation\":\"v\",\"showlegend\":true,\"x\":[\"RPS v MI\",\"RPS v DC\",\"RPS v SRH\",\"RPS v KKR\",\"RPS v RCB\",\"RPS v GL\",\"RPS v KXIP\",\"RPS v GL\",\"RPS v MI\",\"RPS v SRH\",\"RPS v DC\",\"RPS v KXIP\"],\"xaxis\":\"x\",\"yaxis\":\"y\",\"type\":\"histogram\"},{\"alignmentgroup\":\"True\",\"bingroup\":\"x\",\"hovertemplate\":\"home_team=GL\\u003cbr\\u003eshort_name=%{x}\\u003cbr\\u003ecount=%{y}\\u003cextra\\u003e\\u003c\\u002fextra\\u003e\",\"legendgroup\":\"GL\",\"marker\":{\"color\":\"#00cc96\",\"pattern\":{\"shape\":\"\"}},\"name\":\"GL\",\"offsetgroup\":\"GL\",\"orientation\":\"v\",\"showlegend\":true,\"x\":[\"GL v KKR\",\"GL v RPS\",\"GL v RCB\",\"GL v KXIP\",\"GL v MI\",\"GL v DC\",\"GL v SRH\",\"GL v KXIP\",\"GL v DC\",\"GL v KKR\",\"GL v MI\"],\"xaxis\":\"x\",\"yaxis\":\"y\",\"type\":\"histogram\"},{\"alignmentgroup\":\"True\",\"bingroup\":\"x\",\"hovertemplate\":\"home_team=PWI\\u003cbr\\u003eshort_name=%{x}\\u003cbr\\u003ecount=%{y}\\u003cextra\\u003e\\u003c\\u002fextra\\u003e\",\"legendgroup\":\"PWI\",\"marker\":{\"color\":\"#ab63fa\",\"pattern\":{\"shape\":\"\"}},\"name\":\"PWI\",\"offsetgroup\":\"PWI\",\"orientation\":\"v\",\"showlegend\":true,\"x\":[\"PWI v KXIP\",\"PWI v RR\",\"PWI v SRH\",\"PWI v CSK\",\"PWI v RCB\",\"PWI v KKR\",\"PWI v MI\",\"PWI v DC\",\"PWI v KXIP\",\"PWI v CSK\",\"PWI v DC\",\"PWI v DC\",\"PWI v MI\",\"PWI v RR\",\"PWI v RCB\",\"PWI v KKR\",\"PWI v KXIP\",\"PWI v Kochi\",\"PWI v DC\",\"PWI v CSK\",\"PWI v MI\",\"PWI v DC\",\"PWI v KKR\"],\"xaxis\":\"x\",\"yaxis\":\"y\",\"type\":\"histogram\"},{\"alignmentgroup\":\"True\",\"bingroup\":\"x\",\"hovertemplate\":\"home_team=Kochi\\u003cbr\\u003eshort_name=%{x}\\u003cbr\\u003ecount=%{y}\\u003cextra\\u003e\\u003c\\u002fextra\\u003e\",\"legendgroup\":\"Kochi\",\"marker\":{\"color\":\"#FFA15A\",\"pattern\":{\"shape\":\"\"}},\"name\":\"Kochi\",\"offsetgroup\":\"Kochi\",\"orientation\":\"v\",\"showlegend\":true,\"x\":[\"Kochi v RCB\",\"Kochi v CSK\",\"Kochi v DC\",\"Kochi v DC\",\"Kochi v KKR\",\"Kochi v KXIP\",\"Kochi v RR\"],\"xaxis\":\"x\",\"yaxis\":\"y\",\"type\":\"histogram\"}],                        {\"template\":{\"data\":{\"histogram2dcontour\":[{\"type\":\"histogram2dcontour\",\"colorbar\":{\"outlinewidth\":0,\"ticks\":\"\"},\"colorscale\":[[0.0,\"#0d0887\"],[0.1111111111111111,\"#46039f\"],[0.2222222222222222,\"#7201a8\"],[0.3333333333333333,\"#9c179e\"],[0.4444444444444444,\"#bd3786\"],[0.5555555555555556,\"#d8576b\"],[0.6666666666666666,\"#ed7953\"],[0.7777777777777778,\"#fb9f3a\"],[0.8888888888888888,\"#fdca26\"],[1.0,\"#f0f921\"]]}],\"choropleth\":[{\"type\":\"choropleth\",\"colorbar\":{\"outlinewidth\":0,\"ticks\":\"\"}}],\"histogram2d\":[{\"type\":\"histogram2d\",\"colorbar\":{\"outlinewidth\":0,\"ticks\":\"\"},\"colorscale\":[[0.0,\"#0d0887\"],[0.1111111111111111,\"#46039f\"],[0.2222222222222222,\"#7201a8\"],[0.3333333333333333,\"#9c179e\"],[0.4444444444444444,\"#bd3786\"],[0.5555555555555556,\"#d8576b\"],[0.6666666666666666,\"#ed7953\"],[0.7777777777777778,\"#fb9f3a\"],[0.8888888888888888,\"#fdca26\"],[1.0,\"#f0f921\"]]}],\"heatmap\":[{\"type\":\"heatmap\",\"colorbar\":{\"outlinewidth\":0,\"ticks\":\"\"},\"colorscale\":[[0.0,\"#0d0887\"],[0.1111111111111111,\"#46039f\"],[0.2222222222222222,\"#7201a8\"],[0.3333333333333333,\"#9c179e\"],[0.4444444444444444,\"#bd3786\"],[0.5555555555555556,\"#d8576b\"],[0.6666666666666666,\"#ed7953\"],[0.7777777777777778,\"#fb9f3a\"],[0.8888888888888888,\"#fdca26\"],[1.0,\"#f0f921\"]]}],\"heatmapgl\":[{\"type\":\"heatmapgl\",\"colorbar\":{\"outlinewidth\":0,\"ticks\":\"\"},\"colorscale\":[[0.0,\"#0d0887\"],[0.1111111111111111,\"#46039f\"],[0.2222222222222222,\"#7201a8\"],[0.3333333333333333,\"#9c179e\"],[0.4444444444444444,\"#bd3786\"],[0.5555555555555556,\"#d8576b\"],[0.6666666666666666,\"#ed7953\"],[0.7777777777777778,\"#fb9f3a\"],[0.8888888888888888,\"#fdca26\"],[1.0,\"#f0f921\"]]}],\"contourcarpet\":[{\"type\":\"contourcarpet\",\"colorbar\":{\"outlinewidth\":0,\"ticks\":\"\"}}],\"contour\":[{\"type\":\"contour\",\"colorbar\":{\"outlinewidth\":0,\"ticks\":\"\"},\"colorscale\":[[0.0,\"#0d0887\"],[0.1111111111111111,\"#46039f\"],[0.2222222222222222,\"#7201a8\"],[0.3333333333333333,\"#9c179e\"],[0.4444444444444444,\"#bd3786\"],[0.5555555555555556,\"#d8576b\"],[0.6666666666666666,\"#ed7953\"],[0.7777777777777778,\"#fb9f3a\"],[0.8888888888888888,\"#fdca26\"],[1.0,\"#f0f921\"]]}],\"surface\":[{\"type\":\"surface\",\"colorbar\":{\"outlinewidth\":0,\"ticks\":\"\"},\"colorscale\":[[0.0,\"#0d0887\"],[0.1111111111111111,\"#46039f\"],[0.2222222222222222,\"#7201a8\"],[0.3333333333333333,\"#9c179e\"],[0.4444444444444444,\"#bd3786\"],[0.5555555555555556,\"#d8576b\"],[0.6666666666666666,\"#ed7953\"],[0.7777777777777778,\"#fb9f3a\"],[0.8888888888888888,\"#fdca26\"],[1.0,\"#f0f921\"]]}],\"mesh3d\":[{\"type\":\"mesh3d\",\"colorbar\":{\"outlinewidth\":0,\"ticks\":\"\"}}],\"scatter\":[{\"fillpattern\":{\"fillmode\":\"overlay\",\"size\":10,\"solidity\":0.2},\"type\":\"scatter\"}],\"parcoords\":[{\"type\":\"parcoords\",\"line\":{\"colorbar\":{\"outlinewidth\":0,\"ticks\":\"\"}}}],\"scatterpolargl\":[{\"type\":\"scatterpolargl\",\"marker\":{\"colorbar\":{\"outlinewidth\":0,\"ticks\":\"\"}}}],\"bar\":[{\"error_x\":{\"color\":\"#2a3f5f\"},\"error_y\":{\"color\":\"#2a3f5f\"},\"marker\":{\"line\":{\"color\":\"#E5ECF6\",\"width\":0.5},\"pattern\":{\"fillmode\":\"overlay\",\"size\":10,\"solidity\":0.2}},\"type\":\"bar\"}],\"scattergeo\":[{\"type\":\"scattergeo\",\"marker\":{\"colorbar\":{\"outlinewidth\":0,\"ticks\":\"\"}}}],\"scatterpolar\":[{\"type\":\"scatterpolar\",\"marker\":{\"colorbar\":{\"outlinewidth\":0,\"ticks\":\"\"}}}],\"histogram\":[{\"marker\":{\"pattern\":{\"fillmode\":\"overlay\",\"size\":10,\"solidity\":0.2}},\"type\":\"histogram\"}],\"scattergl\":[{\"type\":\"scattergl\",\"marker\":{\"colorbar\":{\"outlinewidth\":0,\"ticks\":\"\"}}}],\"scatter3d\":[{\"type\":\"scatter3d\",\"line\":{\"colorbar\":{\"outlinewidth\":0,\"ticks\":\"\"}},\"marker\":{\"colorbar\":{\"outlinewidth\":0,\"ticks\":\"\"}}}],\"scattermapbox\":[{\"type\":\"scattermapbox\",\"marker\":{\"colorbar\":{\"outlinewidth\":0,\"ticks\":\"\"}}}],\"scatterternary\":[{\"type\":\"scatterternary\",\"marker\":{\"colorbar\":{\"outlinewidth\":0,\"ticks\":\"\"}}}],\"scattercarpet\":[{\"type\":\"scattercarpet\",\"marker\":{\"colorbar\":{\"outlinewidth\":0,\"ticks\":\"\"}}}],\"carpet\":[{\"aaxis\":{\"endlinecolor\":\"#2a3f5f\",\"gridcolor\":\"white\",\"linecolor\":\"white\",\"minorgridcolor\":\"white\",\"startlinecolor\":\"#2a3f5f\"},\"baxis\":{\"endlinecolor\":\"#2a3f5f\",\"gridcolor\":\"white\",\"linecolor\":\"white\",\"minorgridcolor\":\"white\",\"startlinecolor\":\"#2a3f5f\"},\"type\":\"carpet\"}],\"table\":[{\"cells\":{\"fill\":{\"color\":\"#EBF0F8\"},\"line\":{\"color\":\"white\"}},\"header\":{\"fill\":{\"color\":\"#C8D4E3\"},\"line\":{\"color\":\"white\"}},\"type\":\"table\"}],\"barpolar\":[{\"marker\":{\"line\":{\"color\":\"#E5ECF6\",\"width\":0.5},\"pattern\":{\"fillmode\":\"overlay\",\"size\":10,\"solidity\":0.2}},\"type\":\"barpolar\"}],\"pie\":[{\"automargin\":true,\"type\":\"pie\"}]},\"layout\":{\"autotypenumbers\":\"strict\",\"colorway\":[\"#636efa\",\"#EF553B\",\"#00cc96\",\"#ab63fa\",\"#FFA15A\",\"#19d3f3\",\"#FF6692\",\"#B6E880\",\"#FF97FF\",\"#FECB52\"],\"font\":{\"color\":\"#2a3f5f\"},\"hovermode\":\"closest\",\"hoverlabel\":{\"align\":\"left\"},\"paper_bgcolor\":\"white\",\"plot_bgcolor\":\"#E5ECF6\",\"polar\":{\"bgcolor\":\"#E5ECF6\",\"angularaxis\":{\"gridcolor\":\"white\",\"linecolor\":\"white\",\"ticks\":\"\"},\"radialaxis\":{\"gridcolor\":\"white\",\"linecolor\":\"white\",\"ticks\":\"\"}},\"ternary\":{\"bgcolor\":\"#E5ECF6\",\"aaxis\":{\"gridcolor\":\"white\",\"linecolor\":\"white\",\"ticks\":\"\"},\"baxis\":{\"gridcolor\":\"white\",\"linecolor\":\"white\",\"ticks\":\"\"},\"caxis\":{\"gridcolor\":\"white\",\"linecolor\":\"white\",\"ticks\":\"\"}},\"coloraxis\":{\"colorbar\":{\"outlinewidth\":0,\"ticks\":\"\"}},\"colorscale\":{\"sequential\":[[0.0,\"#0d0887\"],[0.1111111111111111,\"#46039f\"],[0.2222222222222222,\"#7201a8\"],[0.3333333333333333,\"#9c179e\"],[0.4444444444444444,\"#bd3786\"],[0.5555555555555556,\"#d8576b\"],[0.6666666666666666,\"#ed7953\"],[0.7777777777777778,\"#fb9f3a\"],[0.8888888888888888,\"#fdca26\"],[1.0,\"#f0f921\"]],\"sequentialminus\":[[0.0,\"#0d0887\"],[0.1111111111111111,\"#46039f\"],[0.2222222222222222,\"#7201a8\"],[0.3333333333333333,\"#9c179e\"],[0.4444444444444444,\"#bd3786\"],[0.5555555555555556,\"#d8576b\"],[0.6666666666666666,\"#ed7953\"],[0.7777777777777778,\"#fb9f3a\"],[0.8888888888888888,\"#fdca26\"],[1.0,\"#f0f921\"]],\"diverging\":[[0,\"#8e0152\"],[0.1,\"#c51b7d\"],[0.2,\"#de77ae\"],[0.3,\"#f1b6da\"],[0.4,\"#fde0ef\"],[0.5,\"#f7f7f7\"],[0.6,\"#e6f5d0\"],[0.7,\"#b8e186\"],[0.8,\"#7fbc41\"],[0.9,\"#4d9221\"],[1,\"#276419\"]]},\"xaxis\":{\"gridcolor\":\"white\",\"linecolor\":\"white\",\"ticks\":\"\",\"title\":{\"standoff\":15},\"zerolinecolor\":\"white\",\"automargin\":true,\"zerolinewidth\":2},\"yaxis\":{\"gridcolor\":\"white\",\"linecolor\":\"white\",\"ticks\":\"\",\"title\":{\"standoff\":15},\"zerolinecolor\":\"white\",\"automargin\":true,\"zerolinewidth\":2},\"scene\":{\"xaxis\":{\"backgroundcolor\":\"#E5ECF6\",\"gridcolor\":\"white\",\"linecolor\":\"white\",\"showbackground\":true,\"ticks\":\"\",\"zerolinecolor\":\"white\",\"gridwidth\":2},\"yaxis\":{\"backgroundcolor\":\"#E5ECF6\",\"gridcolor\":\"white\",\"linecolor\":\"white\",\"showbackground\":true,\"ticks\":\"\",\"zerolinecolor\":\"white\",\"gridwidth\":2},\"zaxis\":{\"backgroundcolor\":\"#E5ECF6\",\"gridcolor\":\"white\",\"linecolor\":\"white\",\"showbackground\":true,\"ticks\":\"\",\"zerolinecolor\":\"white\",\"gridwidth\":2}},\"shapedefaults\":{\"line\":{\"color\":\"#2a3f5f\"}},\"annotationdefaults\":{\"arrowcolor\":\"#2a3f5f\",\"arrowhead\":0,\"arrowwidth\":1},\"geo\":{\"bgcolor\":\"white\",\"landcolor\":\"#E5ECF6\",\"subunitcolor\":\"white\",\"showland\":true,\"showlakes\":true,\"lakecolor\":\"white\"},\"title\":{\"x\":0.05},\"mapbox\":{\"style\":\"light\"}}},\"xaxis\":{\"anchor\":\"y\",\"domain\":[0.0,1.0],\"title\":{\"text\":\"Matches\"}},\"yaxis\":{\"anchor\":\"x\",\"domain\":[0.0,1.0],\"title\":{\"text\":\"Count\"}},\"legend\":{\"title\":{\"text\":\"home_team\"},\"tracegroupgap\":0},\"margin\":{\"t\":60},\"barmode\":\"relative\",\"title\":{\"text\":\"Distribution of matches and Home team\"}},                        {\"responsive\": true}                    ).then(function(){\n",
       "                            \n",
       "var gd = document.getElementById('a4ca3d3b-9c92-4026-a170-28378c709d23');\n",
       "var x = new MutationObserver(function (mutations, observer) {{\n",
       "        var display = window.getComputedStyle(gd).display;\n",
       "        if (!display || display === 'none') {{\n",
       "            console.log([gd, 'removed!']);\n",
       "            Plotly.purge(gd);\n",
       "            observer.disconnect();\n",
       "        }}\n",
       "}});\n",
       "\n",
       "// Listen for the removal of the full notebook cells\n",
       "var notebookContainer = gd.closest('#notebook-container');\n",
       "if (notebookContainer) {{\n",
       "    x.observe(notebookContainer, {childList: true});\n",
       "}}\n",
       "\n",
       "// Listen for the clearing of the current output cell\n",
       "var outputEl = gd.closest('.output');\n",
       "if (outputEl) {{\n",
       "    x.observe(outputEl, {childList: true});\n",
       "}}\n",
       "\n",
       "                        })                };                });            </script>        </div>"
      ]
     },
     "metadata": {},
     "output_type": "display_data"
    }
   ],
   "source": [
    "fig = px.histogram(df, x='short_name',color='home_team')\n",
    "fig.update_layout(\n",
    "    title=\"Distribution of matches and Home team\",\n",
    "    xaxis_title=\"Matches\",\n",
    "    yaxis_title=\"Count\"\n",
    ")\n",
    "\n",
    "fig.show()"
   ]
  },
  {
   "cell_type": "code",
   "execution_count": 37,
   "id": "56adca75-9678-47e9-8d38-febd6e57207b",
   "metadata": {},
   "outputs": [
    {
     "data": {
      "application/vnd.plotly.v1+json": {
       "config": {
        "plotlyServerURL": "https://plot.ly"
       },
       "data": [
        {
         "alignmentgroup": "True",
         "bingroup": "x",
         "hovertemplate": "away_team=GT<br>short_name=%{x}<br>count=%{y}<extra></extra>",
         "legendgroup": "GT",
         "marker": {
          "color": "#636efa",
          "pattern": {
           "shape": ""
          }
         },
         "name": "GT",
         "offsetgroup": "GT",
         "orientation": "v",
         "showlegend": true,
         "type": "histogram",
         "x": [
          "RCB v GT",
          "MI v GT",
          "RR v GT",
          "KKR v GT",
          "LSG v GT",
          "PBKS v GT",
          "DC v GT",
          "PBKS v GT",
          "RR v GT",
          "KKR v GT",
          "LSG v GT",
          "CSK v GT",
          "RCB v GT"
         ],
         "xaxis": "x",
         "yaxis": "y"
        },
        {
         "alignmentgroup": "True",
         "bingroup": "x",
         "hovertemplate": "away_team=SRH<br>short_name=%{x}<br>count=%{y}<extra></extra>",
         "legendgroup": "SRH",
         "marker": {
          "color": "#EF553B",
          "pattern": {
           "shape": ""
          }
         },
         "name": "SRH",
         "offsetgroup": "SRH",
         "orientation": "v",
         "showlegend": true,
         "type": "histogram",
         "x": [
          "MI v SRH",
          "GT v SRH",
          "RR v SRH",
          "DC v SRH",
          "CSK v SRH",
          "KKR v SRH",
          "LSG v SRH",
          "CSK v SRH",
          "PBKS v SRH",
          "RCB v SRH",
          "GT v SRH",
          "DC v SRH",
          "KKR v SRH",
          "MI v SRH",
          "RCB v SRH",
          "KKR v SRH",
          "DC v SRH",
          "RR v SRH",
          "CSK v SRH",
          "PBKS v SRH",
          "MI v SRH",
          "KKR v SRH",
          "DC v SRH",
          "CSK v SRH",
          "MI v SRH",
          "KXIP v SRH",
          "KKR v SRH",
          "DC v SRH",
          "KXIP v SRH",
          "CSK v SRH",
          "RR v SRH",
          "MI v SRH",
          "KKR v SRH",
          "KXIP v SRH",
          "MI v SRH",
          "RR v SRH",
          "DC v SRH",
          "CSK v SRH",
          "RCB v SRH",
          "MI v SRH",
          "KKR v SRH",
          "RPS v SRH",
          "KXIP v SRH",
          "DC v SRH",
          "GL v SRH",
          "RCB v SRH",
          "MI v SRH",
          "RPS v SRH",
          "KXIP v SRH",
          "DC v SRH",
          "KKR v SRH",
          "CSK v SRH",
          "RCB v SRH",
          "MI v SRH",
          "KXIP v SRH",
          "KKR v SRH",
          "RR v SRH",
          "DC v SRH",
          "KXIP v SRH",
          "MI v SRH",
          "RCB v SRH",
          "RR v SRH",
          "DC v SRH",
          "CSK v SRH",
          "KKR v SRH",
          "RCB v SRH",
          "DC v SRH",
          "KKR v SRH",
          "PWI v SRH",
          "CSK v SRH",
          "RR v SRH",
          "KXIP v SRH",
          "MI v SRH",
          "RR v DC",
          "PWI v DC",
          "MI v DC",
          "CSK v DC",
          "RCB v DC",
          "KXIP v DC",
          "KKR v DC",
          "Kochi v DC",
          "CSK v DC",
          "MI v DC",
          "PWI v DC",
          "KXIP v DC",
          "CSK v DC",
          "RR v DC",
          "KKR v DC",
          "MI v DC",
          "RCB v DC",
          "KXIP v DC",
          "CSK v DC",
          "CSK v DC",
          "RCB v DC",
          "KKR v DC",
          "MI v DC",
          "RCB v DC",
          "CSK v DC",
          "KXIP v DC"
         ],
         "xaxis": "x",
         "yaxis": "y"
        },
        {
         "alignmentgroup": "True",
         "bingroup": "x",
         "hovertemplate": "away_team=LSG<br>short_name=%{x}<br>count=%{y}<extra></extra>",
         "legendgroup": "LSG",
         "marker": {
          "color": "#00cc96",
          "pattern": {
           "shape": ""
          }
         },
         "name": "LSG",
         "offsetgroup": "LSG",
         "orientation": "v",
         "showlegend": true,
         "type": "histogram",
         "x": [
          "KKR v LSG",
          "SRH v LSG",
          "GT v LSG",
          "PBKS v LSG",
          "RR v LSG",
          "RCB v LSG",
          "CSK v LSG",
          "GT v LSG",
          "MI v LSG",
          "PBKS v LSG",
          "DC v LSG",
          "KKR v LSG"
         ],
         "xaxis": "x",
         "yaxis": "y"
        },
        {
         "alignmentgroup": "True",
         "bingroup": "x",
         "hovertemplate": "away_team=CSK<br>short_name=%{x}<br>count=%{y}<extra></extra>",
         "legendgroup": "CSK",
         "marker": {
          "color": "#ab63fa",
          "pattern": {
           "shape": ""
          }
         },
         "name": "CSK",
         "offsetgroup": "CSK",
         "orientation": "v",
         "showlegend": true,
         "type": "histogram",
         "x": [
          "DC v CSK",
          "RR v CSK",
          "KKR v CSK",
          "RCB v CSK",
          "MI v CSK",
          "GT v CSK",
          "LSG v CSK",
          "GT v CSK",
          "MI v CSK",
          "PBKS v CSK",
          "SRH v CSK",
          "RCB v CSK",
          "RR v CSK",
          "DC v CSK",
          "RR v CSK",
          "SRH v CSK",
          "RCB v CSK",
          "MI v CSK",
          "KKR v CSK",
          "PBKS v CSK",
          "MI v CSK",
          "RR v CSK",
          "KXIP v CSK",
          "KKR v CSK",
          "SRH v CSK",
          "DC v CSK",
          "RCB v CSK",
          "DC v CSK",
          "MI v CSK",
          "RR v CSK",
          "KKR v CSK",
          "SRH v CSK",
          "RCB v CSK",
          "KXIP v CSK",
          "MI v CSK",
          "KXIP v CSK",
          "SRH v CSK",
          "RCB v CSK",
          "KKR v CSK",
          "RR v CSK",
          "DC v CSK",
          "MI v CSK",
          "RR v CSK",
          "RCB v CSK",
          "KKR v CSK",
          "SRH v CSK",
          "DC v CSK",
          "KXIP v CSK",
          "RR v CSK",
          "SRH v CSK",
          "DC v CSK",
          "KXIP v CSK",
          "MI v CSK",
          "KKR v CSK",
          "RCB v CSK",
          "KXIP v CSK",
          "DC v CSK",
          "KKR v CSK",
          "PWI v CSK",
          "MI v CSK",
          "SRH v CSK",
          "RR v CSK",
          "RCB v CSK",
          "DC v CSK",
          "DC v CSK",
          "PWI v CSK",
          "MI v CSK",
          "RR v CSK",
          "KKR v CSK",
          "KXIP v CSK",
          "KXIP v CSK",
          "Kochi v CSK",
          "MI v CSK",
          "PWI v CSK",
          "KKR v CSK",
          "RR v CSK",
          "RCB v CSK",
          "KKR v CSK",
          "DC v CSK",
          "RCB v CSK",
          "MI v CSK",
          "RR v CSK",
          "DC v CSK",
          "KXIP v CSK",
          "KXIP v CSK",
          "RR v CSK",
          "MI v CSK",
          "KKR v CSK"
         ],
         "xaxis": "x",
         "yaxis": "y"
        },
        {
         "alignmentgroup": "True",
         "bingroup": "x",
         "hovertemplate": "away_team=RR<br>short_name=%{x}<br>count=%{y}<extra></extra>",
         "legendgroup": "RR",
         "marker": {
          "color": "#FFA15A",
          "pattern": {
           "shape": ""
          }
         },
         "name": "RR",
         "offsetgroup": "RR",
         "orientation": "v",
         "showlegend": true,
         "type": "histogram",
         "x": [
          "PBKS v RR",
          "KKR v RR",
          "MI v RR",
          "RCB v RR",
          "GT v RR",
          "CSK v RR",
          "SRH v RR",
          "SRH v RR",
          "MI v RR",
          "DC v RR",
          "RCB v RR",
          "KKR v RR",
          "PBKS v RR",
          "LSG v RR",
          "KKR v RR",
          "SRH v RR",
          "DC v RR",
          "PBKS v RR",
          "MI v RR",
          "RCB v RR",
          "CSK v RR",
          "RCB v RR",
          "MI v RR",
          "SRH v RR",
          "DC v RR",
          "CSK v RR",
          "KXIP v RR",
          "KKR v RR",
          "SRH v RR",
          "CSK v RR",
          "MI v RR",
          "KXIP v RR",
          "KKR v RR",
          "DC v RR",
          "SRH v RR",
          "RCB v RR",
          "CSK v RR",
          "DC v RR",
          "KXIP v RR",
          "MI v RR",
          "KKR v RR",
          "KXIP v RR",
          "DC v RR",
          "SRH v RR",
          "MI v RR",
          "CSK v RR",
          "SRH v RR",
          "KKR v RR",
          "DC v RR",
          "RCB v RR",
          "CSK v RR",
          "KXIP v RR",
          "MI v RR",
          "DC v RR",
          "PWI v RR",
          "RCB v RR",
          "CSK v RR",
          "KKR v RR",
          "KXIP v RR",
          "MI v RR",
          "SRH v RR",
          "MI v RR",
          "KKR v RR",
          "RCB v RR",
          "CSK v RR",
          "DC v RR",
          "KXIP v RR",
          "PWI v RR",
          "DC v RR",
          "DC v RR",
          "KKR v RR",
          "KXIP v RR",
          "CSK v RR",
          "Kochi v RR",
          "MI v RR",
          "MI v RR",
          "RCB v RR",
          "KXIP v RR",
          "DC v RR",
          "CSK v RR",
          "DC v RR",
          "KKR v RR",
          "KKR v RR",
          "KXIP v RR",
          "DC v RR",
          "CSK v RR",
          "DC v RR",
          "KXIP v RR",
          "RCB v RR",
          "CSK v RR",
          "DC v RR",
          "MI v RR",
          "DC v RR",
          "KKR v RR",
          "DC v RR",
          "RCB v RR",
          "MI v RR",
          "KKR v RR",
          "KXIP v RR"
         ],
         "xaxis": "x",
         "yaxis": "y"
        },
        {
         "alignmentgroup": "True",
         "bingroup": "x",
         "hovertemplate": "away_team=RCB<br>short_name=%{x}<br>count=%{y}<extra></extra>",
         "legendgroup": "RCB",
         "marker": {
          "color": "#19d3f3",
          "pattern": {
           "shape": ""
          }
         },
         "name": "RCB",
         "offsetgroup": "RCB",
         "orientation": "v",
         "showlegend": true,
         "type": "histogram",
         "x": [
          "SRH v RCB",
          "RR v RCB",
          "MI v RCB",
          "DC v RCB",
          "LSG v RCB",
          "PBKS v RCB",
          "KKR v RCB",
          "PBKS v RCB",
          "RR v RCB",
          "CSK v RCB",
          "DC v RCB",
          "LSG v RCB",
          "GT v RCB",
          "SRH v RCB",
          "RR v RCB",
          "KKR v RCB",
          "PBKS v RCB",
          "DC v RCB",
          "CSK v RCB",
          "SRH v RCB",
          "SRH v RCB",
          "KXIP v RCB",
          "CSK v RCB",
          "RR v RCB",
          "KKR v RCB",
          "MI v RCB",
          "DC v RCB",
          "CSK v RCB",
          "SRH v RCB",
          "RR v RCB",
          "KXIP v RCB",
          "MI v RCB",
          "KKR v RCB",
          "DC v RCB",
          "KKR v RCB",
          "MI v RCB",
          "CSK v RCB",
          "SRH v RCB",
          "DC v RCB",
          "KXIP v RCB",
          "RR v RCB",
          "KXIP v RCB",
          "GL v RCB",
          "KKR v RCB",
          "RPS v RCB",
          "MI v RCB",
          "DC v RCB",
          "MI v RCB",
          "SRH v RCB",
          "KXIP v RCB",
          "KKR v RCB",
          "DC v RCB",
          "KKR v RCB",
          "RR v RCB",
          "DC v RCB",
          "CSK v RCB",
          "MI v RCB",
          "KXIP v RCB",
          "SRH v RCB",
          "DC v RCB",
          "RR v RCB",
          "KXIP v RCB",
          "MI v RCB",
          "CSK v RCB",
          "SRH v RCB",
          "KKR v RCB",
          "SRH v RCB",
          "CSK v RCB",
          "MI v RCB",
          "RR v RCB",
          "PWI v RCB",
          "KXIP v RCB",
          "DC v RCB",
          "KKR v RCB",
          "CSK v RCB",
          "KXIP v RCB",
          "RR v RCB",
          "KKR v RCB",
          "MI v RCB",
          "PWI v RCB",
          "DC v RCB",
          "DC v RCB",
          "Kochi v RCB",
          "DC v RCB",
          "CSK v RCB",
          "KKR v RCB",
          "DC v RCB",
          "RR v RCB",
          "KXIP v RCB",
          "KKR v RCB",
          "MI v RCB",
          "CSK v RCB",
          "KXIP v RCB",
          "DC v RCB",
          "DC v RCB",
          "RR v RCB",
          "MI v RCB",
          "DC v RCB",
          "KXIP v RCB",
          "RR v RCB",
          "CSK v RCB"
         ],
         "xaxis": "x",
         "yaxis": "y"
        },
        {
         "alignmentgroup": "True",
         "bingroup": "x",
         "hovertemplate": "away_team=DC<br>short_name=%{x}<br>count=%{y}<extra></extra>",
         "legendgroup": "DC",
         "marker": {
          "color": "#FF6692",
          "pattern": {
           "shape": ""
          }
         },
         "name": "DC",
         "offsetgroup": "DC",
         "orientation": "v",
         "showlegend": true,
         "type": "histogram",
         "x": [
          "PBKS v DC",
          "CSK v DC",
          "GT v DC",
          "SRH v DC",
          "RCB v DC",
          "RR v DC",
          "LSG v DC",
          "GT v DC",
          "LSG v DC",
          "CSK v DC",
          "RR v DC",
          "PBKS v DC",
          "MI v DC",
          "RCB v DC",
          "MI v DC",
          "KKR v DC",
          "PBKS v DC",
          "SRH v DC",
          "RR v DC",
          "CSK v DC",
          "RCB v DC",
          "RR v DC",
          "MI v DC",
          "KXIP v DC",
          "KKR v DC",
          "SRH v DC",
          "MI v DC",
          "KXIP v DC",
          "RCB v DC",
          "KKR v DC",
          "SRH v DC",
          "RR v DC",
          "CSK v DC",
          "KXIP v DC",
          "RR v DC",
          "MI v DC",
          "KKR v DC",
          "RCB v DC",
          "CSK v DC",
          "SRH v DC",
          "RCB v DC",
          "RPS v DC",
          "SRH v DC",
          "MI v DC",
          "KKR v DC",
          "KXIP v DC",
          "GL v DC",
          "RCB v DC",
          "GL v DC",
          "SRH v DC",
          "MI v DC",
          "RPS v DC",
          "CSK v DC",
          "KXIP v DC",
          "SRH v DC",
          "MI v DC",
          "KKR v DC",
          "KKR v DC",
          "CSK v DC",
          "SRH v DC",
          "RCB v DC",
          "RR v DC",
          "MI v DC",
          "KXIP v DC",
          "KKR v DC",
          "MI v DC",
          "RCB v DC",
          "SRH v DC",
          "RR v DC",
          "CSK v DC",
          "KXIP v DC",
          "PWI v DC",
          "KKR v DC",
          "RCB v DC",
          "MI v DC",
          "PWI v DC",
          "RR v DC",
          "CSK v DC",
          "KXIP v DC",
          "RR v DC",
          "PWI v DC",
          "Kochi v DC",
          "MI v DC",
          "CSK v DC",
          "KXIP v DC",
          "KXIP v DC",
          "RR v DC",
          "RCB v DC",
          "KKR v DC",
          "MI v DC",
          "CSK v DC",
          "CSK v DC",
          "RCB v DC",
          "CSK v DC",
          "RCB v DC",
          "KXIP v DC",
          "CSK v DC",
          "MI v DC",
          "RCB v DC"
         ],
         "xaxis": "x",
         "yaxis": "y"
        },
        {
         "alignmentgroup": "True",
         "bingroup": "x",
         "hovertemplate": "away_team=MI<br>short_name=%{x}<br>count=%{y}<extra></extra>",
         "legendgroup": "MI",
         "marker": {
          "color": "#B6E880",
          "pattern": {
           "shape": ""
          }
         },
         "name": "MI",
         "offsetgroup": "MI",
         "orientation": "v",
         "showlegend": true,
         "type": "histogram",
         "x": [
          "LSG v MI",
          "CSK v MI",
          "PBKS v MI",
          "GT v MI",
          "SRH v MI",
          "DC v MI",
          "RCB v MI",
          "DC v MI",
          "KKR v MI",
          "RCB v MI",
          "LSG v MI",
          "RR v MI",
          "GT v MI",
          "CSK v MI",
          "RR v MI",
          "RCB v MI",
          "CSK v MI",
          "PBKS v MI",
          "DC v MI",
          "KKR v MI",
          "KKR v MI",
          "RCB v MI",
          "KXIP v MI",
          "CSK v MI",
          "RR v MI",
          "DC v MI",
          "SRH v MI",
          "RCB v MI",
          "KXIP v MI",
          "SRH v MI",
          "DC v MI",
          "RR v MI",
          "CSK v MI",
          "KKR v MI",
          "SRH v MI",
          "RR v MI",
          "CSK v MI",
          "RCB v MI",
          "KXIP v MI",
          "KKR v MI",
          "DC v MI",
          "RPS v MI",
          "RCB v MI",
          "KXIP v MI",
          "GL v MI",
          "DC v MI",
          "SRH v MI",
          "KKR v MI",
          "KKR v MI",
          "SRH v MI",
          "KXIP v MI",
          "RPS v MI",
          "RCB v MI",
          "GL v MI",
          "KKR v MI",
          "RR v MI",
          "RCB v MI",
          "DC v MI",
          "KXIP v MI",
          "CSK v MI",
          "SRH v MI",
          "RCB v MI",
          "CSK v MI",
          "DC v MI",
          "SRH v MI",
          "KKR v MI",
          "RR v MI",
          "KXIP v MI",
          "RCB v MI",
          "CSK v MI",
          "RR v MI",
          "DC v MI",
          "KKR v MI",
          "SRH v MI",
          "PWI v MI",
          "CSK v MI",
          "DC v MI",
          "KXIP v MI",
          "DC v MI",
          "PWI v MI",
          "KKR v MI",
          "RCB v MI",
          "RR v MI",
          "DC v MI",
          "RCB v MI",
          "DC v MI",
          "RR v MI",
          "PWI v MI",
          "KXIP v MI",
          "KKR v MI",
          "DC v MI",
          "DC v MI",
          "CSK v MI",
          "KXIP v MI",
          "RR v MI",
          "RCB v MI",
          "KKR v MI",
          "CSK v MI",
          "DC v MI",
          "KKR v MI",
          "KXIP v MI",
          "KKR v MI",
          "RCB v MI",
          "DC v MI",
          "DC v MI",
          "RCB v MI",
          "KXIP v MI",
          "CSK v MI",
          "DC v MI",
          "CSK v MI",
          "KXIP v MI",
          "KKR v MI",
          "DC v MI",
          "RR v MI"
         ],
         "xaxis": "x",
         "yaxis": "y"
        },
        {
         "alignmentgroup": "True",
         "bingroup": "x",
         "hovertemplate": "away_team=KKR<br>short_name=%{x}<br>count=%{y}<extra></extra>",
         "legendgroup": "KKR",
         "marker": {
          "color": "#FF97FF",
          "pattern": {
           "shape": ""
          }
         },
         "name": "KKR",
         "offsetgroup": "KKR",
         "orientation": "v",
         "showlegend": true,
         "type": "histogram",
         "x": [
          "CSK v KKR",
          "SRH v KKR",
          "RCB v KKR",
          "DC v KKR",
          "MI v KKR",
          "GT v KKR",
          "PBKS v KKR",
          "CSK v KKR",
          "RCB v KKR",
          "SRH v KKR",
          "RR v KKR",
          "DC v KKR",
          "LSG v KKR",
          "MI v KKR",
          "CSK v KKR",
          "MI v KKR",
          "DC v KKR",
          "PBKS v KKR",
          "RR v KKR",
          "RCB v KKR",
          "SRH v KKR",
          "RR v KKR",
          "DC v KKR",
          "KXIP v KKR",
          "RCB v KKR",
          "MI v KKR",
          "SRH v KKR",
          "CSK v KKR",
          "DC v KKR",
          "RCB v KKR",
          "RR v KKR",
          "CSK v KKR",
          "SRH v KKR",
          "KXIP v KKR",
          "MI v KKR",
          "CSK v KKR",
          "RR v KKR",
          "DC v KKR",
          "RCB v KKR",
          "MI v KKR",
          "KXIP v KKR",
          "SRH v KKR",
          "GL v KKR",
          "MI v KKR",
          "DC v KKR",
          "RPS v KKR",
          "SRH v KKR",
          "RCB v KKR",
          "KXIP v KKR",
          "KXIP v KKR",
          "MI v KKR",
          "DC v KKR",
          "RCB v KKR",
          "GL v KKR",
          "KXIP v KKR",
          "DC v KKR",
          "SRH v KKR",
          "CSK v KKR",
          "RCB v KKR",
          "MI v KKR",
          "RR v KKR",
          "MI v KKR",
          "RCB v KKR",
          "CSK v KKR",
          "RR v KKR",
          "DC v KKR",
          "KXIP v KKR",
          "SRH v KKR",
          "RR v KKR",
          "RCB v KKR",
          "CSK v KKR",
          "DC v KKR",
          "MI v KKR",
          "PWI v KKR",
          "SRH v KKR",
          "RR v KKR",
          "RCB v KKR",
          "KXIP v KKR",
          "DC v KKR",
          "CSK v KKR",
          "DC v KKR",
          "MI v KKR",
          "PWI v KKR",
          "CSK v KKR",
          "RR v KKR",
          "DC v KKR",
          "DC v KKR",
          "Kochi v KKR",
          "RCB v KKR",
          "PWI v KKR",
          "DC v KKR",
          "RR v KKR",
          "MI v KKR",
          "KXIP v KKR",
          "DC v KKR",
          "RCB v KKR",
          "CSK v KKR",
          "DC v KKR",
          "KXIP v KKR",
          "RCB v KKR",
          "KXIP v KKR",
          "DC v KKR",
          "DC v KKR",
          "RCB v KKR",
          "DC v KKR",
          "CSK v KKR",
          "RCB v KKR",
          "CSK v KKR",
          "RR v KKR",
          "KXIP v KKR",
          "MI v KKR"
         ],
         "xaxis": "x",
         "yaxis": "y"
        },
        {
         "alignmentgroup": "True",
         "bingroup": "x",
         "hovertemplate": "away_team=PBKS<br>short_name=%{x}<br>count=%{y}<extra></extra>",
         "legendgroup": "PBKS",
         "marker": {
          "color": "#FECB52",
          "pattern": {
           "shape": ""
          }
         },
         "name": "PBKS",
         "offsetgroup": "PBKS",
         "orientation": "v",
         "showlegend": true,
         "type": "histogram",
         "x": [
          "DC v PBKS",
          "KKR v PBKS",
          "CSK v PBKS",
          "MI v PBKS",
          "LSG v PBKS",
          "SRH v PBKS",
          "RR v PBKS",
          "KKR v PBKS",
          "CSK v PBKS",
          "MI v PBKS",
          "DC v PBKS",
          "GT v PBKS",
          "RCB v PBKS",
          "SRH v PBKS",
          "CSK v PBKS",
          "RCB v PBKS",
          "KKR v PBKS",
          "MI v PBKS",
          "SRH v PBKS",
          "DC v PBKS",
          "RR v PBKS"
         ],
         "xaxis": "x",
         "yaxis": "y"
        },
        {
         "alignmentgroup": "True",
         "bingroup": "x",
         "hovertemplate": "away_team=KXIP<br>short_name=%{x}<br>count=%{y}<extra></extra>",
         "legendgroup": "KXIP",
         "marker": {
          "color": "#636efa",
          "pattern": {
           "shape": ""
          }
         },
         "name": "KXIP",
         "offsetgroup": "KXIP",
         "orientation": "v",
         "showlegend": true,
         "type": "histogram",
         "x": [
          "DC v KXIP",
          "RR v KXIP",
          "SRH v KXIP",
          "RCB v KXIP",
          "MI v KXIP",
          "KKR v KXIP",
          "CSK v KXIP",
          "RR v KXIP",
          "KKR v KXIP",
          "CSK v KXIP",
          "MI v KXIP",
          "DC v KXIP",
          "RCB v KXIP",
          "SRH v KXIP",
          "RCB v KXIP",
          "KKR v KXIP",
          "DC v KXIP",
          "SRH v KXIP",
          "RR v KXIP",
          "MI v KXIP",
          "CSK v KXIP",
          "KKR v KXIP",
          "DC v KXIP",
          "SRH v KXIP",
          "GL v KXIP",
          "RCB v KXIP",
          "MI v KXIP",
          "RPS v KXIP",
          "DC v KXIP",
          "SRH v KXIP",
          "GL v KXIP",
          "MI v KXIP",
          "RCB v KXIP",
          "RPS v KXIP",
          "MI v KXIP",
          "RR v KXIP",
          "CSK v KXIP",
          "DC v KXIP",
          "RCB v KXIP",
          "KKR v KXIP",
          "SRH v KXIP",
          "CSK v KXIP",
          "RR v KXIP",
          "KKR v KXIP",
          "MI v KXIP",
          "RCB v KXIP",
          "SRH v KXIP",
          "DC v KXIP",
          "PWI v KXIP",
          "RR v KXIP",
          "DC v KXIP",
          "KKR v KXIP",
          "MI v KXIP",
          "CSK v KXIP",
          "RCB v KXIP",
          "RR v KXIP",
          "PWI v KXIP",
          "KKR v KXIP",
          "MI v KXIP",
          "CSK v KXIP",
          "RCB v KXIP",
          "DC v KXIP",
          "DC v KXIP",
          "PWI v KXIP",
          "DC v KXIP",
          "DC v KXIP",
          "KKR v KXIP",
          "MI v KXIP",
          "RCB v KXIP",
          "Kochi v KXIP",
          "RCB v KXIP",
          "DC v KXIP",
          "MI v KXIP",
          "KKR v KXIP",
          "RR v KXIP",
          "DC v KXIP",
          "DC v KXIP",
          "RCB v KXIP",
          "RCB v KXIP",
          "CSK v KXIP",
          "DC v KXIP",
          "DC v KXIP",
          "DC v KXIP",
          "CSK v KXIP",
          "RR v KXIP",
          "DC v KXIP",
          "RCB v KXIP",
          "CSK v KXIP",
          "DC v KXIP"
         ],
         "xaxis": "x",
         "yaxis": "y"
        },
        {
         "alignmentgroup": "True",
         "bingroup": "x",
         "hovertemplate": "away_team=RPS<br>short_name=%{x}<br>count=%{y}<extra></extra>",
         "legendgroup": "RPS",
         "marker": {
          "color": "#EF553B",
          "pattern": {
           "shape": ""
          }
         },
         "name": "RPS",
         "offsetgroup": "RPS",
         "orientation": "v",
         "showlegend": true,
         "type": "histogram",
         "x": [
          "KXIP v RPS",
          "GL v RPS",
          "RCB v RPS",
          "MI v RPS",
          "KKR v RPS",
          "SRH v RPS",
          "DC v RPS",
          "MI v RPS",
          "SRH v RPS",
          "DC v RPS",
          "KKR v RPS"
         ],
         "xaxis": "x",
         "yaxis": "y"
        },
        {
         "alignmentgroup": "True",
         "bingroup": "x",
         "hovertemplate": "away_team=GL<br>short_name=%{x}<br>count=%{y}<extra></extra>",
         "legendgroup": "GL",
         "marker": {
          "color": "#00cc96",
          "pattern": {
           "shape": ""
          }
         },
         "name": "GL",
         "offsetgroup": "GL",
         "orientation": "v",
         "showlegend": true,
         "type": "histogram",
         "x": [
          "SRH v GL",
          "MI v GL",
          "KKR v GL",
          "RCB v GL",
          "RPS v GL",
          "DC v GL",
          "KXIP v GL",
          "KXIP v GL",
          "MI v GL",
          "DC v GL",
          "RPS v GL",
          "KKR v GL",
          "RCB v GL"
         ],
         "xaxis": "x",
         "yaxis": "y"
        },
        {
         "alignmentgroup": "True",
         "bingroup": "x",
         "hovertemplate": "away_team=PWI<br>short_name=%{x}<br>count=%{y}<extra></extra>",
         "legendgroup": "PWI",
         "marker": {
          "color": "#ab63fa",
          "pattern": {
           "shape": ""
          }
         },
         "name": "PWI",
         "offsetgroup": "PWI",
         "orientation": "v",
         "showlegend": true,
         "type": "histogram",
         "x": [
          "SRH v PWI",
          "MI v PWI",
          "CSK v PWI",
          "KXIP v PWI",
          "RCB v PWI",
          "DC v PWI",
          "RR v PWI",
          "KKR v PWI",
          "MI v PWI",
          "KXIP v PWI",
          "RCB v PWI",
          "CSK v PWI",
          "DC v PWI",
          "DC v PWI",
          "KKR v PWI",
          "RR v PWI",
          "MI v PWI",
          "CSK v PWI",
          "RCB v PWI",
          "RR v PWI",
          "KXIP v PWI",
          "DC v PWI"
         ],
         "xaxis": "x",
         "yaxis": "y"
        },
        {
         "alignmentgroup": "True",
         "bingroup": "x",
         "hovertemplate": "away_team=Kochi<br>short_name=%{x}<br>count=%{y}<extra></extra>",
         "legendgroup": "Kochi",
         "marker": {
          "color": "#FFA15A",
          "pattern": {
           "shape": ""
          }
         },
         "name": "Kochi",
         "offsetgroup": "Kochi",
         "orientation": "v",
         "showlegend": true,
         "type": "histogram",
         "x": [
          "PWI v Kochi",
          "MI v Kochi",
          "KKR v Kochi",
          "RR v Kochi",
          "DC v Kochi",
          "RCB v Kochi",
          "CSK v Kochi"
         ],
         "xaxis": "x",
         "yaxis": "y"
        }
       ],
       "layout": {
        "autosize": true,
        "barmode": "relative",
        "legend": {
         "title": {
          "text": "away_team"
         },
         "tracegroupgap": 0
        },
        "margin": {
         "t": 60
        },
        "template": {
         "data": {
          "bar": [
           {
            "error_x": {
             "color": "#2a3f5f"
            },
            "error_y": {
             "color": "#2a3f5f"
            },
            "marker": {
             "line": {
              "color": "#E5ECF6",
              "width": 0.5
             },
             "pattern": {
              "fillmode": "overlay",
              "size": 10,
              "solidity": 0.2
             }
            },
            "type": "bar"
           }
          ],
          "barpolar": [
           {
            "marker": {
             "line": {
              "color": "#E5ECF6",
              "width": 0.5
             },
             "pattern": {
              "fillmode": "overlay",
              "size": 10,
              "solidity": 0.2
             }
            },
            "type": "barpolar"
           }
          ],
          "carpet": [
           {
            "aaxis": {
             "endlinecolor": "#2a3f5f",
             "gridcolor": "white",
             "linecolor": "white",
             "minorgridcolor": "white",
             "startlinecolor": "#2a3f5f"
            },
            "baxis": {
             "endlinecolor": "#2a3f5f",
             "gridcolor": "white",
             "linecolor": "white",
             "minorgridcolor": "white",
             "startlinecolor": "#2a3f5f"
            },
            "type": "carpet"
           }
          ],
          "choropleth": [
           {
            "colorbar": {
             "outlinewidth": 0,
             "ticks": ""
            },
            "type": "choropleth"
           }
          ],
          "contour": [
           {
            "colorbar": {
             "outlinewidth": 0,
             "ticks": ""
            },
            "colorscale": [
             [
              0,
              "#0d0887"
             ],
             [
              0.1111111111111111,
              "#46039f"
             ],
             [
              0.2222222222222222,
              "#7201a8"
             ],
             [
              0.3333333333333333,
              "#9c179e"
             ],
             [
              0.4444444444444444,
              "#bd3786"
             ],
             [
              0.5555555555555556,
              "#d8576b"
             ],
             [
              0.6666666666666666,
              "#ed7953"
             ],
             [
              0.7777777777777778,
              "#fb9f3a"
             ],
             [
              0.8888888888888888,
              "#fdca26"
             ],
             [
              1,
              "#f0f921"
             ]
            ],
            "type": "contour"
           }
          ],
          "contourcarpet": [
           {
            "colorbar": {
             "outlinewidth": 0,
             "ticks": ""
            },
            "type": "contourcarpet"
           }
          ],
          "heatmap": [
           {
            "colorbar": {
             "outlinewidth": 0,
             "ticks": ""
            },
            "colorscale": [
             [
              0,
              "#0d0887"
             ],
             [
              0.1111111111111111,
              "#46039f"
             ],
             [
              0.2222222222222222,
              "#7201a8"
             ],
             [
              0.3333333333333333,
              "#9c179e"
             ],
             [
              0.4444444444444444,
              "#bd3786"
             ],
             [
              0.5555555555555556,
              "#d8576b"
             ],
             [
              0.6666666666666666,
              "#ed7953"
             ],
             [
              0.7777777777777778,
              "#fb9f3a"
             ],
             [
              0.8888888888888888,
              "#fdca26"
             ],
             [
              1,
              "#f0f921"
             ]
            ],
            "type": "heatmap"
           }
          ],
          "heatmapgl": [
           {
            "colorbar": {
             "outlinewidth": 0,
             "ticks": ""
            },
            "colorscale": [
             [
              0,
              "#0d0887"
             ],
             [
              0.1111111111111111,
              "#46039f"
             ],
             [
              0.2222222222222222,
              "#7201a8"
             ],
             [
              0.3333333333333333,
              "#9c179e"
             ],
             [
              0.4444444444444444,
              "#bd3786"
             ],
             [
              0.5555555555555556,
              "#d8576b"
             ],
             [
              0.6666666666666666,
              "#ed7953"
             ],
             [
              0.7777777777777778,
              "#fb9f3a"
             ],
             [
              0.8888888888888888,
              "#fdca26"
             ],
             [
              1,
              "#f0f921"
             ]
            ],
            "type": "heatmapgl"
           }
          ],
          "histogram": [
           {
            "marker": {
             "pattern": {
              "fillmode": "overlay",
              "size": 10,
              "solidity": 0.2
             }
            },
            "type": "histogram"
           }
          ],
          "histogram2d": [
           {
            "colorbar": {
             "outlinewidth": 0,
             "ticks": ""
            },
            "colorscale": [
             [
              0,
              "#0d0887"
             ],
             [
              0.1111111111111111,
              "#46039f"
             ],
             [
              0.2222222222222222,
              "#7201a8"
             ],
             [
              0.3333333333333333,
              "#9c179e"
             ],
             [
              0.4444444444444444,
              "#bd3786"
             ],
             [
              0.5555555555555556,
              "#d8576b"
             ],
             [
              0.6666666666666666,
              "#ed7953"
             ],
             [
              0.7777777777777778,
              "#fb9f3a"
             ],
             [
              0.8888888888888888,
              "#fdca26"
             ],
             [
              1,
              "#f0f921"
             ]
            ],
            "type": "histogram2d"
           }
          ],
          "histogram2dcontour": [
           {
            "colorbar": {
             "outlinewidth": 0,
             "ticks": ""
            },
            "colorscale": [
             [
              0,
              "#0d0887"
             ],
             [
              0.1111111111111111,
              "#46039f"
             ],
             [
              0.2222222222222222,
              "#7201a8"
             ],
             [
              0.3333333333333333,
              "#9c179e"
             ],
             [
              0.4444444444444444,
              "#bd3786"
             ],
             [
              0.5555555555555556,
              "#d8576b"
             ],
             [
              0.6666666666666666,
              "#ed7953"
             ],
             [
              0.7777777777777778,
              "#fb9f3a"
             ],
             [
              0.8888888888888888,
              "#fdca26"
             ],
             [
              1,
              "#f0f921"
             ]
            ],
            "type": "histogram2dcontour"
           }
          ],
          "mesh3d": [
           {
            "colorbar": {
             "outlinewidth": 0,
             "ticks": ""
            },
            "type": "mesh3d"
           }
          ],
          "parcoords": [
           {
            "line": {
             "colorbar": {
              "outlinewidth": 0,
              "ticks": ""
             }
            },
            "type": "parcoords"
           }
          ],
          "pie": [
           {
            "automargin": true,
            "type": "pie"
           }
          ],
          "scatter": [
           {
            "fillpattern": {
             "fillmode": "overlay",
             "size": 10,
             "solidity": 0.2
            },
            "type": "scatter"
           }
          ],
          "scatter3d": [
           {
            "line": {
             "colorbar": {
              "outlinewidth": 0,
              "ticks": ""
             }
            },
            "marker": {
             "colorbar": {
              "outlinewidth": 0,
              "ticks": ""
             }
            },
            "type": "scatter3d"
           }
          ],
          "scattercarpet": [
           {
            "marker": {
             "colorbar": {
              "outlinewidth": 0,
              "ticks": ""
             }
            },
            "type": "scattercarpet"
           }
          ],
          "scattergeo": [
           {
            "marker": {
             "colorbar": {
              "outlinewidth": 0,
              "ticks": ""
             }
            },
            "type": "scattergeo"
           }
          ],
          "scattergl": [
           {
            "marker": {
             "colorbar": {
              "outlinewidth": 0,
              "ticks": ""
             }
            },
            "type": "scattergl"
           }
          ],
          "scattermapbox": [
           {
            "marker": {
             "colorbar": {
              "outlinewidth": 0,
              "ticks": ""
             }
            },
            "type": "scattermapbox"
           }
          ],
          "scatterpolar": [
           {
            "marker": {
             "colorbar": {
              "outlinewidth": 0,
              "ticks": ""
             }
            },
            "type": "scatterpolar"
           }
          ],
          "scatterpolargl": [
           {
            "marker": {
             "colorbar": {
              "outlinewidth": 0,
              "ticks": ""
             }
            },
            "type": "scatterpolargl"
           }
          ],
          "scatterternary": [
           {
            "marker": {
             "colorbar": {
              "outlinewidth": 0,
              "ticks": ""
             }
            },
            "type": "scatterternary"
           }
          ],
          "surface": [
           {
            "colorbar": {
             "outlinewidth": 0,
             "ticks": ""
            },
            "colorscale": [
             [
              0,
              "#0d0887"
             ],
             [
              0.1111111111111111,
              "#46039f"
             ],
             [
              0.2222222222222222,
              "#7201a8"
             ],
             [
              0.3333333333333333,
              "#9c179e"
             ],
             [
              0.4444444444444444,
              "#bd3786"
             ],
             [
              0.5555555555555556,
              "#d8576b"
             ],
             [
              0.6666666666666666,
              "#ed7953"
             ],
             [
              0.7777777777777778,
              "#fb9f3a"
             ],
             [
              0.8888888888888888,
              "#fdca26"
             ],
             [
              1,
              "#f0f921"
             ]
            ],
            "type": "surface"
           }
          ],
          "table": [
           {
            "cells": {
             "fill": {
              "color": "#EBF0F8"
             },
             "line": {
              "color": "white"
             }
            },
            "header": {
             "fill": {
              "color": "#C8D4E3"
             },
             "line": {
              "color": "white"
             }
            },
            "type": "table"
           }
          ]
         },
         "layout": {
          "annotationdefaults": {
           "arrowcolor": "#2a3f5f",
           "arrowhead": 0,
           "arrowwidth": 1
          },
          "autotypenumbers": "strict",
          "coloraxis": {
           "colorbar": {
            "outlinewidth": 0,
            "ticks": ""
           }
          },
          "colorscale": {
           "diverging": [
            [
             0,
             "#8e0152"
            ],
            [
             0.1,
             "#c51b7d"
            ],
            [
             0.2,
             "#de77ae"
            ],
            [
             0.3,
             "#f1b6da"
            ],
            [
             0.4,
             "#fde0ef"
            ],
            [
             0.5,
             "#f7f7f7"
            ],
            [
             0.6,
             "#e6f5d0"
            ],
            [
             0.7,
             "#b8e186"
            ],
            [
             0.8,
             "#7fbc41"
            ],
            [
             0.9,
             "#4d9221"
            ],
            [
             1,
             "#276419"
            ]
           ],
           "sequential": [
            [
             0,
             "#0d0887"
            ],
            [
             0.1111111111111111,
             "#46039f"
            ],
            [
             0.2222222222222222,
             "#7201a8"
            ],
            [
             0.3333333333333333,
             "#9c179e"
            ],
            [
             0.4444444444444444,
             "#bd3786"
            ],
            [
             0.5555555555555556,
             "#d8576b"
            ],
            [
             0.6666666666666666,
             "#ed7953"
            ],
            [
             0.7777777777777778,
             "#fb9f3a"
            ],
            [
             0.8888888888888888,
             "#fdca26"
            ],
            [
             1,
             "#f0f921"
            ]
           ],
           "sequentialminus": [
            [
             0,
             "#0d0887"
            ],
            [
             0.1111111111111111,
             "#46039f"
            ],
            [
             0.2222222222222222,
             "#7201a8"
            ],
            [
             0.3333333333333333,
             "#9c179e"
            ],
            [
             0.4444444444444444,
             "#bd3786"
            ],
            [
             0.5555555555555556,
             "#d8576b"
            ],
            [
             0.6666666666666666,
             "#ed7953"
            ],
            [
             0.7777777777777778,
             "#fb9f3a"
            ],
            [
             0.8888888888888888,
             "#fdca26"
            ],
            [
             1,
             "#f0f921"
            ]
           ]
          },
          "colorway": [
           "#636efa",
           "#EF553B",
           "#00cc96",
           "#ab63fa",
           "#FFA15A",
           "#19d3f3",
           "#FF6692",
           "#B6E880",
           "#FF97FF",
           "#FECB52"
          ],
          "font": {
           "color": "#2a3f5f"
          },
          "geo": {
           "bgcolor": "white",
           "lakecolor": "white",
           "landcolor": "#E5ECF6",
           "showlakes": true,
           "showland": true,
           "subunitcolor": "white"
          },
          "hoverlabel": {
           "align": "left"
          },
          "hovermode": "closest",
          "mapbox": {
           "style": "light"
          },
          "paper_bgcolor": "white",
          "plot_bgcolor": "#E5ECF6",
          "polar": {
           "angularaxis": {
            "gridcolor": "white",
            "linecolor": "white",
            "ticks": ""
           },
           "bgcolor": "#E5ECF6",
           "radialaxis": {
            "gridcolor": "white",
            "linecolor": "white",
            "ticks": ""
           }
          },
          "scene": {
           "xaxis": {
            "backgroundcolor": "#E5ECF6",
            "gridcolor": "white",
            "gridwidth": 2,
            "linecolor": "white",
            "showbackground": true,
            "ticks": "",
            "zerolinecolor": "white"
           },
           "yaxis": {
            "backgroundcolor": "#E5ECF6",
            "gridcolor": "white",
            "gridwidth": 2,
            "linecolor": "white",
            "showbackground": true,
            "ticks": "",
            "zerolinecolor": "white"
           },
           "zaxis": {
            "backgroundcolor": "#E5ECF6",
            "gridcolor": "white",
            "gridwidth": 2,
            "linecolor": "white",
            "showbackground": true,
            "ticks": "",
            "zerolinecolor": "white"
           }
          },
          "shapedefaults": {
           "line": {
            "color": "#2a3f5f"
           }
          },
          "ternary": {
           "aaxis": {
            "gridcolor": "white",
            "linecolor": "white",
            "ticks": ""
           },
           "baxis": {
            "gridcolor": "white",
            "linecolor": "white",
            "ticks": ""
           },
           "bgcolor": "#E5ECF6",
           "caxis": {
            "gridcolor": "white",
            "linecolor": "white",
            "ticks": ""
           }
          },
          "title": {
           "x": 0.05
          },
          "xaxis": {
           "automargin": true,
           "gridcolor": "white",
           "linecolor": "white",
           "ticks": "",
           "title": {
            "standoff": 15
           },
           "zerolinecolor": "white",
           "zerolinewidth": 2
          },
          "yaxis": {
           "automargin": true,
           "gridcolor": "white",
           "linecolor": "white",
           "ticks": "",
           "title": {
            "standoff": 15
           },
           "zerolinecolor": "white",
           "zerolinewidth": 2
          }
         }
        },
        "title": {
         "text": "Distribution of matches and Away team"
        },
        "xaxis": {
         "anchor": "y",
         "autorange": true,
         "domain": [
          0,
          1
         ],
         "range": [
          -0.5,
          157.5
         ],
         "title": {
          "text": "Matches"
         },
         "type": "category"
        },
        "yaxis": {
         "anchor": "x",
         "autorange": true,
         "domain": [
          0,
          1
         ],
         "range": [
          0,
          22.105263157894736
         ],
         "title": {
          "text": "Count"
         }
        }
       }
      },
      "image/png": "[encoded data removed]",
      "text/html": [
       "<div>                            <div id=\"345b71da-d517-4b7d-a16f-363799fc24cc\" class=\"plotly-graph-div\" style=\"height:525px; width:100%;\"></div>            <script type=\"text/javascript\">                require([\"plotly\"], function(Plotly) {                    window.PLOTLYENV=window.PLOTLYENV || {};                                    if (document.getElementById(\"345b71da-d517-4b7d-a16f-363799fc24cc\")) {                    Plotly.newPlot(                        \"345b71da-d517-4b7d-a16f-363799fc24cc\",                        [{\"alignmentgroup\":\"True\",\"bingroup\":\"x\",\"hovertemplate\":\"away_team=GT\\u003cbr\\u003eshort_name=%{x}\\u003cbr\\u003ecount=%{y}\\u003cextra\\u003e\\u003c\\u002fextra\\u003e\",\"legendgroup\":\"GT\",\"marker\":{\"color\":\"#636efa\",\"pattern\":{\"shape\":\"\"}},\"name\":\"GT\",\"offsetgroup\":\"GT\",\"orientation\":\"v\",\"showlegend\":true,\"x\":[\"RCB v GT\",\"MI v GT\",\"RR v GT\",\"KKR v GT\",\"LSG v GT\",\"PBKS v GT\",\"DC v GT\",\"PBKS v GT\",\"RR v GT\",\"KKR v GT\",\"LSG v GT\",\"CSK v GT\",\"RCB v GT\"],\"xaxis\":\"x\",\"yaxis\":\"y\",\"type\":\"histogram\"},{\"alignmentgroup\":\"True\",\"bingroup\":\"x\",\"hovertemplate\":\"away_team=SRH\\u003cbr\\u003eshort_name=%{x}\\u003cbr\\u003ecount=%{y}\\u003cextra\\u003e\\u003c\\u002fextra\\u003e\",\"legendgroup\":\"SRH\",\"marker\":{\"color\":\"#EF553B\",\"pattern\":{\"shape\":\"\"}},\"name\":\"SRH\",\"offsetgroup\":\"SRH\",\"orientation\":\"v\",\"showlegend\":true,\"x\":[\"MI v SRH\",\"GT v SRH\",\"RR v SRH\",\"DC v SRH\",\"CSK v SRH\",\"KKR v SRH\",\"LSG v SRH\",\"CSK v SRH\",\"PBKS v SRH\",\"RCB v SRH\",\"GT v SRH\",\"DC v SRH\",\"KKR v SRH\",\"MI v SRH\",\"RCB v SRH\",\"KKR v SRH\",\"DC v SRH\",\"RR v SRH\",\"CSK v SRH\",\"PBKS v SRH\",\"MI v SRH\",\"KKR v SRH\",\"DC v SRH\",\"CSK v SRH\",\"MI v SRH\",\"KXIP v SRH\",\"KKR v SRH\",\"DC v SRH\",\"KXIP v SRH\",\"CSK v SRH\",\"RR v SRH\",\"MI v SRH\",\"KKR v SRH\",\"KXIP v SRH\",\"MI v SRH\",\"RR v SRH\",\"DC v SRH\",\"CSK v SRH\",\"RCB v SRH\",\"MI v SRH\",\"KKR v SRH\",\"RPS v SRH\",\"KXIP v SRH\",\"DC v SRH\",\"GL v SRH\",\"RCB v SRH\",\"MI v SRH\",\"RPS v SRH\",\"KXIP v SRH\",\"DC v SRH\",\"KKR v SRH\",\"CSK v SRH\",\"RCB v SRH\",\"MI v SRH\",\"KXIP v SRH\",\"KKR v SRH\",\"RR v SRH\",\"DC v SRH\",\"KXIP v SRH\",\"MI v SRH\",\"RCB v SRH\",\"RR v SRH\",\"DC v SRH\",\"CSK v SRH\",\"KKR v SRH\",\"RCB v SRH\",\"DC v SRH\",\"KKR v SRH\",\"PWI v SRH\",\"CSK v SRH\",\"RR v SRH\",\"KXIP v SRH\",\"MI v SRH\",\"RR v DC\",\"PWI v DC\",\"MI v DC\",\"CSK v DC\",\"RCB v DC\",\"KXIP v DC\",\"KKR v DC\",\"Kochi v DC\",\"CSK v DC\",\"MI v DC\",\"PWI v DC\",\"KXIP v DC\",\"CSK v DC\",\"RR v DC\",\"KKR v DC\",\"MI v DC\",\"RCB v DC\",\"KXIP v DC\",\"CSK v DC\",\"CSK v DC\",\"RCB v DC\",\"KKR v DC\",\"MI v DC\",\"RCB v DC\",\"CSK v DC\",\"KXIP v DC\"],\"xaxis\":\"x\",\"yaxis\":\"y\",\"type\":\"histogram\"},{\"alignmentgroup\":\"True\",\"bingroup\":\"x\",\"hovertemplate\":\"away_team=LSG\\u003cbr\\u003eshort_name=%{x}\\u003cbr\\u003ecount=%{y}\\u003cextra\\u003e\\u003c\\u002fextra\\u003e\",\"legendgroup\":\"LSG\",\"marker\":{\"color\":\"#00cc96\",\"pattern\":{\"shape\":\"\"}},\"name\":\"LSG\",\"offsetgroup\":\"LSG\",\"orientation\":\"v\",\"showlegend\":true,\"x\":[\"KKR v LSG\",\"SRH v LSG\",\"GT v LSG\",\"PBKS v LSG\",\"RR v LSG\",\"RCB v LSG\",\"CSK v LSG\",\"GT v LSG\",\"MI v LSG\",\"PBKS v LSG\",\"DC v LSG\",\"KKR v LSG\"],\"xaxis\":\"x\",\"yaxis\":\"y\",\"type\":\"histogram\"},{\"alignmentgroup\":\"True\",\"bingroup\":\"x\",\"hovertemplate\":\"away_team=CSK\\u003cbr\\u003eshort_name=%{x}\\u003cbr\\u003ecount=%{y}\\u003cextra\\u003e\\u003c\\u002fextra\\u003e\",\"legendgroup\":\"CSK\",\"marker\":{\"color\":\"#ab63fa\",\"pattern\":{\"shape\":\"\"}},\"name\":\"CSK\",\"offsetgroup\":\"CSK\",\"orientation\":\"v\",\"showlegend\":true,\"x\":[\"DC v CSK\",\"RR v CSK\",\"KKR v CSK\",\"RCB v CSK\",\"MI v CSK\",\"GT v CSK\",\"LSG v CSK\",\"GT v CSK\",\"MI v CSK\",\"PBKS v CSK\",\"SRH v CSK\",\"RCB v CSK\",\"RR v CSK\",\"DC v CSK\",\"RR v CSK\",\"SRH v CSK\",\"RCB v CSK\",\"MI v CSK\",\"KKR v CSK\",\"PBKS v CSK\",\"MI v CSK\",\"RR v CSK\",\"KXIP v CSK\",\"KKR v CSK\",\"SRH v CSK\",\"DC v CSK\",\"RCB v CSK\",\"DC v CSK\",\"MI v CSK\",\"RR v CSK\",\"KKR v CSK\",\"SRH v CSK\",\"RCB v CSK\",\"KXIP v CSK\",\"MI v CSK\",\"KXIP v CSK\",\"SRH v CSK\",\"RCB v CSK\",\"KKR v CSK\",\"RR v CSK\",\"DC v CSK\",\"MI v CSK\",\"RR v CSK\",\"RCB v CSK\",\"KKR v CSK\",\"SRH v CSK\",\"DC v CSK\",\"KXIP v CSK\",\"RR v CSK\",\"SRH v CSK\",\"DC v CSK\",\"KXIP v CSK\",\"MI v CSK\",\"KKR v CSK\",\"RCB v CSK\",\"KXIP v CSK\",\"DC v CSK\",\"KKR v CSK\",\"PWI v CSK\",\"MI v CSK\",\"SRH v CSK\",\"RR v CSK\",\"RCB v CSK\",\"DC v CSK\",\"DC v CSK\",\"PWI v CSK\",\"MI v CSK\",\"RR v CSK\",\"KKR v CSK\",\"KXIP v CSK\",\"KXIP v CSK\",\"Kochi v CSK\",\"MI v CSK\",\"PWI v CSK\",\"KKR v CSK\",\"RR v CSK\",\"RCB v CSK\",\"KKR v CSK\",\"DC v CSK\",\"RCB v CSK\",\"MI v CSK\",\"RR v CSK\",\"DC v CSK\",\"KXIP v CSK\",\"KXIP v CSK\",\"RR v CSK\",\"MI v CSK\",\"KKR v CSK\"],\"xaxis\":\"x\",\"yaxis\":\"y\",\"type\":\"histogram\"},{\"alignmentgroup\":\"True\",\"bingroup\":\"x\",\"hovertemplate\":\"away_team=RR\\u003cbr\\u003eshort_name=%{x}\\u003cbr\\u003ecount=%{y}\\u003cextra\\u003e\\u003c\\u002fextra\\u003e\",\"legendgroup\":\"RR\",\"marker\":{\"color\":\"#FFA15A\",\"pattern\":{\"shape\":\"\"}},\"name\":\"RR\",\"offsetgroup\":\"RR\",\"orientation\":\"v\",\"showlegend\":true,\"x\":[\"PBKS v RR\",\"KKR v RR\",\"MI v RR\",\"RCB v RR\",\"GT v RR\",\"CSK v RR\",\"SRH v RR\",\"SRH v RR\",\"MI v RR\",\"DC v RR\",\"RCB v RR\",\"KKR v RR\",\"PBKS v RR\",\"LSG v RR\",\"KKR v RR\",\"SRH v RR\",\"DC v RR\",\"PBKS v RR\",\"MI v RR\",\"RCB v RR\",\"CSK v RR\",\"RCB v RR\",\"MI v RR\",\"SRH v RR\",\"DC v RR\",\"CSK v RR\",\"KXIP v RR\",\"KKR v RR\",\"SRH v RR\",\"CSK v RR\",\"MI v RR\",\"KXIP v RR\",\"KKR v RR\",\"DC v RR\",\"SRH v RR\",\"RCB v RR\",\"CSK v RR\",\"DC v RR\",\"KXIP v RR\",\"MI v RR\",\"KKR v RR\",\"KXIP v RR\",\"DC v RR\",\"SRH v RR\",\"MI v RR\",\"CSK v RR\",\"SRH v RR\",\"KKR v RR\",\"DC v RR\",\"RCB v RR\",\"CSK v RR\",\"KXIP v RR\",\"MI v RR\",\"DC v RR\",\"PWI v RR\",\"RCB v RR\",\"CSK v RR\",\"KKR v RR\",\"KXIP v RR\",\"MI v RR\",\"SRH v RR\",\"MI v RR\",\"KKR v RR\",\"RCB v RR\",\"CSK v RR\",\"DC v RR\",\"KXIP v RR\",\"PWI v RR\",\"DC v RR\",\"DC v RR\",\"KKR v RR\",\"KXIP v RR\",\"CSK v RR\",\"Kochi v RR\",\"MI v RR\",\"MI v RR\",\"RCB v RR\",\"KXIP v RR\",\"DC v RR\",\"CSK v RR\",\"DC v RR\",\"KKR v RR\",\"KKR v RR\",\"KXIP v RR\",\"DC v RR\",\"CSK v RR\",\"DC v RR\",\"KXIP v RR\",\"RCB v RR\",\"CSK v RR\",\"DC v RR\",\"MI v RR\",\"DC v RR\",\"KKR v RR\",\"DC v RR\",\"RCB v RR\",\"MI v RR\",\"KKR v RR\",\"KXIP v RR\"],\"xaxis\":\"x\",\"yaxis\":\"y\",\"type\":\"histogram\"},{\"alignmentgroup\":\"True\",\"bingroup\":\"x\",\"hovertemplate\":\"away_team=RCB\\u003cbr\\u003eshort_name=%{x}\\u003cbr\\u003ecount=%{y}\\u003cextra\\u003e\\u003c\\u002fextra\\u003e\",\"legendgroup\":\"RCB\",\"marker\":{\"color\":\"#19d3f3\",\"pattern\":{\"shape\":\"\"}},\"name\":\"RCB\",\"offsetgroup\":\"RCB\",\"orientation\":\"v\",\"showlegend\":true,\"x\":[\"SRH v RCB\",\"RR v RCB\",\"MI v RCB\",\"DC v RCB\",\"LSG v RCB\",\"PBKS v RCB\",\"KKR v RCB\",\"PBKS v RCB\",\"RR v RCB\",\"CSK v RCB\",\"DC v RCB\",\"LSG v RCB\",\"GT v RCB\",\"SRH v RCB\",\"RR v RCB\",\"KKR v RCB\",\"PBKS v RCB\",\"DC v RCB\",\"CSK v RCB\",\"SRH v RCB\",\"SRH v RCB\",\"KXIP v RCB\",\"CSK v RCB\",\"RR v RCB\",\"KKR v RCB\",\"MI v RCB\",\"DC v RCB\",\"CSK v RCB\",\"SRH v RCB\",\"RR v RCB\",\"KXIP v RCB\",\"MI v RCB\",\"KKR v RCB\",\"DC v RCB\",\"KKR v RCB\",\"MI v RCB\",\"CSK v RCB\",\"SRH v RCB\",\"DC v RCB\",\"KXIP v RCB\",\"RR v RCB\",\"KXIP v RCB\",\"GL v RCB\",\"KKR v RCB\",\"RPS v RCB\",\"MI v RCB\",\"DC v RCB\",\"MI v RCB\",\"SRH v RCB\",\"KXIP v RCB\",\"KKR v RCB\",\"DC v RCB\",\"KKR v RCB\",\"RR v RCB\",\"DC v RCB\",\"CSK v RCB\",\"MI v RCB\",\"KXIP v RCB\",\"SRH v RCB\",\"DC v RCB\",\"RR v RCB\",\"KXIP v RCB\",\"MI v RCB\",\"CSK v RCB\",\"SRH v RCB\",\"KKR v RCB\",\"SRH v RCB\",\"CSK v RCB\",\"MI v RCB\",\"RR v RCB\",\"PWI v RCB\",\"KXIP v RCB\",\"DC v RCB\",\"KKR v RCB\",\"CSK v RCB\",\"KXIP v RCB\",\"RR v RCB\",\"KKR v RCB\",\"MI v RCB\",\"PWI v RCB\",\"DC v RCB\",\"DC v RCB\",\"Kochi v RCB\",\"DC v RCB\",\"CSK v RCB\",\"KKR v RCB\",\"DC v RCB\",\"RR v RCB\",\"KXIP v RCB\",\"KKR v RCB\",\"MI v RCB\",\"CSK v RCB\",\"KXIP v RCB\",\"DC v RCB\",\"DC v RCB\",\"RR v RCB\",\"MI v RCB\",\"DC v RCB\",\"KXIP v RCB\",\"RR v RCB\",\"CSK v RCB\"],\"xaxis\":\"x\",\"yaxis\":\"y\",\"type\":\"histogram\"},{\"alignmentgroup\":\"True\",\"bingroup\":\"x\",\"hovertemplate\":\"away_team=DC\\u003cbr\\u003eshort_name=%{x}\\u003cbr\\u003ecount=%{y}\\u003cextra\\u003e\\u003c\\u002fextra\\u003e\",\"legendgroup\":\"DC\",\"marker\":{\"color\":\"#FF6692\",\"pattern\":{\"shape\":\"\"}},\"name\":\"DC\",\"offsetgroup\":\"DC\",\"orientation\":\"v\",\"showlegend\":true,\"x\":[\"PBKS v DC\",\"CSK v DC\",\"GT v DC\",\"SRH v DC\",\"RCB v DC\",\"RR v DC\",\"LSG v DC\",\"GT v DC\",\"LSG v DC\",\"CSK v DC\",\"RR v DC\",\"PBKS v DC\",\"MI v DC\",\"RCB v DC\",\"MI v DC\",\"KKR v DC\",\"PBKS v DC\",\"SRH v DC\",\"RR v DC\",\"CSK v DC\",\"RCB v DC\",\"RR v DC\",\"MI v DC\",\"KXIP v DC\",\"KKR v DC\",\"SRH v DC\",\"MI v DC\",\"KXIP v DC\",\"RCB v DC\",\"KKR v DC\",\"SRH v DC\",\"RR v DC\",\"CSK v DC\",\"KXIP v DC\",\"RR v DC\",\"MI v DC\",\"KKR v DC\",\"RCB v DC\",\"CSK v DC\",\"SRH v DC\",\"RCB v DC\",\"RPS v DC\",\"SRH v DC\",\"MI v DC\",\"KKR v DC\",\"KXIP v DC\",\"GL v DC\",\"RCB v DC\",\"GL v DC\",\"SRH v DC\",\"MI v DC\",\"RPS v DC\",\"CSK v DC\",\"KXIP v DC\",\"SRH v DC\",\"MI v DC\",\"KKR v DC\",\"KKR v DC\",\"CSK v DC\",\"SRH v DC\",\"RCB v DC\",\"RR v DC\",\"MI v DC\",\"KXIP v DC\",\"KKR v DC\",\"MI v DC\",\"RCB v DC\",\"SRH v DC\",\"RR v DC\",\"CSK v DC\",\"KXIP v DC\",\"PWI v DC\",\"KKR v DC\",\"RCB v DC\",\"MI v DC\",\"PWI v DC\",\"RR v DC\",\"CSK v DC\",\"KXIP v DC\",\"RR v DC\",\"PWI v DC\",\"Kochi v DC\",\"MI v DC\",\"CSK v DC\",\"KXIP v DC\",\"KXIP v DC\",\"RR v DC\",\"RCB v DC\",\"KKR v DC\",\"MI v DC\",\"CSK v DC\",\"CSK v DC\",\"RCB v DC\",\"CSK v DC\",\"RCB v DC\",\"KXIP v DC\",\"CSK v DC\",\"MI v DC\",\"RCB v DC\"],\"xaxis\":\"x\",\"yaxis\":\"y\",\"type\":\"histogram\"},{\"alignmentgroup\":\"True\",\"bingroup\":\"x\",\"hovertemplate\":\"away_team=MI\\u003cbr\\u003eshort_name=%{x}\\u003cbr\\u003ecount=%{y}\\u003cextra\\u003e\\u003c\\u002fextra\\u003e\",\"legendgroup\":\"MI\",\"marker\":{\"color\":\"#B6E880\",\"pattern\":{\"shape\":\"\"}},\"name\":\"MI\",\"offsetgroup\":\"MI\",\"orientation\":\"v\",\"showlegend\":true,\"x\":[\"LSG v MI\",\"CSK v MI\",\"PBKS v MI\",\"GT v MI\",\"SRH v MI\",\"DC v MI\",\"RCB v MI\",\"DC v MI\",\"KKR v MI\",\"RCB v MI\",\"LSG v MI\",\"RR v MI\",\"GT v MI\",\"CSK v MI\",\"RR v MI\",\"RCB v MI\",\"CSK v MI\",\"PBKS v MI\",\"DC v MI\",\"KKR v MI\",\"KKR v MI\",\"RCB v MI\",\"KXIP v MI\",\"CSK v MI\",\"RR v MI\",\"DC v MI\",\"SRH v MI\",\"RCB v MI\",\"KXIP v MI\",\"SRH v MI\",\"DC v MI\",\"RR v MI\",\"CSK v MI\",\"KKR v MI\",\"SRH v MI\",\"RR v MI\",\"CSK v MI\",\"RCB v MI\",\"KXIP v MI\",\"KKR v MI\",\"DC v MI\",\"RPS v MI\",\"RCB v MI\",\"KXIP v MI\",\"GL v MI\",\"DC v MI\",\"SRH v MI\",\"KKR v MI\",\"KKR v MI\",\"SRH v MI\",\"KXIP v MI\",\"RPS v MI\",\"RCB v MI\",\"GL v MI\",\"KKR v MI\",\"RR v MI\",\"RCB v MI\",\"DC v MI\",\"KXIP v MI\",\"CSK v MI\",\"SRH v MI\",\"RCB v MI\",\"CSK v MI\",\"DC v MI\",\"SRH v MI\",\"KKR v MI\",\"RR v MI\",\"KXIP v MI\",\"RCB v MI\",\"CSK v MI\",\"RR v MI\",\"DC v MI\",\"KKR v MI\",\"SRH v MI\",\"PWI v MI\",\"CSK v MI\",\"DC v MI\",\"KXIP v MI\",\"DC v MI\",\"PWI v MI\",\"KKR v MI\",\"RCB v MI\",\"RR v MI\",\"DC v MI\",\"RCB v MI\",\"DC v MI\",\"RR v MI\",\"PWI v MI\",\"KXIP v MI\",\"KKR v MI\",\"DC v MI\",\"DC v MI\",\"CSK v MI\",\"KXIP v MI\",\"RR v MI\",\"RCB v MI\",\"KKR v MI\",\"CSK v MI\",\"DC v MI\",\"KKR v MI\",\"KXIP v MI\",\"KKR v MI\",\"RCB v MI\",\"DC v MI\",\"DC v MI\",\"RCB v MI\",\"KXIP v MI\",\"CSK v MI\",\"DC v MI\",\"CSK v MI\",\"KXIP v MI\",\"KKR v MI\",\"DC v MI\",\"RR v MI\"],\"xaxis\":\"x\",\"yaxis\":\"y\",\"type\":\"histogram\"},{\"alignmentgroup\":\"True\",\"bingroup\":\"x\",\"hovertemplate\":\"away_team=KKR\\u003cbr\\u003eshort_name=%{x}\\u003cbr\\u003ecount=%{y}\\u003cextra\\u003e\\u003c\\u002fextra\\u003e\",\"legendgroup\":\"KKR\",\"marker\":{\"color\":\"#FF97FF\",\"pattern\":{\"shape\":\"\"}},\"name\":\"KKR\",\"offsetgroup\":\"KKR\",\"orientation\":\"v\",\"showlegend\":true,\"x\":[\"CSK v KKR\",\"SRH v KKR\",\"RCB v KKR\",\"DC v KKR\",\"MI v KKR\",\"GT v KKR\",\"PBKS v KKR\",\"CSK v KKR\",\"RCB v KKR\",\"SRH v KKR\",\"RR v KKR\",\"DC v KKR\",\"LSG v KKR\",\"MI v KKR\",\"CSK v KKR\",\"MI v KKR\",\"DC v KKR\",\"PBKS v KKR\",\"RR v KKR\",\"RCB v KKR\",\"SRH v KKR\",\"RR v KKR\",\"DC v KKR\",\"KXIP v KKR\",\"RCB v KKR\",\"MI v KKR\",\"SRH v KKR\",\"CSK v KKR\",\"DC v KKR\",\"RCB v KKR\",\"RR v KKR\",\"CSK v KKR\",\"SRH v KKR\",\"KXIP v KKR\",\"MI v KKR\",\"CSK v KKR\",\"RR v KKR\",\"DC v KKR\",\"RCB v KKR\",\"MI v KKR\",\"KXIP v KKR\",\"SRH v KKR\",\"GL v KKR\",\"MI v KKR\",\"DC v KKR\",\"RPS v KKR\",\"SRH v KKR\",\"RCB v KKR\",\"KXIP v KKR\",\"KXIP v KKR\",\"MI v KKR\",\"DC v KKR\",\"RCB v KKR\",\"GL v KKR\",\"KXIP v KKR\",\"DC v KKR\",\"SRH v KKR\",\"CSK v KKR\",\"RCB v KKR\",\"MI v KKR\",\"RR v KKR\",\"MI v KKR\",\"RCB v KKR\",\"CSK v KKR\",\"RR v KKR\",\"DC v KKR\",\"KXIP v KKR\",\"SRH v KKR\",\"RR v KKR\",\"RCB v KKR\",\"CSK v KKR\",\"DC v KKR\",\"MI v KKR\",\"PWI v KKR\",\"SRH v KKR\",\"RR v KKR\",\"RCB v KKR\",\"KXIP v KKR\",\"DC v KKR\",\"CSK v KKR\",\"DC v KKR\",\"MI v KKR\",\"PWI v KKR\",\"CSK v KKR\",\"RR v KKR\",\"DC v KKR\",\"DC v KKR\",\"Kochi v KKR\",\"RCB v KKR\",\"PWI v KKR\",\"DC v KKR\",\"RR v KKR\",\"MI v KKR\",\"KXIP v KKR\",\"DC v KKR\",\"RCB v KKR\",\"CSK v KKR\",\"DC v KKR\",\"KXIP v KKR\",\"RCB v KKR\",\"KXIP v KKR\",\"DC v KKR\",\"DC v KKR\",\"RCB v KKR\",\"DC v KKR\",\"CSK v KKR\",\"RCB v KKR\",\"CSK v KKR\",\"RR v KKR\",\"KXIP v KKR\",\"MI v KKR\"],\"xaxis\":\"x\",\"yaxis\":\"y\",\"type\":\"histogram\"},{\"alignmentgroup\":\"True\",\"bingroup\":\"x\",\"hovertemplate\":\"away_team=PBKS\\u003cbr\\u003eshort_name=%{x}\\u003cbr\\u003ecount=%{y}\\u003cextra\\u003e\\u003c\\u002fextra\\u003e\",\"legendgroup\":\"PBKS\",\"marker\":{\"color\":\"#FECB52\",\"pattern\":{\"shape\":\"\"}},\"name\":\"PBKS\",\"offsetgroup\":\"PBKS\",\"orientation\":\"v\",\"showlegend\":true,\"x\":[\"DC v PBKS\",\"KKR v PBKS\",\"CSK v PBKS\",\"MI v PBKS\",\"LSG v PBKS\",\"SRH v PBKS\",\"RR v PBKS\",\"KKR v PBKS\",\"CSK v PBKS\",\"MI v PBKS\",\"DC v PBKS\",\"GT v PBKS\",\"RCB v PBKS\",\"SRH v PBKS\",\"CSK v PBKS\",\"RCB v PBKS\",\"KKR v PBKS\",\"MI v PBKS\",\"SRH v PBKS\",\"DC v PBKS\",\"RR v PBKS\"],\"xaxis\":\"x\",\"yaxis\":\"y\",\"type\":\"histogram\"},{\"alignmentgroup\":\"True\",\"bingroup\":\"x\",\"hovertemplate\":\"away_team=KXIP\\u003cbr\\u003eshort_name=%{x}\\u003cbr\\u003ecount=%{y}\\u003cextra\\u003e\\u003c\\u002fextra\\u003e\",\"legendgroup\":\"KXIP\",\"marker\":{\"color\":\"#636efa\",\"pattern\":{\"shape\":\"\"}},\"name\":\"KXIP\",\"offsetgroup\":\"KXIP\",\"orientation\":\"v\",\"showlegend\":true,\"x\":[\"DC v KXIP\",\"RR v KXIP\",\"SRH v KXIP\",\"RCB v KXIP\",\"MI v KXIP\",\"KKR v KXIP\",\"CSK v KXIP\",\"RR v KXIP\",\"KKR v KXIP\",\"CSK v KXIP\",\"MI v KXIP\",\"DC v KXIP\",\"RCB v KXIP\",\"SRH v KXIP\",\"RCB v KXIP\",\"KKR v KXIP\",\"DC v KXIP\",\"SRH v KXIP\",\"RR v KXIP\",\"MI v KXIP\",\"CSK v KXIP\",\"KKR v KXIP\",\"DC v KXIP\",\"SRH v KXIP\",\"GL v KXIP\",\"RCB v KXIP\",\"MI v KXIP\",\"RPS v KXIP\",\"DC v KXIP\",\"SRH v KXIP\",\"GL v KXIP\",\"MI v KXIP\",\"RCB v KXIP\",\"RPS v KXIP\",\"MI v KXIP\",\"RR v KXIP\",\"CSK v KXIP\",\"DC v KXIP\",\"RCB v KXIP\",\"KKR v KXIP\",\"SRH v KXIP\",\"CSK v KXIP\",\"RR v KXIP\",\"KKR v KXIP\",\"MI v KXIP\",\"RCB v KXIP\",\"SRH v KXIP\",\"DC v KXIP\",\"PWI v KXIP\",\"RR v KXIP\",\"DC v KXIP\",\"KKR v KXIP\",\"MI v KXIP\",\"CSK v KXIP\",\"RCB v KXIP\",\"RR v KXIP\",\"PWI v KXIP\",\"KKR v KXIP\",\"MI v KXIP\",\"CSK v KXIP\",\"RCB v KXIP\",\"DC v KXIP\",\"DC v KXIP\",\"PWI v KXIP\",\"DC v KXIP\",\"DC v KXIP\",\"KKR v KXIP\",\"MI v KXIP\",\"RCB v KXIP\",\"Kochi v KXIP\",\"RCB v KXIP\",\"DC v KXIP\",\"MI v KXIP\",\"KKR v KXIP\",\"RR v KXIP\",\"DC v KXIP\",\"DC v KXIP\",\"RCB v KXIP\",\"RCB v KXIP\",\"CSK v KXIP\",\"DC v KXIP\",\"DC v KXIP\",\"DC v KXIP\",\"CSK v KXIP\",\"RR v KXIP\",\"DC v KXIP\",\"RCB v KXIP\",\"CSK v KXIP\",\"DC v KXIP\"],\"xaxis\":\"x\",\"yaxis\":\"y\",\"type\":\"histogram\"},{\"alignmentgroup\":\"True\",\"bingroup\":\"x\",\"hovertemplate\":\"away_team=RPS\\u003cbr\\u003eshort_name=%{x}\\u003cbr\\u003ecount=%{y}\\u003cextra\\u003e\\u003c\\u002fextra\\u003e\",\"legendgroup\":\"RPS\",\"marker\":{\"color\":\"#EF553B\",\"pattern\":{\"shape\":\"\"}},\"name\":\"RPS\",\"offsetgroup\":\"RPS\",\"orientation\":\"v\",\"showlegend\":true,\"x\":[\"KXIP v RPS\",\"GL v RPS\",\"RCB v RPS\",\"MI v RPS\",\"KKR v RPS\",\"SRH v RPS\",\"DC v RPS\",\"MI v RPS\",\"SRH v RPS\",\"DC v RPS\",\"KKR v RPS\"],\"xaxis\":\"x\",\"yaxis\":\"y\",\"type\":\"histogram\"},{\"alignmentgroup\":\"True\",\"bingroup\":\"x\",\"hovertemplate\":\"away_team=GL\\u003cbr\\u003eshort_name=%{x}\\u003cbr\\u003ecount=%{y}\\u003cextra\\u003e\\u003c\\u002fextra\\u003e\",\"legendgroup\":\"GL\",\"marker\":{\"color\":\"#00cc96\",\"pattern\":{\"shape\":\"\"}},\"name\":\"GL\",\"offsetgroup\":\"GL\",\"orientation\":\"v\",\"showlegend\":true,\"x\":[\"SRH v GL\",\"MI v GL\",\"KKR v GL\",\"RCB v GL\",\"RPS v GL\",\"DC v GL\",\"KXIP v GL\",\"KXIP v GL\",\"MI v GL\",\"DC v GL\",\"RPS v GL\",\"KKR v GL\",\"RCB v GL\"],\"xaxis\":\"x\",\"yaxis\":\"y\",\"type\":\"histogram\"},{\"alignmentgroup\":\"True\",\"bingroup\":\"x\",\"hovertemplate\":\"away_team=PWI\\u003cbr\\u003eshort_name=%{x}\\u003cbr\\u003ecount=%{y}\\u003cextra\\u003e\\u003c\\u002fextra\\u003e\",\"legendgroup\":\"PWI\",\"marker\":{\"color\":\"#ab63fa\",\"pattern\":{\"shape\":\"\"}},\"name\":\"PWI\",\"offsetgroup\":\"PWI\",\"orientation\":\"v\",\"showlegend\":true,\"x\":[\"SRH v PWI\",\"MI v PWI\",\"CSK v PWI\",\"KXIP v PWI\",\"RCB v PWI\",\"DC v PWI\",\"RR v PWI\",\"KKR v PWI\",\"MI v PWI\",\"KXIP v PWI\",\"RCB v PWI\",\"CSK v PWI\",\"DC v PWI\",\"DC v PWI\",\"KKR v PWI\",\"RR v PWI\",\"MI v PWI\",\"CSK v PWI\",\"RCB v PWI\",\"RR v PWI\",\"KXIP v PWI\",\"DC v PWI\"],\"xaxis\":\"x\",\"yaxis\":\"y\",\"type\":\"histogram\"},{\"alignmentgroup\":\"True\",\"bingroup\":\"x\",\"hovertemplate\":\"away_team=Kochi\\u003cbr\\u003eshort_name=%{x}\\u003cbr\\u003ecount=%{y}\\u003cextra\\u003e\\u003c\\u002fextra\\u003e\",\"legendgroup\":\"Kochi\",\"marker\":{\"color\":\"#FFA15A\",\"pattern\":{\"shape\":\"\"}},\"name\":\"Kochi\",\"offsetgroup\":\"Kochi\",\"orientation\":\"v\",\"showlegend\":true,\"x\":[\"PWI v Kochi\",\"MI v Kochi\",\"KKR v Kochi\",\"RR v Kochi\",\"DC v Kochi\",\"RCB v Kochi\",\"CSK v Kochi\"],\"xaxis\":\"x\",\"yaxis\":\"y\",\"type\":\"histogram\"}],                        {\"template\":{\"data\":{\"histogram2dcontour\":[{\"type\":\"histogram2dcontour\",\"colorbar\":{\"outlinewidth\":0,\"ticks\":\"\"},\"colorscale\":[[0.0,\"#0d0887\"],[0.1111111111111111,\"#46039f\"],[0.2222222222222222,\"#7201a8\"],[0.3333333333333333,\"#9c179e\"],[0.4444444444444444,\"#bd3786\"],[0.5555555555555556,\"#d8576b\"],[0.6666666666666666,\"#ed7953\"],[0.7777777777777778,\"#fb9f3a\"],[0.8888888888888888,\"#fdca26\"],[1.0,\"#f0f921\"]]}],\"choropleth\":[{\"type\":\"choropleth\",\"colorbar\":{\"outlinewidth\":0,\"ticks\":\"\"}}],\"histogram2d\":[{\"type\":\"histogram2d\",\"colorbar\":{\"outlinewidth\":0,\"ticks\":\"\"},\"colorscale\":[[0.0,\"#0d0887\"],[0.1111111111111111,\"#46039f\"],[0.2222222222222222,\"#7201a8\"],[0.3333333333333333,\"#9c179e\"],[0.4444444444444444,\"#bd3786\"],[0.5555555555555556,\"#d8576b\"],[0.6666666666666666,\"#ed7953\"],[0.7777777777777778,\"#fb9f3a\"],[0.8888888888888888,\"#fdca26\"],[1.0,\"#f0f921\"]]}],\"heatmap\":[{\"type\":\"heatmap\",\"colorbar\":{\"outlinewidth\":0,\"ticks\":\"\"},\"colorscale\":[[0.0,\"#0d0887\"],[0.1111111111111111,\"#46039f\"],[0.2222222222222222,\"#7201a8\"],[0.3333333333333333,\"#9c179e\"],[0.4444444444444444,\"#bd3786\"],[0.5555555555555556,\"#d8576b\"],[0.6666666666666666,\"#ed7953\"],[0.7777777777777778,\"#fb9f3a\"],[0.8888888888888888,\"#fdca26\"],[1.0,\"#f0f921\"]]}],\"heatmapgl\":[{\"type\":\"heatmapgl\",\"colorbar\":{\"outlinewidth\":0,\"ticks\":\"\"},\"colorscale\":[[0.0,\"#0d0887\"],[0.1111111111111111,\"#46039f\"],[0.2222222222222222,\"#7201a8\"],[0.3333333333333333,\"#9c179e\"],[0.4444444444444444,\"#bd3786\"],[0.5555555555555556,\"#d8576b\"],[0.6666666666666666,\"#ed7953\"],[0.7777777777777778,\"#fb9f3a\"],[0.8888888888888888,\"#fdca26\"],[1.0,\"#f0f921\"]]}],\"contourcarpet\":[{\"type\":\"contourcarpet\",\"colorbar\":{\"outlinewidth\":0,\"ticks\":\"\"}}],\"contour\":[{\"type\":\"contour\",\"colorbar\":{\"outlinewidth\":0,\"ticks\":\"\"},\"colorscale\":[[0.0,\"#0d0887\"],[0.1111111111111111,\"#46039f\"],[0.2222222222222222,\"#7201a8\"],[0.3333333333333333,\"#9c179e\"],[0.4444444444444444,\"#bd3786\"],[0.5555555555555556,\"#d8576b\"],[0.6666666666666666,\"#ed7953\"],[0.7777777777777778,\"#fb9f3a\"],[0.8888888888888888,\"#fdca26\"],[1.0,\"#f0f921\"]]}],\"surface\":[{\"type\":\"surface\",\"colorbar\":{\"outlinewidth\":0,\"ticks\":\"\"},\"colorscale\":[[0.0,\"#0d0887\"],[0.1111111111111111,\"#46039f\"],[0.2222222222222222,\"#7201a8\"],[0.3333333333333333,\"#9c179e\"],[0.4444444444444444,\"#bd3786\"],[0.5555555555555556,\"#d8576b\"],[0.6666666666666666,\"#ed7953\"],[0.7777777777777778,\"#fb9f3a\"],[0.8888888888888888,\"#fdca26\"],[1.0,\"#f0f921\"]]}],\"mesh3d\":[{\"type\":\"mesh3d\",\"colorbar\":{\"outlinewidth\":0,\"ticks\":\"\"}}],\"scatter\":[{\"fillpattern\":{\"fillmode\":\"overlay\",\"size\":10,\"solidity\":0.2},\"type\":\"scatter\"}],\"parcoords\":[{\"type\":\"parcoords\",\"line\":{\"colorbar\":{\"outlinewidth\":0,\"ticks\":\"\"}}}],\"scatterpolargl\":[{\"type\":\"scatterpolargl\",\"marker\":{\"colorbar\":{\"outlinewidth\":0,\"ticks\":\"\"}}}],\"bar\":[{\"error_x\":{\"color\":\"#2a3f5f\"},\"error_y\":{\"color\":\"#2a3f5f\"},\"marker\":{\"line\":{\"color\":\"#E5ECF6\",\"width\":0.5},\"pattern\":{\"fillmode\":\"overlay\",\"size\":10,\"solidity\":0.2}},\"type\":\"bar\"}],\"scattergeo\":[{\"type\":\"scattergeo\",\"marker\":{\"colorbar\":{\"outlinewidth\":0,\"ticks\":\"\"}}}],\"scatterpolar\":[{\"type\":\"scatterpolar\",\"marker\":{\"colorbar\":{\"outlinewidth\":0,\"ticks\":\"\"}}}],\"histogram\":[{\"marker\":{\"pattern\":{\"fillmode\":\"overlay\",\"size\":10,\"solidity\":0.2}},\"type\":\"histogram\"}],\"scattergl\":[{\"type\":\"scattergl\",\"marker\":{\"colorbar\":{\"outlinewidth\":0,\"ticks\":\"\"}}}],\"scatter3d\":[{\"type\":\"scatter3d\",\"line\":{\"colorbar\":{\"outlinewidth\":0,\"ticks\":\"\"}},\"marker\":{\"colorbar\":{\"outlinewidth\":0,\"ticks\":\"\"}}}],\"scattermapbox\":[{\"type\":\"scattermapbox\",\"marker\":{\"colorbar\":{\"outlinewidth\":0,\"ticks\":\"\"}}}],\"scatterternary\":[{\"type\":\"scatterternary\",\"marker\":{\"colorbar\":{\"outlinewidth\":0,\"ticks\":\"\"}}}],\"scattercarpet\":[{\"type\":\"scattercarpet\",\"marker\":{\"colorbar\":{\"outlinewidth\":0,\"ticks\":\"\"}}}],\"carpet\":[{\"aaxis\":{\"endlinecolor\":\"#2a3f5f\",\"gridcolor\":\"white\",\"linecolor\":\"white\",\"minorgridcolor\":\"white\",\"startlinecolor\":\"#2a3f5f\"},\"baxis\":{\"endlinecolor\":\"#2a3f5f\",\"gridcolor\":\"white\",\"linecolor\":\"white\",\"minorgridcolor\":\"white\",\"startlinecolor\":\"#2a3f5f\"},\"type\":\"carpet\"}],\"table\":[{\"cells\":{\"fill\":{\"color\":\"#EBF0F8\"},\"line\":{\"color\":\"white\"}},\"header\":{\"fill\":{\"color\":\"#C8D4E3\"},\"line\":{\"color\":\"white\"}},\"type\":\"table\"}],\"barpolar\":[{\"marker\":{\"line\":{\"color\":\"#E5ECF6\",\"width\":0.5},\"pattern\":{\"fillmode\":\"overlay\",\"size\":10,\"solidity\":0.2}},\"type\":\"barpolar\"}],\"pie\":[{\"automargin\":true,\"type\":\"pie\"}]},\"layout\":{\"autotypenumbers\":\"strict\",\"colorway\":[\"#636efa\",\"#EF553B\",\"#00cc96\",\"#ab63fa\",\"#FFA15A\",\"#19d3f3\",\"#FF6692\",\"#B6E880\",\"#FF97FF\",\"#FECB52\"],\"font\":{\"color\":\"#2a3f5f\"},\"hovermode\":\"closest\",\"hoverlabel\":{\"align\":\"left\"},\"paper_bgcolor\":\"white\",\"plot_bgcolor\":\"#E5ECF6\",\"polar\":{\"bgcolor\":\"#E5ECF6\",\"angularaxis\":{\"gridcolor\":\"white\",\"linecolor\":\"white\",\"ticks\":\"\"},\"radialaxis\":{\"gridcolor\":\"white\",\"linecolor\":\"white\",\"ticks\":\"\"}},\"ternary\":{\"bgcolor\":\"#E5ECF6\",\"aaxis\":{\"gridcolor\":\"white\",\"linecolor\":\"white\",\"ticks\":\"\"},\"baxis\":{\"gridcolor\":\"white\",\"linecolor\":\"white\",\"ticks\":\"\"},\"caxis\":{\"gridcolor\":\"white\",\"linecolor\":\"white\",\"ticks\":\"\"}},\"coloraxis\":{\"colorbar\":{\"outlinewidth\":0,\"ticks\":\"\"}},\"colorscale\":{\"sequential\":[[0.0,\"#0d0887\"],[0.1111111111111111,\"#46039f\"],[0.2222222222222222,\"#7201a8\"],[0.3333333333333333,\"#9c179e\"],[0.4444444444444444,\"#bd3786\"],[0.5555555555555556,\"#d8576b\"],[0.6666666666666666,\"#ed7953\"],[0.7777777777777778,\"#fb9f3a\"],[0.8888888888888888,\"#fdca26\"],[1.0,\"#f0f921\"]],\"sequentialminus\":[[0.0,\"#0d0887\"],[0.1111111111111111,\"#46039f\"],[0.2222222222222222,\"#7201a8\"],[0.3333333333333333,\"#9c179e\"],[0.4444444444444444,\"#bd3786\"],[0.5555555555555556,\"#d8576b\"],[0.6666666666666666,\"#ed7953\"],[0.7777777777777778,\"#fb9f3a\"],[0.8888888888888888,\"#fdca26\"],[1.0,\"#f0f921\"]],\"diverging\":[[0,\"#8e0152\"],[0.1,\"#c51b7d\"],[0.2,\"#de77ae\"],[0.3,\"#f1b6da\"],[0.4,\"#fde0ef\"],[0.5,\"#f7f7f7\"],[0.6,\"#e6f5d0\"],[0.7,\"#b8e186\"],[0.8,\"#7fbc41\"],[0.9,\"#4d9221\"],[1,\"#276419\"]]},\"xaxis\":{\"gridcolor\":\"white\",\"linecolor\":\"white\",\"ticks\":\"\",\"title\":{\"standoff\":15},\"zerolinecolor\":\"white\",\"automargin\":true,\"zerolinewidth\":2},\"yaxis\":{\"gridcolor\":\"white\",\"linecolor\":\"white\",\"ticks\":\"\",\"title\":{\"standoff\":15},\"zerolinecolor\":\"white\",\"automargin\":true,\"zerolinewidth\":2},\"scene\":{\"xaxis\":{\"backgroundcolor\":\"#E5ECF6\",\"gridcolor\":\"white\",\"linecolor\":\"white\",\"showbackground\":true,\"ticks\":\"\",\"zerolinecolor\":\"white\",\"gridwidth\":2},\"yaxis\":{\"backgroundcolor\":\"#E5ECF6\",\"gridcolor\":\"white\",\"linecolor\":\"white\",\"showbackground\":true,\"ticks\":\"\",\"zerolinecolor\":\"white\",\"gridwidth\":2},\"zaxis\":{\"backgroundcolor\":\"#E5ECF6\",\"gridcolor\":\"white\",\"linecolor\":\"white\",\"showbackground\":true,\"ticks\":\"\",\"zerolinecolor\":\"white\",\"gridwidth\":2}},\"shapedefaults\":{\"line\":{\"color\":\"#2a3f5f\"}},\"annotationdefaults\":{\"arrowcolor\":\"#2a3f5f\",\"arrowhead\":0,\"arrowwidth\":1},\"geo\":{\"bgcolor\":\"white\",\"landcolor\":\"#E5ECF6\",\"subunitcolor\":\"white\",\"showland\":true,\"showlakes\":true,\"lakecolor\":\"white\"},\"title\":{\"x\":0.05},\"mapbox\":{\"style\":\"light\"}}},\"xaxis\":{\"anchor\":\"y\",\"domain\":[0.0,1.0],\"title\":{\"text\":\"Matches\"}},\"yaxis\":{\"anchor\":\"x\",\"domain\":[0.0,1.0],\"title\":{\"text\":\"Count\"}},\"legend\":{\"title\":{\"text\":\"away_team\"},\"tracegroupgap\":0},\"margin\":{\"t\":60},\"barmode\":\"relative\",\"title\":{\"text\":\"Distribution of matches and Away team\"}},                        {\"responsive\": true}                    ).then(function(){\n",
       "                            \n",
       "var gd = document.getElementById('345b71da-d517-4b7d-a16f-363799fc24cc');\n",
       "var x = new MutationObserver(function (mutations, observer) {{\n",
       "        var display = window.getComputedStyle(gd).display;\n",
       "        if (!display || display === 'none') {{\n",
       "            console.log([gd, 'removed!']);\n",
       "            Plotly.purge(gd);\n",
       "            observer.disconnect();\n",
       "        }}\n",
       "}});\n",
       "\n",
       "// Listen for the removal of the full notebook cells\n",
       "var notebookContainer = gd.closest('#notebook-container');\n",
       "if (notebookContainer) {{\n",
       "    x.observe(notebookContainer, {childList: true});\n",
       "}}\n",
       "\n",
       "// Listen for the clearing of the current output cell\n",
       "var outputEl = gd.closest('.output');\n",
       "if (outputEl) {{\n",
       "    x.observe(outputEl, {childList: true});\n",
       "}}\n",
       "\n",
       "                        })                };                });            </script>        </div>"
      ]
     },
     "metadata": {},
     "output_type": "display_data"
    }
   ],
   "source": [
    "fig = px.histogram(df, x='short_name',color='away_team')\n",
    "fig.update_layout(\n",
    "    title=\"Distribution of matches and Away team\",\n",
    "    xaxis_title=\"Matches\",\n",
    "    yaxis_title=\"Count\"\n",
    ")\n",
    "fig.show()"
   ]
  },
  {
   "cell_type": "code",
   "execution_count": 38,
   "id": "c9f887d5-cbf9-4de5-b0a9-f0c00e4f3243",
   "metadata": {},
   "outputs": [
    {
     "data": {
      "application/vnd.plotly.v1+json": {
       "config": {
        "plotlyServerURL": "https://plot.ly"
       },
       "data": [
        {
         "alignmentgroup": "True",
         "bingroup": "x",
         "hovertemplate": "decision=BOWL FIRST<br>short_name=%{x}<br>count=%{y}<extra></extra>",
         "legendgroup": "BOWL FIRST",
         "marker": {
          "color": "#636efa",
          "pattern": {
           "shape": ""
          }
         },
         "name": "BOWL FIRST",
         "offsetgroup": "BOWL FIRST",
         "orientation": "v",
         "showlegend": true,
         "type": "histogram",
         "x": [
          "RCB v GT",
          "MI v SRH",
          "KKR v LSG",
          "PBKS v RR",
          "SRH v RCB",
          "PBKS v DC",
          "LSG v MI",
          "GT v SRH",
          "DC v PBKS",
          "MI v GT",
          "KKR v RR",
          "MI v RCB",
          "GT v LSG",
          "CSK v MI",
          "PBKS v MI",
          "KKR v GT",
          "PBKS v LSG",
          "RCB v KKR",
          "GT v MI",
          "KKR v CSK",
          "RCB v RR",
          "MI v PBKS",
          "CSK v SRH",
          "DC v KKR",
          "PBKS v RCB",
          "RR v LSG",
          "SRH v MI",
          "RCB v CSK",
          "GT v RR",
          "MI v KKR",
          "LSG v PBKS",
          "RCB v DC",
          "KKR v SRH",
          "PBKS v GT",
          "CSK v RR",
          "DC v MI",
          "RCB v LSG",
          "SRH v PBKS",
          "MI v CSK",
          "RR v DC",
          "KKR v RCB",
          "RR v PBKS",
          "DC v GT",
          "CSK v LSG",
          "RCB v MI",
          "SRH v RR",
          "LSG v DC",
          "PBKS v KKR",
          "GT v CSK",
          "CSK v KKR",
          "DC v MI",
          "PBKS v RCB",
          "GT v LSG",
          "SRH v RR",
          "RCB v KKR",
          "LSG v CSK",
          "KKR v PBKS",
          "MI v RR",
          "GT v DC",
          "CSK v PBKS",
          "RR v RCB",
          "KKR v MI",
          "LSG v DC",
          "PBKS v GT",
          "CSK v SRH",
          "RCB v MI",
          "CSK v RCB",
          "MI v PBKS",
          "RR v GT",
          "SRH v KKR",
          "MI v LSG",
          "DC v RCB",
          "PBKS v SRH",
          "GT v CSK",
          "RR v KKR",
          "LSG v RCB",
          "DC v PBKS",
          "MI v CSK",
          "DC v RR",
          "RCB v SRH",
          "LSG v MI",
          "PBKS v CSK",
          "RCB v RR",
          "GT v SRH",
          "DC v KKR",
          "PBKS v LSG",
          "RR v MI",
          "SRH v CSK",
          "KKR v RR",
          "RCB v CSK",
          "DC v SRH",
          "GT v MI",
          "LSG v KKR",
          "CSK v DC",
          "MI v KKR",
          "RR v DC",
          "CSK v MI",
          "RCB v PBKS",
          "PBKS v DC",
          "MI v SRH",
          "MI v DC",
          "RCB v DC",
          "KKR v RR",
          "CSK v PBKS",
          "RCB v SRH",
          "RR v MI",
          "DC v CSK",
          "RR v CSK",
          "MI v DC",
          "KKR v PBKS",
          "SRH v CSK",
          "RR v RCB",
          "MI v PBKS",
          "KKR v DC",
          "RCB v MI",
          "SRH v PBKS",
          "DC v RR",
          "RCB v CSK",
          "MI v KKR",
          "PBKS v RR",
          "PBKS v DC",
          "RR v SRH",
          "MI v CSK",
          "PBKS v RCB",
          "DC v KKR",
          "MI v RR",
          "DC v RCB",
          "PBKS v KKR",
          "RR v KKR",
          "PBKS v MI",
          "RCB v RR",
          "KKR v CSK",
          "CSK v RR",
          "DC v PBKS",
          "PBKS v CSK",
          "RR v DC",
          "SRH v RCB",
          "KKR v MI",
          "RR v PBKS",
          "SRH v KKR",
          "MI v CSK",
          "DC v KXIP",
          "SRH v RCB",
          "RR v CSK",
          "KKR v MI",
          "KXIP v RCB",
          "CSK v DC",
          "RR v KXIP",
          "RCB v MI",
          "DC v SRH",
          "RR v KKR",
          "KXIP v MI",
          "DC v KKR",
          "RCB v DC",
          "RR v DC",
          "SRH v KKR",
          "CSK v MI",
          "KKR v DC",
          "KXIP v SRH",
          "KKR v KXIP",
          "SRH v DC",
          "MI v RCB",
          "CSK v KKR",
          "KXIP v RR",
          "DC v MI",
          "CSK v KXIP",
          "KKR v RR",
          "DC v RCB",
          "SRH v MI",
          "CSK v RCB",
          "KKR v SRH",
          "MI v DC",
          "RR v KXIP",
          "KKR v KXIP",
          "RCB v MI",
          "KXIP v MI",
          "DC v KKR",
          "SRH v RCB",
          "CSK v RR",
          "KXIP v DC",
          "RR v RCB",
          "MI v CSK",
          "DC v SRH",
          "RCB v KKR",
          "SRH v MI",
          "RCB v DC",
          "RR v KKR",
          "KXIP v SRH",
          "CSK v KKR",
          "MI v KXIP",
          "RR v CSK",
          "KKR v DC",
          "MI v RR",
          "KXIP v RCB",
          "KKR v CSK",
          "SRH v DC",
          "MI v RCB",
          "KXIP v RR",
          "KKR v RCB",
          "RR v MI",
          "DC v KXIP",
          "SRH v KKR",
          "RCB v CSK",
          "RR v DC",
          "CSK v SRH",
          "RCB v KXIP",
          "KKR v RR",
          "CSK v MI",
          "RR v SRH",
          "KKR v MI",
          "SRH v KXIP",
          "CSK v DC",
          "KXIP v KKR",
          "KXIP v CSK",
          "MI v KKR",
          "MI v CSK",
          "KXIP v DC",
          "KKR v RCB",
          "SRH v RR",
          "CSK v KKR",
          "RR v DC",
          "SRH v MI",
          "RCB v KXIP",
          "MI v DC",
          "KKR v SRH",
          "RCB v RR",
          "KXIP v CSK",
          "KKR v DC",
          "MI v RCB",
          "RR v KKR",
          "CSK v RR",
          "KKR v KXIP",
          "RCB v DC",
          "SRH v CSK",
          "DC v KXIP",
          "MI v SRH",
          "RCB v CSK",
          "SRH v KXIP",
          "DC v KKR",
          "CSK v MI",
          "RCB v KKR",
          "CSK v DC",
          "RCB v MI",
          "DC v RR",
          "KKR v CSK",
          "KXIP v MI",
          "CSK v RCB",
          "MI v KKR",
          "KXIP v RR",
          "SRH v RCB",
          "KKR v MI",
          "KXIP v KKR",
          "DC v RCB",
          "CSK v SRH",
          "MI v RR",
          "KXIP v RCB",
          "KKR v RR",
          "MI v KXIP",
          "RCB v SRH",
          "DC v CSK",
          "CSK v KXIP",
          "RPS v MI",
          "GL v KKR",
          "KXIP v RPS",
          "SRH v GL",
          "MI v KKR",
          "RPS v DC",
          "MI v SRH",
          "KKR v KXIP",
          "RCB v MI",
          "GL v RPS",
          "KKR v SRH",
          "MI v GL",
          "RCB v RPS",
          "SRH v KXIP",
          "GL v RCB",
          "KXIP v MI",
          "KKR v GL",
          "RPS v SRH",
          "MI v DC",
          "GL v KXIP",
          "KKR v RCB",
          "MI v RPS",
          "RPS v KKR",
          "RCB v GL",
          "KKR v DC",
          "KXIP v SRH",
          "RPS v RCB",
          "KXIP v DC",
          "SRH v KKR",
          "RPS v GL",
          "DC v SRH",
          "KKR v RPS",
          "DC v GL",
          "RCB v KXIP",
          "SRH v RPS",
          "DC v MI",
          "RCB v KKR",
          "KXIP v GL",
          "KXIP v KKR",
          "GL v DC",
          "MI v KXIP",
          "GL v SRH",
          "KKR v MI",
          "RPS v KXIP",
          "KXIP v GL",
          "RCB v SRH",
          "KKR v MI",
          "DC v KXIP",
          "MI v GL",
          "RCB v DC",
          "SRH v MI",
          "KXIP v KKR",
          "MI v RCB",
          "SRH v KXIP",
          "KXIP v MI",
          "SRH v RPS",
          "DC v GL",
          "MI v KKR",
          "RPS v GL",
          "DC v KKR",
          "SRH v RCB",
          "GL v KXIP",
          "RPS v MI",
          "RCB v KKR",
          "GL v DC",
          "DC v RPS",
          "MI v SRH",
          "KKR v GL",
          "KXIP v RCB",
          "RCB v MI",
          "SRH v DC",
          "RCB v GL",
          "MI v DC",
          "KKR v RCB",
          "RPS v DC",
          "RCB v KXIP",
          "GL v KKR",
          "DC v SRH",
          "GL v MI",
          "KKR v SRH",
          "DC v RCB",
          "KKR v MI",
          "CSK v DC",
          "KXIP v RR",
          "KKR v RCB",
          "DC v RR",
          "MI v KXIP",
          "RCB v SRH",
          "SRH v RR",
          "KXIP v KKR",
          "RCB v MI",
          "DC v KKR",
          "RR v KXIP",
          "SRH v KKR",
          "RCB v CSK",
          "DC v MI",
          "RR v RCB",
          "DC v RCB",
          "KXIP v SRH",
          "CSK v KKR",
          "KKR v CSK",
          "DC v KXIP",
          "MI v RR",
          "RCB v KKR",
          "SRH v CSK",
          "KKR v SRH",
          "RCB v KXIP",
          "RR v SRH",
          "KXIP v RCB",
          "MI v KKR",
          "DC v RCB",
          "SRH v RR",
          "RCB v MI",
          "RR v KXIP",
          "KXIP v SRH",
          "RR v CSK",
          "RCB v KKR",
          "RR v RCB",
          "KKR v KXIP",
          "KXIP v RCB",
          "MI v SRH",
          "DC v RR",
          "RCB v SRH",
          "RR v KKR",
          "DC v CSK",
          "MI v RCB",
          "KXIP v CSK",
          "RR v SRH",
          "RCB v KXIP",
          "DC v SRH",
          "MI v CSK",
          "KXIP v KKR",
          "RCB v DC",
          "SRH v KXIP",
          "KKR v MI",
          "RR v DC",
          "DC v KXIP",
          "KKR v CSK",
          "KXIP v MI",
          "KKR v RCB",
          "CSK v SRH",
          "MI v DC",
          "KXIP v RR",
          "RCB v CSK",
          "KKR v SRH",
          "KXIP v DC",
          "MI v RR",
          "KKR v DC",
          "RCB v MI",
          "SRH v PWI",
          "RR v KKR",
          "KXIP v CSK",
          "RCB v KKR",
          "CSK v RCB",
          "RR v KXIP",
          "RCB v DC",
          "PWI v SRH",
          "RCB v RR",
          "KXIP v PWI",
          "RCB v PWI",
          "DC v KXIP",
          "CSK v KKR",
          "DC v PWI",
          "RR v RCB",
          "KXIP v RCB",
          "SRH v CSK",
          "KXIP v RR",
          "DC v RCB",
          "KXIP v SRH",
          "KKR v RCB",
          "RR v CSK",
          "RCB v KXIP",
          "KKR v PWI",
          "MI v RR",
          "KXIP v DC",
          "RCB v CSK",
          "CSK v MI",
          "KKR v DC",
          "MI v PWI",
          "RR v KXIP",
          "RCB v DC",
          "DC v CSK",
          "RR v KKR",
          "RCB v KKR",
          "DC v CSK",
          "MI v RR",
          "KXIP v PWI",
          "KKR v KXIP",
          "MI v DC",
          "CSK v PWI",
          "KXIP v RCB",
          "DC v PWI",
          "DC v KKR",
          "RR v RCB",
          "DC v MI",
          "MI v DC",
          "RCB v KXIP",
          "MI v CSK",
          "RCB v DC",
          "DC v KXIP",
          "MI v RCB",
          "RR v CSK",
          "PWI v RCB",
          "CSK v DC",
          "RCB v MI",
          "KKR v CSK",
          "MI v KKR",
          "KXIP v CSK",
          "DC v RCB",
          "KXIP v DC",
          "DC v RCB",
          "DC v RR",
          "RCB v MI",
          "KXIP v CSK",
          "DC v RCB",
          "RR v KKR",
          "MI v Kochi",
          "DC v KXIP",
          "PWI v DC",
          "KKR v RR",
          "Kochi v CSK",
          "KKR v Kochi",
          "KXIP v RR",
          "KKR v RCB",
          "MI v CSK",
          "DC v KXIP",
          "DC v MI",
          "RR v Kochi",
          "CSK v PWI",
          "DC v RCB",
          "Kochi v DC",
          "DC v KKR",
          "RR v MI",
          "RCB v PWI",
          "KKR v KXIP",
          "RR v PWI",
          "MI v KXIP",
          "DC v Kochi",
          "DC v KKR",
          "PWI v MI",
          "Kochi v KKR",
          "RCB v KXIP",
          "MI v DC",
          "RR v CSK",
          "KXIP v MI",
          "RR v RCB",
          "Kochi v KXIP",
          "RCB v KKR",
          "KXIP v DC",
          "Kochi v RR",
          "PWI v DC",
          "PWI v KKR",
          "KXIP v DC",
          "RCB v CSK",
          "KKR v MI",
          "DC v KKR",
          "KXIP v DC",
          "KKR v RCB",
          "RR v DC",
          "DC v MI",
          "RCB v RR",
          "DC v KXIP",
          "RCB v CSK",
          "KXIP v RR",
          "RCB v DC",
          "MI v CSK",
          "DC v MI",
          "MI v KXIP",
          "RCB v DC",
          "RCB v KKR",
          "RR v MI",
          "DC v RCB",
          "KXIP v DC",
          "RCB v MI",
          "KXIP v CSK",
          "CSK v MI",
          "DC v KXIP",
          "KXIP v KKR",
          "KKR v RR",
          "CSK v DC",
          "CSK v RR",
          "CSK v DC",
          "KXIP v RR",
          "RCB v RR",
          "DC v KXIP",
          "DC v KKR",
          "RCB v KKR",
          "DC v KXIP",
          "DC v KKR",
          "DC v KXIP",
          "KKR v RR",
          "DC v MI",
          "RCB v KKR",
          "CSK v MI",
          "DC v RR",
          "KXIP v MI",
          "RCB v RR",
          "MI v DC",
          "DC v RCB",
          "DC v KXIP",
          "RCB v DC",
          "MI v DC",
          "RCB v KXIP",
          "CSK v DC",
          "MI v RR",
          "CSK v KXIP",
          "MI v CSK",
          "MI v KKR",
          "RR v RCB",
          "DC v MI",
          "RCB v DC",
          "KKR v RR",
          "KXIP v DC",
          "RR v MI",
          "KXIP v RR"
         ],
         "xaxis": "x",
         "yaxis": "y"
        },
        {
         "alignmentgroup": "True",
         "bingroup": "x",
         "hovertemplate": "decision=BAT FIRST<br>short_name=%{x}<br>count=%{y}<extra></extra>",
         "legendgroup": "BAT FIRST",
         "marker": {
          "color": "#EF553B",
          "pattern": {
           "shape": ""
          }
         },
         "name": "BAT FIRST",
         "offsetgroup": "BAT FIRST",
         "orientation": "v",
         "showlegend": true,
         "type": "histogram",
         "x": [
          "DC v CSK",
          "CSK v KKR",
          "RR v RCB",
          "SRH v LSG",
          "CSK v DC",
          "KKR v PBKS",
          "RR v SRH",
          "DC v RCB",
          "RR v GT",
          "SRH v KKR",
          "GT v DC",
          "LSG v RCB",
          "MI v RR",
          "CSK v PBKS",
          "DC v SRH",
          "RR v CSK",
          "SRH v DC",
          "LSG v GT",
          "GT v KKR",
          "LSG v SRH",
          "KKR v GT",
          "GT v RCB",
          "DC v LSG",
          "GT v PBKS",
          "PBKS v RR",
          "SRH v RCB",
          "LSG v GT",
          "KKR v SRH",
          "CSK v GT",
          "LSG v RR",
          "KKR v LSG",
          "RCB v GT",
          "RR v CSK",
          "SRH v PBKS",
          "KKR v SRH",
          "RCB v PBKS",
          "SRH v RR",
          "CSK v KKR",
          "DC v SRH",
          "KKR v RCB",
          "CSK v MI",
          "CSK v SRH",
          "SRH v DC",
          "CSK v RCB",
          "PBKS v SRH",
          "DC v MI",
          "RCB v KKR",
          "MI v SRH",
          "KKR v SRH",
          "CSK v SRH",
          "RCB v RR",
          "MI v SRH",
          "KXIP v CSK",
          "MI v RR",
          "KKR v CSK",
          "SRH v KXIP",
          "KXIP v KKR",
          "CSK v RCB",
          "SRH v RR",
          "MI v DC",
          "RCB v KKR",
          "SRH v CSK",
          "DC v RR",
          "RCB v KXIP",
          "MI v KKR",
          "RR v RCB",
          "DC v CSK",
          "MI v KXIP",
          "CSK v RR",
          "KXIP v DC",
          "KKR v RCB",
          "RCB v CSK",
          "RR v MI",
          "DC v CSK",
          "SRH v RR",
          "CSK v KXIP",
          "SRH v CSK",
          "DC v MI",
          "DC v RCB",
          "MI v SRH",
          "DC v RR",
          "KXIP v SRH",
          "RR v MI",
          "RR v SRH",
          "SRH v DC",
          "RR v KXIP",
          "DC v SRH",
          "RR v CSK",
          "RR v RCB",
          "SRH v KKR",
          "DC v MI",
          "RCB v DC",
          "KXIP v RCB",
          "DC v KXIP",
          "DC v KKR",
          "SRH v DC",
          "GL v MI",
          "MI v RCB",
          "SRH v MI",
          "DC v RPS",
          "DC v RCB",
          "MI v RPS",
          "RPS v SRH",
          "MI v KXIP",
          "KKR v RPS",
          "KXIP v SRH",
          "RPS v KXIP",
          "CSK v SRH",
          "RR v MI",
          "KXIP v DC",
          "MI v CSK",
          "SRH v DC",
          "RR v CSK",
          "MI v SRH",
          "CSK v KXIP",
          "KXIP v MI",
          "CSK v RCB",
          "MI v DC",
          "KKR v DC",
          "CSK v MI",
          "KKR v KXIP",
          "DC v SRH",
          "MI v RCB",
          "CSK v RR",
          "SRH v KXIP",
          "DC v CSK",
          "SRH v RCB",
          "KXIP v CSK",
          "RR v KKR",
          "SRH v MI",
          "MI v KKR",
          "CSK v KXIP",
          "KKR v DC",
          "CSK v DC",
          "SRH v DC",
          "CSK v MI",
          "DC v MI",
          "SRH v CSK",
          "KKR v RR",
          "CSK v KKR",
          "MI v KXIP",
          "DC v KKR",
          "RCB v RR",
          "SRH v MI",
          "CSK v RR",
          "CSK v RCB",
          "SRH v KKR",
          "RR v MI",
          "SRH v RCB",
          "DC v RR",
          "CSK v MI",
          "PWI v KXIP",
          "SRH v RCB",
          "RCB v SRH",
          "MI v DC",
          "PWI v RR",
          "DC v SRH",
          "MI v PWI",
          "KKR v SRH",
          "CSK v PWI",
          "RR v MI",
          "DC v CSK",
          "KKR v CSK",
          "DC v MI",
          "CSK v RR",
          "KKR v MI",
          "CSK v SRH",
          "KKR v KXIP",
          "RR v SRH",
          "MI v RCB",
          "MI v KXIP",
          "PWI v CSK",
          "SRH v MI",
          "DC v KKR",
          "CSK v KXIP",
          "PWI v RCB",
          "KKR v RR",
          "SRH v DC",
          "MI v CSK",
          "RR v PWI",
          "RR v DC",
          "MI v KKR",
          "PWI v KKR",
          "PWI v MI",
          "MI v SRH",
          "CSK v DC",
          "SRH v RR",
          "PWI v DC",
          "SRH v KKR",
          "PWI v KXIP",
          "DC v MI",
          "CSK v RCB",
          "KKR v RR",
          "PWI v CSK",
          "RCB v RR",
          "RR v DC",
          "RCB v PWI",
          "KXIP v KKR",
          "CSK v RR",
          "MI v KXIP",
          "PWI v DC",
          "KXIP v MI",
          "PWI v DC",
          "CSK v KXIP",
          "KKR v RCB",
          "DC v RR",
          "CSK v KKR",
          "DC v PWI",
          "RR v DC",
          "PWI v MI",
          "CSK v DC",
          "KKR v PWI",
          "KXIP v RR",
          "DC v KKR",
          "PWI v RR",
          "KKR v MI",
          "RR v PWI",
          "KXIP v DC",
          "DC v KXIP",
          "DC v RR",
          "PWI v KKR",
          "RR v MI",
          "CSK v KKR",
          "Kochi v RCB",
          "DC v MI",
          "PWI v KXIP",
          "KKR v DC",
          "RR v DC",
          "PWI v Kochi",
          "CSK v RCB",
          "MI v PWI",
          "PWI v CSK",
          "Kochi v DC",
          "CSK v DC",
          "CSK v RR",
          "KKR v CSK",
          "RCB v Kochi",
          "KXIP v PWI",
          "DC v PWI",
          "CSK v DC",
          "MI v DC",
          "KXIP v RCB",
          "CSK v Kochi",
          "MI v RR",
          "MI v RR",
          "CSK v DC",
          "RCB v KXIP",
          "KKR v CSK",
          "DC v CSK",
          "RR v KKR",
          "MI v RCB",
          "MI v KKR",
          "RR v DC",
          "KXIP v KKR",
          "RR v CSK",
          "DC v KKR",
          "CSK v RCB",
          "DC v RR",
          "KKR v DC",
          "KXIP v RCB",
          "CSK v RR",
          "MI v DC",
          "KKR v KXIP",
          "DC v RCB",
          "DC v RR",
          "CSK v MI",
          "RR v KXIP",
          "KKR v DC",
          "KXIP v MI",
          "DC v CSK",
          "DC v KXIP",
          "MI v DC",
          "CSK v KKR",
          "RR v RCB",
          "CSK v DC",
          "KKR v RR",
          "KKR v MI",
          "DC v KKR",
          "CSK v DC",
          "RCB v KXIP",
          "DC v MI",
          "RCB v DC",
          "KXIP v RR",
          "KKR v MI",
          "DC v RR",
          "RCB v KKR",
          "KXIP v MI",
          "KKR v MI",
          "RCB v KXIP",
          "DC v RR",
          "KXIP v KKR",
          "RCB v MI",
          "CSK v DC",
          "DC v KKR",
          "DC v MI",
          "CSK v KXIP",
          "DC v MI",
          "CSK v RR",
          "RCB v MI",
          "DC v RR",
          "KXIP v MI",
          "MI v RR",
          "CSK v MI",
          "DC v RR",
          "CSK v KKR",
          "RCB v DC",
          "CSK v KXIP",
          "RCB v DC",
          "KXIP v CSK",
          "KKR v DC",
          "MI v RCB",
          "RR v KXIP",
          "CSK v KKR",
          "KXIP v DC",
          "KKR v MI",
          "RR v KKR",
          "CSK v DC",
          "KXIP v KKR",
          "RR v CSK",
          "KXIP v RCB",
          "DC v KXIP",
          "KKR v CSK",
          "CSK v RCB"
         ],
         "xaxis": "x",
         "yaxis": "y"
        }
       ],
       "layout": {
        "autosize": true,
        "barmode": "relative",
        "legend": {
         "title": {
          "text": "decision"
         },
         "tracegroupgap": 0
        },
        "margin": {
         "t": 60
        },
        "template": {
         "data": {
          "bar": [
           {
            "error_x": {
             "color": "#2a3f5f"
            },
            "error_y": {
             "color": "#2a3f5f"
            },
            "marker": {
             "line": {
              "color": "#E5ECF6",
              "width": 0.5
             },
             "pattern": {
              "fillmode": "overlay",
              "size": 10,
              "solidity": 0.2
             }
            },
            "type": "bar"
           }
          ],
          "barpolar": [
           {
            "marker": {
             "line": {
              "color": "#E5ECF6",
              "width": 0.5
             },
             "pattern": {
              "fillmode": "overlay",
              "size": 10,
              "solidity": 0.2
             }
            },
            "type": "barpolar"
           }
          ],
          "carpet": [
           {
            "aaxis": {
             "endlinecolor": "#2a3f5f",
             "gridcolor": "white",
             "linecolor": "white",
             "minorgridcolor": "white",
             "startlinecolor": "#2a3f5f"
            },
            "baxis": {
             "endlinecolor": "#2a3f5f",
             "gridcolor": "white",
             "linecolor": "white",
             "minorgridcolor": "white",
             "startlinecolor": "#2a3f5f"
            },
            "type": "carpet"
           }
          ],
          "choropleth": [
           {
            "colorbar": {
             "outlinewidth": 0,
             "ticks": ""
            },
            "type": "choropleth"
           }
          ],
          "contour": [
           {
            "colorbar": {
             "outlinewidth": 0,
             "ticks": ""
            },
            "colorscale": [
             [
              0,
              "#0d0887"
             ],
             [
              0.1111111111111111,
              "#46039f"
             ],
             [
              0.2222222222222222,
              "#7201a8"
             ],
             [
              0.3333333333333333,
              "#9c179e"
             ],
             [
              0.4444444444444444,
              "#bd3786"
             ],
             [
              0.5555555555555556,
              "#d8576b"
             ],
             [
              0.6666666666666666,
              "#ed7953"
             ],
             [
              0.7777777777777778,
              "#fb9f3a"
             ],
             [
              0.8888888888888888,
              "#fdca26"
             ],
             [
              1,
              "#f0f921"
             ]
            ],
            "type": "contour"
           }
          ],
          "contourcarpet": [
           {
            "colorbar": {
             "outlinewidth": 0,
             "ticks": ""
            },
            "type": "contourcarpet"
           }
          ],
          "heatmap": [
           {
            "colorbar": {
             "outlinewidth": 0,
             "ticks": ""
            },
            "colorscale": [
             [
              0,
              "#0d0887"
             ],
             [
              0.1111111111111111,
              "#46039f"
             ],
             [
              0.2222222222222222,
              "#7201a8"
             ],
             [
              0.3333333333333333,
              "#9c179e"
             ],
             [
              0.4444444444444444,
              "#bd3786"
             ],
             [
              0.5555555555555556,
              "#d8576b"
             ],
             [
              0.6666666666666666,
              "#ed7953"
             ],
             [
              0.7777777777777778,
              "#fb9f3a"
             ],
             [
              0.8888888888888888,
              "#fdca26"
             ],
             [
              1,
              "#f0f921"
             ]
            ],
            "type": "heatmap"
           }
          ],
          "heatmapgl": [
           {
            "colorbar": {
             "outlinewidth": 0,
             "ticks": ""
            },
            "colorscale": [
             [
              0,
              "#0d0887"
             ],
             [
              0.1111111111111111,
              "#46039f"
             ],
             [
              0.2222222222222222,
              "#7201a8"
             ],
             [
              0.3333333333333333,
              "#9c179e"
             ],
             [
              0.4444444444444444,
              "#bd3786"
             ],
             [
              0.5555555555555556,
              "#d8576b"
             ],
             [
              0.6666666666666666,
              "#ed7953"
             ],
             [
              0.7777777777777778,
              "#fb9f3a"
             ],
             [
              0.8888888888888888,
              "#fdca26"
             ],
             [
              1,
              "#f0f921"
             ]
            ],
            "type": "heatmapgl"
           }
          ],
          "histogram": [
           {
            "marker": {
             "pattern": {
              "fillmode": "overlay",
              "size": 10,
              "solidity": 0.2
             }
            },
            "type": "histogram"
           }
          ],
          "histogram2d": [
           {
            "colorbar": {
             "outlinewidth": 0,
             "ticks": ""
            },
            "colorscale": [
             [
              0,
              "#0d0887"
             ],
             [
              0.1111111111111111,
              "#46039f"
             ],
             [
              0.2222222222222222,
              "#7201a8"
             ],
             [
              0.3333333333333333,
              "#9c179e"
             ],
             [
              0.4444444444444444,
              "#bd3786"
             ],
             [
              0.5555555555555556,
              "#d8576b"
             ],
             [
              0.6666666666666666,
              "#ed7953"
             ],
             [
              0.7777777777777778,
              "#fb9f3a"
             ],
             [
              0.8888888888888888,
              "#fdca26"
             ],
             [
              1,
              "#f0f921"
             ]
            ],
            "type": "histogram2d"
           }
          ],
          "histogram2dcontour": [
           {
            "colorbar": {
             "outlinewidth": 0,
             "ticks": ""
            },
            "colorscale": [
             [
              0,
              "#0d0887"
             ],
             [
              0.1111111111111111,
              "#46039f"
             ],
             [
              0.2222222222222222,
              "#7201a8"
             ],
             [
              0.3333333333333333,
              "#9c179e"
             ],
             [
              0.4444444444444444,
              "#bd3786"
             ],
             [
              0.5555555555555556,
              "#d8576b"
             ],
             [
              0.6666666666666666,
              "#ed7953"
             ],
             [
              0.7777777777777778,
              "#fb9f3a"
             ],
             [
              0.8888888888888888,
              "#fdca26"
             ],
             [
              1,
              "#f0f921"
             ]
            ],
            "type": "histogram2dcontour"
           }
          ],
          "mesh3d": [
           {
            "colorbar": {
             "outlinewidth": 0,
             "ticks": ""
            },
            "type": "mesh3d"
           }
          ],
          "parcoords": [
           {
            "line": {
             "colorbar": {
              "outlinewidth": 0,
              "ticks": ""
             }
            },
            "type": "parcoords"
           }
          ],
          "pie": [
           {
            "automargin": true,
            "type": "pie"
           }
          ],
          "scatter": [
           {
            "fillpattern": {
             "fillmode": "overlay",
             "size": 10,
             "solidity": 0.2
            },
            "type": "scatter"
           }
          ],
          "scatter3d": [
           {
            "line": {
             "colorbar": {
              "outlinewidth": 0,
              "ticks": ""
             }
            },
            "marker": {
             "colorbar": {
              "outlinewidth": 0,
              "ticks": ""
             }
            },
            "type": "scatter3d"
           }
          ],
          "scattercarpet": [
           {
            "marker": {
             "colorbar": {
              "outlinewidth": 0,
              "ticks": ""
             }
            },
            "type": "scattercarpet"
           }
          ],
          "scattergeo": [
           {
            "marker": {
             "colorbar": {
              "outlinewidth": 0,
              "ticks": ""
             }
            },
            "type": "scattergeo"
           }
          ],
          "scattergl": [
           {
            "marker": {
             "colorbar": {
              "outlinewidth": 0,
              "ticks": ""
             }
            },
            "type": "scattergl"
           }
          ],
          "scattermapbox": [
           {
            "marker": {
             "colorbar": {
              "outlinewidth": 0,
              "ticks": ""
             }
            },
            "type": "scattermapbox"
           }
          ],
          "scatterpolar": [
           {
            "marker": {
             "colorbar": {
              "outlinewidth": 0,
              "ticks": ""
             }
            },
            "type": "scatterpolar"
           }
          ],
          "scatterpolargl": [
           {
            "marker": {
             "colorbar": {
              "outlinewidth": 0,
              "ticks": ""
             }
            },
            "type": "scatterpolargl"
           }
          ],
          "scatterternary": [
           {
            "marker": {
             "colorbar": {
              "outlinewidth": 0,
              "ticks": ""
             }
            },
            "type": "scatterternary"
           }
          ],
          "surface": [
           {
            "colorbar": {
             "outlinewidth": 0,
             "ticks": ""
            },
            "colorscale": [
             [
              0,
              "#0d0887"
             ],
             [
              0.1111111111111111,
              "#46039f"
             ],
             [
              0.2222222222222222,
              "#7201a8"
             ],
             [
              0.3333333333333333,
              "#9c179e"
             ],
             [
              0.4444444444444444,
              "#bd3786"
             ],
             [
              0.5555555555555556,
              "#d8576b"
             ],
             [
              0.6666666666666666,
              "#ed7953"
             ],
             [
              0.7777777777777778,
              "#fb9f3a"
             ],
             [
              0.8888888888888888,
              "#fdca26"
             ],
             [
              1,
              "#f0f921"
             ]
            ],
            "type": "surface"
           }
          ],
          "table": [
           {
            "cells": {
             "fill": {
              "color": "#EBF0F8"
             },
             "line": {
              "color": "white"
             }
            },
            "header": {
             "fill": {
              "color": "#C8D4E3"
             },
             "line": {
              "color": "white"
             }
            },
            "type": "table"
           }
          ]
         },
         "layout": {
          "annotationdefaults": {
           "arrowcolor": "#2a3f5f",
           "arrowhead": 0,
           "arrowwidth": 1
          },
          "autotypenumbers": "strict",
          "coloraxis": {
           "colorbar": {
            "outlinewidth": 0,
            "ticks": ""
           }
          },
          "colorscale": {
           "diverging": [
            [
             0,
             "#8e0152"
            ],
            [
             0.1,
             "#c51b7d"
            ],
            [
             0.2,
             "#de77ae"
            ],
            [
             0.3,
             "#f1b6da"
            ],
            [
             0.4,
             "#fde0ef"
            ],
            [
             0.5,
             "#f7f7f7"
            ],
            [
             0.6,
             "#e6f5d0"
            ],
            [
             0.7,
             "#b8e186"
            ],
            [
             0.8,
             "#7fbc41"
            ],
            [
             0.9,
             "#4d9221"
            ],
            [
             1,
             "#276419"
            ]
           ],
           "sequential": [
            [
             0,
             "#0d0887"
            ],
            [
             0.1111111111111111,
             "#46039f"
            ],
            [
             0.2222222222222222,
             "#7201a8"
            ],
            [
             0.3333333333333333,
             "#9c179e"
            ],
            [
             0.4444444444444444,
             "#bd3786"
            ],
            [
             0.5555555555555556,
             "#d8576b"
            ],
            [
             0.6666666666666666,
             "#ed7953"
            ],
            [
             0.7777777777777778,
             "#fb9f3a"
            ],
            [
             0.8888888888888888,
             "#fdca26"
            ],
            [
             1,
             "#f0f921"
            ]
           ],
           "sequentialminus": [
            [
             0,
             "#0d0887"
            ],
            [
             0.1111111111111111,
             "#46039f"
            ],
            [
             0.2222222222222222,
             "#7201a8"
            ],
            [
             0.3333333333333333,
             "#9c179e"
            ],
            [
             0.4444444444444444,
             "#bd3786"
            ],
            [
             0.5555555555555556,
             "#d8576b"
            ],
            [
             0.6666666666666666,
             "#ed7953"
            ],
            [
             0.7777777777777778,
             "#fb9f3a"
            ],
            [
             0.8888888888888888,
             "#fdca26"
            ],
            [
             1,
             "#f0f921"
            ]
           ]
          },
          "colorway": [
           "#636efa",
           "#EF553B",
           "#00cc96",
           "#ab63fa",
           "#FFA15A",
           "#19d3f3",
           "#FF6692",
           "#B6E880",
           "#FF97FF",
           "#FECB52"
          ],
          "font": {
           "color": "#2a3f5f"
          },
          "geo": {
           "bgcolor": "white",
           "lakecolor": "white",
           "landcolor": "#E5ECF6",
           "showlakes": true,
           "showland": true,
           "subunitcolor": "white"
          },
          "hoverlabel": {
           "align": "left"
          },
          "hovermode": "closest",
          "mapbox": {
           "style": "light"
          },
          "paper_bgcolor": "white",
          "plot_bgcolor": "#E5ECF6",
          "polar": {
           "angularaxis": {
            "gridcolor": "white",
            "linecolor": "white",
            "ticks": ""
           },
           "bgcolor": "#E5ECF6",
           "radialaxis": {
            "gridcolor": "white",
            "linecolor": "white",
            "ticks": ""
           }
          },
          "scene": {
           "xaxis": {
            "backgroundcolor": "#E5ECF6",
            "gridcolor": "white",
            "gridwidth": 2,
            "linecolor": "white",
            "showbackground": true,
            "ticks": "",
            "zerolinecolor": "white"
           },
           "yaxis": {
            "backgroundcolor": "#E5ECF6",
            "gridcolor": "white",
            "gridwidth": 2,
            "linecolor": "white",
            "showbackground": true,
            "ticks": "",
            "zerolinecolor": "white"
           },
           "zaxis": {
            "backgroundcolor": "#E5ECF6",
            "gridcolor": "white",
            "gridwidth": 2,
            "linecolor": "white",
            "showbackground": true,
            "ticks": "",
            "zerolinecolor": "white"
           }
          },
          "shapedefaults": {
           "line": {
            "color": "#2a3f5f"
           }
          },
          "ternary": {
           "aaxis": {
            "gridcolor": "white",
            "linecolor": "white",
            "ticks": ""
           },
           "baxis": {
            "gridcolor": "white",
            "linecolor": "white",
            "ticks": ""
           },
           "bgcolor": "#E5ECF6",
           "caxis": {
            "gridcolor": "white",
            "linecolor": "white",
            "ticks": ""
           }
          },
          "title": {
           "x": 0.05
          },
          "xaxis": {
           "automargin": true,
           "gridcolor": "white",
           "linecolor": "white",
           "ticks": "",
           "title": {
            "standoff": 15
           },
           "zerolinecolor": "white",
           "zerolinewidth": 2
          },
          "yaxis": {
           "automargin": true,
           "gridcolor": "white",
           "linecolor": "white",
           "ticks": "",
           "title": {
            "standoff": 15
           },
           "zerolinecolor": "white",
           "zerolinewidth": 2
          }
         }
        },
        "title": {
         "text": "Distribution of matches and decision taken after winning the toss"
        },
        "xaxis": {
         "anchor": "y",
         "autorange": true,
         "domain": [
          0,
          1
         ],
         "range": [
          -0.5,
          157.5
         ],
         "title": {
          "text": "Matches"
         },
         "type": "category"
        },
        "yaxis": {
         "anchor": "x",
         "autorange": true,
         "domain": [
          0,
          1
         ],
         "range": [
          0,
          22.105263157894736
         ],
         "title": {
          "text": "Count"
         }
        }
       }
      },
      "image/png": "[encoded data removed]",
      "text/html": [
       "<div>                            <div id=\"dfb83f70-fc82-40dc-b424-c1eb499bcece\" class=\"plotly-graph-div\" style=\"height:525px; width:100%;\"></div>            <script type=\"text/javascript\">                require([\"plotly\"], function(Plotly) {                    window.PLOTLYENV=window.PLOTLYENV || {};                                    if (document.getElementById(\"dfb83f70-fc82-40dc-b424-c1eb499bcece\")) {                    Plotly.newPlot(                        \"dfb83f70-fc82-40dc-b424-c1eb499bcece\",                        [{\"alignmentgroup\":\"True\",\"bingroup\":\"x\",\"hovertemplate\":\"decision=BOWL FIRST\\u003cbr\\u003eshort_name=%{x}\\u003cbr\\u003ecount=%{y}\\u003cextra\\u003e\\u003c\\u002fextra\\u003e\",\"legendgroup\":\"BOWL FIRST\",\"marker\":{\"color\":\"#636efa\",\"pattern\":{\"shape\":\"\"}},\"name\":\"BOWL FIRST\",\"offsetgroup\":\"BOWL FIRST\",\"orientation\":\"v\",\"showlegend\":true,\"x\":[\"RCB v GT\",\"MI v SRH\",\"KKR v LSG\",\"PBKS v RR\",\"SRH v RCB\",\"PBKS v DC\",\"LSG v MI\",\"GT v SRH\",\"DC v PBKS\",\"MI v GT\",\"KKR v RR\",\"MI v RCB\",\"GT v LSG\",\"CSK v MI\",\"PBKS v MI\",\"KKR v GT\",\"PBKS v LSG\",\"RCB v KKR\",\"GT v MI\",\"KKR v CSK\",\"RCB v RR\",\"MI v PBKS\",\"CSK v SRH\",\"DC v KKR\",\"PBKS v RCB\",\"RR v LSG\",\"SRH v MI\",\"RCB v CSK\",\"GT v RR\",\"MI v KKR\",\"LSG v PBKS\",\"RCB v DC\",\"KKR v SRH\",\"PBKS v GT\",\"CSK v RR\",\"DC v MI\",\"RCB v LSG\",\"SRH v PBKS\",\"MI v CSK\",\"RR v DC\",\"KKR v RCB\",\"RR v PBKS\",\"DC v GT\",\"CSK v LSG\",\"RCB v MI\",\"SRH v RR\",\"LSG v DC\",\"PBKS v KKR\",\"GT v CSK\",\"CSK v KKR\",\"DC v MI\",\"PBKS v RCB\",\"GT v LSG\",\"SRH v RR\",\"RCB v KKR\",\"LSG v CSK\",\"KKR v PBKS\",\"MI v RR\",\"GT v DC\",\"CSK v PBKS\",\"RR v RCB\",\"KKR v MI\",\"LSG v DC\",\"PBKS v GT\",\"CSK v SRH\",\"RCB v MI\",\"CSK v RCB\",\"MI v PBKS\",\"RR v GT\",\"SRH v KKR\",\"MI v LSG\",\"DC v RCB\",\"PBKS v SRH\",\"GT v CSK\",\"RR v KKR\",\"LSG v RCB\",\"DC v PBKS\",\"MI v CSK\",\"DC v RR\",\"RCB v SRH\",\"LSG v MI\",\"PBKS v CSK\",\"RCB v RR\",\"GT v SRH\",\"DC v KKR\",\"PBKS v LSG\",\"RR v MI\",\"SRH v CSK\",\"KKR v RR\",\"RCB v CSK\",\"DC v SRH\",\"GT v MI\",\"LSG v KKR\",\"CSK v DC\",\"MI v KKR\",\"RR v DC\",\"CSK v MI\",\"RCB v PBKS\",\"PBKS v DC\",\"MI v SRH\",\"MI v DC\",\"RCB v DC\",\"KKR v RR\",\"CSK v PBKS\",\"RCB v SRH\",\"RR v MI\",\"DC v CSK\",\"RR v CSK\",\"MI v DC\",\"KKR v PBKS\",\"SRH v CSK\",\"RR v RCB\",\"MI v PBKS\",\"KKR v DC\",\"RCB v MI\",\"SRH v PBKS\",\"DC v RR\",\"RCB v CSK\",\"MI v KKR\",\"PBKS v RR\",\"PBKS v DC\",\"RR v SRH\",\"MI v CSK\",\"PBKS v RCB\",\"DC v KKR\",\"MI v RR\",\"DC v RCB\",\"PBKS v KKR\",\"RR v KKR\",\"PBKS v MI\",\"RCB v RR\",\"KKR v CSK\",\"CSK v RR\",\"DC v PBKS\",\"PBKS v CSK\",\"RR v DC\",\"SRH v RCB\",\"KKR v MI\",\"RR v PBKS\",\"SRH v KKR\",\"MI v CSK\",\"DC v KXIP\",\"SRH v RCB\",\"RR v CSK\",\"KKR v MI\",\"KXIP v RCB\",\"CSK v DC\",\"RR v KXIP\",\"RCB v MI\",\"DC v SRH\",\"RR v KKR\",\"KXIP v MI\",\"DC v KKR\",\"RCB v DC\",\"RR v DC\",\"SRH v KKR\",\"CSK v MI\",\"KKR v DC\",\"KXIP v SRH\",\"KKR v KXIP\",\"SRH v DC\",\"MI v RCB\",\"CSK v KKR\",\"KXIP v RR\",\"DC v MI\",\"CSK v KXIP\",\"KKR v RR\",\"DC v RCB\",\"SRH v MI\",\"CSK v RCB\",\"KKR v SRH\",\"MI v DC\",\"RR v KXIP\",\"KKR v KXIP\",\"RCB v MI\",\"KXIP v MI\",\"DC v KKR\",\"SRH v RCB\",\"CSK v RR\",\"KXIP v DC\",\"RR v RCB\",\"MI v CSK\",\"DC v SRH\",\"RCB v KKR\",\"SRH v MI\",\"RCB v DC\",\"RR v KKR\",\"KXIP v SRH\",\"CSK v KKR\",\"MI v KXIP\",\"RR v CSK\",\"KKR v DC\",\"MI v RR\",\"KXIP v RCB\",\"KKR v CSK\",\"SRH v DC\",\"MI v RCB\",\"KXIP v RR\",\"KKR v RCB\",\"RR v MI\",\"DC v KXIP\",\"SRH v KKR\",\"RCB v CSK\",\"RR v DC\",\"CSK v SRH\",\"RCB v KXIP\",\"KKR v RR\",\"CSK v MI\",\"RR v SRH\",\"KKR v MI\",\"SRH v KXIP\",\"CSK v DC\",\"KXIP v KKR\",\"KXIP v CSK\",\"MI v KKR\",\"MI v CSK\",\"KXIP v DC\",\"KKR v RCB\",\"SRH v RR\",\"CSK v KKR\",\"RR v DC\",\"SRH v MI\",\"RCB v KXIP\",\"MI v DC\",\"KKR v SRH\",\"RCB v RR\",\"KXIP v CSK\",\"KKR v DC\",\"MI v RCB\",\"RR v KKR\",\"CSK v RR\",\"KKR v KXIP\",\"RCB v DC\",\"SRH v CSK\",\"DC v KXIP\",\"MI v SRH\",\"RCB v CSK\",\"SRH v KXIP\",\"DC v KKR\",\"CSK v MI\",\"RCB v KKR\",\"CSK v DC\",\"RCB v MI\",\"DC v RR\",\"KKR v CSK\",\"KXIP v MI\",\"CSK v RCB\",\"MI v KKR\",\"KXIP v RR\",\"SRH v RCB\",\"KKR v MI\",\"KXIP v KKR\",\"DC v RCB\",\"CSK v SRH\",\"MI v RR\",\"KXIP v RCB\",\"KKR v RR\",\"MI v KXIP\",\"RCB v SRH\",\"DC v CSK\",\"CSK v KXIP\",\"RPS v MI\",\"GL v KKR\",\"KXIP v RPS\",\"SRH v GL\",\"MI v KKR\",\"RPS v DC\",\"MI v SRH\",\"KKR v KXIP\",\"RCB v MI\",\"GL v RPS\",\"KKR v SRH\",\"MI v GL\",\"RCB v RPS\",\"SRH v KXIP\",\"GL v RCB\",\"KXIP v MI\",\"KKR v GL\",\"RPS v SRH\",\"MI v DC\",\"GL v KXIP\",\"KKR v RCB\",\"MI v RPS\",\"RPS v KKR\",\"RCB v GL\",\"KKR v DC\",\"KXIP v SRH\",\"RPS v RCB\",\"KXIP v DC\",\"SRH v KKR\",\"RPS v GL\",\"DC v SRH\",\"KKR v RPS\",\"DC v GL\",\"RCB v KXIP\",\"SRH v RPS\",\"DC v MI\",\"RCB v KKR\",\"KXIP v GL\",\"KXIP v KKR\",\"GL v DC\",\"MI v KXIP\",\"GL v SRH\",\"KKR v MI\",\"RPS v KXIP\",\"KXIP v GL\",\"RCB v SRH\",\"KKR v MI\",\"DC v KXIP\",\"MI v GL\",\"RCB v DC\",\"SRH v MI\",\"KXIP v KKR\",\"MI v RCB\",\"SRH v KXIP\",\"KXIP v MI\",\"SRH v RPS\",\"DC v GL\",\"MI v KKR\",\"RPS v GL\",\"DC v KKR\",\"SRH v RCB\",\"GL v KXIP\",\"RPS v MI\",\"RCB v KKR\",\"GL v DC\",\"DC v RPS\",\"MI v SRH\",\"KKR v GL\",\"KXIP v RCB\",\"RCB v MI\",\"SRH v DC\",\"RCB v GL\",\"MI v DC\",\"KKR v RCB\",\"RPS v DC\",\"RCB v KXIP\",\"GL v KKR\",\"DC v SRH\",\"GL v MI\",\"KKR v SRH\",\"DC v RCB\",\"KKR v MI\",\"CSK v DC\",\"KXIP v RR\",\"KKR v RCB\",\"DC v RR\",\"MI v KXIP\",\"RCB v SRH\",\"SRH v RR\",\"KXIP v KKR\",\"RCB v MI\",\"DC v KKR\",\"RR v KXIP\",\"SRH v KKR\",\"RCB v CSK\",\"DC v MI\",\"RR v RCB\",\"DC v RCB\",\"KXIP v SRH\",\"CSK v KKR\",\"KKR v CSK\",\"DC v KXIP\",\"MI v RR\",\"RCB v KKR\",\"SRH v CSK\",\"KKR v SRH\",\"RCB v KXIP\",\"RR v SRH\",\"KXIP v RCB\",\"MI v KKR\",\"DC v RCB\",\"SRH v RR\",\"RCB v MI\",\"RR v KXIP\",\"KXIP v SRH\",\"RR v CSK\",\"RCB v KKR\",\"RR v RCB\",\"KKR v KXIP\",\"KXIP v RCB\",\"MI v SRH\",\"DC v RR\",\"RCB v SRH\",\"RR v KKR\",\"DC v CSK\",\"MI v RCB\",\"KXIP v CSK\",\"RR v SRH\",\"RCB v KXIP\",\"DC v SRH\",\"MI v CSK\",\"KXIP v KKR\",\"RCB v DC\",\"SRH v KXIP\",\"KKR v MI\",\"RR v DC\",\"DC v KXIP\",\"KKR v CSK\",\"KXIP v MI\",\"KKR v RCB\",\"CSK v SRH\",\"MI v DC\",\"KXIP v RR\",\"RCB v CSK\",\"KKR v SRH\",\"KXIP v DC\",\"MI v RR\",\"KKR v DC\",\"RCB v MI\",\"SRH v PWI\",\"RR v KKR\",\"KXIP v CSK\",\"RCB v KKR\",\"CSK v RCB\",\"RR v KXIP\",\"RCB v DC\",\"PWI v SRH\",\"RCB v RR\",\"KXIP v PWI\",\"RCB v PWI\",\"DC v KXIP\",\"CSK v KKR\",\"DC v PWI\",\"RR v RCB\",\"KXIP v RCB\",\"SRH v CSK\",\"KXIP v RR\",\"DC v RCB\",\"KXIP v SRH\",\"KKR v RCB\",\"RR v CSK\",\"RCB v KXIP\",\"KKR v PWI\",\"MI v RR\",\"KXIP v DC\",\"RCB v CSK\",\"CSK v MI\",\"KKR v DC\",\"MI v PWI\",\"RR v KXIP\",\"RCB v DC\",\"DC v CSK\",\"RR v KKR\",\"RCB v KKR\",\"DC v CSK\",\"MI v RR\",\"KXIP v PWI\",\"KKR v KXIP\",\"MI v DC\",\"CSK v PWI\",\"KXIP v RCB\",\"DC v PWI\",\"DC v KKR\",\"RR v RCB\",\"DC v MI\",\"MI v DC\",\"RCB v KXIP\",\"MI v CSK\",\"RCB v DC\",\"DC v KXIP\",\"MI v RCB\",\"RR v CSK\",\"PWI v RCB\",\"CSK v DC\",\"RCB v MI\",\"KKR v CSK\",\"MI v KKR\",\"KXIP v CSK\",\"DC v RCB\",\"KXIP v DC\",\"DC v RCB\",\"DC v RR\",\"RCB v MI\",\"KXIP v CSK\",\"DC v RCB\",\"RR v KKR\",\"MI v Kochi\",\"DC v KXIP\",\"PWI v DC\",\"KKR v RR\",\"Kochi v CSK\",\"KKR v Kochi\",\"KXIP v RR\",\"KKR v RCB\",\"MI v CSK\",\"DC v KXIP\",\"DC v MI\",\"RR v Kochi\",\"CSK v PWI\",\"DC v RCB\",\"Kochi v DC\",\"DC v KKR\",\"RR v MI\",\"RCB v PWI\",\"KKR v KXIP\",\"RR v PWI\",\"MI v KXIP\",\"DC v Kochi\",\"DC v KKR\",\"PWI v MI\",\"Kochi v KKR\",\"RCB v KXIP\",\"MI v DC\",\"RR v CSK\",\"KXIP v MI\",\"RR v RCB\",\"Kochi v KXIP\",\"RCB v KKR\",\"KXIP v DC\",\"Kochi v RR\",\"PWI v DC\",\"PWI v KKR\",\"KXIP v DC\",\"RCB v CSK\",\"KKR v MI\",\"DC v KKR\",\"KXIP v DC\",\"KKR v RCB\",\"RR v DC\",\"DC v MI\",\"RCB v RR\",\"DC v KXIP\",\"RCB v CSK\",\"KXIP v RR\",\"RCB v DC\",\"MI v CSK\",\"DC v MI\",\"MI v KXIP\",\"RCB v DC\",\"RCB v KKR\",\"RR v MI\",\"DC v RCB\",\"KXIP v DC\",\"RCB v MI\",\"KXIP v CSK\",\"CSK v MI\",\"DC v KXIP\",\"KXIP v KKR\",\"KKR v RR\",\"CSK v DC\",\"CSK v RR\",\"CSK v DC\",\"KXIP v RR\",\"RCB v RR\",\"DC v KXIP\",\"DC v KKR\",\"RCB v KKR\",\"DC v KXIP\",\"DC v KKR\",\"DC v KXIP\",\"KKR v RR\",\"DC v MI\",\"RCB v KKR\",\"CSK v MI\",\"DC v RR\",\"KXIP v MI\",\"RCB v RR\",\"MI v DC\",\"DC v RCB\",\"DC v KXIP\",\"RCB v DC\",\"MI v DC\",\"RCB v KXIP\",\"CSK v DC\",\"MI v RR\",\"CSK v KXIP\",\"MI v CSK\",\"MI v KKR\",\"RR v RCB\",\"DC v MI\",\"RCB v DC\",\"KKR v RR\",\"KXIP v DC\",\"RR v MI\",\"KXIP v RR\"],\"xaxis\":\"x\",\"yaxis\":\"y\",\"type\":\"histogram\"},{\"alignmentgroup\":\"True\",\"bingroup\":\"x\",\"hovertemplate\":\"decision=BAT FIRST\\u003cbr\\u003eshort_name=%{x}\\u003cbr\\u003ecount=%{y}\\u003cextra\\u003e\\u003c\\u002fextra\\u003e\",\"legendgroup\":\"BAT FIRST\",\"marker\":{\"color\":\"#EF553B\",\"pattern\":{\"shape\":\"\"}},\"name\":\"BAT FIRST\",\"offsetgroup\":\"BAT FIRST\",\"orientation\":\"v\",\"showlegend\":true,\"x\":[\"DC v CSK\",\"CSK v KKR\",\"RR v RCB\",\"SRH v LSG\",\"CSK v DC\",\"KKR v PBKS\",\"RR v SRH\",\"DC v RCB\",\"RR v GT\",\"SRH v KKR\",\"GT v DC\",\"LSG v RCB\",\"MI v RR\",\"CSK v PBKS\",\"DC v SRH\",\"RR v CSK\",\"SRH v DC\",\"LSG v GT\",\"GT v KKR\",\"LSG v SRH\",\"KKR v GT\",\"GT v RCB\",\"DC v LSG\",\"GT v PBKS\",\"PBKS v RR\",\"SRH v RCB\",\"LSG v GT\",\"KKR v SRH\",\"CSK v GT\",\"LSG v RR\",\"KKR v LSG\",\"RCB v GT\",\"RR v CSK\",\"SRH v PBKS\",\"KKR v SRH\",\"RCB v PBKS\",\"SRH v RR\",\"CSK v KKR\",\"DC v SRH\",\"KKR v RCB\",\"CSK v MI\",\"CSK v SRH\",\"SRH v DC\",\"CSK v RCB\",\"PBKS v SRH\",\"DC v MI\",\"RCB v KKR\",\"MI v SRH\",\"KKR v SRH\",\"CSK v SRH\",\"RCB v RR\",\"MI v SRH\",\"KXIP v CSK\",\"MI v RR\",\"KKR v CSK\",\"SRH v KXIP\",\"KXIP v KKR\",\"CSK v RCB\",\"SRH v RR\",\"MI v DC\",\"RCB v KKR\",\"SRH v CSK\",\"DC v RR\",\"RCB v KXIP\",\"MI v KKR\",\"RR v RCB\",\"DC v CSK\",\"MI v KXIP\",\"CSK v RR\",\"KXIP v DC\",\"KKR v RCB\",\"RCB v CSK\",\"RR v MI\",\"DC v CSK\",\"SRH v RR\",\"CSK v KXIP\",\"SRH v CSK\",\"DC v MI\",\"DC v RCB\",\"MI v SRH\",\"DC v RR\",\"KXIP v SRH\",\"RR v MI\",\"RR v SRH\",\"SRH v DC\",\"RR v KXIP\",\"DC v SRH\",\"RR v CSK\",\"RR v RCB\",\"SRH v KKR\",\"DC v MI\",\"RCB v DC\",\"KXIP v RCB\",\"DC v KXIP\",\"DC v KKR\",\"SRH v DC\",\"GL v MI\",\"MI v RCB\",\"SRH v MI\",\"DC v RPS\",\"DC v RCB\",\"MI v RPS\",\"RPS v SRH\",\"MI v KXIP\",\"KKR v RPS\",\"KXIP v SRH\",\"RPS v KXIP\",\"CSK v SRH\",\"RR v MI\",\"KXIP v DC\",\"MI v CSK\",\"SRH v DC\",\"RR v CSK\",\"MI v SRH\",\"CSK v KXIP\",\"KXIP v MI\",\"CSK v RCB\",\"MI v DC\",\"KKR v DC\",\"CSK v MI\",\"KKR v KXIP\",\"DC v SRH\",\"MI v RCB\",\"CSK v RR\",\"SRH v KXIP\",\"DC v CSK\",\"SRH v RCB\",\"KXIP v CSK\",\"RR v KKR\",\"SRH v MI\",\"MI v KKR\",\"CSK v KXIP\",\"KKR v DC\",\"CSK v DC\",\"SRH v DC\",\"CSK v MI\",\"DC v MI\",\"SRH v CSK\",\"KKR v RR\",\"CSK v KKR\",\"MI v KXIP\",\"DC v KKR\",\"RCB v RR\",\"SRH v MI\",\"CSK v RR\",\"CSK v RCB\",\"SRH v KKR\",\"RR v MI\",\"SRH v RCB\",\"DC v RR\",\"CSK v MI\",\"PWI v KXIP\",\"SRH v RCB\",\"RCB v SRH\",\"MI v DC\",\"PWI v RR\",\"DC v SRH\",\"MI v PWI\",\"KKR v SRH\",\"CSK v PWI\",\"RR v MI\",\"DC v CSK\",\"KKR v CSK\",\"DC v MI\",\"CSK v RR\",\"KKR v MI\",\"CSK v SRH\",\"KKR v KXIP\",\"RR v SRH\",\"MI v RCB\",\"MI v KXIP\",\"PWI v CSK\",\"SRH v MI\",\"DC v KKR\",\"CSK v KXIP\",\"PWI v RCB\",\"KKR v RR\",\"SRH v DC\",\"MI v CSK\",\"RR v PWI\",\"RR v DC\",\"MI v KKR\",\"PWI v KKR\",\"PWI v MI\",\"MI v SRH\",\"CSK v DC\",\"SRH v RR\",\"PWI v DC\",\"SRH v KKR\",\"PWI v KXIP\",\"DC v MI\",\"CSK v RCB\",\"KKR v RR\",\"PWI v CSK\",\"RCB v RR\",\"RR v DC\",\"RCB v PWI\",\"KXIP v KKR\",\"CSK v RR\",\"MI v KXIP\",\"PWI v DC\",\"KXIP v MI\",\"PWI v DC\",\"CSK v KXIP\",\"KKR v RCB\",\"DC v RR\",\"CSK v KKR\",\"DC v PWI\",\"RR v DC\",\"PWI v MI\",\"CSK v DC\",\"KKR v PWI\",\"KXIP v RR\",\"DC v KKR\",\"PWI v RR\",\"KKR v MI\",\"RR v PWI\",\"KXIP v DC\",\"DC v KXIP\",\"DC v RR\",\"PWI v KKR\",\"RR v MI\",\"CSK v KKR\",\"Kochi v RCB\",\"DC v MI\",\"PWI v KXIP\",\"KKR v DC\",\"RR v DC\",\"PWI v Kochi\",\"CSK v RCB\",\"MI v PWI\",\"PWI v CSK\",\"Kochi v DC\",\"CSK v DC\",\"CSK v RR\",\"KKR v CSK\",\"RCB v Kochi\",\"KXIP v PWI\",\"DC v PWI\",\"CSK v DC\",\"MI v DC\",\"KXIP v RCB\",\"CSK v Kochi\",\"MI v RR\",\"MI v RR\",\"CSK v DC\",\"RCB v KXIP\",\"KKR v CSK\",\"DC v CSK\",\"RR v KKR\",\"MI v RCB\",\"MI v KKR\",\"RR v DC\",\"KXIP v KKR\",\"RR v CSK\",\"DC v KKR\",\"CSK v RCB\",\"DC v RR\",\"KKR v DC\",\"KXIP v RCB\",\"CSK v RR\",\"MI v DC\",\"KKR v KXIP\",\"DC v RCB\",\"DC v RR\",\"CSK v MI\",\"RR v KXIP\",\"KKR v DC\",\"KXIP v MI\",\"DC v CSK\",\"DC v KXIP\",\"MI v DC\",\"CSK v KKR\",\"RR v RCB\",\"CSK v DC\",\"KKR v RR\",\"KKR v MI\",\"DC v KKR\",\"CSK v DC\",\"RCB v KXIP\",\"DC v MI\",\"RCB v DC\",\"KXIP v RR\",\"KKR v MI\",\"DC v RR\",\"RCB v KKR\",\"KXIP v MI\",\"KKR v MI\",\"RCB v KXIP\",\"DC v RR\",\"KXIP v KKR\",\"RCB v MI\",\"CSK v DC\",\"DC v KKR\",\"DC v MI\",\"CSK v KXIP\",\"DC v MI\",\"CSK v RR\",\"RCB v MI\",\"DC v RR\",\"KXIP v MI\",\"MI v RR\",\"CSK v MI\",\"DC v RR\",\"CSK v KKR\",\"RCB v DC\",\"CSK v KXIP\",\"RCB v DC\",\"KXIP v CSK\",\"KKR v DC\",\"MI v RCB\",\"RR v KXIP\",\"CSK v KKR\",\"KXIP v DC\",\"KKR v MI\",\"RR v KKR\",\"CSK v DC\",\"KXIP v KKR\",\"RR v CSK\",\"KXIP v RCB\",\"DC v KXIP\",\"KKR v CSK\",\"CSK v RCB\"],\"xaxis\":\"x\",\"yaxis\":\"y\",\"type\":\"histogram\"}],                        {\"template\":{\"data\":{\"histogram2dcontour\":[{\"type\":\"histogram2dcontour\",\"colorbar\":{\"outlinewidth\":0,\"ticks\":\"\"},\"colorscale\":[[0.0,\"#0d0887\"],[0.1111111111111111,\"#46039f\"],[0.2222222222222222,\"#7201a8\"],[0.3333333333333333,\"#9c179e\"],[0.4444444444444444,\"#bd3786\"],[0.5555555555555556,\"#d8576b\"],[0.6666666666666666,\"#ed7953\"],[0.7777777777777778,\"#fb9f3a\"],[0.8888888888888888,\"#fdca26\"],[1.0,\"#f0f921\"]]}],\"choropleth\":[{\"type\":\"choropleth\",\"colorbar\":{\"outlinewidth\":0,\"ticks\":\"\"}}],\"histogram2d\":[{\"type\":\"histogram2d\",\"colorbar\":{\"outlinewidth\":0,\"ticks\":\"\"},\"colorscale\":[[0.0,\"#0d0887\"],[0.1111111111111111,\"#46039f\"],[0.2222222222222222,\"#7201a8\"],[0.3333333333333333,\"#9c179e\"],[0.4444444444444444,\"#bd3786\"],[0.5555555555555556,\"#d8576b\"],[0.6666666666666666,\"#ed7953\"],[0.7777777777777778,\"#fb9f3a\"],[0.8888888888888888,\"#fdca26\"],[1.0,\"#f0f921\"]]}],\"heatmap\":[{\"type\":\"heatmap\",\"colorbar\":{\"outlinewidth\":0,\"ticks\":\"\"},\"colorscale\":[[0.0,\"#0d0887\"],[0.1111111111111111,\"#46039f\"],[0.2222222222222222,\"#7201a8\"],[0.3333333333333333,\"#9c179e\"],[0.4444444444444444,\"#bd3786\"],[0.5555555555555556,\"#d8576b\"],[0.6666666666666666,\"#ed7953\"],[0.7777777777777778,\"#fb9f3a\"],[0.8888888888888888,\"#fdca26\"],[1.0,\"#f0f921\"]]}],\"heatmapgl\":[{\"type\":\"heatmapgl\",\"colorbar\":{\"outlinewidth\":0,\"ticks\":\"\"},\"colorscale\":[[0.0,\"#0d0887\"],[0.1111111111111111,\"#46039f\"],[0.2222222222222222,\"#7201a8\"],[0.3333333333333333,\"#9c179e\"],[0.4444444444444444,\"#bd3786\"],[0.5555555555555556,\"#d8576b\"],[0.6666666666666666,\"#ed7953\"],[0.7777777777777778,\"#fb9f3a\"],[0.8888888888888888,\"#fdca26\"],[1.0,\"#f0f921\"]]}],\"contourcarpet\":[{\"type\":\"contourcarpet\",\"colorbar\":{\"outlinewidth\":0,\"ticks\":\"\"}}],\"contour\":[{\"type\":\"contour\",\"colorbar\":{\"outlinewidth\":0,\"ticks\":\"\"},\"colorscale\":[[0.0,\"#0d0887\"],[0.1111111111111111,\"#46039f\"],[0.2222222222222222,\"#7201a8\"],[0.3333333333333333,\"#9c179e\"],[0.4444444444444444,\"#bd3786\"],[0.5555555555555556,\"#d8576b\"],[0.6666666666666666,\"#ed7953\"],[0.7777777777777778,\"#fb9f3a\"],[0.8888888888888888,\"#fdca26\"],[1.0,\"#f0f921\"]]}],\"surface\":[{\"type\":\"surface\",\"colorbar\":{\"outlinewidth\":0,\"ticks\":\"\"},\"colorscale\":[[0.0,\"#0d0887\"],[0.1111111111111111,\"#46039f\"],[0.2222222222222222,\"#7201a8\"],[0.3333333333333333,\"#9c179e\"],[0.4444444444444444,\"#bd3786\"],[0.5555555555555556,\"#d8576b\"],[0.6666666666666666,\"#ed7953\"],[0.7777777777777778,\"#fb9f3a\"],[0.8888888888888888,\"#fdca26\"],[1.0,\"#f0f921\"]]}],\"mesh3d\":[{\"type\":\"mesh3d\",\"colorbar\":{\"outlinewidth\":0,\"ticks\":\"\"}}],\"scatter\":[{\"fillpattern\":{\"fillmode\":\"overlay\",\"size\":10,\"solidity\":0.2},\"type\":\"scatter\"}],\"parcoords\":[{\"type\":\"parcoords\",\"line\":{\"colorbar\":{\"outlinewidth\":0,\"ticks\":\"\"}}}],\"scatterpolargl\":[{\"type\":\"scatterpolargl\",\"marker\":{\"colorbar\":{\"outlinewidth\":0,\"ticks\":\"\"}}}],\"bar\":[{\"error_x\":{\"color\":\"#2a3f5f\"},\"error_y\":{\"color\":\"#2a3f5f\"},\"marker\":{\"line\":{\"color\":\"#E5ECF6\",\"width\":0.5},\"pattern\":{\"fillmode\":\"overlay\",\"size\":10,\"solidity\":0.2}},\"type\":\"bar\"}],\"scattergeo\":[{\"type\":\"scattergeo\",\"marker\":{\"colorbar\":{\"outlinewidth\":0,\"ticks\":\"\"}}}],\"scatterpolar\":[{\"type\":\"scatterpolar\",\"marker\":{\"colorbar\":{\"outlinewidth\":0,\"ticks\":\"\"}}}],\"histogram\":[{\"marker\":{\"pattern\":{\"fillmode\":\"overlay\",\"size\":10,\"solidity\":0.2}},\"type\":\"histogram\"}],\"scattergl\":[{\"type\":\"scattergl\",\"marker\":{\"colorbar\":{\"outlinewidth\":0,\"ticks\":\"\"}}}],\"scatter3d\":[{\"type\":\"scatter3d\",\"line\":{\"colorbar\":{\"outlinewidth\":0,\"ticks\":\"\"}},\"marker\":{\"colorbar\":{\"outlinewidth\":0,\"ticks\":\"\"}}}],\"scattermapbox\":[{\"type\":\"scattermapbox\",\"marker\":{\"colorbar\":{\"outlinewidth\":0,\"ticks\":\"\"}}}],\"scatterternary\":[{\"type\":\"scatterternary\",\"marker\":{\"colorbar\":{\"outlinewidth\":0,\"ticks\":\"\"}}}],\"scattercarpet\":[{\"type\":\"scattercarpet\",\"marker\":{\"colorbar\":{\"outlinewidth\":0,\"ticks\":\"\"}}}],\"carpet\":[{\"aaxis\":{\"endlinecolor\":\"#2a3f5f\",\"gridcolor\":\"white\",\"linecolor\":\"white\",\"minorgridcolor\":\"white\",\"startlinecolor\":\"#2a3f5f\"},\"baxis\":{\"endlinecolor\":\"#2a3f5f\",\"gridcolor\":\"white\",\"linecolor\":\"white\",\"minorgridcolor\":\"white\",\"startlinecolor\":\"#2a3f5f\"},\"type\":\"carpet\"}],\"table\":[{\"cells\":{\"fill\":{\"color\":\"#EBF0F8\"},\"line\":{\"color\":\"white\"}},\"header\":{\"fill\":{\"color\":\"#C8D4E3\"},\"line\":{\"color\":\"white\"}},\"type\":\"table\"}],\"barpolar\":[{\"marker\":{\"line\":{\"color\":\"#E5ECF6\",\"width\":0.5},\"pattern\":{\"fillmode\":\"overlay\",\"size\":10,\"solidity\":0.2}},\"type\":\"barpolar\"}],\"pie\":[{\"automargin\":true,\"type\":\"pie\"}]},\"layout\":{\"autotypenumbers\":\"strict\",\"colorway\":[\"#636efa\",\"#EF553B\",\"#00cc96\",\"#ab63fa\",\"#FFA15A\",\"#19d3f3\",\"#FF6692\",\"#B6E880\",\"#FF97FF\",\"#FECB52\"],\"font\":{\"color\":\"#2a3f5f\"},\"hovermode\":\"closest\",\"hoverlabel\":{\"align\":\"left\"},\"paper_bgcolor\":\"white\",\"plot_bgcolor\":\"#E5ECF6\",\"polar\":{\"bgcolor\":\"#E5ECF6\",\"angularaxis\":{\"gridcolor\":\"white\",\"linecolor\":\"white\",\"ticks\":\"\"},\"radialaxis\":{\"gridcolor\":\"white\",\"linecolor\":\"white\",\"ticks\":\"\"}},\"ternary\":{\"bgcolor\":\"#E5ECF6\",\"aaxis\":{\"gridcolor\":\"white\",\"linecolor\":\"white\",\"ticks\":\"\"},\"baxis\":{\"gridcolor\":\"white\",\"linecolor\":\"white\",\"ticks\":\"\"},\"caxis\":{\"gridcolor\":\"white\",\"linecolor\":\"white\",\"ticks\":\"\"}},\"coloraxis\":{\"colorbar\":{\"outlinewidth\":0,\"ticks\":\"\"}},\"colorscale\":{\"sequential\":[[0.0,\"#0d0887\"],[0.1111111111111111,\"#46039f\"],[0.2222222222222222,\"#7201a8\"],[0.3333333333333333,\"#9c179e\"],[0.4444444444444444,\"#bd3786\"],[0.5555555555555556,\"#d8576b\"],[0.6666666666666666,\"#ed7953\"],[0.7777777777777778,\"#fb9f3a\"],[0.8888888888888888,\"#fdca26\"],[1.0,\"#f0f921\"]],\"sequentialminus\":[[0.0,\"#0d0887\"],[0.1111111111111111,\"#46039f\"],[0.2222222222222222,\"#7201a8\"],[0.3333333333333333,\"#9c179e\"],[0.4444444444444444,\"#bd3786\"],[0.5555555555555556,\"#d8576b\"],[0.6666666666666666,\"#ed7953\"],[0.7777777777777778,\"#fb9f3a\"],[0.8888888888888888,\"#fdca26\"],[1.0,\"#f0f921\"]],\"diverging\":[[0,\"#8e0152\"],[0.1,\"#c51b7d\"],[0.2,\"#de77ae\"],[0.3,\"#f1b6da\"],[0.4,\"#fde0ef\"],[0.5,\"#f7f7f7\"],[0.6,\"#e6f5d0\"],[0.7,\"#b8e186\"],[0.8,\"#7fbc41\"],[0.9,\"#4d9221\"],[1,\"#276419\"]]},\"xaxis\":{\"gridcolor\":\"white\",\"linecolor\":\"white\",\"ticks\":\"\",\"title\":{\"standoff\":15},\"zerolinecolor\":\"white\",\"automargin\":true,\"zerolinewidth\":2},\"yaxis\":{\"gridcolor\":\"white\",\"linecolor\":\"white\",\"ticks\":\"\",\"title\":{\"standoff\":15},\"zerolinecolor\":\"white\",\"automargin\":true,\"zerolinewidth\":2},\"scene\":{\"xaxis\":{\"backgroundcolor\":\"#E5ECF6\",\"gridcolor\":\"white\",\"linecolor\":\"white\",\"showbackground\":true,\"ticks\":\"\",\"zerolinecolor\":\"white\",\"gridwidth\":2},\"yaxis\":{\"backgroundcolor\":\"#E5ECF6\",\"gridcolor\":\"white\",\"linecolor\":\"white\",\"showbackground\":true,\"ticks\":\"\",\"zerolinecolor\":\"white\",\"gridwidth\":2},\"zaxis\":{\"backgroundcolor\":\"#E5ECF6\",\"gridcolor\":\"white\",\"linecolor\":\"white\",\"showbackground\":true,\"ticks\":\"\",\"zerolinecolor\":\"white\",\"gridwidth\":2}},\"shapedefaults\":{\"line\":{\"color\":\"#2a3f5f\"}},\"annotationdefaults\":{\"arrowcolor\":\"#2a3f5f\",\"arrowhead\":0,\"arrowwidth\":1},\"geo\":{\"bgcolor\":\"white\",\"landcolor\":\"#E5ECF6\",\"subunitcolor\":\"white\",\"showland\":true,\"showlakes\":true,\"lakecolor\":\"white\"},\"title\":{\"x\":0.05},\"mapbox\":{\"style\":\"light\"}}},\"xaxis\":{\"anchor\":\"y\",\"domain\":[0.0,1.0],\"title\":{\"text\":\"Matches\"}},\"yaxis\":{\"anchor\":\"x\",\"domain\":[0.0,1.0],\"title\":{\"text\":\"Count\"}},\"legend\":{\"title\":{\"text\":\"decision\"},\"tracegroupgap\":0},\"margin\":{\"t\":60},\"barmode\":\"relative\",\"title\":{\"text\":\"Distribution of matches and decision taken after winning the toss\"}},                        {\"responsive\": true}                    ).then(function(){\n",
       "                            \n",
       "var gd = document.getElementById('dfb83f70-fc82-40dc-b424-c1eb499bcece');\n",
       "var x = new MutationObserver(function (mutations, observer) {{\n",
       "        var display = window.getComputedStyle(gd).display;\n",
       "        if (!display || display === 'none') {{\n",
       "            console.log([gd, 'removed!']);\n",
       "            Plotly.purge(gd);\n",
       "            observer.disconnect();\n",
       "        }}\n",
       "}});\n",
       "\n",
       "// Listen for the removal of the full notebook cells\n",
       "var notebookContainer = gd.closest('#notebook-container');\n",
       "if (notebookContainer) {{\n",
       "    x.observe(notebookContainer, {childList: true});\n",
       "}}\n",
       "\n",
       "// Listen for the clearing of the current output cell\n",
       "var outputEl = gd.closest('.output');\n",
       "if (outputEl) {{\n",
       "    x.observe(outputEl, {childList: true});\n",
       "}}\n",
       "\n",
       "                        })                };                });            </script>        </div>"
      ]
     },
     "metadata": {},
     "output_type": "display_data"
    }
   ],
   "source": [
    "fig = px.histogram(df, x='short_name',color='decision')\n",
    "fig.update_layout(\n",
    "    title=\"Distribution of matches and decision taken after winning the toss\",\n",
    "    xaxis_title=\"Matches\",\n",
    "    yaxis_title=\"Count\"\n",
    ")\n",
    "\n",
    "fig.show()"
   ]
  },
  {
   "cell_type": "code",
   "execution_count": 39,
   "id": "37667628-2eb1-4179-ae16-0b01a21b0bc5",
   "metadata": {},
   "outputs": [
    {
     "data": {
      "application/vnd.plotly.v1+json": {
       "config": {
        "plotlyServerURL": "https://plot.ly"
       },
       "data": [
        {
         "alignmentgroup": "True",
         "bingroup": "x",
         "hovertemplate": "decision=BOWL FIRST<br>winner=%{x}<br>count=%{y}<extra></extra>",
         "legendgroup": "BOWL FIRST",
         "marker": {
          "color": "#636efa",
          "pattern": {
           "shape": ""
          }
         },
         "name": "BOWL FIRST",
         "offsetgroup": "BOWL FIRST",
         "orientation": "v",
         "showlegend": true,
         "type": "histogram",
         "x": [
          "GT",
          "MI",
          "LSG",
          "RR",
          "RCB",
          "DC",
          "LSG",
          "GT",
          "PBKS",
          "MI",
          "RR",
          "MI",
          "GT",
          "CSK",
          "MI",
          "GT",
          "LSG",
          "KKR",
          "GT",
          "CSK",
          "RCB",
          "PBKS",
          "CSK",
          "DC",
          "RCB",
          "LSG",
          "MI",
          "CSK",
          "RR",
          "MI",
          "PBKS",
          "RCB",
          "SRH",
          "GT",
          "RR",
          "MI",
          "LSG",
          "SRH",
          "CSK",
          "RR",
          "KKR",
          "PBKS",
          "GT",
          "CSK",
          "RCB",
          "RR",
          "LSG",
          "PBKS",
          "GT",
          "KKR",
          "DC",
          "PBKS",
          "GT",
          "RR",
          "RCB",
          "LSG",
          "KKR",
          "RR",
          "GT",
          "PBKS",
          "RCB",
          "KKR",
          "LSG",
          "GT",
          "SRH",
          "RCB",
          "CSK",
          "PBKS",
          "GT",
          "SRH",
          "LSG",
          "RCB",
          "SRH",
          "GT",
          "RR",
          "RCB",
          "DC",
          "CSK",
          "RR",
          "SRH",
          "LSG",
          "PBKS",
          "RR",
          "GT",
          "DC",
          "LSG",
          "MI",
          "CSK",
          "KKR",
          "RCB",
          "DC",
          "MI",
          "LSG",
          "CSK",
          "KKR",
          "DC",
          "MI",
          "PBKS",
          "DC",
          "SRH",
          "MI",
          "RCB",
          "KKR",
          "PBKS",
          "SRH",
          "MI",
          "DC",
          "RR",
          "DC",
          "PBKS",
          "CSK",
          "RCB",
          "MI",
          "KKR",
          "RCB",
          "PBKS",
          "DC",
          "CSK",
          "KKR",
          "RR",
          "DC",
          "RR",
          "MI",
          "PBKS",
          "DC",
          "MI",
          "RCB",
          "KKR",
          "RR",
          "PBKS",
          "RCB",
          "CSK",
          "CSK",
          "DC",
          "CSK",
          "RR",
          "RCB",
          "MI",
          "PBKS",
          "KKR",
          "CSK",
          "KXIP",
          "RCB",
          "RR",
          "MI",
          "KXIP",
          "DC",
          "RR",
          "MI",
          "SRH",
          "KKR",
          "MI",
          "DC",
          "DC",
          "DC",
          "SRH",
          "MI",
          "KKR",
          "KXIP",
          "KXIP",
          "SRH",
          "MI",
          "CSK",
          "RR",
          "MI",
          "CSK",
          "KKR",
          "DC",
          "SRH",
          "CSK",
          "KKR",
          "DC",
          "KXIP",
          "KKR",
          "MI",
          "KXIP",
          "DC",
          "SRH",
          "CSK",
          "KXIP",
          "RR",
          "MI",
          "SRH",
          "KKR",
          "MI",
          "DC",
          "KKR",
          "KXIP",
          "CSK",
          "MI",
          "CSK",
          "DC",
          "RR",
          "RCB",
          "CSK",
          "DC",
          "MI",
          "KXIP",
          "RCB",
          "RR",
          "DC",
          "SRH",
          "RCB",
          "DC",
          "CSK",
          "RCB",
          "RR",
          "MI",
          "RR",
          "KKR",
          "SRH",
          "CSK",
          "KKR",
          "KXIP",
          "MI",
          "CSK",
          "KXIP",
          "KKR",
          "SRH",
          "CSK",
          "RR",
          "SRH",
          "RCB",
          "DC",
          "SRH",
          "RR",
          "KXIP",
          "KKR",
          "MI",
          "KKR",
          "CSK",
          "KXIP",
          "RCB",
          "CSK",
          "KXIP",
          "SRH",
          "CSK",
          "SRH",
          "DC",
          "MI",
          "KKR",
          "CSK",
          "RCB",
          "DC",
          "KKR",
          "MI",
          "CSK",
          "MI",
          "KXIP",
          "SRH",
          "MI",
          "KKR",
          "RCB",
          "CSK",
          "RR",
          "RCB",
          "KKR",
          "MI",
          "RCB",
          "DC",
          "CSK",
          "RPS",
          "KKR",
          "KXIP",
          "SRH",
          "MI",
          "DC",
          "MI",
          "KKR",
          "MI",
          "GL",
          "KKR",
          "MI",
          "RPS",
          "SRH",
          "RCB",
          "MI",
          "GL",
          "RPS",
          "MI",
          "KXIP",
          "KKR",
          "RPS",
          "KKR",
          "GL",
          "KKR",
          "SRH",
          "RPS",
          "KXIP",
          "SRH",
          "RPS",
          "DC",
          "RPS",
          "DC",
          "KXIP",
          "RPS",
          "MI",
          "KKR",
          "GL",
          "KXIP",
          "DC",
          "KXIP",
          "SRH",
          "MI",
          "RPS",
          "GL",
          "RCB",
          "MI",
          "DC",
          "GL",
          "DC",
          "SRH",
          "KKR",
          "MI",
          "SRH",
          "MI",
          "RPS",
          "GL",
          "MI",
          "GL",
          "DC",
          "SRH",
          "KXIP",
          "MI",
          "KKR",
          "DC",
          "RPS",
          "SRH",
          "GL",
          "RCB",
          "MI",
          "DC",
          "RCB",
          "MI",
          "RCB",
          "RPS",
          "RCB",
          "GL",
          "DC",
          "GL",
          "KKR",
          "RCB",
          "KKR",
          "CSK",
          "RR",
          "RCB",
          "RR",
          "KXIP",
          "SRH",
          "RR",
          "KKR",
          "MI",
          "KKR",
          "KXIP",
          "SRH",
          "CSK",
          "DC",
          "RCB",
          "RCB",
          "SRH",
          "CSK",
          "KKR",
          "DC",
          "MI",
          "RCB",
          "SRH",
          "KKR",
          "RCB",
          "SRH",
          "KXIP",
          "MI",
          "RCB",
          "RR",
          "RCB",
          "KXIP",
          "KXIP",
          "CSK",
          "KKR",
          "RR",
          "KXIP",
          "KXIP",
          "SRH",
          "RR",
          "RCB",
          "RR",
          "CSK",
          "MI",
          "KXIP",
          "SRH",
          "KXIP",
          "SRH",
          "CSK",
          "KKR",
          "RCB",
          "KXIP",
          "KKR",
          "RR",
          "KXIP",
          "KKR",
          "MI",
          "KKR",
          "SRH",
          "MI",
          "KXIP",
          "CSK",
          "KKR",
          "KXIP",
          "MI",
          "KKR",
          "RCB",
          "SRH",
          "RR",
          "CSK",
          "RCB",
          "CSK",
          "RR",
          "RCB",
          "SRH",
          "RCB",
          "KXIP",
          "RCB",
          "KXIP",
          "CSK",
          "DC",
          "RR",
          "KXIP",
          "CSK",
          "RR",
          "RCB",
          "SRH",
          "KKR",
          "RR",
          "KXIP",
          "PWI",
          "MI",
          "KXIP",
          "RCB",
          "MI",
          "DC",
          "PWI",
          "RR",
          "RCB",
          "CSK",
          "RR",
          "KKR",
          "DC",
          "MI",
          "KXIP",
          "KXIP",
          "DC",
          "CSK",
          "RCB",
          "PWI",
          "KKR",
          "RCB",
          "DC",
          "MI",
          "KXIP",
          "MI",
          "RCB",
          "KXIP",
          "RCB",
          "CSK",
          "RCB",
          "CSK",
          "MI",
          "CSK",
          "KKR",
          "KXIP",
          "RCB",
          "DC",
          "SRH",
          "RR",
          "MI",
          "KXIP",
          "SRH",
          "KKR",
          "Kochi",
          "KXIP",
          "DC",
          "KKR",
          "Kochi",
          "Kochi",
          "KXIP",
          "RCB",
          "MI",
          "DC",
          "MI",
          "RR",
          "CSK",
          "RCB",
          "SRH",
          "KKR",
          "RR",
          "RCB",
          "KKR",
          "RR",
          "MI",
          "Kochi",
          "KKR",
          "MI",
          "Kochi",
          "RCB",
          "MI",
          "CSK",
          "KXIP",
          "RCB",
          "KXIP",
          "RCB",
          "KXIP",
          "Kochi",
          "SRH",
          "KKR",
          "SRH",
          "RCB",
          "MI",
          "KKR",
          "DC",
          "KKR",
          "DC",
          "MI",
          "RCB",
          "SRH",
          "RCB",
          "RR",
          "DC",
          "MI",
          "MI",
          "MI",
          "SRH",
          "RCB",
          "MI",
          "SRH",
          "SRH",
          "MI",
          "CSK",
          "MI",
          "DC",
          "KKR",
          "KKR",
          "SRH",
          "CSK",
          "CSK",
          "RR",
          "RR",
          "KXIP",
          "DC",
          "RCB",
          "KXIP",
          "SRH",
          "KXIP",
          "KKR",
          "DC",
          "KKR",
          "CSK",
          "RR",
          "KXIP",
          "RR",
          "SRH",
          "DC",
          "KXIP",
          "RCB",
          "MI",
          "KXIP",
          "SRH",
          "MI",
          "CSK",
          "MI",
          "MI",
          "RR",
          "MI",
          "DC",
          "RR",
          "KXIP",
          "RR",
          "KXIP"
         ],
         "xaxis": "x",
         "yaxis": "y"
        },
        {
         "alignmentgroup": "True",
         "bingroup": "x",
         "hovertemplate": "decision=BAT FIRST<br>winner=%{x}<br>count=%{y}<extra></extra>",
         "legendgroup": "BAT FIRST",
         "marker": {
          "color": "#EF553B",
          "pattern": {
           "shape": ""
          }
         },
         "name": "BAT FIRST",
         "offsetgroup": "BAT FIRST",
         "orientation": "v",
         "showlegend": true,
         "type": "histogram",
         "x": [
          "CSK",
          "KKR",
          "RCB",
          "LSG",
          "CSK",
          "KKR",
          "SRH",
          "DC",
          "GT",
          "KKR",
          "DC",
          "RCB",
          "MI",
          "PBKS",
          "SRH",
          "RR",
          "DC",
          "GT",
          "KKR",
          "LSG",
          "GT",
          "GT",
          "LSG",
          "PBKS",
          "RR",
          "RCB",
          "GT",
          "KKR",
          "GT",
          "RR",
          "LSG",
          "RCB",
          "RR",
          "PBKS",
          "KKR",
          "RCB",
          "SRH",
          "CSK",
          "DC",
          "KKR",
          "CSK",
          "CSK",
          "SRH",
          "CSK",
          "SRH",
          "DC",
          "RCB",
          "MI",
          "KKR",
          "SRH",
          "RCB",
          "MI",
          "CSK",
          "MI",
          "KKR",
          "SRH",
          "KKR",
          "RCB",
          "RR",
          "MI",
          "RCB",
          "CSK",
          "DC",
          "KXIP",
          "MI",
          "RCB",
          "DC",
          "KXIP",
          "RR",
          "KXIP",
          "RCB",
          "CSK",
          "RR",
          "CSK",
          "SRH",
          "CSK",
          "SRH",
          "MI",
          "DC",
          "SRH",
          "DC",
          "KXIP",
          "RR",
          "SRH",
          "SRH",
          "RR",
          "SRH",
          "RR",
          "RR",
          "KKR",
          "DC",
          "RCB",
          "KXIP",
          "DC",
          "KKR",
          "SRH",
          "MI",
          "MI",
          "SRH",
          "DC",
          "RCB",
          "RPS",
          "SRH",
          "KXIP",
          "KKR",
          "SRH",
          "RPS",
          "CSK",
          "RR",
          "DC",
          "CSK",
          "DC",
          "RR",
          "MI",
          "CSK",
          "MI",
          "CSK",
          "MI",
          "KKR",
          "MI",
          "KKR",
          "SRH",
          "RCB",
          "CSK",
          "SRH",
          "DC",
          "RCB",
          "CSK",
          "RR",
          "MI",
          "KKR",
          "KXIP",
          "DC",
          "CSK",
          "SRH",
          "CSK",
          "DC",
          "CSK",
          "KKR",
          "CSK",
          "MI",
          "KKR",
          "RR",
          "MI",
          "CSK",
          "RCB",
          "KKR",
          "MI",
          "SRH",
          "RR",
          "MI",
          "KXIP",
          "SRH",
          "RCB",
          "MI",
          "PWI",
          "SRH",
          "MI",
          "KKR",
          "PWI",
          "RR",
          "CSK",
          "CSK",
          "DC",
          "CSK",
          "MI",
          "CSK",
          "KKR",
          "RR",
          "MI",
          "MI",
          "CSK",
          "SRH",
          "DC",
          "CSK",
          "RCB",
          "KKR",
          "SRH",
          "MI",
          "RR",
          "RR",
          "MI",
          "KKR",
          "MI",
          "MI",
          "CSK",
          "SRH",
          "PWI",
          "SRH",
          "PWI",
          "MI",
          "CSK",
          "KKR",
          "PWI",
          "RR",
          "RR",
          "RCB",
          "KKR",
          "CSK",
          "KXIP",
          "DC",
          "MI",
          "SRH",
          "KXIP",
          "KKR",
          "DC",
          "KKR",
          "SRH",
          "DC",
          "MI",
          "CSK",
          "KKR",
          "RR",
          "KKR",
          "RR",
          "MI",
          "RR",
          "KXIP",
          "DC",
          "SRH",
          "KKR",
          "MI",
          "CSK",
          "RCB",
          "MI",
          "PWI",
          "KKR",
          "RR",
          "PWI",
          "CSK",
          "MI",
          "CSK",
          "DC",
          "CSK",
          "CSK",
          "KKR",
          "RCB",
          "PWI",
          "PWI",
          "CSK",
          "SRH",
          "KXIP",
          "CSK",
          "RR",
          "MI",
          "SRH",
          "RCB",
          "CSK",
          "CSK",
          "RR",
          "RCB",
          "MI",
          "RR",
          "KKR",
          "RR",
          "DC",
          "CSK",
          "DC",
          "KKR",
          "RCB",
          "CSK",
          "MI",
          "KXIP",
          "DC",
          "RR",
          "CSK",
          "RR",
          "KKR",
          "KXIP",
          "SRH",
          "KXIP",
          "MI",
          "CSK",
          "RCB",
          "DC",
          "KKR",
          "KKR",
          "SRH",
          "DC",
          "KXIP",
          "SRH",
          "DC",
          "KXIP",
          "MI",
          "RR",
          "RCB",
          "KXIP",
          "MI",
          "RCB",
          "RR",
          "KXIP",
          "RCB",
          "CSK",
          "DC",
          "SRH",
          "CSK",
          "DC",
          "CSK",
          "MI",
          "SRH",
          "MI",
          "RR",
          "CSK",
          "DC",
          "KKR",
          "RCB",
          "CSK",
          "RCB",
          "CSK",
          "KKR",
          "RCB",
          "RR",
          "CSK",
          "KXIP",
          "MI",
          "RR",
          "DC",
          "KXIP",
          "RR",
          "KXIP",
          "KXIP",
          "CSK",
          "RCB"
         ],
         "xaxis": "x",
         "yaxis": "y"
        }
       ],
       "layout": {
        "autosize": true,
        "barmode": "relative",
        "legend": {
         "title": {
          "text": "decision"
         },
         "tracegroupgap": 0
        },
        "margin": {
         "t": 60
        },
        "template": {
         "data": {
          "bar": [
           {
            "error_x": {
             "color": "#2a3f5f"
            },
            "error_y": {
             "color": "#2a3f5f"
            },
            "marker": {
             "line": {
              "color": "#E5ECF6",
              "width": 0.5
             },
             "pattern": {
              "fillmode": "overlay",
              "size": 10,
              "solidity": 0.2
             }
            },
            "type": "bar"
           }
          ],
          "barpolar": [
           {
            "marker": {
             "line": {
              "color": "#E5ECF6",
              "width": 0.5
             },
             "pattern": {
              "fillmode": "overlay",
              "size": 10,
              "solidity": 0.2
             }
            },
            "type": "barpolar"
           }
          ],
          "carpet": [
           {
            "aaxis": {
             "endlinecolor": "#2a3f5f",
             "gridcolor": "white",
             "linecolor": "white",
             "minorgridcolor": "white",
             "startlinecolor": "#2a3f5f"
            },
            "baxis": {
             "endlinecolor": "#2a3f5f",
             "gridcolor": "white",
             "linecolor": "white",
             "minorgridcolor": "white",
             "startlinecolor": "#2a3f5f"
            },
            "type": "carpet"
           }
          ],
          "choropleth": [
           {
            "colorbar": {
             "outlinewidth": 0,
             "ticks": ""
            },
            "type": "choropleth"
           }
          ],
          "contour": [
           {
            "colorbar": {
             "outlinewidth": 0,
             "ticks": ""
            },
            "colorscale": [
             [
              0,
              "#0d0887"
             ],
             [
              0.1111111111111111,
              "#46039f"
             ],
             [
              0.2222222222222222,
              "#7201a8"
             ],
             [
              0.3333333333333333,
              "#9c179e"
             ],
             [
              0.4444444444444444,
              "#bd3786"
             ],
             [
              0.5555555555555556,
              "#d8576b"
             ],
             [
              0.6666666666666666,
              "#ed7953"
             ],
             [
              0.7777777777777778,
              "#fb9f3a"
             ],
             [
              0.8888888888888888,
              "#fdca26"
             ],
             [
              1,
              "#f0f921"
             ]
            ],
            "type": "contour"
           }
          ],
          "contourcarpet": [
           {
            "colorbar": {
             "outlinewidth": 0,
             "ticks": ""
            },
            "type": "contourcarpet"
           }
          ],
          "heatmap": [
           {
            "colorbar": {
             "outlinewidth": 0,
             "ticks": ""
            },
            "colorscale": [
             [
              0,
              "#0d0887"
             ],
             [
              0.1111111111111111,
              "#46039f"
             ],
             [
              0.2222222222222222,
              "#7201a8"
             ],
             [
              0.3333333333333333,
              "#9c179e"
             ],
             [
              0.4444444444444444,
              "#bd3786"
             ],
             [
              0.5555555555555556,
              "#d8576b"
             ],
             [
              0.6666666666666666,
              "#ed7953"
             ],
             [
              0.7777777777777778,
              "#fb9f3a"
             ],
             [
              0.8888888888888888,
              "#fdca26"
             ],
             [
              1,
              "#f0f921"
             ]
            ],
            "type": "heatmap"
           }
          ],
          "heatmapgl": [
           {
            "colorbar": {
             "outlinewidth": 0,
             "ticks": ""
            },
            "colorscale": [
             [
              0,
              "#0d0887"
             ],
             [
              0.1111111111111111,
              "#46039f"
             ],
             [
              0.2222222222222222,
              "#7201a8"
             ],
             [
              0.3333333333333333,
              "#9c179e"
             ],
             [
              0.4444444444444444,
              "#bd3786"
             ],
             [
              0.5555555555555556,
              "#d8576b"
             ],
             [
              0.6666666666666666,
              "#ed7953"
             ],
             [
              0.7777777777777778,
              "#fb9f3a"
             ],
             [
              0.8888888888888888,
              "#fdca26"
             ],
             [
              1,
              "#f0f921"
             ]
            ],
            "type": "heatmapgl"
           }
          ],
          "histogram": [
           {
            "marker": {
             "pattern": {
              "fillmode": "overlay",
              "size": 10,
              "solidity": 0.2
             }
            },
            "type": "histogram"
           }
          ],
          "histogram2d": [
           {
            "colorbar": {
             "outlinewidth": 0,
             "ticks": ""
            },
            "colorscale": [
             [
              0,
              "#0d0887"
             ],
             [
              0.1111111111111111,
              "#46039f"
             ],
             [
              0.2222222222222222,
              "#7201a8"
             ],
             [
              0.3333333333333333,
              "#9c179e"
             ],
             [
              0.4444444444444444,
              "#bd3786"
             ],
             [
              0.5555555555555556,
              "#d8576b"
             ],
             [
              0.6666666666666666,
              "#ed7953"
             ],
             [
              0.7777777777777778,
              "#fb9f3a"
             ],
             [
              0.8888888888888888,
              "#fdca26"
             ],
             [
              1,
              "#f0f921"
             ]
            ],
            "type": "histogram2d"
           }
          ],
          "histogram2dcontour": [
           {
            "colorbar": {
             "outlinewidth": 0,
             "ticks": ""
            },
            "colorscale": [
             [
              0,
              "#0d0887"
             ],
             [
              0.1111111111111111,
              "#46039f"
             ],
             [
              0.2222222222222222,
              "#7201a8"
             ],
             [
              0.3333333333333333,
              "#9c179e"
             ],
             [
              0.4444444444444444,
              "#bd3786"
             ],
             [
              0.5555555555555556,
              "#d8576b"
             ],
             [
              0.6666666666666666,
              "#ed7953"
             ],
             [
              0.7777777777777778,
              "#fb9f3a"
             ],
             [
              0.8888888888888888,
              "#fdca26"
             ],
             [
              1,
              "#f0f921"
             ]
            ],
            "type": "histogram2dcontour"
           }
          ],
          "mesh3d": [
           {
            "colorbar": {
             "outlinewidth": 0,
             "ticks": ""
            },
            "type": "mesh3d"
           }
          ],
          "parcoords": [
           {
            "line": {
             "colorbar": {
              "outlinewidth": 0,
              "ticks": ""
             }
            },
            "type": "parcoords"
           }
          ],
          "pie": [
           {
            "automargin": true,
            "type": "pie"
           }
          ],
          "scatter": [
           {
            "fillpattern": {
             "fillmode": "overlay",
             "size": 10,
             "solidity": 0.2
            },
            "type": "scatter"
           }
          ],
          "scatter3d": [
           {
            "line": {
             "colorbar": {
              "outlinewidth": 0,
              "ticks": ""
             }
            },
            "marker": {
             "colorbar": {
              "outlinewidth": 0,
              "ticks": ""
             }
            },
            "type": "scatter3d"
           }
          ],
          "scattercarpet": [
           {
            "marker": {
             "colorbar": {
              "outlinewidth": 0,
              "ticks": ""
             }
            },
            "type": "scattercarpet"
           }
          ],
          "scattergeo": [
           {
            "marker": {
             "colorbar": {
              "outlinewidth": 0,
              "ticks": ""
             }
            },
            "type": "scattergeo"
           }
          ],
          "scattergl": [
           {
            "marker": {
             "colorbar": {
              "outlinewidth": 0,
              "ticks": ""
             }
            },
            "type": "scattergl"
           }
          ],
          "scattermapbox": [
           {
            "marker": {
             "colorbar": {
              "outlinewidth": 0,
              "ticks": ""
             }
            },
            "type": "scattermapbox"
           }
          ],
          "scatterpolar": [
           {
            "marker": {
             "colorbar": {
              "outlinewidth": 0,
              "ticks": ""
             }
            },
            "type": "scatterpolar"
           }
          ],
          "scatterpolargl": [
           {
            "marker": {
             "colorbar": {
              "outlinewidth": 0,
              "ticks": ""
             }
            },
            "type": "scatterpolargl"
           }
          ],
          "scatterternary": [
           {
            "marker": {
             "colorbar": {
              "outlinewidth": 0,
              "ticks": ""
             }
            },
            "type": "scatterternary"
           }
          ],
          "surface": [
           {
            "colorbar": {
             "outlinewidth": 0,
             "ticks": ""
            },
            "colorscale": [
             [
              0,
              "#0d0887"
             ],
             [
              0.1111111111111111,
              "#46039f"
             ],
             [
              0.2222222222222222,
              "#7201a8"
             ],
             [
              0.3333333333333333,
              "#9c179e"
             ],
             [
              0.4444444444444444,
              "#bd3786"
             ],
             [
              0.5555555555555556,
              "#d8576b"
             ],
             [
              0.6666666666666666,
              "#ed7953"
             ],
             [
              0.7777777777777778,
              "#fb9f3a"
             ],
             [
              0.8888888888888888,
              "#fdca26"
             ],
             [
              1,
              "#f0f921"
             ]
            ],
            "type": "surface"
           }
          ],
          "table": [
           {
            "cells": {
             "fill": {
              "color": "#EBF0F8"
             },
             "line": {
              "color": "white"
             }
            },
            "header": {
             "fill": {
              "color": "#C8D4E3"
             },
             "line": {
              "color": "white"
             }
            },
            "type": "table"
           }
          ]
         },
         "layout": {
          "annotationdefaults": {
           "arrowcolor": "#2a3f5f",
           "arrowhead": 0,
           "arrowwidth": 1
          },
          "autotypenumbers": "strict",
          "coloraxis": {
           "colorbar": {
            "outlinewidth": 0,
            "ticks": ""
           }
          },
          "colorscale": {
           "diverging": [
            [
             0,
             "#8e0152"
            ],
            [
             0.1,
             "#c51b7d"
            ],
            [
             0.2,
             "#de77ae"
            ],
            [
             0.3,
             "#f1b6da"
            ],
            [
             0.4,
             "#fde0ef"
            ],
            [
             0.5,
             "#f7f7f7"
            ],
            [
             0.6,
             "#e6f5d0"
            ],
            [
             0.7,
             "#b8e186"
            ],
            [
             0.8,
             "#7fbc41"
            ],
            [
             0.9,
             "#4d9221"
            ],
            [
             1,
             "#276419"
            ]
           ],
           "sequential": [
            [
             0,
             "#0d0887"
            ],
            [
             0.1111111111111111,
             "#46039f"
            ],
            [
             0.2222222222222222,
             "#7201a8"
            ],
            [
             0.3333333333333333,
             "#9c179e"
            ],
            [
             0.4444444444444444,
             "#bd3786"
            ],
            [
             0.5555555555555556,
             "#d8576b"
            ],
            [
             0.6666666666666666,
             "#ed7953"
            ],
            [
             0.7777777777777778,
             "#fb9f3a"
            ],
            [
             0.8888888888888888,
             "#fdca26"
            ],
            [
             1,
             "#f0f921"
            ]
           ],
           "sequentialminus": [
            [
             0,
             "#0d0887"
            ],
            [
             0.1111111111111111,
             "#46039f"
            ],
            [
             0.2222222222222222,
             "#7201a8"
            ],
            [
             0.3333333333333333,
             "#9c179e"
            ],
            [
             0.4444444444444444,
             "#bd3786"
            ],
            [
             0.5555555555555556,
             "#d8576b"
            ],
            [
             0.6666666666666666,
             "#ed7953"
            ],
            [
             0.7777777777777778,
             "#fb9f3a"
            ],
            [
             0.8888888888888888,
             "#fdca26"
            ],
            [
             1,
             "#f0f921"
            ]
           ]
          },
          "colorway": [
           "#636efa",
           "#EF553B",
           "#00cc96",
           "#ab63fa",
           "#FFA15A",
           "#19d3f3",
           "#FF6692",
           "#B6E880",
           "#FF97FF",
           "#FECB52"
          ],
          "font": {
           "color": "#2a3f5f"
          },
          "geo": {
           "bgcolor": "white",
           "lakecolor": "white",
           "landcolor": "#E5ECF6",
           "showlakes": true,
           "showland": true,
           "subunitcolor": "white"
          },
          "hoverlabel": {
           "align": "left"
          },
          "hovermode": "closest",
          "mapbox": {
           "style": "light"
          },
          "paper_bgcolor": "white",
          "plot_bgcolor": "#E5ECF6",
          "polar": {
           "angularaxis": {
            "gridcolor": "white",
            "linecolor": "white",
            "ticks": ""
           },
           "bgcolor": "#E5ECF6",
           "radialaxis": {
            "gridcolor": "white",
            "linecolor": "white",
            "ticks": ""
           }
          },
          "scene": {
           "xaxis": {
            "backgroundcolor": "#E5ECF6",
            "gridcolor": "white",
            "gridwidth": 2,
            "linecolor": "white",
            "showbackground": true,
            "ticks": "",
            "zerolinecolor": "white"
           },
           "yaxis": {
            "backgroundcolor": "#E5ECF6",
            "gridcolor": "white",
            "gridwidth": 2,
            "linecolor": "white",
            "showbackground": true,
            "ticks": "",
            "zerolinecolor": "white"
           },
           "zaxis": {
            "backgroundcolor": "#E5ECF6",
            "gridcolor": "white",
            "gridwidth": 2,
            "linecolor": "white",
            "showbackground": true,
            "ticks": "",
            "zerolinecolor": "white"
           }
          },
          "shapedefaults": {
           "line": {
            "color": "#2a3f5f"
           }
          },
          "ternary": {
           "aaxis": {
            "gridcolor": "white",
            "linecolor": "white",
            "ticks": ""
           },
           "baxis": {
            "gridcolor": "white",
            "linecolor": "white",
            "ticks": ""
           },
           "bgcolor": "#E5ECF6",
           "caxis": {
            "gridcolor": "white",
            "linecolor": "white",
            "ticks": ""
           }
          },
          "title": {
           "x": 0.05
          },
          "xaxis": {
           "automargin": true,
           "gridcolor": "white",
           "linecolor": "white",
           "ticks": "",
           "title": {
            "standoff": 15
           },
           "zerolinecolor": "white",
           "zerolinewidth": 2
          },
          "yaxis": {
           "automargin": true,
           "gridcolor": "white",
           "linecolor": "white",
           "ticks": "",
           "title": {
            "standoff": 15
           },
           "zerolinecolor": "white",
           "zerolinewidth": 2
          }
         }
        },
        "title": {
         "text": "Distribution of winner after taking BAT or BOWL"
        },
        "xaxis": {
         "anchor": "y",
         "autorange": true,
         "domain": [
          0,
          1
         ],
         "range": [
          -0.5,
          14.5
         ],
         "title": {
          "text": "Matches"
         },
         "type": "category"
        },
        "yaxis": {
         "anchor": "x",
         "autorange": true,
         "domain": [
          0,
          1
         ],
         "range": [
          0,
          131.57894736842104
         ],
         "title": {
          "text": "Count"
         }
        }
       }
      },
      "image/png": "[encoded data removed]",
      "text/html": [
       "<div>                            <div id=\"db0df2c2-6b35-4ba9-9ab1-77b4a7d32817\" class=\"plotly-graph-div\" style=\"height:525px; width:100%;\"></div>            <script type=\"text/javascript\">                require([\"plotly\"], function(Plotly) {                    window.PLOTLYENV=window.PLOTLYENV || {};                                    if (document.getElementById(\"db0df2c2-6b35-4ba9-9ab1-77b4a7d32817\")) {                    Plotly.newPlot(                        \"db0df2c2-6b35-4ba9-9ab1-77b4a7d32817\",                        [{\"alignmentgroup\":\"True\",\"bingroup\":\"x\",\"hovertemplate\":\"decision=BOWL FIRST\\u003cbr\\u003ewinner=%{x}\\u003cbr\\u003ecount=%{y}\\u003cextra\\u003e\\u003c\\u002fextra\\u003e\",\"legendgroup\":\"BOWL FIRST\",\"marker\":{\"color\":\"#636efa\",\"pattern\":{\"shape\":\"\"}},\"name\":\"BOWL FIRST\",\"offsetgroup\":\"BOWL FIRST\",\"orientation\":\"v\",\"showlegend\":true,\"x\":[\"GT\",\"MI\",\"LSG\",\"RR\",\"RCB\",\"DC\",\"LSG\",\"GT\",\"PBKS\",\"MI\",\"RR\",\"MI\",\"GT\",\"CSK\",\"MI\",\"GT\",\"LSG\",\"KKR\",\"GT\",\"CSK\",\"RCB\",\"PBKS\",\"CSK\",\"DC\",\"RCB\",\"LSG\",\"MI\",\"CSK\",\"RR\",\"MI\",\"PBKS\",\"RCB\",\"SRH\",\"GT\",\"RR\",\"MI\",\"LSG\",\"SRH\",\"CSK\",\"RR\",\"KKR\",\"PBKS\",\"GT\",\"CSK\",\"RCB\",\"RR\",\"LSG\",\"PBKS\",\"GT\",\"KKR\",\"DC\",\"PBKS\",\"GT\",\"RR\",\"RCB\",\"LSG\",\"KKR\",\"RR\",\"GT\",\"PBKS\",\"RCB\",\"KKR\",\"LSG\",\"GT\",\"SRH\",\"RCB\",\"CSK\",\"PBKS\",\"GT\",\"SRH\",\"LSG\",\"RCB\",\"SRH\",\"GT\",\"RR\",\"RCB\",\"DC\",\"CSK\",\"RR\",\"SRH\",\"LSG\",\"PBKS\",\"RR\",\"GT\",\"DC\",\"LSG\",\"MI\",\"CSK\",\"KKR\",\"RCB\",\"DC\",\"MI\",\"LSG\",\"CSK\",\"KKR\",\"DC\",\"MI\",\"PBKS\",\"DC\",\"SRH\",\"MI\",\"RCB\",\"KKR\",\"PBKS\",\"SRH\",\"MI\",\"DC\",\"RR\",\"DC\",\"PBKS\",\"CSK\",\"RCB\",\"MI\",\"KKR\",\"RCB\",\"PBKS\",\"DC\",\"CSK\",\"KKR\",\"RR\",\"DC\",\"RR\",\"MI\",\"PBKS\",\"DC\",\"MI\",\"RCB\",\"KKR\",\"RR\",\"PBKS\",\"RCB\",\"CSK\",\"CSK\",\"DC\",\"CSK\",\"RR\",\"RCB\",\"MI\",\"PBKS\",\"KKR\",\"CSK\",\"KXIP\",\"RCB\",\"RR\",\"MI\",\"KXIP\",\"DC\",\"RR\",\"MI\",\"SRH\",\"KKR\",\"MI\",\"DC\",\"DC\",\"DC\",\"SRH\",\"MI\",\"KKR\",\"KXIP\",\"KXIP\",\"SRH\",\"MI\",\"CSK\",\"RR\",\"MI\",\"CSK\",\"KKR\",\"DC\",\"SRH\",\"CSK\",\"KKR\",\"DC\",\"KXIP\",\"KKR\",\"MI\",\"KXIP\",\"DC\",\"SRH\",\"CSK\",\"KXIP\",\"RR\",\"MI\",\"SRH\",\"KKR\",\"MI\",\"DC\",\"KKR\",\"KXIP\",\"CSK\",\"MI\",\"CSK\",\"DC\",\"RR\",\"RCB\",\"CSK\",\"DC\",\"MI\",\"KXIP\",\"RCB\",\"RR\",\"DC\",\"SRH\",\"RCB\",\"DC\",\"CSK\",\"RCB\",\"RR\",\"MI\",\"RR\",\"KKR\",\"SRH\",\"CSK\",\"KKR\",\"KXIP\",\"MI\",\"CSK\",\"KXIP\",\"KKR\",\"SRH\",\"CSK\",\"RR\",\"SRH\",\"RCB\",\"DC\",\"SRH\",\"RR\",\"KXIP\",\"KKR\",\"MI\",\"KKR\",\"CSK\",\"KXIP\",\"RCB\",\"CSK\",\"KXIP\",\"SRH\",\"CSK\",\"SRH\",\"DC\",\"MI\",\"KKR\",\"CSK\",\"RCB\",\"DC\",\"KKR\",\"MI\",\"CSK\",\"MI\",\"KXIP\",\"SRH\",\"MI\",\"KKR\",\"RCB\",\"CSK\",\"RR\",\"RCB\",\"KKR\",\"MI\",\"RCB\",\"DC\",\"CSK\",\"RPS\",\"KKR\",\"KXIP\",\"SRH\",\"MI\",\"DC\",\"MI\",\"KKR\",\"MI\",\"GL\",\"KKR\",\"MI\",\"RPS\",\"SRH\",\"RCB\",\"MI\",\"GL\",\"RPS\",\"MI\",\"KXIP\",\"KKR\",\"RPS\",\"KKR\",\"GL\",\"KKR\",\"SRH\",\"RPS\",\"KXIP\",\"SRH\",\"RPS\",\"DC\",\"RPS\",\"DC\",\"KXIP\",\"RPS\",\"MI\",\"KKR\",\"GL\",\"KXIP\",\"DC\",\"KXIP\",\"SRH\",\"MI\",\"RPS\",\"GL\",\"RCB\",\"MI\",\"DC\",\"GL\",\"DC\",\"SRH\",\"KKR\",\"MI\",\"SRH\",\"MI\",\"RPS\",\"GL\",\"MI\",\"GL\",\"DC\",\"SRH\",\"KXIP\",\"MI\",\"KKR\",\"DC\",\"RPS\",\"SRH\",\"GL\",\"RCB\",\"MI\",\"DC\",\"RCB\",\"MI\",\"RCB\",\"RPS\",\"RCB\",\"GL\",\"DC\",\"GL\",\"KKR\",\"RCB\",\"KKR\",\"CSK\",\"RR\",\"RCB\",\"RR\",\"KXIP\",\"SRH\",\"RR\",\"KKR\",\"MI\",\"KKR\",\"KXIP\",\"SRH\",\"CSK\",\"DC\",\"RCB\",\"RCB\",\"SRH\",\"CSK\",\"KKR\",\"DC\",\"MI\",\"RCB\",\"SRH\",\"KKR\",\"RCB\",\"SRH\",\"KXIP\",\"MI\",\"RCB\",\"RR\",\"RCB\",\"KXIP\",\"KXIP\",\"CSK\",\"KKR\",\"RR\",\"KXIP\",\"KXIP\",\"SRH\",\"RR\",\"RCB\",\"RR\",\"CSK\",\"MI\",\"KXIP\",\"SRH\",\"KXIP\",\"SRH\",\"CSK\",\"KKR\",\"RCB\",\"KXIP\",\"KKR\",\"RR\",\"KXIP\",\"KKR\",\"MI\",\"KKR\",\"SRH\",\"MI\",\"KXIP\",\"CSK\",\"KKR\",\"KXIP\",\"MI\",\"KKR\",\"RCB\",\"SRH\",\"RR\",\"CSK\",\"RCB\",\"CSK\",\"RR\",\"RCB\",\"SRH\",\"RCB\",\"KXIP\",\"RCB\",\"KXIP\",\"CSK\",\"DC\",\"RR\",\"KXIP\",\"CSK\",\"RR\",\"RCB\",\"SRH\",\"KKR\",\"RR\",\"KXIP\",\"PWI\",\"MI\",\"KXIP\",\"RCB\",\"MI\",\"DC\",\"PWI\",\"RR\",\"RCB\",\"CSK\",\"RR\",\"KKR\",\"DC\",\"MI\",\"KXIP\",\"KXIP\",\"DC\",\"CSK\",\"RCB\",\"PWI\",\"KKR\",\"RCB\",\"DC\",\"MI\",\"KXIP\",\"MI\",\"RCB\",\"KXIP\",\"RCB\",\"CSK\",\"RCB\",\"CSK\",\"MI\",\"CSK\",\"KKR\",\"KXIP\",\"RCB\",\"DC\",\"SRH\",\"RR\",\"MI\",\"KXIP\",\"SRH\",\"KKR\",\"Kochi\",\"KXIP\",\"DC\",\"KKR\",\"Kochi\",\"Kochi\",\"KXIP\",\"RCB\",\"MI\",\"DC\",\"MI\",\"RR\",\"CSK\",\"RCB\",\"SRH\",\"KKR\",\"RR\",\"RCB\",\"KKR\",\"RR\",\"MI\",\"Kochi\",\"KKR\",\"MI\",\"Kochi\",\"RCB\",\"MI\",\"CSK\",\"KXIP\",\"RCB\",\"KXIP\",\"RCB\",\"KXIP\",\"Kochi\",\"SRH\",\"KKR\",\"SRH\",\"RCB\",\"MI\",\"KKR\",\"DC\",\"KKR\",\"DC\",\"MI\",\"RCB\",\"SRH\",\"RCB\",\"RR\",\"DC\",\"MI\",\"MI\",\"MI\",\"SRH\",\"RCB\",\"MI\",\"SRH\",\"SRH\",\"MI\",\"CSK\",\"MI\",\"DC\",\"KKR\",\"KKR\",\"SRH\",\"CSK\",\"CSK\",\"RR\",\"RR\",\"KXIP\",\"DC\",\"RCB\",\"KXIP\",\"SRH\",\"KXIP\",\"KKR\",\"DC\",\"KKR\",\"CSK\",\"RR\",\"KXIP\",\"RR\",\"SRH\",\"DC\",\"KXIP\",\"RCB\",\"MI\",\"KXIP\",\"SRH\",\"MI\",\"CSK\",\"MI\",\"MI\",\"RR\",\"MI\",\"DC\",\"RR\",\"KXIP\",\"RR\",\"KXIP\"],\"xaxis\":\"x\",\"yaxis\":\"y\",\"type\":\"histogram\"},{\"alignmentgroup\":\"True\",\"bingroup\":\"x\",\"hovertemplate\":\"decision=BAT FIRST\\u003cbr\\u003ewinner=%{x}\\u003cbr\\u003ecount=%{y}\\u003cextra\\u003e\\u003c\\u002fextra\\u003e\",\"legendgroup\":\"BAT FIRST\",\"marker\":{\"color\":\"#EF553B\",\"pattern\":{\"shape\":\"\"}},\"name\":\"BAT FIRST\",\"offsetgroup\":\"BAT FIRST\",\"orientation\":\"v\",\"showlegend\":true,\"x\":[\"CSK\",\"KKR\",\"RCB\",\"LSG\",\"CSK\",\"KKR\",\"SRH\",\"DC\",\"GT\",\"KKR\",\"DC\",\"RCB\",\"MI\",\"PBKS\",\"SRH\",\"RR\",\"DC\",\"GT\",\"KKR\",\"LSG\",\"GT\",\"GT\",\"LSG\",\"PBKS\",\"RR\",\"RCB\",\"GT\",\"KKR\",\"GT\",\"RR\",\"LSG\",\"RCB\",\"RR\",\"PBKS\",\"KKR\",\"RCB\",\"SRH\",\"CSK\",\"DC\",\"KKR\",\"CSK\",\"CSK\",\"SRH\",\"CSK\",\"SRH\",\"DC\",\"RCB\",\"MI\",\"KKR\",\"SRH\",\"RCB\",\"MI\",\"CSK\",\"MI\",\"KKR\",\"SRH\",\"KKR\",\"RCB\",\"RR\",\"MI\",\"RCB\",\"CSK\",\"DC\",\"KXIP\",\"MI\",\"RCB\",\"DC\",\"KXIP\",\"RR\",\"KXIP\",\"RCB\",\"CSK\",\"RR\",\"CSK\",\"SRH\",\"CSK\",\"SRH\",\"MI\",\"DC\",\"SRH\",\"DC\",\"KXIP\",\"RR\",\"SRH\",\"SRH\",\"RR\",\"SRH\",\"RR\",\"RR\",\"KKR\",\"DC\",\"RCB\",\"KXIP\",\"DC\",\"KKR\",\"SRH\",\"MI\",\"MI\",\"SRH\",\"DC\",\"RCB\",\"RPS\",\"SRH\",\"KXIP\",\"KKR\",\"SRH\",\"RPS\",\"CSK\",\"RR\",\"DC\",\"CSK\",\"DC\",\"RR\",\"MI\",\"CSK\",\"MI\",\"CSK\",\"MI\",\"KKR\",\"MI\",\"KKR\",\"SRH\",\"RCB\",\"CSK\",\"SRH\",\"DC\",\"RCB\",\"CSK\",\"RR\",\"MI\",\"KKR\",\"KXIP\",\"DC\",\"CSK\",\"SRH\",\"CSK\",\"DC\",\"CSK\",\"KKR\",\"CSK\",\"MI\",\"KKR\",\"RR\",\"MI\",\"CSK\",\"RCB\",\"KKR\",\"MI\",\"SRH\",\"RR\",\"MI\",\"KXIP\",\"SRH\",\"RCB\",\"MI\",\"PWI\",\"SRH\",\"MI\",\"KKR\",\"PWI\",\"RR\",\"CSK\",\"CSK\",\"DC\",\"CSK\",\"MI\",\"CSK\",\"KKR\",\"RR\",\"MI\",\"MI\",\"CSK\",\"SRH\",\"DC\",\"CSK\",\"RCB\",\"KKR\",\"SRH\",\"MI\",\"RR\",\"RR\",\"MI\",\"KKR\",\"MI\",\"MI\",\"CSK\",\"SRH\",\"PWI\",\"SRH\",\"PWI\",\"MI\",\"CSK\",\"KKR\",\"PWI\",\"RR\",\"RR\",\"RCB\",\"KKR\",\"CSK\",\"KXIP\",\"DC\",\"MI\",\"SRH\",\"KXIP\",\"KKR\",\"DC\",\"KKR\",\"SRH\",\"DC\",\"MI\",\"CSK\",\"KKR\",\"RR\",\"KKR\",\"RR\",\"MI\",\"RR\",\"KXIP\",\"DC\",\"SRH\",\"KKR\",\"MI\",\"CSK\",\"RCB\",\"MI\",\"PWI\",\"KKR\",\"RR\",\"PWI\",\"CSK\",\"MI\",\"CSK\",\"DC\",\"CSK\",\"CSK\",\"KKR\",\"RCB\",\"PWI\",\"PWI\",\"CSK\",\"SRH\",\"KXIP\",\"CSK\",\"RR\",\"MI\",\"SRH\",\"RCB\",\"CSK\",\"CSK\",\"RR\",\"RCB\",\"MI\",\"RR\",\"KKR\",\"RR\",\"DC\",\"CSK\",\"DC\",\"KKR\",\"RCB\",\"CSK\",\"MI\",\"KXIP\",\"DC\",\"RR\",\"CSK\",\"RR\",\"KKR\",\"KXIP\",\"SRH\",\"KXIP\",\"MI\",\"CSK\",\"RCB\",\"DC\",\"KKR\",\"KKR\",\"SRH\",\"DC\",\"KXIP\",\"SRH\",\"DC\",\"KXIP\",\"MI\",\"RR\",\"RCB\",\"KXIP\",\"MI\",\"RCB\",\"RR\",\"KXIP\",\"RCB\",\"CSK\",\"DC\",\"SRH\",\"CSK\",\"DC\",\"CSK\",\"MI\",\"SRH\",\"MI\",\"RR\",\"CSK\",\"DC\",\"KKR\",\"RCB\",\"CSK\",\"RCB\",\"CSK\",\"KKR\",\"RCB\",\"RR\",\"CSK\",\"KXIP\",\"MI\",\"RR\",\"DC\",\"KXIP\",\"RR\",\"KXIP\",\"KXIP\",\"CSK\",\"RCB\"],\"xaxis\":\"x\",\"yaxis\":\"y\",\"type\":\"histogram\"}],                        {\"template\":{\"data\":{\"histogram2dcontour\":[{\"type\":\"histogram2dcontour\",\"colorbar\":{\"outlinewidth\":0,\"ticks\":\"\"},\"colorscale\":[[0.0,\"#0d0887\"],[0.1111111111111111,\"#46039f\"],[0.2222222222222222,\"#7201a8\"],[0.3333333333333333,\"#9c179e\"],[0.4444444444444444,\"#bd3786\"],[0.5555555555555556,\"#d8576b\"],[0.6666666666666666,\"#ed7953\"],[0.7777777777777778,\"#fb9f3a\"],[0.8888888888888888,\"#fdca26\"],[1.0,\"#f0f921\"]]}],\"choropleth\":[{\"type\":\"choropleth\",\"colorbar\":{\"outlinewidth\":0,\"ticks\":\"\"}}],\"histogram2d\":[{\"type\":\"histogram2d\",\"colorbar\":{\"outlinewidth\":0,\"ticks\":\"\"},\"colorscale\":[[0.0,\"#0d0887\"],[0.1111111111111111,\"#46039f\"],[0.2222222222222222,\"#7201a8\"],[0.3333333333333333,\"#9c179e\"],[0.4444444444444444,\"#bd3786\"],[0.5555555555555556,\"#d8576b\"],[0.6666666666666666,\"#ed7953\"],[0.7777777777777778,\"#fb9f3a\"],[0.8888888888888888,\"#fdca26\"],[1.0,\"#f0f921\"]]}],\"heatmap\":[{\"type\":\"heatmap\",\"colorbar\":{\"outlinewidth\":0,\"ticks\":\"\"},\"colorscale\":[[0.0,\"#0d0887\"],[0.1111111111111111,\"#46039f\"],[0.2222222222222222,\"#7201a8\"],[0.3333333333333333,\"#9c179e\"],[0.4444444444444444,\"#bd3786\"],[0.5555555555555556,\"#d8576b\"],[0.6666666666666666,\"#ed7953\"],[0.7777777777777778,\"#fb9f3a\"],[0.8888888888888888,\"#fdca26\"],[1.0,\"#f0f921\"]]}],\"heatmapgl\":[{\"type\":\"heatmapgl\",\"colorbar\":{\"outlinewidth\":0,\"ticks\":\"\"},\"colorscale\":[[0.0,\"#0d0887\"],[0.1111111111111111,\"#46039f\"],[0.2222222222222222,\"#7201a8\"],[0.3333333333333333,\"#9c179e\"],[0.4444444444444444,\"#bd3786\"],[0.5555555555555556,\"#d8576b\"],[0.6666666666666666,\"#ed7953\"],[0.7777777777777778,\"#fb9f3a\"],[0.8888888888888888,\"#fdca26\"],[1.0,\"#f0f921\"]]}],\"contourcarpet\":[{\"type\":\"contourcarpet\",\"colorbar\":{\"outlinewidth\":0,\"ticks\":\"\"}}],\"contour\":[{\"type\":\"contour\",\"colorbar\":{\"outlinewidth\":0,\"ticks\":\"\"},\"colorscale\":[[0.0,\"#0d0887\"],[0.1111111111111111,\"#46039f\"],[0.2222222222222222,\"#7201a8\"],[0.3333333333333333,\"#9c179e\"],[0.4444444444444444,\"#bd3786\"],[0.5555555555555556,\"#d8576b\"],[0.6666666666666666,\"#ed7953\"],[0.7777777777777778,\"#fb9f3a\"],[0.8888888888888888,\"#fdca26\"],[1.0,\"#f0f921\"]]}],\"surface\":[{\"type\":\"surface\",\"colorbar\":{\"outlinewidth\":0,\"ticks\":\"\"},\"colorscale\":[[0.0,\"#0d0887\"],[0.1111111111111111,\"#46039f\"],[0.2222222222222222,\"#7201a8\"],[0.3333333333333333,\"#9c179e\"],[0.4444444444444444,\"#bd3786\"],[0.5555555555555556,\"#d8576b\"],[0.6666666666666666,\"#ed7953\"],[0.7777777777777778,\"#fb9f3a\"],[0.8888888888888888,\"#fdca26\"],[1.0,\"#f0f921\"]]}],\"mesh3d\":[{\"type\":\"mesh3d\",\"colorbar\":{\"outlinewidth\":0,\"ticks\":\"\"}}],\"scatter\":[{\"fillpattern\":{\"fillmode\":\"overlay\",\"size\":10,\"solidity\":0.2},\"type\":\"scatter\"}],\"parcoords\":[{\"type\":\"parcoords\",\"line\":{\"colorbar\":{\"outlinewidth\":0,\"ticks\":\"\"}}}],\"scatterpolargl\":[{\"type\":\"scatterpolargl\",\"marker\":{\"colorbar\":{\"outlinewidth\":0,\"ticks\":\"\"}}}],\"bar\":[{\"error_x\":{\"color\":\"#2a3f5f\"},\"error_y\":{\"color\":\"#2a3f5f\"},\"marker\":{\"line\":{\"color\":\"#E5ECF6\",\"width\":0.5},\"pattern\":{\"fillmode\":\"overlay\",\"size\":10,\"solidity\":0.2}},\"type\":\"bar\"}],\"scattergeo\":[{\"type\":\"scattergeo\",\"marker\":{\"colorbar\":{\"outlinewidth\":0,\"ticks\":\"\"}}}],\"scatterpolar\":[{\"type\":\"scatterpolar\",\"marker\":{\"colorbar\":{\"outlinewidth\":0,\"ticks\":\"\"}}}],\"histogram\":[{\"marker\":{\"pattern\":{\"fillmode\":\"overlay\",\"size\":10,\"solidity\":0.2}},\"type\":\"histogram\"}],\"scattergl\":[{\"type\":\"scattergl\",\"marker\":{\"colorbar\":{\"outlinewidth\":0,\"ticks\":\"\"}}}],\"scatter3d\":[{\"type\":\"scatter3d\",\"line\":{\"colorbar\":{\"outlinewidth\":0,\"ticks\":\"\"}},\"marker\":{\"colorbar\":{\"outlinewidth\":0,\"ticks\":\"\"}}}],\"scattermapbox\":[{\"type\":\"scattermapbox\",\"marker\":{\"colorbar\":{\"outlinewidth\":0,\"ticks\":\"\"}}}],\"scatterternary\":[{\"type\":\"scatterternary\",\"marker\":{\"colorbar\":{\"outlinewidth\":0,\"ticks\":\"\"}}}],\"scattercarpet\":[{\"type\":\"scattercarpet\",\"marker\":{\"colorbar\":{\"outlinewidth\":0,\"ticks\":\"\"}}}],\"carpet\":[{\"aaxis\":{\"endlinecolor\":\"#2a3f5f\",\"gridcolor\":\"white\",\"linecolor\":\"white\",\"minorgridcolor\":\"white\",\"startlinecolor\":\"#2a3f5f\"},\"baxis\":{\"endlinecolor\":\"#2a3f5f\",\"gridcolor\":\"white\",\"linecolor\":\"white\",\"minorgridcolor\":\"white\",\"startlinecolor\":\"#2a3f5f\"},\"type\":\"carpet\"}],\"table\":[{\"cells\":{\"fill\":{\"color\":\"#EBF0F8\"},\"line\":{\"color\":\"white\"}},\"header\":{\"fill\":{\"color\":\"#C8D4E3\"},\"line\":{\"color\":\"white\"}},\"type\":\"table\"}],\"barpolar\":[{\"marker\":{\"line\":{\"color\":\"#E5ECF6\",\"width\":0.5},\"pattern\":{\"fillmode\":\"overlay\",\"size\":10,\"solidity\":0.2}},\"type\":\"barpolar\"}],\"pie\":[{\"automargin\":true,\"type\":\"pie\"}]},\"layout\":{\"autotypenumbers\":\"strict\",\"colorway\":[\"#636efa\",\"#EF553B\",\"#00cc96\",\"#ab63fa\",\"#FFA15A\",\"#19d3f3\",\"#FF6692\",\"#B6E880\",\"#FF97FF\",\"#FECB52\"],\"font\":{\"color\":\"#2a3f5f\"},\"hovermode\":\"closest\",\"hoverlabel\":{\"align\":\"left\"},\"paper_bgcolor\":\"white\",\"plot_bgcolor\":\"#E5ECF6\",\"polar\":{\"bgcolor\":\"#E5ECF6\",\"angularaxis\":{\"gridcolor\":\"white\",\"linecolor\":\"white\",\"ticks\":\"\"},\"radialaxis\":{\"gridcolor\":\"white\",\"linecolor\":\"white\",\"ticks\":\"\"}},\"ternary\":{\"bgcolor\":\"#E5ECF6\",\"aaxis\":{\"gridcolor\":\"white\",\"linecolor\":\"white\",\"ticks\":\"\"},\"baxis\":{\"gridcolor\":\"white\",\"linecolor\":\"white\",\"ticks\":\"\"},\"caxis\":{\"gridcolor\":\"white\",\"linecolor\":\"white\",\"ticks\":\"\"}},\"coloraxis\":{\"colorbar\":{\"outlinewidth\":0,\"ticks\":\"\"}},\"colorscale\":{\"sequential\":[[0.0,\"#0d0887\"],[0.1111111111111111,\"#46039f\"],[0.2222222222222222,\"#7201a8\"],[0.3333333333333333,\"#9c179e\"],[0.4444444444444444,\"#bd3786\"],[0.5555555555555556,\"#d8576b\"],[0.6666666666666666,\"#ed7953\"],[0.7777777777777778,\"#fb9f3a\"],[0.8888888888888888,\"#fdca26\"],[1.0,\"#f0f921\"]],\"sequentialminus\":[[0.0,\"#0d0887\"],[0.1111111111111111,\"#46039f\"],[0.2222222222222222,\"#7201a8\"],[0.3333333333333333,\"#9c179e\"],[0.4444444444444444,\"#bd3786\"],[0.5555555555555556,\"#d8576b\"],[0.6666666666666666,\"#ed7953\"],[0.7777777777777778,\"#fb9f3a\"],[0.8888888888888888,\"#fdca26\"],[1.0,\"#f0f921\"]],\"diverging\":[[0,\"#8e0152\"],[0.1,\"#c51b7d\"],[0.2,\"#de77ae\"],[0.3,\"#f1b6da\"],[0.4,\"#fde0ef\"],[0.5,\"#f7f7f7\"],[0.6,\"#e6f5d0\"],[0.7,\"#b8e186\"],[0.8,\"#7fbc41\"],[0.9,\"#4d9221\"],[1,\"#276419\"]]},\"xaxis\":{\"gridcolor\":\"white\",\"linecolor\":\"white\",\"ticks\":\"\",\"title\":{\"standoff\":15},\"zerolinecolor\":\"white\",\"automargin\":true,\"zerolinewidth\":2},\"yaxis\":{\"gridcolor\":\"white\",\"linecolor\":\"white\",\"ticks\":\"\",\"title\":{\"standoff\":15},\"zerolinecolor\":\"white\",\"automargin\":true,\"zerolinewidth\":2},\"scene\":{\"xaxis\":{\"backgroundcolor\":\"#E5ECF6\",\"gridcolor\":\"white\",\"linecolor\":\"white\",\"showbackground\":true,\"ticks\":\"\",\"zerolinecolor\":\"white\",\"gridwidth\":2},\"yaxis\":{\"backgroundcolor\":\"#E5ECF6\",\"gridcolor\":\"white\",\"linecolor\":\"white\",\"showbackground\":true,\"ticks\":\"\",\"zerolinecolor\":\"white\",\"gridwidth\":2},\"zaxis\":{\"backgroundcolor\":\"#E5ECF6\",\"gridcolor\":\"white\",\"linecolor\":\"white\",\"showbackground\":true,\"ticks\":\"\",\"zerolinecolor\":\"white\",\"gridwidth\":2}},\"shapedefaults\":{\"line\":{\"color\":\"#2a3f5f\"}},\"annotationdefaults\":{\"arrowcolor\":\"#2a3f5f\",\"arrowhead\":0,\"arrowwidth\":1},\"geo\":{\"bgcolor\":\"white\",\"landcolor\":\"#E5ECF6\",\"subunitcolor\":\"white\",\"showland\":true,\"showlakes\":true,\"lakecolor\":\"white\"},\"title\":{\"x\":0.05},\"mapbox\":{\"style\":\"light\"}}},\"xaxis\":{\"anchor\":\"y\",\"domain\":[0.0,1.0],\"title\":{\"text\":\"Matches\"}},\"yaxis\":{\"anchor\":\"x\",\"domain\":[0.0,1.0],\"title\":{\"text\":\"Count\"}},\"legend\":{\"title\":{\"text\":\"decision\"},\"tracegroupgap\":0},\"margin\":{\"t\":60},\"barmode\":\"relative\",\"title\":{\"text\":\"Distribution of winner after taking BAT or BOWL\"}},                        {\"responsive\": true}                    ).then(function(){\n",
       "                            \n",
       "var gd = document.getElementById('db0df2c2-6b35-4ba9-9ab1-77b4a7d32817');\n",
       "var x = new MutationObserver(function (mutations, observer) {{\n",
       "        var display = window.getComputedStyle(gd).display;\n",
       "        if (!display || display === 'none') {{\n",
       "            console.log([gd, 'removed!']);\n",
       "            Plotly.purge(gd);\n",
       "            observer.disconnect();\n",
       "        }}\n",
       "}});\n",
       "\n",
       "// Listen for the removal of the full notebook cells\n",
       "var notebookContainer = gd.closest('#notebook-container');\n",
       "if (notebookContainer) {{\n",
       "    x.observe(notebookContainer, {childList: true});\n",
       "}}\n",
       "\n",
       "// Listen for the clearing of the current output cell\n",
       "var outputEl = gd.closest('.output');\n",
       "if (outputEl) {{\n",
       "    x.observe(outputEl, {childList: true});\n",
       "}}\n",
       "\n",
       "                        })                };                });            </script>        </div>"
      ]
     },
     "metadata": {},
     "output_type": "display_data"
    }
   ],
   "source": [
    "fig = px.histogram(df, x='winner',color='decision')\n",
    "fig.update_layout(\n",
    "    title=\"Distribution of winner after taking BAT or BOWL\",\n",
    "    xaxis_title=\"Matches\",\n",
    "    yaxis_title=\"Count\"\n",
    ")\n",
    "\n",
    "fig.show()\n"
   ]
  }
 ],
 "metadata": {
  "kernelspec": {
   "display_name": "Python 3 (ipykernel)",
   "language": "python",
   "name": "python3"
  },
  "language_info": {
   "codemirror_mode": {
    "name": "ipython",
    "version": 3
   },
   "file_extension": ".py",
   "mimetype": "text/x-python",
   "name": "python",
   "nbconvert_exporter": "python",
   "pygments_lexer": "ipython3",
   "version": "3.13.0"
  }
 },
 "nbformat": 4,
 "nbformat_minor": 5
}
